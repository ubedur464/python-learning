{
 "cells": [
  {
   "cell_type": "code",
   "execution_count": 4,
   "id": "13fa487e-a731-41cc-be40-440ca8bb8d95",
   "metadata": {},
   "outputs": [],
   "source": [
    "a=30"
   ]
  },
  {
   "cell_type": "code",
   "execution_count": 5,
   "id": "ff926c6e-6d55-413d-a4bf-32a8159ddbae",
   "metadata": {},
   "outputs": [
    {
     "data": {
      "text/plain": [
       "30"
      ]
     },
     "execution_count": 5,
     "metadata": {},
     "output_type": "execute_result"
    }
   ],
   "source": [
    "a"
   ]
  },
  {
   "cell_type": "code",
   "execution_count": 6,
   "id": "89def564-e3a6-4f9c-932e-21b2635e446a",
   "metadata": {},
   "outputs": [
    {
     "data": {
      "text/plain": [
       "int"
      ]
     },
     "execution_count": 6,
     "metadata": {},
     "output_type": "execute_result"
    }
   ],
   "source": [
    "type(a)"
   ]
  },
  {
   "cell_type": "code",
   "execution_count": 8,
   "id": "8b36625f-1746-4dd5-9217-38707e485b9f",
   "metadata": {},
   "outputs": [],
   "source": [
    "b=\"umaiza\""
   ]
  },
  {
   "cell_type": "code",
   "execution_count": 9,
   "id": "2d6cf708-80fc-43a8-a00d-e7e783da409f",
   "metadata": {},
   "outputs": [
    {
     "data": {
      "text/plain": [
       "'umaiza'"
      ]
     },
     "execution_count": 9,
     "metadata": {},
     "output_type": "execute_result"
    }
   ],
   "source": [
    "b"
   ]
  },
  {
   "cell_type": "code",
   "execution_count": 11,
   "id": "fd00eda5-b8fb-4339-8b00-78a0eb8b3b3f",
   "metadata": {},
   "outputs": [
    {
     "data": {
      "text/plain": [
       "str"
      ]
     },
     "execution_count": 11,
     "metadata": {},
     "output_type": "execute_result"
    }
   ],
   "source": [
    "type(b)"
   ]
  },
  {
   "cell_type": "code",
   "execution_count": 14,
   "id": "f4012fb9-4436-4970-abbf-bc1c071bdff8",
   "metadata": {},
   "outputs": [],
   "source": [
    "c='SRK IS KING'"
   ]
  },
  {
   "cell_type": "code",
   "execution_count": 15,
   "id": "decc406e-60c8-4083-b4c2-41e54b2dbe9a",
   "metadata": {},
   "outputs": [
    {
     "data": {
      "text/plain": [
       "'SRK IS KING'"
      ]
     },
     "execution_count": 15,
     "metadata": {},
     "output_type": "execute_result"
    }
   ],
   "source": [
    "c"
   ]
  },
  {
   "cell_type": "code",
   "execution_count": 16,
   "id": "91155467-fb68-4013-b98e-f385f48393eb",
   "metadata": {},
   "outputs": [
    {
     "data": {
      "text/plain": [
       "str"
      ]
     },
     "execution_count": 16,
     "metadata": {},
     "output_type": "execute_result"
    }
   ],
   "source": [
    "type(c)"
   ]
  },
  {
   "cell_type": "code",
   "execution_count": 19,
   "id": "4a292a28-5b84-45ab-a220-10ef91fe5e38",
   "metadata": {},
   "outputs": [],
   "source": [
    "d=10.23"
   ]
  },
  {
   "cell_type": "code",
   "execution_count": 21,
   "id": "140ed8e2-d35a-4c55-9917-8fe7d241faef",
   "metadata": {},
   "outputs": [
    {
     "data": {
      "text/plain": [
       "10.23"
      ]
     },
     "execution_count": 21,
     "metadata": {},
     "output_type": "execute_result"
    }
   ],
   "source": [
    "d"
   ]
  },
  {
   "cell_type": "code",
   "execution_count": 23,
   "id": "694caced-8dc0-49fc-963d-74e9700df3e9",
   "metadata": {},
   "outputs": [
    {
     "data": {
      "text/plain": [
       "float"
      ]
     },
     "execution_count": 23,
     "metadata": {},
     "output_type": "execute_result"
    }
   ],
   "source": [
    "type(d)"
   ]
  },
  {
   "cell_type": "code",
   "execution_count": 24,
   "id": "9b932a24-d3bc-4a19-85fb-4a024378d8fe",
   "metadata": {},
   "outputs": [],
   "source": [
    "e=5+7j"
   ]
  },
  {
   "cell_type": "code",
   "execution_count": 25,
   "id": "7f943039-d10b-43f6-83e6-4c65a6235622",
   "metadata": {},
   "outputs": [
    {
     "data": {
      "text/plain": [
       "(5+7j)"
      ]
     },
     "execution_count": 25,
     "metadata": {},
     "output_type": "execute_result"
    }
   ],
   "source": [
    "e"
   ]
  },
  {
   "cell_type": "code",
   "execution_count": 26,
   "id": "3c94ed3e-8c32-43e4-81a8-54c6b7fba415",
   "metadata": {},
   "outputs": [
    {
     "data": {
      "text/plain": [
       "complex"
      ]
     },
     "execution_count": 26,
     "metadata": {},
     "output_type": "execute_result"
    }
   ],
   "source": [
    "type(e)"
   ]
  },
  {
   "cell_type": "code",
   "execution_count": 27,
   "id": "471ef35b-ac97-4c63-ab60-067e9c414e15",
   "metadata": {},
   "outputs": [
    {
     "data": {
      "text/plain": [
       "5.0"
      ]
     },
     "execution_count": 27,
     "metadata": {},
     "output_type": "execute_result"
    }
   ],
   "source": [
    "e.real"
   ]
  },
  {
   "cell_type": "code",
   "execution_count": 29,
   "id": "4db52b8c-0006-4bae-aeee-cc0c3cbeb55c",
   "metadata": {},
   "outputs": [
    {
     "data": {
      "text/plain": [
       "7.0"
      ]
     },
     "execution_count": 29,
     "metadata": {},
     "output_type": "execute_result"
    }
   ],
   "source": [
    "e.imag"
   ]
  },
  {
   "cell_type": "code",
   "execution_count": 30,
   "id": "b1d17c7d-c894-4f7d-b21a-18b16febde40",
   "metadata": {},
   "outputs": [],
   "source": [
    "f=True"
   ]
  },
  {
   "cell_type": "code",
   "execution_count": 31,
   "id": "97d703e9-902e-42b8-9b95-13b01c22a993",
   "metadata": {},
   "outputs": [
    {
     "data": {
      "text/plain": [
       "True"
      ]
     },
     "execution_count": 31,
     "metadata": {},
     "output_type": "execute_result"
    }
   ],
   "source": [
    "f"
   ]
  },
  {
   "cell_type": "code",
   "execution_count": 32,
   "id": "e65077c7-ccdc-4840-9e38-91a5e85fdd7d",
   "metadata": {},
   "outputs": [
    {
     "data": {
      "text/plain": [
       "bool"
      ]
     },
     "execution_count": 32,
     "metadata": {},
     "output_type": "execute_result"
    }
   ],
   "source": [
    "type(f)"
   ]
  },
  {
   "cell_type": "code",
   "execution_count": 33,
   "id": "f0d87779-125a-4756-b4c7-4e8605fad05f",
   "metadata": {},
   "outputs": [],
   "source": [
    "g=False"
   ]
  },
  {
   "cell_type": "code",
   "execution_count": 34,
   "id": "df5db1b9-11e2-4609-a3b2-07bab0c92268",
   "metadata": {},
   "outputs": [
    {
     "data": {
      "text/plain": [
       "False"
      ]
     },
     "execution_count": 34,
     "metadata": {},
     "output_type": "execute_result"
    }
   ],
   "source": [
    "g"
   ]
  },
  {
   "cell_type": "code",
   "execution_count": 35,
   "id": "461a58e5-81ce-457d-bcec-44d5de520b83",
   "metadata": {},
   "outputs": [
    {
     "data": {
      "text/plain": [
       "bool"
      ]
     },
     "execution_count": 35,
     "metadata": {},
     "output_type": "execute_result"
    }
   ],
   "source": [
    "type(g)"
   ]
  },
  {
   "cell_type": "code",
   "execution_count": 36,
   "id": "1cb0470b-d7b1-49ea-94a4-8814d39fc2bb",
   "metadata": {},
   "outputs": [],
   "source": [
    "a1=89\n",
    "a2=90"
   ]
  },
  {
   "cell_type": "code",
   "execution_count": 37,
   "id": "cfe7dfa2-fc0d-40e0-8fee-a5a6fea5d91a",
   "metadata": {},
   "outputs": [
    {
     "data": {
      "text/plain": [
       "179"
      ]
     },
     "execution_count": 37,
     "metadata": {},
     "output_type": "execute_result"
    }
   ],
   "source": [
    "a1+a2"
   ]
  },
  {
   "cell_type": "code",
   "execution_count": 38,
   "id": "43997468-0691-481c-b8c8-bffba1bc81ba",
   "metadata": {},
   "outputs": [
    {
     "data": {
      "text/plain": [
       "8010"
      ]
     },
     "execution_count": 38,
     "metadata": {},
     "output_type": "execute_result"
    }
   ],
   "source": [
    "a1*a2"
   ]
  },
  {
   "cell_type": "code",
   "execution_count": 39,
   "id": "0aee9155-e864-4bb6-a48d-52f9b31af663",
   "metadata": {},
   "outputs": [
    {
     "data": {
      "text/plain": [
       "0.9888888888888889"
      ]
     },
     "execution_count": 39,
     "metadata": {},
     "output_type": "execute_result"
    }
   ],
   "source": [
    "a1/a2"
   ]
  },
  {
   "cell_type": "code",
   "execution_count": 40,
   "id": "70d6b1ed-c58a-4a44-a1d5-b4e86272290b",
   "metadata": {},
   "outputs": [
    {
     "data": {
      "text/plain": [
       "-1"
      ]
     },
     "execution_count": 40,
     "metadata": {},
     "output_type": "execute_result"
    }
   ],
   "source": [
    "a1-a2"
   ]
  },
  {
   "cell_type": "code",
   "execution_count": 41,
   "id": "5b741942-e297-4a8f-b94a-7cdd878b421a",
   "metadata": {},
   "outputs": [],
   "source": [
    "a1,a2=4,5"
   ]
  },
  {
   "cell_type": "code",
   "execution_count": 42,
   "id": "a0973874-b819-4415-8566-409261bb577d",
   "metadata": {},
   "outputs": [
    {
     "data": {
      "text/plain": [
       "9"
      ]
     },
     "execution_count": 42,
     "metadata": {},
     "output_type": "execute_result"
    }
   ],
   "source": [
    "a1+a2"
   ]
  },
  {
   "cell_type": "code",
   "execution_count": 43,
   "id": "f64a7e00-b566-41b7-b391-c2b4be2bea3c",
   "metadata": {},
   "outputs": [],
   "source": [
    "a,b,c,d =6,'srk',5+7j,True"
   ]
  },
  {
   "cell_type": "code",
   "execution_count": 44,
   "id": "dc2a73aa-82b9-40d1-b167-35715f803a71",
   "metadata": {},
   "outputs": [
    {
     "data": {
      "text/plain": [
       "'srk'"
      ]
     },
     "execution_count": 44,
     "metadata": {},
     "output_type": "execute_result"
    }
   ],
   "source": [
    "b"
   ]
  },
  {
   "cell_type": "code",
   "execution_count": 45,
   "id": "f78262a3-dd83-4f98-8351-1c54bf0cbdf4",
   "metadata": {},
   "outputs": [
    {
     "data": {
      "text/plain": [
       "True"
      ]
     },
     "execution_count": 45,
     "metadata": {},
     "output_type": "execute_result"
    }
   ],
   "source": [
    "d"
   ]
  },
  {
   "cell_type": "code",
   "execution_count": 46,
   "id": "26edfef7-2b72-40b0-9a13-6730f59fa15a",
   "metadata": {},
   "outputs": [
    {
     "data": {
      "text/plain": [
       "6"
      ]
     },
     "execution_count": 46,
     "metadata": {},
     "output_type": "execute_result"
    }
   ],
   "source": [
    "a"
   ]
  },
  {
   "cell_type": "code",
   "execution_count": 47,
   "id": "dff699ee-ae7c-4ba7-b175-da09c6985d5a",
   "metadata": {},
   "outputs": [
    {
     "data": {
      "text/plain": [
       "(5+7j)"
      ]
     },
     "execution_count": 47,
     "metadata": {},
     "output_type": "execute_result"
    }
   ],
   "source": [
    "c"
   ]
  },
  {
   "cell_type": "code",
   "execution_count": 48,
   "id": "045c157a-2caa-47dc-aaf4-9367f2a94fc6",
   "metadata": {},
   "outputs": [
    {
     "ename": "SyntaxError",
     "evalue": "invalid binary literal (3450921678.py, line 1)",
     "output_type": "error",
     "traceback": [
      "\u001b[0;36m  Cell \u001b[0;32mIn[48], line 1\u001b[0;36m\u001b[0m\n\u001b[0;31m    0b=2\u001b[0m\n\u001b[0m     ^\u001b[0m\n\u001b[0;31mSyntaxError\u001b[0m\u001b[0;31m:\u001b[0m invalid binary literal\n"
     ]
    }
   ],
   "source": [
    "0b=2"
   ]
  },
  {
   "cell_type": "code",
   "execution_count": 49,
   "id": "843ae41b-81e1-445e-a689-90bff2ad1c3a",
   "metadata": {},
   "outputs": [
    {
     "ename": "SyntaxError",
     "evalue": "invalid syntax. Maybe you meant '==' or ':=' instead of '='? (3255441651.py, line 1)",
     "output_type": "error",
     "traceback": [
      "\u001b[0;36m  Cell \u001b[0;32mIn[49], line 1\u001b[0;36m\u001b[0m\n\u001b[0;31m    @e=98\u001b[0m\n\u001b[0m     ^\u001b[0m\n\u001b[0;31mSyntaxError\u001b[0m\u001b[0;31m:\u001b[0m invalid syntax. Maybe you meant '==' or ':=' instead of '='?\n"
     ]
    }
   ],
   "source": [
    "@e=98"
   ]
  },
  {
   "cell_type": "code",
   "execution_count": 50,
   "id": "e84807af-3ceb-4a9d-835c-53162404bd5b",
   "metadata": {},
   "outputs": [],
   "source": [
    "_q=90"
   ]
  },
  {
   "cell_type": "code",
   "execution_count": 51,
   "id": "dd04258e-c567-4ba1-858d-90d810055e4b",
   "metadata": {},
   "outputs": [
    {
     "data": {
      "text/plain": [
       "90"
      ]
     },
     "execution_count": 51,
     "metadata": {},
     "output_type": "execute_result"
    }
   ],
   "source": [
    "_q"
   ]
  },
  {
   "cell_type": "code",
   "execution_count": 52,
   "id": "39861226-7889-4dc4-9c4a-a872518e4ab3",
   "metadata": {},
   "outputs": [
    {
     "ename": "SyntaxError",
     "evalue": "cannot assign to expression here. Maybe you meant '==' instead of '='? (4045421338.py, line 1)",
     "output_type": "error",
     "traceback": [
      "\u001b[0;36m  Cell \u001b[0;32mIn[52], line 1\u001b[0;36m\u001b[0m\n\u001b[0;31m    -o=98\u001b[0m\n\u001b[0m    ^\u001b[0m\n\u001b[0;31mSyntaxError\u001b[0m\u001b[0;31m:\u001b[0m cannot assign to expression here. Maybe you meant '==' instead of '='?\n"
     ]
    }
   ],
   "source": [
    "-o=98"
   ]
  },
  {
   "cell_type": "code",
   "execution_count": 53,
   "id": "b7e012f5-f1fb-40db-a5fd-9bcb5151c6eb",
   "metadata": {},
   "outputs": [
    {
     "ename": "SyntaxError",
     "evalue": "cannot assign to True (480661665.py, line 1)",
     "output_type": "error",
     "traceback": [
      "\u001b[0;36m  Cell \u001b[0;32mIn[53], line 1\u001b[0;36m\u001b[0m\n\u001b[0;31m    True=90\u001b[0m\n\u001b[0m    ^\u001b[0m\n\u001b[0;31mSyntaxError\u001b[0m\u001b[0;31m:\u001b[0m cannot assign to True\n"
     ]
    }
   ],
   "source": [
    "True=90"
   ]
  },
  {
   "cell_type": "code",
   "execution_count": 54,
   "id": "e6e01486-6a69-4fce-a8c8-404f44a75528",
   "metadata": {},
   "outputs": [],
   "source": [
    "b1= True"
   ]
  },
  {
   "cell_type": "code",
   "execution_count": 55,
   "id": "4ac46c10-15b8-4ef0-b142-61737b219ad5",
   "metadata": {},
   "outputs": [],
   "source": [
    "b2= False"
   ]
  },
  {
   "cell_type": "code",
   "execution_count": 56,
   "id": "cfa2020e-340f-43fc-a0a5-27c778570f5c",
   "metadata": {},
   "outputs": [
    {
     "data": {
      "text/plain": [
       "1"
      ]
     },
     "execution_count": 56,
     "metadata": {},
     "output_type": "execute_result"
    }
   ],
   "source": [
    "b1-b2"
   ]
  },
  {
   "cell_type": "code",
   "execution_count": 57,
   "id": "ede5e174-6812-464c-b7a4-427927eb8b69",
   "metadata": {},
   "outputs": [
    {
     "ename": "ZeroDivisionError",
     "evalue": "division by zero",
     "output_type": "error",
     "traceback": [
      "\u001b[0;31m---------------------------------------------------------------------------\u001b[0m",
      "\u001b[0;31mZeroDivisionError\u001b[0m                         Traceback (most recent call last)",
      "Cell \u001b[0;32mIn[57], line 1\u001b[0m\n\u001b[0;32m----> 1\u001b[0m \u001b[43mb1\u001b[49m\u001b[38;5;241;43m/\u001b[39;49m\u001b[43mb2\u001b[49m\n",
      "\u001b[0;31mZeroDivisionError\u001b[0m: division by zero"
     ]
    }
   ],
   "source": [
    "b1/b2"
   ]
  },
  {
   "cell_type": "code",
   "execution_count": 58,
   "id": "20062f89-ca72-46a8-a8e7-fe721137058b",
   "metadata": {},
   "outputs": [
    {
     "data": {
      "text/plain": [
       "1"
      ]
     },
     "execution_count": 58,
     "metadata": {},
     "output_type": "execute_result"
    }
   ],
   "source": [
    "b1+b2"
   ]
  },
  {
   "cell_type": "code",
   "execution_count": 59,
   "id": "4d5f859c-5ba8-4a80-b79d-cc36cab5a444",
   "metadata": {},
   "outputs": [
    {
     "data": {
      "text/plain": [
       "0"
      ]
     },
     "execution_count": 59,
     "metadata": {},
     "output_type": "execute_result"
    }
   ],
   "source": [
    "b1*b2"
   ]
  },
  {
   "cell_type": "code",
   "execution_count": 60,
   "id": "492bccff-8636-487b-ba1a-91502feb96ba",
   "metadata": {},
   "outputs": [
    {
     "data": {
      "text/plain": [
       "1"
      ]
     },
     "execution_count": 60,
     "metadata": {},
     "output_type": "execute_result"
    }
   ],
   "source": [
    "b1*b1"
   ]
  },
  {
   "cell_type": "code",
   "execution_count": 61,
   "id": "6e905f47-a849-449e-9488-98cf3425ca3b",
   "metadata": {},
   "outputs": [
    {
     "data": {
      "text/plain": [
       "0.0"
      ]
     },
     "execution_count": 61,
     "metadata": {},
     "output_type": "execute_result"
    }
   ],
   "source": [
    "b2/b1"
   ]
  },
  {
   "cell_type": "code",
   "execution_count": 62,
   "id": "f7e4768b-6aeb-48ec-9cef-40a0629ecc71",
   "metadata": {},
   "outputs": [],
   "source": [
    "s1='umaiza and umaira are sisters'"
   ]
  },
  {
   "cell_type": "code",
   "execution_count": 63,
   "id": "afe31031-7cf2-43ab-9ec3-3e106b538c64",
   "metadata": {},
   "outputs": [
    {
     "data": {
      "text/plain": [
       "'umaiza and umaira are sisters'"
      ]
     },
     "execution_count": 63,
     "metadata": {},
     "output_type": "execute_result"
    }
   ],
   "source": [
    "s1"
   ]
  },
  {
   "cell_type": "code",
   "execution_count": 65,
   "id": "6c1ff61d-2199-4765-9df0-cbfd42dc6312",
   "metadata": {},
   "outputs": [],
   "source": [
    "s2=\"ubed is good's\""
   ]
  },
  {
   "cell_type": "code",
   "execution_count": 66,
   "id": "64cad595-6aa4-4b09-93d2-ef83e7ac5494",
   "metadata": {},
   "outputs": [
    {
     "data": {
      "text/plain": [
       "\"ubed is good's\""
      ]
     },
     "execution_count": 66,
     "metadata": {},
     "output_type": "execute_result"
    }
   ],
   "source": [
    "s2"
   ]
  },
  {
   "cell_type": "code",
   "execution_count": 71,
   "id": "db8efddc-e754-4e21-9b97-8239b5e0f0d0",
   "metadata": {},
   "outputs": [],
   "source": [
    "#this is code to write string with quotes\n",
    "\n",
    "s3='\"ubed is good\"s'"
   ]
  },
  {
   "cell_type": "code",
   "execution_count": 69,
   "id": "f584e716-a119-4228-ba10-8c12d09ce3bd",
   "metadata": {},
   "outputs": [
    {
     "data": {
      "text/plain": [
       "'\"ubed is good\"s'"
      ]
     },
     "execution_count": 69,
     "metadata": {},
     "output_type": "execute_result"
    }
   ],
   "source": [
    "s3"
   ]
  },
  {
   "cell_type": "code",
   "execution_count": 74,
   "id": "5c65929e-cbe2-43d6-82e1-373d2fc59138",
   "metadata": {},
   "outputs": [],
   "source": [
    "'''this is my first python \n",
    "i am trying to learn varibles\n",
    "integers, float, string''' \n",
    "a=10"
   ]
  },
  {
   "cell_type": "code",
   "execution_count": 75,
   "id": "4a08cb25-9095-4f91-a26f-599d49da3c45",
   "metadata": {},
   "outputs": [],
   "source": [
    "s1='ubed'"
   ]
  },
  {
   "cell_type": "code",
   "execution_count": 76,
   "id": "2698c40d-85ba-4f11-8b6a-12557109e71e",
   "metadata": {},
   "outputs": [],
   "source": [
    "a='1'"
   ]
  },
  {
   "cell_type": "code",
   "execution_count": 85,
   "id": "db9a3db7-6913-4cc6-8008-d50ae448ae8a",
   "metadata": {},
   "outputs": [
    {
     "data": {
      "text/plain": [
       "'ubed 1'"
      ]
     },
     "execution_count": 85,
     "metadata": {},
     "output_type": "execute_result"
    }
   ],
   "source": [
    "s1+ \" \" +str(1)"
   ]
  },
  {
   "cell_type": "code",
   "execution_count": 79,
   "id": "5ccf5b01-b0d6-4b92-9639-b4d4d9dc1a61",
   "metadata": {},
   "outputs": [
    {
     "data": {
      "text/plain": [
       "'ubedur  rahman'"
      ]
     },
     "execution_count": 79,
     "metadata": {},
     "output_type": "execute_result"
    }
   ],
   "source": [
    "'ubedur'+'  rahman'"
   ]
  },
  {
   "cell_type": "code",
   "execution_count": 80,
   "id": "bf2cf966-75e6-4fe0-941e-bebd1e72abc9",
   "metadata": {},
   "outputs": [
    {
     "data": {
      "text/plain": [
       "'1'"
      ]
     },
     "execution_count": 80,
     "metadata": {},
     "output_type": "execute_result"
    }
   ],
   "source": [
    "str(a)"
   ]
  },
  {
   "cell_type": "code",
   "execution_count": 86,
   "id": "239aabec-c754-47a0-a8ed-f1f4a542e491",
   "metadata": {},
   "outputs": [],
   "source": [
    "a=10"
   ]
  },
  {
   "cell_type": "code",
   "execution_count": 87,
   "id": "ff7f1903-7350-4596-bf69-77f736331815",
   "metadata": {},
   "outputs": [],
   "source": [
    "b=str(a)"
   ]
  },
  {
   "cell_type": "code",
   "execution_count": 88,
   "id": "681b4fd7-5746-4f37-9998-8669039f4b53",
   "metadata": {},
   "outputs": [
    {
     "data": {
      "text/plain": [
       "'10'"
      ]
     },
     "execution_count": 88,
     "metadata": {},
     "output_type": "execute_result"
    }
   ],
   "source": [
    "b"
   ]
  },
  {
   "cell_type": "code",
   "execution_count": 89,
   "id": "15ddd883-79ed-4a7e-8d8b-40773ccd3d5c",
   "metadata": {},
   "outputs": [],
   "source": [
    "a1='srk'"
   ]
  },
  {
   "cell_type": "code",
   "execution_count": 90,
   "id": "72743f45-a5fb-4f33-b7e8-0a527c6921d0",
   "metadata": {},
   "outputs": [
    {
     "ename": "TypeError",
     "evalue": "unsupported operand type(s) for +: 'int' and 'str'",
     "output_type": "error",
     "traceback": [
      "\u001b[0;31m---------------------------------------------------------------------------\u001b[0m",
      "\u001b[0;31mTypeError\u001b[0m                                 Traceback (most recent call last)",
      "Cell \u001b[0;32mIn[90], line 1\u001b[0m\n\u001b[0;32m----> 1\u001b[0m \u001b[43ma\u001b[49m\u001b[38;5;241;43m+\u001b[39;49m\u001b[43ma1\u001b[49m\n",
      "\u001b[0;31mTypeError\u001b[0m: unsupported operand type(s) for +: 'int' and 'str'"
     ]
    }
   ],
   "source": [
    "a+a1"
   ]
  },
  {
   "cell_type": "code",
   "execution_count": 94,
   "id": "ba26d054-5e8b-48cb-bad1-f2386abc193b",
   "metadata": {},
   "outputs": [
    {
     "data": {
      "text/plain": [
       "10"
      ]
     },
     "execution_count": 94,
     "metadata": {},
     "output_type": "execute_result"
    }
   ],
   "source": [
    "int(b)"
   ]
  },
  {
   "cell_type": "code",
   "execution_count": 95,
   "id": "699e652f-aefa-4c53-898c-9114d65c5bd0",
   "metadata": {},
   "outputs": [],
   "source": [
    "a=453253"
   ]
  },
  {
   "cell_type": "code",
   "execution_count": 106,
   "id": "53403254-d00f-46a9-b695-d65bfd751074",
   "metadata": {},
   "outputs": [
    {
     "name": "stdin",
     "output_type": "stream",
     "text": [
      " 989\n"
     ]
    }
   ],
   "source": [
    "b=int(input())"
   ]
  },
  {
   "cell_type": "code",
   "execution_count": 107,
   "id": "081aa4ef-a04d-4177-b0bc-5ca1b2636a74",
   "metadata": {},
   "outputs": [
    {
     "data": {
      "text/plain": [
       "989"
      ]
     },
     "execution_count": 107,
     "metadata": {},
     "output_type": "execute_result"
    }
   ],
   "source": [
    "b"
   ]
  },
  {
   "cell_type": "code",
   "execution_count": 108,
   "id": "7bc5c1c5-0b39-4cf3-9c7d-27e5a60874db",
   "metadata": {},
   "outputs": [
    {
     "name": "stdin",
     "output_type": "stream",
     "text": [
      " 90.98\n"
     ]
    }
   ],
   "source": [
    "c=float(input())"
   ]
  },
  {
   "cell_type": "code",
   "execution_count": 109,
   "id": "04af2800-41bf-439a-977d-90ca2a88e70e",
   "metadata": {},
   "outputs": [
    {
     "data": {
      "text/plain": [
       "90.98"
      ]
     },
     "execution_count": 109,
     "metadata": {},
     "output_type": "execute_result"
    }
   ],
   "source": [
    "c"
   ]
  },
  {
   "cell_type": "code",
   "execution_count": 110,
   "id": "6e6ac410-968b-4991-8166-a7115cb70044",
   "metadata": {},
   "outputs": [
    {
     "data": {
      "text/plain": [
       "float"
      ]
     },
     "execution_count": 110,
     "metadata": {},
     "output_type": "execute_result"
    }
   ],
   "source": [
    "type(c)"
   ]
  },
  {
   "cell_type": "code",
   "execution_count": 111,
   "id": "6cd6abcd-91b7-4c2a-b6fc-1743cda1e171",
   "metadata": {},
   "outputs": [
    {
     "data": {
      "text/plain": [
       "int"
      ]
     },
     "execution_count": 111,
     "metadata": {},
     "output_type": "execute_result"
    }
   ],
   "source": [
    "type(b)"
   ]
  },
  {
   "cell_type": "code",
   "execution_count": 116,
   "id": "cadfe77e-38e9-4330-b20d-17014d01199f",
   "metadata": {},
   "outputs": [
    {
     "name": "stdin",
     "output_type": "stream",
     "text": [
      " 10.78\n"
     ]
    }
   ],
   "source": [
    "d=float(input())"
   ]
  },
  {
   "cell_type": "code",
   "execution_count": 114,
   "id": "071a09f1-cb6a-443c-95c7-48aac25c754c",
   "metadata": {},
   "outputs": [
    {
     "data": {
      "text/plain": [
       "True"
      ]
     },
     "execution_count": 114,
     "metadata": {},
     "output_type": "execute_result"
    }
   ],
   "source": [
    "d"
   ]
  },
  {
   "cell_type": "code",
   "execution_count": 115,
   "id": "aa8662b2-90be-4405-b740-379614936e7e",
   "metadata": {},
   "outputs": [
    {
     "data": {
      "text/plain": [
       "bool"
      ]
     },
     "execution_count": 115,
     "metadata": {},
     "output_type": "execute_result"
    }
   ],
   "source": [
    "type(d)"
   ]
  },
  {
   "cell_type": "code",
   "execution_count": 117,
   "id": "03f74cc2-992a-4b1d-ba38-bfe29bc342b3",
   "metadata": {},
   "outputs": [
    {
     "data": {
      "text/plain": [
       "10.78"
      ]
     },
     "execution_count": 117,
     "metadata": {},
     "output_type": "execute_result"
    }
   ],
   "source": [
    "d"
   ]
  },
  {
   "cell_type": "code",
   "execution_count": 118,
   "id": "6a28fddd-f90e-43ef-bc7c-1f2fbb54f14d",
   "metadata": {},
   "outputs": [
    {
     "data": {
      "text/plain": [
       "float"
      ]
     },
     "execution_count": 118,
     "metadata": {},
     "output_type": "execute_result"
    }
   ],
   "source": [
    "type(d)"
   ]
  },
  {
   "cell_type": "code",
   "execution_count": 119,
   "id": "051e05e3-7f63-4fbe-ad8c-f08e490ee93d",
   "metadata": {},
   "outputs": [],
   "source": [
    "s=\"ubedisking\""
   ]
  },
  {
   "cell_type": "code",
   "execution_count": 120,
   "id": "4626be2b-14c0-4ea9-be78-fb95616c8f82",
   "metadata": {},
   "outputs": [
    {
     "data": {
      "text/plain": [
       "'b'"
      ]
     },
     "execution_count": 120,
     "metadata": {},
     "output_type": "execute_result"
    }
   ],
   "source": [
    "s[1]"
   ]
  },
  {
   "cell_type": "code",
   "execution_count": 121,
   "id": "06c5501a-365f-450e-8da4-40058810391b",
   "metadata": {},
   "outputs": [
    {
     "data": {
      "text/plain": [
       "'d'"
      ]
     },
     "execution_count": 121,
     "metadata": {},
     "output_type": "execute_result"
    }
   ],
   "source": [
    "s[3]"
   ]
  },
  {
   "cell_type": "code",
   "execution_count": 126,
   "id": "035ba5f0-c14e-4c3d-8cb2-a63a91c649e4",
   "metadata": {},
   "outputs": [
    {
     "data": {
      "text/plain": [
       "'g'"
      ]
     },
     "execution_count": 126,
     "metadata": {},
     "output_type": "execute_result"
    }
   ],
   "source": [
    "s[-1]"
   ]
  },
  {
   "cell_type": "code",
   "execution_count": 130,
   "id": "6f45eb7a-8130-40e0-bc15-cdd32826523a",
   "metadata": {},
   "outputs": [],
   "source": [
    "s1=\"PWSkills\""
   ]
  },
  {
   "cell_type": "code",
   "execution_count": 132,
   "id": "baaae434-0342-4218-a137-88b2a4f15c14",
   "metadata": {},
   "outputs": [
    {
     "data": {
      "text/plain": [
       "'PW'"
      ]
     },
     "execution_count": 132,
     "metadata": {},
     "output_type": "execute_result"
    }
   ],
   "source": [
    "s1[0:2]"
   ]
  },
  {
   "cell_type": "code",
   "execution_count": 133,
   "id": "9da18e19-d28d-405d-a3c2-889722832fbb",
   "metadata": {},
   "outputs": [
    {
     "data": {
      "text/plain": [
       "'ubed'"
      ]
     },
     "execution_count": 133,
     "metadata": {},
     "output_type": "execute_result"
    }
   ],
   "source": [
    "s[0:4]"
   ]
  },
  {
   "cell_type": "code",
   "execution_count": 134,
   "id": "9242118d-6527-41ee-8f74-3585e22bb0ad",
   "metadata": {},
   "outputs": [
    {
     "data": {
      "text/plain": [
       "'Skill'"
      ]
     },
     "execution_count": 134,
     "metadata": {},
     "output_type": "execute_result"
    }
   ],
   "source": [
    "s1[2:7]"
   ]
  },
  {
   "cell_type": "code",
   "execution_count": 137,
   "id": "5c66700c-b7fd-41b3-95ff-83e7833ed817",
   "metadata": {},
   "outputs": [
    {
     "data": {
      "text/plain": [
       "'Skills'"
      ]
     },
     "execution_count": 137,
     "metadata": {},
     "output_type": "execute_result"
    }
   ],
   "source": [
    "s1[2:8]"
   ]
  },
  {
   "cell_type": "code",
   "execution_count": 138,
   "id": "23e292cd-648d-439d-93e9-5a14c7087639",
   "metadata": {},
   "outputs": [
    {
     "data": {
      "text/plain": [
       "'Skills'"
      ]
     },
     "execution_count": 138,
     "metadata": {},
     "output_type": "execute_result"
    }
   ],
   "source": [
    "s1[2:]"
   ]
  },
  {
   "cell_type": "code",
   "execution_count": 140,
   "id": "da501b5d-c38a-4131-ad45-165e8cdd7f9a",
   "metadata": {},
   "outputs": [
    {
     "data": {
      "text/plain": [
       "'PSil'"
      ]
     },
     "execution_count": 140,
     "metadata": {},
     "output_type": "execute_result"
    }
   ],
   "source": [
    "s1[0:7:2]"
   ]
  },
  {
   "cell_type": "code",
   "execution_count": 144,
   "id": "158cbf70-7c66-4ce3-b310-42ca44882d14",
   "metadata": {},
   "outputs": [
    {
     "data": {
      "text/plain": [
       "'slli'"
      ]
     },
     "execution_count": 144,
     "metadata": {},
     "output_type": "execute_result"
    }
   ],
   "source": [
    "s1[7:3:-1]"
   ]
  },
  {
   "cell_type": "code",
   "execution_count": 152,
   "id": "9c82d6ab-8e22-42e6-ae65-8dd9a6821a53",
   "metadata": {},
   "outputs": [
    {
     "data": {
      "text/plain": [
       "'sllikSWP'"
      ]
     },
     "execution_count": 152,
     "metadata": {},
     "output_type": "execute_result"
    }
   ],
   "source": [
    "s1[-1:-9:-1]"
   ]
  },
  {
   "cell_type": "code",
   "execution_count": 157,
   "id": "79d4a382-c787-4bea-a813-1900304d9ad7",
   "metadata": {},
   "outputs": [
    {
     "data": {
      "text/plain": [
       "'sllikSWP'"
      ]
     },
     "execution_count": 159,
     "metadata": {},
     "output_type": "execute_result"
    }
   ],
   "source": [
    "s1[7:-9:-1]"
   ]
  },
  {
   "cell_type": "code",
   "execution_count": 160,
   "id": "d25ab651-370f-4c05-a67c-974f29fad643",
   "metadata": {},
   "outputs": [
    {
     "data": {
      "text/plain": [
       "'sllikSWP'"
      ]
     },
     "execution_count": 160,
     "metadata": {},
     "output_type": "execute_result"
    }
   ],
   "source": [
    "s1[::-1]"
   ]
  },
  {
   "cell_type": "code",
   "execution_count": 161,
   "id": "2a18c07f-1326-489e-a074-2cb7d7773cc4",
   "metadata": {},
   "outputs": [
    {
     "data": {
      "text/plain": [
       "'PWSkills'"
      ]
     },
     "execution_count": 161,
     "metadata": {},
     "output_type": "execute_result"
    }
   ],
   "source": [
    "s1"
   ]
  },
  {
   "cell_type": "code",
   "execution_count": 164,
   "id": "c730f46c-bed1-475f-b56b-a8511d0c05a5",
   "metadata": {},
   "outputs": [
    {
     "data": {
      "text/plain": [
       "'PWSkills'"
      ]
     },
     "execution_count": 164,
     "metadata": {},
     "output_type": "execute_result"
    }
   ],
   "source": [
    "s1"
   ]
  },
  {
   "cell_type": "code",
   "execution_count": null,
   "id": "62c76856-73ca-409c-94ed-2a9663e7c033",
   "metadata": {},
   "outputs": [],
   "source": []
  }
 ],
 "metadata": {
  "kernelspec": {
   "display_name": "Python 3 (ipykernel)",
   "language": "python",
   "name": "python3"
  },
  "language_info": {
   "codemirror_mode": {
    "name": "ipython",
    "version": 3
   },
   "file_extension": ".py",
   "mimetype": "text/x-python",
   "name": "python",
   "nbconvert_exporter": "python",
   "pygments_lexer": "ipython3",
   "version": "3.10.8"
  }
 },
 "nbformat": 4,
 "nbformat_minor": 5
}
