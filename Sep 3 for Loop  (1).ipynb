{
 "cells": [
  {
   "cell_type": "code",
   "execution_count": 17,
   "id": "31594ec5-c17d-481f-9d25-81058d5251dd",
   "metadata": {},
   "outputs": [
    {
     "name": "stdout",
     "output_type": "stream",
     "text": [
      "1 2 3 4 5 6 7 8 9 10 "
     ]
    }
   ],
   "source": [
    "                                               ''' Basic Level'''\n",
    "\n",
    "#Write a Python program to print the numbers from 1 to 10 using a `for` loop.\n",
    "for i in range(1,11):\n",
    "    print(i, end = ' ')"
   ]
  },
  {
   "cell_type": "code",
   "execution_count": 38,
   "id": "ba09d398-6a9a-4d4a-a4c4-1e84ceab7d8d",
   "metadata": {},
   "outputs": [
    {
     "name": "stdout",
     "output_type": "stream",
     "text": [
      "the sum of all numbers ia a list is : 15\n"
     ]
    }
   ],
   "source": [
    "#Create a program that calculates the sum of all numbers in a list using a `for` loop.\n",
    "list=[1,2,3,4,5]\n",
    "total_sum= 0\n",
    "for i in list:\n",
    "  total_sum += i\n",
    "print(\"the sum of all numbers ia a list is :\",total_sum)    "
   ]
  },
  {
   "cell_type": "code",
   "execution_count": 48,
   "id": "bef3f932-abca-4713-a4f3-8ae82e6ac1c0",
   "metadata": {},
   "outputs": [
    {
     "name": "stdin",
     "output_type": "stream",
     "text": [
      "enter the string : jawan\n"
     ]
    },
    {
     "name": "stdout",
     "output_type": "stream",
     "text": [
      "the reversed string is :  nawaj\n"
     ]
    }
   ],
   "source": [
    "#Write a program to print the characters of a string in reverse order using a `for` loop.\n",
    "a=str(input(\"enter the string :\"))\n",
    "reversed_string= \" \"\n",
    "for i in reversed(a):\n",
    "    reversed_string+=i\n",
    "print(\"the reversed string is :\",reversed_string )    "
   ]
  },
  {
   "cell_type": "code",
   "execution_count": 51,
   "id": "b258eea9-02a4-4025-b918-9bfc12151057",
   "metadata": {},
   "outputs": [
    {
     "name": "stdin",
     "output_type": "stream",
     "text": [
      "enter the number : 6\n"
     ]
    },
    {
     "name": "stdout",
     "output_type": "stream",
     "text": [
      "the factorail of given number is : 720\n"
     ]
    }
   ],
   "source": [
    "#Develop a program that finds the factorial of a given number using a `for` loop\n",
    "a=int(input(\"enter the number :\"))\n",
    "factorial =1\n",
    "for i in range(1,a+1):     #calculating factorial\n",
    "    factorial*=i\n",
    "print(\"the factorail of given number is :\",factorial)    "
   ]
  },
  {
   "cell_type": "code",
   "execution_count": 8,
   "id": "a8f974a8-fb5f-42c5-a45b-351b2dd204f0",
   "metadata": {},
   "outputs": [
    {
     "name": "stdin",
     "output_type": "stream",
     "text": [
      "enter the number : 2\n"
     ]
    },
    {
     "name": "stdout",
     "output_type": "stream",
     "text": [
      "the table is [2, 4, 6, 8, 10, 12, 14, 16, 18, 20]\n"
     ]
    }
   ],
   "source": [
    "#Create a program to print the multiplication table of a given number using a `for` loop.\n",
    "a=int(input(\"enter the number :\"))\n",
    "list=[1,2,3,4,5,6,7,8,9,10]\n",
    "multiplication_table=[]\n",
    "for i  in list:\n",
    "      multiplication=a*i\n",
    "      multiplication_table.append(multiplication)\n",
    "print(\"the table is\",multiplication_table) "
   ]
  },
  {
   "cell_type": "code",
   "execution_count": 26,
   "id": "277da457-43ee-49c7-993f-ff63181adc3e",
   "metadata": {},
   "outputs": [
    {
     "name": "stdout",
     "output_type": "stream",
     "text": [
      "the number of even numbers in a list 6\n",
      "the number of odd numbers in a list 4\n"
     ]
    }
   ],
   "source": [
    "#Write a program that counts the number of even and odd numbers in a list using a `for` loop.\n",
    "list=[1,2,3,3,5,6,6,8,10,10]\n",
    "even_count=0\n",
    "odd_count=0\n",
    "for i in list:\n",
    "    if i%2==0:\n",
    "       even_count+=1\n",
    "    else:\n",
    "        odd_count+=1\n",
    "print(\"the number of even numbers in a list\",even_count) \n",
    "print(\"the number of odd numbers in a list\",odd_count)"
   ]
  },
  {
   "cell_type": "code",
   "execution_count": 28,
   "id": "63e59ebe-76b5-4b99-beaf-3c98cec3b260",
   "metadata": {},
   "outputs": [
    {
     "name": "stdout",
     "output_type": "stream",
     "text": [
      "1 4 9 16 25 "
     ]
    }
   ],
   "source": [
    "#Develop a program that prints the squares of numbers from 1 to 5 using a `for` loop.\n",
    "for i in range(1,6):\n",
    "    print(i*i,end=' ')"
   ]
  },
  {
   "cell_type": "code",
   "execution_count": 33,
   "id": "b496207e-074b-4879-9e0e-e6ea0d050841",
   "metadata": {},
   "outputs": [
    {
     "name": "stdin",
     "output_type": "stream",
     "text": [
      "enter the string: umaiza\n"
     ]
    },
    {
     "name": "stdout",
     "output_type": "stream",
     "text": [
      "the length of string is : 6\n"
     ]
    }
   ],
   "source": [
    "#Create a program to find the length of a string without using the `len()` function.\n",
    "a =str(input(\"enter the string:\"))\n",
    "count=0\n",
    "for i in a:\n",
    "    count+=1\n",
    "print(\"the length of string is :\",count)"
   ]
  },
  {
   "cell_type": "code",
   "execution_count": 38,
   "id": "d6a42e74-6816-4eda-a412-fbfafcc46986",
   "metadata": {},
   "outputs": [
    {
     "name": "stdout",
     "output_type": "stream",
     "text": [
      "average of list of numbers: 3.0\n"
     ]
    }
   ],
   "source": [
    "#Write a program that calculates the average of a list of numbers using a `for` loop.\n",
    "list=[1,2,3,4,5]\n",
    "sum_of_numbers=0\n",
    "count=0\n",
    "for i in list:\n",
    "    sum_of_numbers+=i\n",
    "    count+=1\n",
    "    avg_of_numbers=sum_of_numbers/count\n",
    "print(\"average of list of numbers:\" ,avg_of_numbers)    "
   ]
  },
  {
   "cell_type": "code",
   "execution_count": 40,
   "id": "40d2b9dd-7432-4e85-b22f-68f5ec90b60f",
   "metadata": {},
   "outputs": [
    {
     "name": "stdin",
     "output_type": "stream",
     "text": [
      "Enter the limit for Fibonacci sequence:  5\n"
     ]
    },
    {
     "name": "stdout",
     "output_type": "stream",
     "text": [
      "Fibonacci sequence up to 5 terms: [0, 1, 1, 2, 3, 5]\n"
     ]
    }
   ],
   "source": [
    "#Develop a program that prints the first `n` Fibonacci numbers using a `for` loop.\n",
    "def generate_fibonacci(n):\n",
    "    fibonacci_sequence = []\n",
    "    a, b = 0, 1\n",
    "\n",
    "    while a <= n:\n",
    "        fibonacci_sequence.append(a)\n",
    "        a, b = b, a + b\n",
    "\n",
    "    return fibonacci_sequence\n",
    "\n",
    "# Input the limit\n",
    "n = int(input(\"Enter the limit for Fibonacci sequence: \"))\n",
    "\n",
    "if n < 0:\n",
    "    print(\"Please enter a non-negative number.\")\n",
    "else:\n",
    "    fibonacci_sequence = generate_fibonacci(n)\n",
    "    print(\"Fibonacci sequence up to\", n, \"terms:\", fibonacci_sequence)"
   ]
  },
  {
   "cell_type": "code",
   "execution_count": 15,
   "id": "2ffba4b4-4221-400c-8227-b1ff3674b663",
   "metadata": {},
   "outputs": [
    {
     "name": "stdout",
     "output_type": "stream",
     "text": [
      "the string conatins dupicates\n"
     ]
    }
   ],
   "source": [
    "                                                      '''Intermediate Level'''\n",
    "\n",
    "#Write a program to check if a given list contains any duplicates using a `for` loop.\n",
    "def hasduplicate(list):\n",
    "    for i in range(len(list)):\n",
    "        for j in range(i+1,len(list)):\n",
    "            if list[i]==list[j]:\n",
    "                return True\n",
    "    return False \n",
    "    \n",
    "list=[1,2,3,3,4,5,5]\n",
    "if hasduplicate(list):\n",
    "    print(\"the string conatins dupicates\")\n",
    "else:\n",
    "    print(\"the string doesnt contians duplicates\")"
   ]
  },
  {
   "cell_type": "code",
   "execution_count": 57,
   "id": "ed8409d4-30cc-4af3-9113-467bca63e849",
   "metadata": {},
   "outputs": [
    {
     "name": "stdin",
     "output_type": "stream",
     "text": [
      "Enter the number:  11\n"
     ]
    },
    {
     "name": "stdout",
     "output_type": "stream",
     "text": [
      "The given number is a prime number.\n"
     ]
    }
   ],
   "source": [
    "#Create a program that prints the prime numbers in a given range using a `for` loop.\n",
    "a = int(input(\"Enter the number: \"))\n",
    "if a <= 1:\n",
    "    print(\"The given number is not a prime number.\")\n",
    "else:\n",
    "    is_prime = True                             # Assume the number is prime initially\n",
    "    for i in range(2, a):\n",
    "        if a % i == 0:\n",
    "            is_prime = False                            # If divisible by any number in the range, it's not prime   \n",
    "    if is_prime:\n",
    "        print(\"The given number is a prime number.\")\n",
    "    else:\n",
    "        print(\"The given number is not a prime number.\")\n"
   ]
  },
  {
   "cell_type": "code",
   "execution_count": 8,
   "id": "06e7f1a0-51ac-4810-8bb6-a5eb91f9d8a9",
   "metadata": {},
   "outputs": [
    {
     "name": "stdin",
     "output_type": "stream",
     "text": [
      "enter the string : umaiza\n"
     ]
    },
    {
     "name": "stdout",
     "output_type": "stream",
     "text": [
      "the number of vowels in the given string are : 4\n"
     ]
    }
   ],
   "source": [
    "#Develop a program that counts the number of vowels in a string using a `for` loop.\n",
    "a=str(input(\"enter the string :\"))\n",
    "vowels=['a','e','i','o','u']\n",
    "count=0\n",
    "for i in a:\n",
    "    if i in vowels:\n",
    "        count+=1\n",
    "print(\"the number of vowels in the given string are :\",count)        \n"
   ]
  },
  {
   "cell_type": "code",
   "execution_count": 16,
   "id": "94b73e30-3771-4eeb-85ee-a8209c09ad2e",
   "metadata": {},
   "outputs": [
    {
     "name": "stdout",
     "output_type": "stream",
     "text": [
      "The maximum element in the list is: 9\n"
     ]
    }
   ],
   "source": [
    "#Write a program to find the maximum element in a 2D list using a nested `for` loop.\n",
    "my_list = [[1, 2, 3], [4, 5, 6], [7, 8, 9]]\n",
    "max_element = my_list[0][0]\n",
    "for i in range(len(my_list)):\n",
    "    for j in range(len(my_list[i])):\n",
    "        if my_list[i][j] > max_element:\n",
    "            max_element = my_list[i][j]\n",
    "print(\"The maximum element in the list is:\", max_element)"
   ]
  },
  {
   "cell_type": "code",
   "execution_count": 19,
   "id": "092801c5-8f6e-4e13-9f27-543af4e9609f",
   "metadata": {},
   "outputs": [
    {
     "name": "stdout",
     "output_type": "stream",
     "text": [
      "new list after removing specific element: [1, 2, 2, 3, 4, 2, 9]\n"
     ]
    }
   ],
   "source": [
    "#Create a program that removes all occurrences of a specific element from a list using a `for` loop.\n",
    "def occurenceofspecificelement(list,specific_element):\n",
    "    new_list=[]\n",
    "    for i in list:\n",
    "        if i!=specific_element:\n",
    "         new_list.append(i)\n",
    "    return new_list\n",
    "list=[1,5,2,2,3,4,2,5,5,9]\n",
    "specific_element=5\n",
    "print(\"new list after removing specific element:\",occurenceofspecificelement(list,specific_element))\n",
    "    "
   ]
  },
  {
   "cell_type": "code",
   "execution_count": 15,
   "id": "ce8eb826-0ef6-45b8-900d-767ac5f392cb",
   "metadata": {},
   "outputs": [
    {
     "name": "stdout",
     "output_type": "stream",
     "text": [
      "1 table : [1, 2, 3, 4, 5, 6, 7, 8, 9, 10]\n",
      "2 table : [2, 4, 6, 8, 10, 12, 14, 16, 18, 20]\n",
      "3 table : [3, 6, 9, 12, 15, 18, 21, 24, 27, 30]\n",
      "4 table : [4, 8, 12, 16, 20, 24, 28, 32, 36, 40]\n",
      "5 table : [5, 10, 15, 20, 25, 30, 35, 40, 45, 50]\n"
     ]
    }
   ],
   "source": [
    "#Develop a program that generates a multiplication table for numbers from 1 to 5 using a nested `for` loop.\n",
    "list=[1,2,3,4,5,6,7,8,9,10]\n",
    "a=[x*1 for x in list]\n",
    "print(\"1 table :\",a)\n",
    "b=[x*2 for x in list]\n",
    "print(\"2 table :\",b)\n",
    "c=[x*3 for x in list]\n",
    "print(\"3 table :\",c)\n",
    "d=[x*4 for x in list]\n",
    "print(\"4 table :\",d)\n",
    "e=[x*5 for x in list]\n",
    "print(\"5 table :\",e)"
   ]
  },
  {
   "cell_type": "code",
   "execution_count": 51,
   "id": "8a473d15-ff9e-4ec0-ad2e-18b46df6ed84",
   "metadata": {},
   "outputs": [
    {
     "name": "stdout",
     "output_type": "stream",
     "text": [
      "the converted list of celcuius [48.88888888888889, 43.333333333333336, 37.77777777777778]\n"
     ]
    }
   ],
   "source": [
    "#Write a program that converts a list of Fahrenheit temperatures to Celsius using a `for` loop.\n",
    "F = [120, 110 , 100]\n",
    "c = []\n",
    "\n",
    "for i in F:\n",
    "    t = 5/9 * (i-32)\n",
    "    c.append(t)\n",
    "    \n",
    "print(\"the converted list of celcuius\",c)"
   ]
  },
  {
   "cell_type": "code",
   "execution_count": 65,
   "id": "8dd9619f-9b48-40ef-b9a2-dcd59c85de5a",
   "metadata": {},
   "outputs": [
    {
     "name": "stdout",
     "output_type": "stream",
     "text": [
      "common elements list: [2, 3, 5, 9, 2, 3]\n"
     ]
    }
   ],
   "source": [
    "#Create a program to print the common elements from two lists using a `for` loop.\n",
    "l1=[1,2,3,4,5,7,8,9,2,3]\n",
    "l2=[20,98,3,2,5,55,9,22]\n",
    "Common_elements=[]\n",
    "\n",
    "for i in l1:\n",
    "    if i in l2:\n",
    "        Common_elements.append(i) \n",
    "        \n",
    "print(\"common elements list:\", Common_elements)    "
   ]
  },
  {
   "cell_type": "code",
   "execution_count": 78,
   "id": "d8b47f67-15e4-4b43-ab3d-4821fafb485f",
   "metadata": {},
   "outputs": [
    {
     "name": "stdout",
     "output_type": "stream",
     "text": [
      "* \n",
      "* * \n",
      "* * * \n",
      "* * * * \n",
      "* * * * * \n"
     ]
    }
   ],
   "source": [
    "#Develop a program that prints the pattern of right-angled triangles using a `for` loop. Use ‘*’ to draw th pattern\n",
    "for i in range(5):\n",
    "    for j in range(i+1):\n",
    "        print(\"*\",end= ' ')\n",
    "    print()        "
   ]
  },
  {
   "cell_type": "code",
   "execution_count": 18,
   "id": "a51fb72c-cfee-49ea-a2cf-2fdc106d65ad",
   "metadata": {},
   "outputs": [
    {
     "name": "stdout",
     "output_type": "stream",
     "text": [
      "gcd of two numbers: 8\n"
     ]
    }
   ],
   "source": [
    "#Write a pumrogram to find the greatest common divisor (GCD) of two numbers using a `for` loop.\n",
    "a=40\n",
    "b=32\n",
    "if a>b:\n",
    "    smaller =b\n",
    "else:\n",
    "    smaller=a\n",
    "for i in range(1,smaller+1):\n",
    "    if(a%i==0)and (b%i==0):\n",
    "        gcd=i\n",
    "print(\"gcd of two numbers:\", gcd)        "
   ]
  },
  {
   "cell_type": "code",
   "execution_count": 1,
   "id": "a7ed2330-4abc-4a0b-94bf-1b67acd6ee43",
   "metadata": {},
   "outputs": [
    {
     "name": "stdout",
     "output_type": "stream",
     "text": [
      "Number: 123, Digit Sum: 6\n",
      "Number: 456, Digit Sum: 15\n",
      "Number: 789, Digit Sum: 24\n",
      "Number: 12, Digit Sum: 3\n",
      "Number: 34, Digit Sum: 7\n"
     ]
    }
   ],
   "source": [
    "                                        '''advance level'''\n",
    "\n",
    "#Create a program that calculates the sum of the digits of numbers in a list using a list comprehension.\n",
    "def digit_sum(number):\n",
    "    return sum(int(digit) for digit in str(number))\n",
    "\n",
    "# List of numbers\n",
    "numbers = [123, 456, 789, 12, 34]\n",
    "\n",
    "# Calculate the sum of digits for each number using a list comprehension\n",
    "digit_sums = [digit_sum(number) for number in numbers]\n",
    "\n",
    "# Print the original numbers and their digit sums\n",
    "for i in range(len(numbers)):\n",
    "    print(f\"Number: {numbers[i]}, Digit Sum: {digit_sums[i]}\")"
   ]
  },
  {
   "cell_type": "code",
   "execution_count": 19,
   "id": "da573cd9-d127-40e0-b2d4-daa195a92284",
   "metadata": {},
   "outputs": [
    {
     "name": "stdout",
     "output_type": "stream",
     "text": [
      "[2, 3, 5, 7]\n"
     ]
    }
   ],
   "source": [
    "#Write a program to find the prime factors of a given number using a `for` loop and list comprehension.\n",
    "def prime_factors(n):\n",
    "    factors = []\n",
    "    for i in range(2, n+1):\n",
    "        while n % i == 0:\n",
    "            factors.append(i)\n",
    "            n //= i\n",
    "    return factors\n",
    "\n",
    "n = 12600\n",
    "factors = prime_factors(n)\n",
    "unique_factors = list(set(factors))\n",
    "prime_factors = [i for i in unique_factors if all(i % j != 0 for j in range(2, i))]\n",
    "print(prime_factors)\n"
   ]
  },
  {
   "cell_type": "code",
   "execution_count": 142,
   "id": "609dce5d-9935-48f1-8b3f-d9a039bd1064",
   "metadata": {},
   "outputs": [
    {
     "name": "stdout",
     "output_type": "stream",
     "text": [
      "new list containig unique elemets : ['@', '#', '*', '%', '&']\n"
     ]
    }
   ],
   "source": [
    "#Develop a program that extracts unique elements from a list and stores them in a new list using a list comprehension.\n",
    "list=[1,2,4,5,'@','#','*','%','&']\n",
    "special_characters=['@','#','*','$','&','%']\n",
    "a=[x for x in list if x in special_characters]\n",
    "print(\"new list containig unique elemets :\", a)"
   ]
  },
  {
   "cell_type": "code",
   "execution_count": 23,
   "id": "d9bed4e7-1274-4434-9c2d-dc66d4fc055d",
   "metadata": {},
   "outputs": [
    {
     "name": "stdin",
     "output_type": "stream",
     "text": [
      "enter the limit: 100\n"
     ]
    },
    {
     "name": "stdout",
     "output_type": "stream",
     "text": [
      "the palindrome number for given limit : [1, 2, 3, 4, 5, 6, 7, 8, 9, 11, 22, 33, 44, 55, 66, 77, 88, 99]\n"
     ]
    }
   ],
   "source": [
    "#Create a program that generates a list of all palindromic numbers up to a specified limit using a list comprehension.\n",
    "limit=int(input(\"enter the limit:\"))\n",
    "palindromes=[x for x in range(1,limit+1) if str(x)==str(x)[::-1]]\n",
    "print(\"the palindrome number for given limit :\",palindromes)"
   ]
  },
  {
   "cell_type": "code",
   "execution_count": 15,
   "id": "7a9a4236-3658-482b-b06e-b033817be95b",
   "metadata": {},
   "outputs": [
    {
     "name": "stdout",
     "output_type": "stream",
     "text": [
      "flattend list [1, 2, 6, 5, 8, 4]\n"
     ]
    }
   ],
   "source": [
    "#Write a program to flatten a nested list using list comprehension.\n",
    "a=[[1,2],[6,5],[8,4]]\n",
    "flattened_list = [x for sublist in a for x in sublist]\n",
    "print(\"flattend list\",flattened_list)"
   ]
  },
  {
   "cell_type": "code",
   "execution_count": 107,
   "id": "15b89ada-594a-4e27-942b-71e0fdb27a5d",
   "metadata": {},
   "outputs": [
    {
     "name": "stdout",
     "output_type": "stream",
     "text": [
      "sum of even numbers : 360\n",
      "sum of odd numbers : 197\n"
     ]
    }
   ],
   "source": [
    "#Develop a program that computes the sum of even and odd numbers in a list separately using list comprehension\n",
    "list=[10,20,60,80,90,100,55,65,77]\n",
    "a=[x for x in list if x%2==0]\n",
    "b=[x for x in list if x%2!=0]\n",
    "sumofevennumbers=0\n",
    "sumofoddnumbers=0\n",
    "for i in a:\n",
    "    sumofevennumbers+=i\n",
    "print(\"sum of even numbers :\", sumofevennumbers)\n",
    "for i in b:\n",
    "    sumofoddnumbers+=i\n",
    "print(\"sum of odd numbers :\", sumofoddnumbers)    "
   ]
  },
  {
   "cell_type": "code",
   "execution_count": 112,
   "id": "d45df9e5-b1da-4e70-b51a-29683cf2c0a4",
   "metadata": {},
   "outputs": [
    {
     "name": "stdout",
     "output_type": "stream",
     "text": [
      "the list of squares of odd numbers between 1 and 10 : [1, 9, 25, 49, 81]\n"
     ]
    }
   ],
   "source": [
    "#Create a program that generates a list of squares of odd numbers between 1 and 10 using list comprehension\n",
    "list=[1,2,3,4,5,6,7,8,9,10]\n",
    "a=[x*x for x in list if x%2!=0]\n",
    "print(\"the list of squares of odd numbers between 1 and 10 :\",a)"
   ]
  },
  {
   "cell_type": "code",
   "execution_count": 24,
   "id": "0aa99cf7-cac0-406c-9c0e-83911a4a673a",
   "metadata": {},
   "outputs": [
    {
     "name": "stdout",
     "output_type": "stream",
     "text": [
      "{'a': 1, 'b': 2, 'c': 3}\n"
     ]
    }
   ],
   "source": [
    "#Write a program that combines two lists into a dictionary using list comprehension\n",
    "keys = ['a', 'b', 'c']\n",
    "values = [1, 2, 3]\n",
    "dictionary = {keys[i]: values[i] for i in range(len(keys))}\n",
    "print(dictionary)"
   ]
  },
  {
   "cell_type": "code",
   "execution_count": 122,
   "id": "9ea0b93a-fe47-4909-9755-61162eab8216",
   "metadata": {},
   "outputs": [
    {
     "name": "stdin",
     "output_type": "stream",
     "text": [
      "enter the string: umaiza\n"
     ]
    },
    {
     "name": "stdout",
     "output_type": "stream",
     "text": [
      "list storing extracted vowels: ['u', 'a', 'i', 'a']\n"
     ]
    }
   ],
   "source": [
    "#Develop a program that extracts the vowels from a string and stores them in a list using list comprehension\n",
    "string=str(input(\"enter the string:\"))\n",
    "vowels=['a','e','i','o','u']\n",
    "a=[x for x in string if x in vowels]\n",
    "print(\"list storing extracted vowels:\",a)"
   ]
  },
  {
   "cell_type": "code",
   "execution_count": 137,
   "id": "a1873ecc-2b47-4151-bc0d-c493783dc25f",
   "metadata": {},
   "outputs": [
    {
     "name": "stdout",
     "output_type": "stream",
     "text": [
      "string after removing non-numeric characters: ['123', '456', '789']\n"
     ]
    }
   ],
   "source": [
    "#Create a program that removes all non-numeric characters from a list of strings using list comprehension.\n",
    "string_list=['ubed123', 'umaira456','umaiza789']\n",
    "numeric_strings = [''.join(filter(str.isdigit, string)) for string in string_list]\n",
    "print(\"string after removing non-numeric characters:\",numeric_strings)"
   ]
  },
  {
   "cell_type": "code",
   "execution_count": 14,
   "id": "bb717047-3a18-42b8-ae43-a962d783f26d",
   "metadata": {},
   "outputs": [
    {
     "name": "stdin",
     "output_type": "stream",
     "text": [
      "Enter the limit for generating prime numbers:  50\n"
     ]
    },
    {
     "name": "stdout",
     "output_type": "stream",
     "text": [
      "Prime Numbers:\n",
      "[2, 3, 5, 7, 11, 13, 17, 19, 23, 29, 31, 37, 41, 43, 47]\n"
     ]
    }
   ],
   "source": [
    "                                                         '''Challenge Level'''\n",
    "#Write a program to generate a list of prime numbers using the Sieve of Eratosthenes algorithm and list comprehension.\n",
    "def sieve_of_eratosthenes(limit):\n",
    "    sieve = [True] * (limit + 1)\n",
    "    sieve[0] = sieve[1] = False\n",
    "    \n",
    "    for current in range(2, int(limit**0.5) + 1):\n",
    "        if sieve[current]:\n",
    "            for multiple in range(current*current, limit + 1, current):\n",
    "                sieve[multiple] = False\n",
    "    \n",
    "    primes = [num for num in range(2, limit + 1) if sieve[num]]\n",
    "    return primes\n",
    "\n",
    "limit = int(input(\"Enter the limit for generating prime numbers: \"))\n",
    "prime_numbers = sieve_of_eratosthenes(limit)\n",
    "\n",
    "print(\"Prime Numbers:\")\n",
    "print(prime_numbers)\n"
   ]
  },
  {
   "cell_type": "code",
   "execution_count": 13,
   "id": "658544fd-986c-4c77-9fc1-736a6d0540dc",
   "metadata": {},
   "outputs": [
    {
     "name": "stdin",
     "output_type": "stream",
     "text": [
      "Enter the limit for generating Pythagorean triplets:  10\n"
     ]
    },
    {
     "name": "stdout",
     "output_type": "stream",
     "text": [
      "Pythagorean Triplets:\n",
      "(3, 4, 5)\n",
      "(6, 8, 10)\n"
     ]
    }
   ],
   "source": [
    "#Create a program that generates a list of all Pythagorean triplets up to a specified limit using list comprehension.\n",
    "limit = int(input(\"Enter the limit for generating Pythagorean triplets: \"))\n",
    "\n",
    "# Generate a list of Pythagorean triplets using list comprehension\n",
    "triplets = [(a, b, c) for c in range(1, limit + 1) for b in range(1, c) for a in range(1, b) if a**2 + b**2 == c**2]\n",
    "\n",
    "# Print the Pythagorean triplets\n",
    "print(\"Pythagorean Triplets:\")\n",
    "for triplet in triplets:\n",
    "    print(triplet)"
   ]
  },
  {
   "cell_type": "code",
   "execution_count": 12,
   "id": "c213c748-ec0d-4260-96f9-228eec7b0c23",
   "metadata": {},
   "outputs": [
    {
     "name": "stdout",
     "output_type": "stream",
     "text": [
      "[('a', 1), ('a', 2), ('a', 3), ('b', 1), ('b', 2), ('b', 3), ('c', 1), ('c', 2), ('c', 3)]\n"
     ]
    }
   ],
   "source": [
    "#Develop a program that generates a list of all possible combinations of two lists using list comprehension.\n",
    "l1=['a','b','c']\n",
    "l2=[1,2,3]\n",
    "combination=[(x,y) for x in l1 for y in l2]\n",
    "print(combination)"
   ]
  },
  {
   "cell_type": "code",
   "execution_count": 11,
   "id": "18cd1047-977d-404e-9e93-08c667958d86",
   "metadata": {},
   "outputs": [
    {
     "name": "stdin",
     "output_type": "stream",
     "text": [
      "Enter a list of numbers separated by spaces:  1 2 3 4\n"
     ]
    },
    {
     "name": "stdout",
     "output_type": "stream",
     "text": [
      "Mean: 2.5\n",
      "Median: 2.5\n",
      "Mode: [1, 2, 3, 4]\n"
     ]
    }
   ],
   "source": [
    "#Write a program that calculates the mean, median, and mode of a list of numbers using list comprehension\n",
    "from collections import Counter\n",
    "\n",
    "# Function to calculate the mean of a list of numbers\n",
    "def calculate_mean(numbers):\n",
    "    return sum(numbers) / len(numbers)\n",
    "\n",
    "# Function to calculate the median of a list of numbers\n",
    "def calculate_median(numbers):\n",
    "    sorted_numbers = sorted(numbers)\n",
    "    n = len(sorted_numbers)\n",
    "    if n % 2 == 0:\n",
    "        middle1 = sorted_numbers[n // 2 - 1]\n",
    "        middle2 = sorted_numbers[n // 2]\n",
    "        return (middle1 + middle2) / 2\n",
    "    else:\n",
    "        return sorted_numbers[n // 2]\n",
    "\n",
    "# Function to calculate the mode of a list of numbers\n",
    "def calculate_mode(numbers):\n",
    "    counts = Counter(numbers)\n",
    "    mode_counts = max(counts.values())\n",
    "    mode = [number for number, count in counts.items() if count == mode_counts]\n",
    "    return mode\n",
    "\n",
    "# Input list of numbers\n",
    "numbers = [int(x) for x in input(\"Enter a list of numbers separated by spaces: \").split()]\n",
    "\n",
    "# Calculate mean, median, and mode using list comprehension\n",
    "mean = calculate_mean(numbers)\n",
    "median = calculate_median(numbers)\n",
    "mode = calculate_mode(numbers)\n",
    "\n",
    "# Print the results\n",
    "print(f\"Mean: {mean}\")\n",
    "print(f\"Median: {median}\")\n",
    "print(f\"Mode: {mode}\")\n"
   ]
  },
  {
   "cell_type": "code",
   "execution_count": 9,
   "id": "2c2c9558-a1ff-40a4-874f-a662951eeb7a",
   "metadata": {},
   "outputs": [
    {
     "name": "stdin",
     "output_type": "stream",
     "text": [
      "Enter the number of rows for Pascal's triangle:  6\n"
     ]
    },
    {
     "name": "stdout",
     "output_type": "stream",
     "text": [
      "      1      \n",
      "     1 1     \n",
      "    1 2 1    \n",
      "   1 3 3 1   \n",
      "  1 4 6 4 1  \n",
      "1 5 10 10 5 1\n"
     ]
    }
   ],
   "source": [
    "#Create a program that generates Pascal's triangle up to a specified number of rows using list  comprehension.\n",
    "def generate_pascals_triangle(num_rows):\n",
    "    if num_rows <= 0:\n",
    "        return []\n",
    "\n",
    "    triangle = [[1]]\n",
    "\n",
    "    for _ in range(1, num_rows):\n",
    "        prev_row = triangle[-1]\n",
    "        new_row = [1] + [prev_row[i - 1] + prev_row[i] for i in range(1, len(prev_row))] + [1]\n",
    "        triangle.append(new_row)\n",
    "\n",
    "    return triangle\n",
    "\n",
    "def print_pascals_triangle(triangle):\n",
    "    max_width = len(' '.join(map(str, triangle[-1])))\n",
    "    for row in triangle:\n",
    "        row_str = ' '.join(map(str, row))\n",
    "        print(row_str.center(max_width))\n",
    "\n",
    "num_rows = int(input(\"Enter the number of rows for Pascal's triangle: \"))\n",
    "pascals_triangle = generate_pascals_triangle(num_rows)\n",
    "print_pascals_triangle(pascals_triangle)\n"
   ]
  },
  {
   "cell_type": "code",
   "execution_count": 7,
   "id": "3a33f9c2-0aa7-4868-8bc8-d7130f426a74",
   "metadata": {},
   "outputs": [
    {
     "name": "stdout",
     "output_type": "stream",
     "text": [
      "Factorial of 1 = 1, Sum of digits = 1\n",
      "Factorial of 2 = 2, Sum of digits = 2\n",
      "Factorial of 3 = 6, Sum of digits = 6\n",
      "Factorial of 4 = 24, Sum of digits = 6\n",
      "Factorial of 5 = 120, Sum of digits = 3\n"
     ]
    }
   ],
   "source": [
    "#Develop a program that calculates the sum of the digits of a factorial of numbers from 1 to 5 using list comprehension.\n",
    "import math\n",
    "\n",
    "# Define a function to calculate the sum of digits of a number\n",
    "def sum_of_digits(number):\n",
    "    return sum(int(digit) for digit in str(number))\n",
    "\n",
    "# Calculate the factorial and sum of digits for numbers from 1 to 5\n",
    "results = [(n, sum_of_digits(math.factorial(n))) for n in range(1, 6)]\n",
    "\n",
    "# Print the results\n",
    "for n, digit_sum in results:\n",
    "    print(f\"Factorial of {n} = {math.factorial(n)}, Sum of digits = {digit_sum}\")\n"
   ]
  },
  {
   "cell_type": "code",
   "execution_count": 11,
   "id": "73787cd6-5dae-43ef-990d-9bc32694d365",
   "metadata": {},
   "outputs": [
    {
     "name": "stdout",
     "output_type": "stream",
     "text": [
      "['Umaira', 'Umaiza']\n"
     ]
    }
   ],
   "source": [
    "#Create a program that filters a list of strings to include only those with more than three vowels using list comprehension.\n",
    "u=['Umaira','Umaiza','Ubedur']\n",
    "vowels=['a','e','i','o','u','A','E','I','O','U'] \n",
    "y=[x for x in u if sum(1 for char in x if char in vowels)>3]\n",
    "print(y)"
   ]
  },
  {
   "cell_type": "code",
   "execution_count": 9,
   "id": "234501e8-328f-4341-b3cd-f87d69fc7de8",
   "metadata": {},
   "outputs": [
    {
     "name": "stdout",
     "output_type": "stream",
     "text": [
      "Number: 1, Digit Sum: 1\n",
      "Number: 2, Digit Sum: 2\n",
      "Number: 3, Digit Sum: 3\n",
      "Number: 4, Digit Sum: 4\n",
      "Number: 5, Digit Sum: 5\n",
      "Number: 6, Digit Sum: 6\n",
      "Number: 7, Digit Sum: 7\n",
      "Number: 8, Digit Sum: 8\n",
      "Number: 9, Digit Sum: 9\n",
      "Number: 10, Digit Sum: 1\n",
      "Number: 11, Digit Sum: 2\n",
      "Number: 12, Digit Sum: 3\n",
      "Number: 13, Digit Sum: 4\n",
      "Number: 14, Digit Sum: 5\n",
      "Number: 15, Digit Sum: 6\n",
      "Number: 16, Digit Sum: 7\n",
      "Number: 17, Digit Sum: 8\n",
      "Number: 18, Digit Sum: 9\n",
      "Number: 19, Digit Sum: 10\n",
      "Number: 20, Digit Sum: 2\n",
      "Number: 21, Digit Sum: 3\n",
      "Number: 22, Digit Sum: 4\n",
      "Number: 23, Digit Sum: 5\n",
      "Number: 24, Digit Sum: 6\n",
      "Number: 25, Digit Sum: 7\n",
      "Number: 26, Digit Sum: 8\n",
      "Number: 27, Digit Sum: 9\n",
      "Number: 28, Digit Sum: 10\n",
      "Number: 29, Digit Sum: 11\n",
      "Number: 30, Digit Sum: 3\n",
      "Number: 31, Digit Sum: 4\n",
      "Number: 32, Digit Sum: 5\n",
      "Number: 33, Digit Sum: 6\n",
      "Number: 34, Digit Sum: 7\n",
      "Number: 35, Digit Sum: 8\n",
      "Number: 36, Digit Sum: 9\n",
      "Number: 37, Digit Sum: 10\n",
      "Number: 38, Digit Sum: 11\n",
      "Number: 39, Digit Sum: 12\n",
      "Number: 40, Digit Sum: 4\n",
      "Number: 41, Digit Sum: 5\n",
      "Number: 42, Digit Sum: 6\n",
      "Number: 43, Digit Sum: 7\n",
      "Number: 44, Digit Sum: 8\n",
      "Number: 45, Digit Sum: 9\n",
      "Number: 46, Digit Sum: 10\n",
      "Number: 47, Digit Sum: 11\n",
      "Number: 48, Digit Sum: 12\n",
      "Number: 49, Digit Sum: 13\n",
      "Number: 50, Digit Sum: 5\n",
      "Number: 51, Digit Sum: 6\n",
      "Number: 52, Digit Sum: 7\n",
      "Number: 53, Digit Sum: 8\n",
      "Number: 54, Digit Sum: 9\n",
      "Number: 55, Digit Sum: 10\n",
      "Number: 56, Digit Sum: 11\n",
      "Number: 57, Digit Sum: 12\n",
      "Number: 58, Digit Sum: 13\n",
      "Number: 59, Digit Sum: 14\n",
      "Number: 60, Digit Sum: 6\n",
      "Number: 61, Digit Sum: 7\n",
      "Number: 62, Digit Sum: 8\n",
      "Number: 63, Digit Sum: 9\n",
      "Number: 64, Digit Sum: 10\n",
      "Number: 65, Digit Sum: 11\n",
      "Number: 66, Digit Sum: 12\n",
      "Number: 67, Digit Sum: 13\n",
      "Number: 68, Digit Sum: 14\n",
      "Number: 69, Digit Sum: 15\n",
      "Number: 70, Digit Sum: 7\n",
      "Number: 71, Digit Sum: 8\n",
      "Number: 72, Digit Sum: 9\n",
      "Number: 73, Digit Sum: 10\n",
      "Number: 74, Digit Sum: 11\n",
      "Number: 75, Digit Sum: 12\n",
      "Number: 76, Digit Sum: 13\n",
      "Number: 77, Digit Sum: 14\n",
      "Number: 78, Digit Sum: 15\n",
      "Number: 79, Digit Sum: 16\n",
      "Number: 80, Digit Sum: 8\n",
      "Number: 81, Digit Sum: 9\n",
      "Number: 82, Digit Sum: 10\n",
      "Number: 83, Digit Sum: 11\n",
      "Number: 84, Digit Sum: 12\n",
      "Number: 85, Digit Sum: 13\n",
      "Number: 86, Digit Sum: 14\n",
      "Number: 87, Digit Sum: 15\n",
      "Number: 88, Digit Sum: 16\n",
      "Number: 89, Digit Sum: 17\n",
      "Number: 90, Digit Sum: 9\n",
      "Number: 91, Digit Sum: 10\n",
      "Number: 92, Digit Sum: 11\n",
      "Number: 93, Digit Sum: 12\n",
      "Number: 94, Digit Sum: 13\n",
      "Number: 95, Digit Sum: 14\n",
      "Number: 96, Digit Sum: 15\n",
      "Number: 97, Digit Sum: 16\n",
      "Number: 98, Digit Sum: 17\n",
      "Number: 99, Digit Sum: 18\n",
      "Number: 100, Digit Sum: 1\n",
      "Number: 101, Digit Sum: 2\n",
      "Number: 102, Digit Sum: 3\n",
      "Number: 103, Digit Sum: 4\n",
      "Number: 104, Digit Sum: 5\n",
      "Number: 105, Digit Sum: 6\n",
      "Number: 106, Digit Sum: 7\n",
      "Number: 107, Digit Sum: 8\n",
      "Number: 108, Digit Sum: 9\n",
      "Number: 109, Digit Sum: 10\n",
      "Number: 110, Digit Sum: 2\n",
      "Number: 111, Digit Sum: 3\n",
      "Number: 112, Digit Sum: 4\n",
      "Number: 113, Digit Sum: 5\n",
      "Number: 114, Digit Sum: 6\n",
      "Number: 115, Digit Sum: 7\n",
      "Number: 116, Digit Sum: 8\n",
      "Number: 117, Digit Sum: 9\n",
      "Number: 118, Digit Sum: 10\n",
      "Number: 119, Digit Sum: 11\n",
      "Number: 120, Digit Sum: 3\n",
      "Number: 121, Digit Sum: 4\n",
      "Number: 122, Digit Sum: 5\n",
      "Number: 123, Digit Sum: 6\n",
      "Number: 124, Digit Sum: 7\n",
      "Number: 125, Digit Sum: 8\n",
      "Number: 126, Digit Sum: 9\n",
      "Number: 127, Digit Sum: 10\n",
      "Number: 128, Digit Sum: 11\n",
      "Number: 129, Digit Sum: 12\n",
      "Number: 130, Digit Sum: 4\n",
      "Number: 131, Digit Sum: 5\n",
      "Number: 132, Digit Sum: 6\n",
      "Number: 133, Digit Sum: 7\n",
      "Number: 134, Digit Sum: 8\n",
      "Number: 135, Digit Sum: 9\n",
      "Number: 136, Digit Sum: 10\n",
      "Number: 137, Digit Sum: 11\n",
      "Number: 138, Digit Sum: 12\n",
      "Number: 139, Digit Sum: 13\n",
      "Number: 140, Digit Sum: 5\n",
      "Number: 141, Digit Sum: 6\n",
      "Number: 142, Digit Sum: 7\n",
      "Number: 143, Digit Sum: 8\n",
      "Number: 144, Digit Sum: 9\n",
      "Number: 145, Digit Sum: 10\n",
      "Number: 146, Digit Sum: 11\n",
      "Number: 147, Digit Sum: 12\n",
      "Number: 148, Digit Sum: 13\n",
      "Number: 149, Digit Sum: 14\n",
      "Number: 150, Digit Sum: 6\n",
      "Number: 151, Digit Sum: 7\n",
      "Number: 152, Digit Sum: 8\n",
      "Number: 153, Digit Sum: 9\n",
      "Number: 154, Digit Sum: 10\n",
      "Number: 155, Digit Sum: 11\n",
      "Number: 156, Digit Sum: 12\n",
      "Number: 157, Digit Sum: 13\n",
      "Number: 158, Digit Sum: 14\n",
      "Number: 159, Digit Sum: 15\n",
      "Number: 160, Digit Sum: 7\n",
      "Number: 161, Digit Sum: 8\n",
      "Number: 162, Digit Sum: 9\n",
      "Number: 163, Digit Sum: 10\n",
      "Number: 164, Digit Sum: 11\n",
      "Number: 165, Digit Sum: 12\n",
      "Number: 166, Digit Sum: 13\n",
      "Number: 167, Digit Sum: 14\n",
      "Number: 168, Digit Sum: 15\n",
      "Number: 169, Digit Sum: 16\n",
      "Number: 170, Digit Sum: 8\n",
      "Number: 171, Digit Sum: 9\n",
      "Number: 172, Digit Sum: 10\n",
      "Number: 173, Digit Sum: 11\n",
      "Number: 174, Digit Sum: 12\n",
      "Number: 175, Digit Sum: 13\n",
      "Number: 176, Digit Sum: 14\n",
      "Number: 177, Digit Sum: 15\n",
      "Number: 178, Digit Sum: 16\n",
      "Number: 179, Digit Sum: 17\n",
      "Number: 180, Digit Sum: 9\n",
      "Number: 181, Digit Sum: 10\n",
      "Number: 182, Digit Sum: 11\n",
      "Number: 183, Digit Sum: 12\n",
      "Number: 184, Digit Sum: 13\n",
      "Number: 185, Digit Sum: 14\n",
      "Number: 186, Digit Sum: 15\n",
      "Number: 187, Digit Sum: 16\n",
      "Number: 188, Digit Sum: 17\n",
      "Number: 189, Digit Sum: 18\n",
      "Number: 190, Digit Sum: 10\n",
      "Number: 191, Digit Sum: 11\n",
      "Number: 192, Digit Sum: 12\n",
      "Number: 193, Digit Sum: 13\n",
      "Number: 194, Digit Sum: 14\n",
      "Number: 195, Digit Sum: 15\n",
      "Number: 196, Digit Sum: 16\n",
      "Number: 197, Digit Sum: 17\n",
      "Number: 198, Digit Sum: 18\n",
      "Number: 199, Digit Sum: 19\n",
      "Number: 200, Digit Sum: 2\n",
      "Number: 201, Digit Sum: 3\n",
      "Number: 202, Digit Sum: 4\n",
      "Number: 203, Digit Sum: 5\n",
      "Number: 204, Digit Sum: 6\n",
      "Number: 205, Digit Sum: 7\n",
      "Number: 206, Digit Sum: 8\n",
      "Number: 207, Digit Sum: 9\n",
      "Number: 208, Digit Sum: 10\n",
      "Number: 209, Digit Sum: 11\n",
      "Number: 210, Digit Sum: 3\n",
      "Number: 211, Digit Sum: 4\n",
      "Number: 212, Digit Sum: 5\n",
      "Number: 213, Digit Sum: 6\n",
      "Number: 214, Digit Sum: 7\n",
      "Number: 215, Digit Sum: 8\n",
      "Number: 216, Digit Sum: 9\n",
      "Number: 217, Digit Sum: 10\n",
      "Number: 218, Digit Sum: 11\n",
      "Number: 219, Digit Sum: 12\n",
      "Number: 220, Digit Sum: 4\n",
      "Number: 221, Digit Sum: 5\n",
      "Number: 222, Digit Sum: 6\n",
      "Number: 223, Digit Sum: 7\n",
      "Number: 224, Digit Sum: 8\n",
      "Number: 225, Digit Sum: 9\n",
      "Number: 226, Digit Sum: 10\n",
      "Number: 227, Digit Sum: 11\n",
      "Number: 228, Digit Sum: 12\n",
      "Number: 229, Digit Sum: 13\n",
      "Number: 230, Digit Sum: 5\n",
      "Number: 231, Digit Sum: 6\n",
      "Number: 232, Digit Sum: 7\n",
      "Number: 233, Digit Sum: 8\n",
      "Number: 234, Digit Sum: 9\n",
      "Number: 235, Digit Sum: 10\n",
      "Number: 236, Digit Sum: 11\n",
      "Number: 237, Digit Sum: 12\n",
      "Number: 238, Digit Sum: 13\n",
      "Number: 239, Digit Sum: 14\n",
      "Number: 240, Digit Sum: 6\n",
      "Number: 241, Digit Sum: 7\n",
      "Number: 242, Digit Sum: 8\n",
      "Number: 243, Digit Sum: 9\n",
      "Number: 244, Digit Sum: 10\n",
      "Number: 245, Digit Sum: 11\n",
      "Number: 246, Digit Sum: 12\n",
      "Number: 247, Digit Sum: 13\n",
      "Number: 248, Digit Sum: 14\n",
      "Number: 249, Digit Sum: 15\n",
      "Number: 250, Digit Sum: 7\n",
      "Number: 251, Digit Sum: 8\n",
      "Number: 252, Digit Sum: 9\n",
      "Number: 253, Digit Sum: 10\n",
      "Number: 254, Digit Sum: 11\n",
      "Number: 255, Digit Sum: 12\n",
      "Number: 256, Digit Sum: 13\n",
      "Number: 257, Digit Sum: 14\n",
      "Number: 258, Digit Sum: 15\n",
      "Number: 259, Digit Sum: 16\n",
      "Number: 260, Digit Sum: 8\n",
      "Number: 261, Digit Sum: 9\n",
      "Number: 262, Digit Sum: 10\n",
      "Number: 263, Digit Sum: 11\n",
      "Number: 264, Digit Sum: 12\n",
      "Number: 265, Digit Sum: 13\n",
      "Number: 266, Digit Sum: 14\n",
      "Number: 267, Digit Sum: 15\n",
      "Number: 268, Digit Sum: 16\n",
      "Number: 269, Digit Sum: 17\n",
      "Number: 270, Digit Sum: 9\n",
      "Number: 271, Digit Sum: 10\n",
      "Number: 272, Digit Sum: 11\n",
      "Number: 273, Digit Sum: 12\n",
      "Number: 274, Digit Sum: 13\n",
      "Number: 275, Digit Sum: 14\n",
      "Number: 276, Digit Sum: 15\n",
      "Number: 277, Digit Sum: 16\n",
      "Number: 278, Digit Sum: 17\n",
      "Number: 279, Digit Sum: 18\n",
      "Number: 280, Digit Sum: 10\n",
      "Number: 281, Digit Sum: 11\n",
      "Number: 282, Digit Sum: 12\n",
      "Number: 283, Digit Sum: 13\n",
      "Number: 284, Digit Sum: 14\n",
      "Number: 285, Digit Sum: 15\n",
      "Number: 286, Digit Sum: 16\n",
      "Number: 287, Digit Sum: 17\n",
      "Number: 288, Digit Sum: 18\n",
      "Number: 289, Digit Sum: 19\n",
      "Number: 290, Digit Sum: 11\n",
      "Number: 291, Digit Sum: 12\n",
      "Number: 292, Digit Sum: 13\n",
      "Number: 293, Digit Sum: 14\n",
      "Number: 294, Digit Sum: 15\n",
      "Number: 295, Digit Sum: 16\n",
      "Number: 296, Digit Sum: 17\n",
      "Number: 297, Digit Sum: 18\n",
      "Number: 298, Digit Sum: 19\n",
      "Number: 299, Digit Sum: 20\n",
      "Number: 300, Digit Sum: 3\n",
      "Number: 301, Digit Sum: 4\n",
      "Number: 302, Digit Sum: 5\n",
      "Number: 303, Digit Sum: 6\n",
      "Number: 304, Digit Sum: 7\n",
      "Number: 305, Digit Sum: 8\n",
      "Number: 306, Digit Sum: 9\n",
      "Number: 307, Digit Sum: 10\n",
      "Number: 308, Digit Sum: 11\n",
      "Number: 309, Digit Sum: 12\n",
      "Number: 310, Digit Sum: 4\n",
      "Number: 311, Digit Sum: 5\n",
      "Number: 312, Digit Sum: 6\n",
      "Number: 313, Digit Sum: 7\n",
      "Number: 314, Digit Sum: 8\n",
      "Number: 315, Digit Sum: 9\n",
      "Number: 316, Digit Sum: 10\n",
      "Number: 317, Digit Sum: 11\n",
      "Number: 318, Digit Sum: 12\n",
      "Number: 319, Digit Sum: 13\n",
      "Number: 320, Digit Sum: 5\n",
      "Number: 321, Digit Sum: 6\n",
      "Number: 322, Digit Sum: 7\n",
      "Number: 323, Digit Sum: 8\n",
      "Number: 324, Digit Sum: 9\n",
      "Number: 325, Digit Sum: 10\n",
      "Number: 326, Digit Sum: 11\n",
      "Number: 327, Digit Sum: 12\n",
      "Number: 328, Digit Sum: 13\n",
      "Number: 329, Digit Sum: 14\n",
      "Number: 330, Digit Sum: 6\n",
      "Number: 331, Digit Sum: 7\n",
      "Number: 332, Digit Sum: 8\n",
      "Number: 333, Digit Sum: 9\n",
      "Number: 334, Digit Sum: 10\n",
      "Number: 335, Digit Sum: 11\n",
      "Number: 336, Digit Sum: 12\n",
      "Number: 337, Digit Sum: 13\n",
      "Number: 338, Digit Sum: 14\n",
      "Number: 339, Digit Sum: 15\n",
      "Number: 340, Digit Sum: 7\n",
      "Number: 341, Digit Sum: 8\n",
      "Number: 342, Digit Sum: 9\n",
      "Number: 343, Digit Sum: 10\n",
      "Number: 344, Digit Sum: 11\n",
      "Number: 345, Digit Sum: 12\n",
      "Number: 346, Digit Sum: 13\n",
      "Number: 347, Digit Sum: 14\n",
      "Number: 348, Digit Sum: 15\n",
      "Number: 349, Digit Sum: 16\n",
      "Number: 350, Digit Sum: 8\n",
      "Number: 351, Digit Sum: 9\n",
      "Number: 352, Digit Sum: 10\n",
      "Number: 353, Digit Sum: 11\n",
      "Number: 354, Digit Sum: 12\n",
      "Number: 355, Digit Sum: 13\n",
      "Number: 356, Digit Sum: 14\n",
      "Number: 357, Digit Sum: 15\n",
      "Number: 358, Digit Sum: 16\n",
      "Number: 359, Digit Sum: 17\n",
      "Number: 360, Digit Sum: 9\n",
      "Number: 361, Digit Sum: 10\n",
      "Number: 362, Digit Sum: 11\n",
      "Number: 363, Digit Sum: 12\n",
      "Number: 364, Digit Sum: 13\n",
      "Number: 365, Digit Sum: 14\n",
      "Number: 366, Digit Sum: 15\n",
      "Number: 367, Digit Sum: 16\n",
      "Number: 368, Digit Sum: 17\n",
      "Number: 369, Digit Sum: 18\n",
      "Number: 370, Digit Sum: 10\n",
      "Number: 371, Digit Sum: 11\n",
      "Number: 372, Digit Sum: 12\n",
      "Number: 373, Digit Sum: 13\n",
      "Number: 374, Digit Sum: 14\n",
      "Number: 375, Digit Sum: 15\n",
      "Number: 376, Digit Sum: 16\n",
      "Number: 377, Digit Sum: 17\n",
      "Number: 378, Digit Sum: 18\n",
      "Number: 379, Digit Sum: 19\n",
      "Number: 380, Digit Sum: 11\n",
      "Number: 381, Digit Sum: 12\n",
      "Number: 382, Digit Sum: 13\n",
      "Number: 383, Digit Sum: 14\n",
      "Number: 384, Digit Sum: 15\n",
      "Number: 385, Digit Sum: 16\n",
      "Number: 386, Digit Sum: 17\n",
      "Number: 387, Digit Sum: 18\n",
      "Number: 388, Digit Sum: 19\n",
      "Number: 389, Digit Sum: 20\n",
      "Number: 390, Digit Sum: 12\n",
      "Number: 391, Digit Sum: 13\n",
      "Number: 392, Digit Sum: 14\n",
      "Number: 393, Digit Sum: 15\n",
      "Number: 394, Digit Sum: 16\n",
      "Number: 395, Digit Sum: 17\n",
      "Number: 396, Digit Sum: 18\n",
      "Number: 397, Digit Sum: 19\n",
      "Number: 398, Digit Sum: 20\n",
      "Number: 399, Digit Sum: 21\n",
      "Number: 400, Digit Sum: 4\n",
      "Number: 401, Digit Sum: 5\n",
      "Number: 402, Digit Sum: 6\n",
      "Number: 403, Digit Sum: 7\n",
      "Number: 404, Digit Sum: 8\n",
      "Number: 405, Digit Sum: 9\n",
      "Number: 406, Digit Sum: 10\n",
      "Number: 407, Digit Sum: 11\n",
      "Number: 408, Digit Sum: 12\n",
      "Number: 409, Digit Sum: 13\n",
      "Number: 410, Digit Sum: 5\n",
      "Number: 411, Digit Sum: 6\n",
      "Number: 412, Digit Sum: 7\n",
      "Number: 413, Digit Sum: 8\n",
      "Number: 414, Digit Sum: 9\n",
      "Number: 415, Digit Sum: 10\n",
      "Number: 416, Digit Sum: 11\n",
      "Number: 417, Digit Sum: 12\n",
      "Number: 418, Digit Sum: 13\n",
      "Number: 419, Digit Sum: 14\n",
      "Number: 420, Digit Sum: 6\n",
      "Number: 421, Digit Sum: 7\n",
      "Number: 422, Digit Sum: 8\n",
      "Number: 423, Digit Sum: 9\n",
      "Number: 424, Digit Sum: 10\n",
      "Number: 425, Digit Sum: 11\n",
      "Number: 426, Digit Sum: 12\n",
      "Number: 427, Digit Sum: 13\n",
      "Number: 428, Digit Sum: 14\n",
      "Number: 429, Digit Sum: 15\n",
      "Number: 430, Digit Sum: 7\n",
      "Number: 431, Digit Sum: 8\n",
      "Number: 432, Digit Sum: 9\n",
      "Number: 433, Digit Sum: 10\n",
      "Number: 434, Digit Sum: 11\n",
      "Number: 435, Digit Sum: 12\n",
      "Number: 436, Digit Sum: 13\n",
      "Number: 437, Digit Sum: 14\n",
      "Number: 438, Digit Sum: 15\n",
      "Number: 439, Digit Sum: 16\n",
      "Number: 440, Digit Sum: 8\n",
      "Number: 441, Digit Sum: 9\n",
      "Number: 442, Digit Sum: 10\n",
      "Number: 443, Digit Sum: 11\n",
      "Number: 444, Digit Sum: 12\n",
      "Number: 445, Digit Sum: 13\n",
      "Number: 446, Digit Sum: 14\n",
      "Number: 447, Digit Sum: 15\n",
      "Number: 448, Digit Sum: 16\n",
      "Number: 449, Digit Sum: 17\n",
      "Number: 450, Digit Sum: 9\n",
      "Number: 451, Digit Sum: 10\n",
      "Number: 452, Digit Sum: 11\n",
      "Number: 453, Digit Sum: 12\n",
      "Number: 454, Digit Sum: 13\n",
      "Number: 455, Digit Sum: 14\n",
      "Number: 456, Digit Sum: 15\n",
      "Number: 457, Digit Sum: 16\n",
      "Number: 458, Digit Sum: 17\n",
      "Number: 459, Digit Sum: 18\n",
      "Number: 460, Digit Sum: 10\n",
      "Number: 461, Digit Sum: 11\n",
      "Number: 462, Digit Sum: 12\n",
      "Number: 463, Digit Sum: 13\n",
      "Number: 464, Digit Sum: 14\n",
      "Number: 465, Digit Sum: 15\n",
      "Number: 466, Digit Sum: 16\n",
      "Number: 467, Digit Sum: 17\n",
      "Number: 468, Digit Sum: 18\n",
      "Number: 469, Digit Sum: 19\n",
      "Number: 470, Digit Sum: 11\n",
      "Number: 471, Digit Sum: 12\n",
      "Number: 472, Digit Sum: 13\n",
      "Number: 473, Digit Sum: 14\n",
      "Number: 474, Digit Sum: 15\n",
      "Number: 475, Digit Sum: 16\n",
      "Number: 476, Digit Sum: 17\n",
      "Number: 477, Digit Sum: 18\n",
      "Number: 478, Digit Sum: 19\n",
      "Number: 479, Digit Sum: 20\n",
      "Number: 480, Digit Sum: 12\n",
      "Number: 481, Digit Sum: 13\n",
      "Number: 482, Digit Sum: 14\n",
      "Number: 483, Digit Sum: 15\n",
      "Number: 484, Digit Sum: 16\n",
      "Number: 485, Digit Sum: 17\n",
      "Number: 486, Digit Sum: 18\n",
      "Number: 487, Digit Sum: 19\n",
      "Number: 488, Digit Sum: 20\n",
      "Number: 489, Digit Sum: 21\n",
      "Number: 490, Digit Sum: 13\n",
      "Number: 491, Digit Sum: 14\n",
      "Number: 492, Digit Sum: 15\n",
      "Number: 493, Digit Sum: 16\n",
      "Number: 494, Digit Sum: 17\n",
      "Number: 495, Digit Sum: 18\n",
      "Number: 496, Digit Sum: 19\n",
      "Number: 497, Digit Sum: 20\n",
      "Number: 498, Digit Sum: 21\n",
      "Number: 499, Digit Sum: 22\n",
      "Number: 500, Digit Sum: 5\n",
      "Number: 501, Digit Sum: 6\n",
      "Number: 502, Digit Sum: 7\n",
      "Number: 503, Digit Sum: 8\n",
      "Number: 504, Digit Sum: 9\n",
      "Number: 505, Digit Sum: 10\n",
      "Number: 506, Digit Sum: 11\n",
      "Number: 507, Digit Sum: 12\n",
      "Number: 508, Digit Sum: 13\n",
      "Number: 509, Digit Sum: 14\n",
      "Number: 510, Digit Sum: 6\n",
      "Number: 511, Digit Sum: 7\n",
      "Number: 512, Digit Sum: 8\n",
      "Number: 513, Digit Sum: 9\n",
      "Number: 514, Digit Sum: 10\n",
      "Number: 515, Digit Sum: 11\n",
      "Number: 516, Digit Sum: 12\n",
      "Number: 517, Digit Sum: 13\n",
      "Number: 518, Digit Sum: 14\n",
      "Number: 519, Digit Sum: 15\n",
      "Number: 520, Digit Sum: 7\n",
      "Number: 521, Digit Sum: 8\n",
      "Number: 522, Digit Sum: 9\n",
      "Number: 523, Digit Sum: 10\n",
      "Number: 524, Digit Sum: 11\n",
      "Number: 525, Digit Sum: 12\n",
      "Number: 526, Digit Sum: 13\n",
      "Number: 527, Digit Sum: 14\n",
      "Number: 528, Digit Sum: 15\n",
      "Number: 529, Digit Sum: 16\n",
      "Number: 530, Digit Sum: 8\n",
      "Number: 531, Digit Sum: 9\n",
      "Number: 532, Digit Sum: 10\n",
      "Number: 533, Digit Sum: 11\n",
      "Number: 534, Digit Sum: 12\n",
      "Number: 535, Digit Sum: 13\n",
      "Number: 536, Digit Sum: 14\n",
      "Number: 537, Digit Sum: 15\n",
      "Number: 538, Digit Sum: 16\n",
      "Number: 539, Digit Sum: 17\n",
      "Number: 540, Digit Sum: 9\n",
      "Number: 541, Digit Sum: 10\n",
      "Number: 542, Digit Sum: 11\n",
      "Number: 543, Digit Sum: 12\n",
      "Number: 544, Digit Sum: 13\n",
      "Number: 545, Digit Sum: 14\n",
      "Number: 546, Digit Sum: 15\n",
      "Number: 547, Digit Sum: 16\n",
      "Number: 548, Digit Sum: 17\n",
      "Number: 549, Digit Sum: 18\n",
      "Number: 550, Digit Sum: 10\n",
      "Number: 551, Digit Sum: 11\n",
      "Number: 552, Digit Sum: 12\n",
      "Number: 553, Digit Sum: 13\n",
      "Number: 554, Digit Sum: 14\n",
      "Number: 555, Digit Sum: 15\n",
      "Number: 556, Digit Sum: 16\n",
      "Number: 557, Digit Sum: 17\n",
      "Number: 558, Digit Sum: 18\n",
      "Number: 559, Digit Sum: 19\n",
      "Number: 560, Digit Sum: 11\n",
      "Number: 561, Digit Sum: 12\n",
      "Number: 562, Digit Sum: 13\n",
      "Number: 563, Digit Sum: 14\n",
      "Number: 564, Digit Sum: 15\n",
      "Number: 565, Digit Sum: 16\n",
      "Number: 566, Digit Sum: 17\n",
      "Number: 567, Digit Sum: 18\n",
      "Number: 568, Digit Sum: 19\n",
      "Number: 569, Digit Sum: 20\n",
      "Number: 570, Digit Sum: 12\n",
      "Number: 571, Digit Sum: 13\n",
      "Number: 572, Digit Sum: 14\n",
      "Number: 573, Digit Sum: 15\n",
      "Number: 574, Digit Sum: 16\n",
      "Number: 575, Digit Sum: 17\n",
      "Number: 576, Digit Sum: 18\n",
      "Number: 577, Digit Sum: 19\n",
      "Number: 578, Digit Sum: 20\n",
      "Number: 579, Digit Sum: 21\n",
      "Number: 580, Digit Sum: 13\n",
      "Number: 581, Digit Sum: 14\n",
      "Number: 582, Digit Sum: 15\n",
      "Number: 583, Digit Sum: 16\n",
      "Number: 584, Digit Sum: 17\n",
      "Number: 585, Digit Sum: 18\n",
      "Number: 586, Digit Sum: 19\n",
      "Number: 587, Digit Sum: 20\n",
      "Number: 588, Digit Sum: 21\n",
      "Number: 589, Digit Sum: 22\n",
      "Number: 590, Digit Sum: 14\n",
      "Number: 591, Digit Sum: 15\n",
      "Number: 592, Digit Sum: 16\n",
      "Number: 593, Digit Sum: 17\n",
      "Number: 594, Digit Sum: 18\n",
      "Number: 595, Digit Sum: 19\n",
      "Number: 596, Digit Sum: 20\n",
      "Number: 597, Digit Sum: 21\n",
      "Number: 598, Digit Sum: 22\n",
      "Number: 599, Digit Sum: 23\n",
      "Number: 600, Digit Sum: 6\n",
      "Number: 601, Digit Sum: 7\n",
      "Number: 602, Digit Sum: 8\n",
      "Number: 603, Digit Sum: 9\n",
      "Number: 604, Digit Sum: 10\n",
      "Number: 605, Digit Sum: 11\n",
      "Number: 606, Digit Sum: 12\n",
      "Number: 607, Digit Sum: 13\n",
      "Number: 608, Digit Sum: 14\n",
      "Number: 609, Digit Sum: 15\n",
      "Number: 610, Digit Sum: 7\n",
      "Number: 611, Digit Sum: 8\n",
      "Number: 612, Digit Sum: 9\n",
      "Number: 613, Digit Sum: 10\n",
      "Number: 614, Digit Sum: 11\n",
      "Number: 615, Digit Sum: 12\n",
      "Number: 616, Digit Sum: 13\n",
      "Number: 617, Digit Sum: 14\n",
      "Number: 618, Digit Sum: 15\n",
      "Number: 619, Digit Sum: 16\n",
      "Number: 620, Digit Sum: 8\n",
      "Number: 621, Digit Sum: 9\n",
      "Number: 622, Digit Sum: 10\n",
      "Number: 623, Digit Sum: 11\n",
      "Number: 624, Digit Sum: 12\n",
      "Number: 625, Digit Sum: 13\n",
      "Number: 626, Digit Sum: 14\n",
      "Number: 627, Digit Sum: 15\n",
      "Number: 628, Digit Sum: 16\n",
      "Number: 629, Digit Sum: 17\n",
      "Number: 630, Digit Sum: 9\n",
      "Number: 631, Digit Sum: 10\n",
      "Number: 632, Digit Sum: 11\n",
      "Number: 633, Digit Sum: 12\n",
      "Number: 634, Digit Sum: 13\n",
      "Number: 635, Digit Sum: 14\n",
      "Number: 636, Digit Sum: 15\n",
      "Number: 637, Digit Sum: 16\n",
      "Number: 638, Digit Sum: 17\n",
      "Number: 639, Digit Sum: 18\n",
      "Number: 640, Digit Sum: 10\n",
      "Number: 641, Digit Sum: 11\n",
      "Number: 642, Digit Sum: 12\n",
      "Number: 643, Digit Sum: 13\n",
      "Number: 644, Digit Sum: 14\n",
      "Number: 645, Digit Sum: 15\n",
      "Number: 646, Digit Sum: 16\n",
      "Number: 647, Digit Sum: 17\n",
      "Number: 648, Digit Sum: 18\n",
      "Number: 649, Digit Sum: 19\n",
      "Number: 650, Digit Sum: 11\n",
      "Number: 651, Digit Sum: 12\n",
      "Number: 652, Digit Sum: 13\n",
      "Number: 653, Digit Sum: 14\n",
      "Number: 654, Digit Sum: 15\n",
      "Number: 655, Digit Sum: 16\n",
      "Number: 656, Digit Sum: 17\n",
      "Number: 657, Digit Sum: 18\n",
      "Number: 658, Digit Sum: 19\n",
      "Number: 659, Digit Sum: 20\n",
      "Number: 660, Digit Sum: 12\n",
      "Number: 661, Digit Sum: 13\n",
      "Number: 662, Digit Sum: 14\n",
      "Number: 663, Digit Sum: 15\n",
      "Number: 664, Digit Sum: 16\n",
      "Number: 665, Digit Sum: 17\n",
      "Number: 666, Digit Sum: 18\n",
      "Number: 667, Digit Sum: 19\n",
      "Number: 668, Digit Sum: 20\n",
      "Number: 669, Digit Sum: 21\n",
      "Number: 670, Digit Sum: 13\n",
      "Number: 671, Digit Sum: 14\n",
      "Number: 672, Digit Sum: 15\n",
      "Number: 673, Digit Sum: 16\n",
      "Number: 674, Digit Sum: 17\n",
      "Number: 675, Digit Sum: 18\n",
      "Number: 676, Digit Sum: 19\n",
      "Number: 677, Digit Sum: 20\n",
      "Number: 678, Digit Sum: 21\n",
      "Number: 679, Digit Sum: 22\n",
      "Number: 680, Digit Sum: 14\n",
      "Number: 681, Digit Sum: 15\n",
      "Number: 682, Digit Sum: 16\n",
      "Number: 683, Digit Sum: 17\n",
      "Number: 684, Digit Sum: 18\n",
      "Number: 685, Digit Sum: 19\n",
      "Number: 686, Digit Sum: 20\n",
      "Number: 687, Digit Sum: 21\n",
      "Number: 688, Digit Sum: 22\n",
      "Number: 689, Digit Sum: 23\n",
      "Number: 690, Digit Sum: 15\n",
      "Number: 691, Digit Sum: 16\n",
      "Number: 692, Digit Sum: 17\n",
      "Number: 693, Digit Sum: 18\n",
      "Number: 694, Digit Sum: 19\n",
      "Number: 695, Digit Sum: 20\n",
      "Number: 696, Digit Sum: 21\n",
      "Number: 697, Digit Sum: 22\n",
      "Number: 698, Digit Sum: 23\n",
      "Number: 699, Digit Sum: 24\n",
      "Number: 700, Digit Sum: 7\n",
      "Number: 701, Digit Sum: 8\n",
      "Number: 702, Digit Sum: 9\n",
      "Number: 703, Digit Sum: 10\n",
      "Number: 704, Digit Sum: 11\n",
      "Number: 705, Digit Sum: 12\n",
      "Number: 706, Digit Sum: 13\n",
      "Number: 707, Digit Sum: 14\n",
      "Number: 708, Digit Sum: 15\n",
      "Number: 709, Digit Sum: 16\n",
      "Number: 710, Digit Sum: 8\n",
      "Number: 711, Digit Sum: 9\n",
      "Number: 712, Digit Sum: 10\n",
      "Number: 713, Digit Sum: 11\n",
      "Number: 714, Digit Sum: 12\n",
      "Number: 715, Digit Sum: 13\n",
      "Number: 716, Digit Sum: 14\n",
      "Number: 717, Digit Sum: 15\n",
      "Number: 718, Digit Sum: 16\n",
      "Number: 719, Digit Sum: 17\n",
      "Number: 720, Digit Sum: 9\n",
      "Number: 721, Digit Sum: 10\n",
      "Number: 722, Digit Sum: 11\n",
      "Number: 723, Digit Sum: 12\n",
      "Number: 724, Digit Sum: 13\n",
      "Number: 725, Digit Sum: 14\n",
      "Number: 726, Digit Sum: 15\n",
      "Number: 727, Digit Sum: 16\n",
      "Number: 728, Digit Sum: 17\n",
      "Number: 729, Digit Sum: 18\n",
      "Number: 730, Digit Sum: 10\n",
      "Number: 731, Digit Sum: 11\n",
      "Number: 732, Digit Sum: 12\n",
      "Number: 733, Digit Sum: 13\n",
      "Number: 734, Digit Sum: 14\n",
      "Number: 735, Digit Sum: 15\n",
      "Number: 736, Digit Sum: 16\n",
      "Number: 737, Digit Sum: 17\n",
      "Number: 738, Digit Sum: 18\n",
      "Number: 739, Digit Sum: 19\n",
      "Number: 740, Digit Sum: 11\n",
      "Number: 741, Digit Sum: 12\n",
      "Number: 742, Digit Sum: 13\n",
      "Number: 743, Digit Sum: 14\n",
      "Number: 744, Digit Sum: 15\n",
      "Number: 745, Digit Sum: 16\n",
      "Number: 746, Digit Sum: 17\n",
      "Number: 747, Digit Sum: 18\n",
      "Number: 748, Digit Sum: 19\n",
      "Number: 749, Digit Sum: 20\n",
      "Number: 750, Digit Sum: 12\n",
      "Number: 751, Digit Sum: 13\n",
      "Number: 752, Digit Sum: 14\n",
      "Number: 753, Digit Sum: 15\n",
      "Number: 754, Digit Sum: 16\n",
      "Number: 755, Digit Sum: 17\n",
      "Number: 756, Digit Sum: 18\n",
      "Number: 757, Digit Sum: 19\n",
      "Number: 758, Digit Sum: 20\n",
      "Number: 759, Digit Sum: 21\n",
      "Number: 760, Digit Sum: 13\n",
      "Number: 761, Digit Sum: 14\n",
      "Number: 762, Digit Sum: 15\n",
      "Number: 763, Digit Sum: 16\n",
      "Number: 764, Digit Sum: 17\n",
      "Number: 765, Digit Sum: 18\n",
      "Number: 766, Digit Sum: 19\n",
      "Number: 767, Digit Sum: 20\n",
      "Number: 768, Digit Sum: 21\n",
      "Number: 769, Digit Sum: 22\n",
      "Number: 770, Digit Sum: 14\n",
      "Number: 771, Digit Sum: 15\n",
      "Number: 772, Digit Sum: 16\n",
      "Number: 773, Digit Sum: 17\n",
      "Number: 774, Digit Sum: 18\n",
      "Number: 775, Digit Sum: 19\n",
      "Number: 776, Digit Sum: 20\n",
      "Number: 777, Digit Sum: 21\n",
      "Number: 778, Digit Sum: 22\n",
      "Number: 779, Digit Sum: 23\n",
      "Number: 780, Digit Sum: 15\n",
      "Number: 781, Digit Sum: 16\n",
      "Number: 782, Digit Sum: 17\n",
      "Number: 783, Digit Sum: 18\n",
      "Number: 784, Digit Sum: 19\n",
      "Number: 785, Digit Sum: 20\n",
      "Number: 786, Digit Sum: 21\n",
      "Number: 787, Digit Sum: 22\n",
      "Number: 788, Digit Sum: 23\n",
      "Number: 789, Digit Sum: 24\n",
      "Number: 790, Digit Sum: 16\n",
      "Number: 791, Digit Sum: 17\n",
      "Number: 792, Digit Sum: 18\n",
      "Number: 793, Digit Sum: 19\n",
      "Number: 794, Digit Sum: 20\n",
      "Number: 795, Digit Sum: 21\n",
      "Number: 796, Digit Sum: 22\n",
      "Number: 797, Digit Sum: 23\n",
      "Number: 798, Digit Sum: 24\n",
      "Number: 799, Digit Sum: 25\n",
      "Number: 800, Digit Sum: 8\n",
      "Number: 801, Digit Sum: 9\n",
      "Number: 802, Digit Sum: 10\n",
      "Number: 803, Digit Sum: 11\n",
      "Number: 804, Digit Sum: 12\n",
      "Number: 805, Digit Sum: 13\n",
      "Number: 806, Digit Sum: 14\n",
      "Number: 807, Digit Sum: 15\n",
      "Number: 808, Digit Sum: 16\n",
      "Number: 809, Digit Sum: 17\n",
      "Number: 810, Digit Sum: 9\n",
      "Number: 811, Digit Sum: 10\n",
      "Number: 812, Digit Sum: 11\n",
      "Number: 813, Digit Sum: 12\n",
      "Number: 814, Digit Sum: 13\n",
      "Number: 815, Digit Sum: 14\n",
      "Number: 816, Digit Sum: 15\n",
      "Number: 817, Digit Sum: 16\n",
      "Number: 818, Digit Sum: 17\n",
      "Number: 819, Digit Sum: 18\n",
      "Number: 820, Digit Sum: 10\n",
      "Number: 821, Digit Sum: 11\n",
      "Number: 822, Digit Sum: 12\n",
      "Number: 823, Digit Sum: 13\n",
      "Number: 824, Digit Sum: 14\n",
      "Number: 825, Digit Sum: 15\n",
      "Number: 826, Digit Sum: 16\n",
      "Number: 827, Digit Sum: 17\n",
      "Number: 828, Digit Sum: 18\n",
      "Number: 829, Digit Sum: 19\n",
      "Number: 830, Digit Sum: 11\n",
      "Number: 831, Digit Sum: 12\n",
      "Number: 832, Digit Sum: 13\n",
      "Number: 833, Digit Sum: 14\n",
      "Number: 834, Digit Sum: 15\n",
      "Number: 835, Digit Sum: 16\n",
      "Number: 836, Digit Sum: 17\n",
      "Number: 837, Digit Sum: 18\n",
      "Number: 838, Digit Sum: 19\n",
      "Number: 839, Digit Sum: 20\n",
      "Number: 840, Digit Sum: 12\n",
      "Number: 841, Digit Sum: 13\n",
      "Number: 842, Digit Sum: 14\n",
      "Number: 843, Digit Sum: 15\n",
      "Number: 844, Digit Sum: 16\n",
      "Number: 845, Digit Sum: 17\n",
      "Number: 846, Digit Sum: 18\n",
      "Number: 847, Digit Sum: 19\n",
      "Number: 848, Digit Sum: 20\n",
      "Number: 849, Digit Sum: 21\n",
      "Number: 850, Digit Sum: 13\n",
      "Number: 851, Digit Sum: 14\n",
      "Number: 852, Digit Sum: 15\n",
      "Number: 853, Digit Sum: 16\n",
      "Number: 854, Digit Sum: 17\n",
      "Number: 855, Digit Sum: 18\n",
      "Number: 856, Digit Sum: 19\n",
      "Number: 857, Digit Sum: 20\n",
      "Number: 858, Digit Sum: 21\n",
      "Number: 859, Digit Sum: 22\n",
      "Number: 860, Digit Sum: 14\n",
      "Number: 861, Digit Sum: 15\n",
      "Number: 862, Digit Sum: 16\n",
      "Number: 863, Digit Sum: 17\n",
      "Number: 864, Digit Sum: 18\n",
      "Number: 865, Digit Sum: 19\n",
      "Number: 866, Digit Sum: 20\n",
      "Number: 867, Digit Sum: 21\n",
      "Number: 868, Digit Sum: 22\n",
      "Number: 869, Digit Sum: 23\n",
      "Number: 870, Digit Sum: 15\n",
      "Number: 871, Digit Sum: 16\n",
      "Number: 872, Digit Sum: 17\n",
      "Number: 873, Digit Sum: 18\n",
      "Number: 874, Digit Sum: 19\n",
      "Number: 875, Digit Sum: 20\n",
      "Number: 876, Digit Sum: 21\n",
      "Number: 877, Digit Sum: 22\n",
      "Number: 878, Digit Sum: 23\n",
      "Number: 879, Digit Sum: 24\n",
      "Number: 880, Digit Sum: 16\n",
      "Number: 881, Digit Sum: 17\n",
      "Number: 882, Digit Sum: 18\n",
      "Number: 883, Digit Sum: 19\n",
      "Number: 884, Digit Sum: 20\n",
      "Number: 885, Digit Sum: 21\n",
      "Number: 886, Digit Sum: 22\n",
      "Number: 887, Digit Sum: 23\n",
      "Number: 888, Digit Sum: 24\n",
      "Number: 889, Digit Sum: 25\n",
      "Number: 890, Digit Sum: 17\n",
      "Number: 891, Digit Sum: 18\n",
      "Number: 892, Digit Sum: 19\n",
      "Number: 893, Digit Sum: 20\n",
      "Number: 894, Digit Sum: 21\n",
      "Number: 895, Digit Sum: 22\n",
      "Number: 896, Digit Sum: 23\n",
      "Number: 897, Digit Sum: 24\n",
      "Number: 898, Digit Sum: 25\n",
      "Number: 899, Digit Sum: 26\n",
      "Number: 900, Digit Sum: 9\n",
      "Number: 901, Digit Sum: 10\n",
      "Number: 902, Digit Sum: 11\n",
      "Number: 903, Digit Sum: 12\n",
      "Number: 904, Digit Sum: 13\n",
      "Number: 905, Digit Sum: 14\n",
      "Number: 906, Digit Sum: 15\n",
      "Number: 907, Digit Sum: 16\n",
      "Number: 908, Digit Sum: 17\n",
      "Number: 909, Digit Sum: 18\n",
      "Number: 910, Digit Sum: 10\n",
      "Number: 911, Digit Sum: 11\n",
      "Number: 912, Digit Sum: 12\n",
      "Number: 913, Digit Sum: 13\n",
      "Number: 914, Digit Sum: 14\n",
      "Number: 915, Digit Sum: 15\n",
      "Number: 916, Digit Sum: 16\n",
      "Number: 917, Digit Sum: 17\n",
      "Number: 918, Digit Sum: 18\n",
      "Number: 919, Digit Sum: 19\n",
      "Number: 920, Digit Sum: 11\n",
      "Number: 921, Digit Sum: 12\n",
      "Number: 922, Digit Sum: 13\n",
      "Number: 923, Digit Sum: 14\n",
      "Number: 924, Digit Sum: 15\n",
      "Number: 925, Digit Sum: 16\n",
      "Number: 926, Digit Sum: 17\n",
      "Number: 927, Digit Sum: 18\n",
      "Number: 928, Digit Sum: 19\n",
      "Number: 929, Digit Sum: 20\n",
      "Number: 930, Digit Sum: 12\n",
      "Number: 931, Digit Sum: 13\n",
      "Number: 932, Digit Sum: 14\n",
      "Number: 933, Digit Sum: 15\n",
      "Number: 934, Digit Sum: 16\n",
      "Number: 935, Digit Sum: 17\n",
      "Number: 936, Digit Sum: 18\n",
      "Number: 937, Digit Sum: 19\n",
      "Number: 938, Digit Sum: 20\n",
      "Number: 939, Digit Sum: 21\n",
      "Number: 940, Digit Sum: 13\n",
      "Number: 941, Digit Sum: 14\n",
      "Number: 942, Digit Sum: 15\n",
      "Number: 943, Digit Sum: 16\n",
      "Number: 944, Digit Sum: 17\n",
      "Number: 945, Digit Sum: 18\n",
      "Number: 946, Digit Sum: 19\n",
      "Number: 947, Digit Sum: 20\n",
      "Number: 948, Digit Sum: 21\n",
      "Number: 949, Digit Sum: 22\n",
      "Number: 950, Digit Sum: 14\n",
      "Number: 951, Digit Sum: 15\n",
      "Number: 952, Digit Sum: 16\n",
      "Number: 953, Digit Sum: 17\n",
      "Number: 954, Digit Sum: 18\n",
      "Number: 955, Digit Sum: 19\n",
      "Number: 956, Digit Sum: 20\n",
      "Number: 957, Digit Sum: 21\n",
      "Number: 958, Digit Sum: 22\n",
      "Number: 959, Digit Sum: 23\n",
      "Number: 960, Digit Sum: 15\n",
      "Number: 961, Digit Sum: 16\n",
      "Number: 962, Digit Sum: 17\n",
      "Number: 963, Digit Sum: 18\n",
      "Number: 964, Digit Sum: 19\n",
      "Number: 965, Digit Sum: 20\n",
      "Number: 966, Digit Sum: 21\n",
      "Number: 967, Digit Sum: 22\n",
      "Number: 968, Digit Sum: 23\n",
      "Number: 969, Digit Sum: 24\n",
      "Number: 970, Digit Sum: 16\n",
      "Number: 971, Digit Sum: 17\n",
      "Number: 972, Digit Sum: 18\n",
      "Number: 973, Digit Sum: 19\n",
      "Number: 974, Digit Sum: 20\n",
      "Number: 975, Digit Sum: 21\n",
      "Number: 976, Digit Sum: 22\n",
      "Number: 977, Digit Sum: 23\n",
      "Number: 978, Digit Sum: 24\n",
      "Number: 979, Digit Sum: 25\n",
      "Number: 980, Digit Sum: 17\n",
      "Number: 981, Digit Sum: 18\n",
      "Number: 982, Digit Sum: 19\n",
      "Number: 983, Digit Sum: 20\n",
      "Number: 984, Digit Sum: 21\n",
      "Number: 985, Digit Sum: 22\n",
      "Number: 986, Digit Sum: 23\n",
      "Number: 987, Digit Sum: 24\n",
      "Number: 988, Digit Sum: 25\n",
      "Number: 989, Digit Sum: 26\n",
      "Number: 990, Digit Sum: 18\n",
      "Number: 991, Digit Sum: 19\n",
      "Number: 992, Digit Sum: 20\n",
      "Number: 993, Digit Sum: 21\n",
      "Number: 994, Digit Sum: 22\n",
      "Number: 995, Digit Sum: 23\n",
      "Number: 996, Digit Sum: 24\n",
      "Number: 997, Digit Sum: 25\n",
      "Number: 998, Digit Sum: 26\n",
      "Number: 999, Digit Sum: 27\n",
      "Number: 1000, Digit Sum: 1\n"
     ]
    }
   ],
   "source": [
    "#Develop a program that calculates the sum of the digits of numbers from 1 to 1000 using list comprehension.\n",
    "def digit_sum(number):\n",
    "    return sum(int(digit) for digit in str(number))\n",
    "\n",
    "# List of numbers\n",
    "numbers =list(range(1,1001))\n",
    "\n",
    "# Calculate the sum of digits for each number using a list comprehension\n",
    "digit_sums = [digit_sum(number) for number in numbers]\n",
    "\n",
    "# Print the original numbers and their digit sums\n",
    "for i in range(len(numbers)):\n",
    "    print(f\"Number: {numbers[i]}, Digit Sum: {digit_sums[i]}\")\n"
   ]
  },
  {
   "cell_type": "code",
   "execution_count": 3,
   "id": "16c17b3d-5cb6-4abe-a0b6-5d9230d4d31b",
   "metadata": {},
   "outputs": [
    {
     "name": "stdout",
     "output_type": "stream",
     "text": [
      "[2, 3, 5, 7, 11, 101, 131, 151, 181, 191, 313, 353, 373, 383, 727, 757, 787, 797, 919, 929]\n"
     ]
    }
   ],
   "source": [
    "#Write a program that generates a list of prime palindromic numbers using list comprehension.\n",
    "def is_prime(n):\n",
    "    if n < 2:\n",
    "        return False\n",
    "    for i in range(2, int(n**0.5)+1):\n",
    "        if n % i == 0:\n",
    "            return False\n",
    "    return True\n",
    "limit = 1000\n",
    "palindromes = [num for num in range(2, limit+1) if str(num) == str(num)[::-1] and is_prime(num)]\n",
    "print(palindromes)"
   ]
  }
 ],
 "metadata": {
  "kernelspec": {
   "display_name": "Python 3 (ipykernel)",
   "language": "python",
   "name": "python3"
  },
  "language_info": {
   "codemirror_mode": {
    "name": "ipython",
    "version": 3
   },
   "file_extension": ".py",
   "mimetype": "text/x-python",
   "name": "python",
   "nbconvert_exporter": "python",
   "pygments_lexer": "ipython3",
   "version": "3.11.3"
  }
 },
 "nbformat": 4,
 "nbformat_minor": 5
}
