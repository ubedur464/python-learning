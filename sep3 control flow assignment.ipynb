{
 "cells": [
  {
   "cell_type": "code",
   "execution_count": 2,
   "id": "973e52c7-ff69-4b67-8f94-80b2a6aa5bee",
   "metadata": {},
   "outputs": [
    {
     "name": "stdin",
     "output_type": "stream",
     "text": [
      "enter the number : 20\n"
     ]
    },
    {
     "name": "stdout",
     "output_type": "stream",
     "text": [
      "the number is positive\n"
     ]
    }
   ],
   "source": [
    "                              '''basic if else'''\n",
    "\n",
    "#Write a Python program to check if a given number is positive or negative\n",
    "a= int(input(\"enter the number :\"))  #user input\n",
    "if a>0:                             #checking positive numbers\n",
    "    print(\"the number is positive\") \n",
    "else:                             #checking for negative numbers\n",
    "    print(\"the number is negative\")"
   ]
  },
  {
   "cell_type": "code",
   "execution_count": 3,
   "id": "f97bec43-f1ee-41be-ac77-11ac9fa31a56",
   "metadata": {},
   "outputs": [
    {
     "name": "stdin",
     "output_type": "stream",
     "text": [
      "enter your age :  25\n"
     ]
    },
    {
     "name": "stdout",
     "output_type": "stream",
     "text": [
      "you are eligible for voting\n"
     ]
    }
   ],
   "source": [
    "#Create a program that determines if a person is eligible to vote based on their age\n",
    "age=int(input(\"enter your age : \")) #user input\n",
    "if age>=18:                                #checking age aligibility \n",
    "    print(\"you are eligible for voting\")\n",
    "else:\n",
    "    print(\"you are not eligible for voting\")"
   ]
  },
  {
   "cell_type": "code",
   "execution_count": 4,
   "id": "5f8381cc-d072-4321-8a0f-5f1efda12eee",
   "metadata": {},
   "outputs": [
    {
     "name": "stdin",
     "output_type": "stream",
     "text": [
      "enter first number : 10\n",
      "enter second number : 20\n"
     ]
    },
    {
     "name": "stdout",
     "output_type": "stream",
     "text": [
      "the second number is greater or maximum\n"
     ]
    }
   ],
   "source": [
    "#Develop a program to find the maximum of two numbers using if-else statements\n",
    "a=int(input(\"enter first number :\")) #user input for first number\n",
    "b=int(input(\"enter second number :\")) #user input for second number\n",
    "if a>b:\n",
    "    print(\"the first number is greater or Maximum\") #checking whic number is greater\n",
    "else:\n",
    "    print(\"the second number is greater or maximum\")"
   ]
  },
  {
   "cell_type": "code",
   "execution_count": 141,
   "id": "3a5f7260-bf95-4680-a188-0bfe88de0b0b",
   "metadata": {},
   "outputs": [
    {
     "name": "stdin",
     "output_type": "stream",
     "text": [
      "enter the year : 2020\n"
     ]
    },
    {
     "name": "stdout",
     "output_type": "stream",
     "text": [
      "the given year is leap year\n"
     ]
    }
   ],
   "source": [
    "#Write a Python script to classify a given year as a leap year or not\n",
    "a=int(input(\"enter the year :\"))\n",
    "if (a%4 ==0 and a%100!=0):                ##If the year is divisible by 4 and not by 100,then it is a leap year. Otherwise, it is not a leap year'''   \n",
    "    print (\"the given year is leap year\")\n",
    "else:\n",
    "    print(\"the given year is not a leap year\")"
   ]
  },
  {
   "cell_type": "code",
   "execution_count": 6,
   "id": "f1f86954-c831-435e-941c-35529406678a",
   "metadata": {},
   "outputs": [
    {
     "name": "stdin",
     "output_type": "stream",
     "text": [
      "enter the character : h\n"
     ]
    },
    {
     "name": "stdout",
     "output_type": "stream",
     "text": [
      "the enterted character is a consonant\n"
     ]
    }
   ],
   "source": [
    "#Create a program that checks whether a character is a vowel or a consonant\n",
    "a=input(\"enter the character :\")\n",
    "vowels = ['a','e','i','o','u'] #defining vowels\n",
    "consonants =['b','c','d','f','g','h','j','k','l','m','n','p','q','r','s','t','v','w','x','y','z'] #defining consonants\n",
    "if a in vowels:\n",
    "    print(\"the enterted character is a vowel\")\n",
    "elif a in consonants:\n",
    "    print(\"the enterted character is a consonant\")\n",
    "else:\n",
    "    print(\"not defined\")"
   ]
  },
  {
   "cell_type": "code",
   "execution_count": 7,
   "id": "59df5bf3-107e-4a79-8fac-69548477ad36",
   "metadata": {},
   "outputs": [
    {
     "name": "stdin",
     "output_type": "stream",
     "text": [
      "enter the number : 66\n"
     ]
    },
    {
     "name": "stdout",
     "output_type": "stream",
     "text": [
      "the given number is even\n"
     ]
    }
   ],
   "source": [
    "#Implement a program to determine whether a given number is even or odd.\n",
    "a=int(input(\"enter the number :\"))  #user input\n",
    "if a%2==0:                                #Checking the Number is even or not\n",
    "    print(\"the given number is even\")\n",
    "else:\n",
    "      print(\"the given number is odd\")"
   ]
  },
  {
   "cell_type": "code",
   "execution_count": 67,
   "id": "2cecde6b-2f50-412e-a79e-d1ee9f660b62",
   "metadata": {},
   "outputs": [
    {
     "name": "stdin",
     "output_type": "stream",
     "text": [
      "enter the number : 20\n"
     ]
    },
    {
     "name": "stdout",
     "output_type": "stream",
     "text": [
      "the absolute value of given number is : 20\n"
     ]
    }
   ],
   "source": [
    "#Write a Python function to calculate the absolute value of a number without using the `abs()` function.\n",
    "a=int(input(\"enter the number :\"))   #user input\n",
    "if a>0:                                              #absolute value for positive number\n",
    "    print(\"the absolute value of given number is :\",a) \n",
    "elif a<0:                                               #absolute value for negative number \n",
    "    print(\"the absolute value of given number is :\", ~a+1)\n",
    "else:\n",
    "    print(\"not valid\")"
   ]
  },
  {
   "cell_type": "code",
   "execution_count": 12,
   "id": "4366bdb8-327b-45de-9852-9b86f21b6657",
   "metadata": {},
   "outputs": [
    {
     "name": "stdin",
     "output_type": "stream",
     "text": [
      "enter the first number : 10\n",
      "enter the second number: 20\n",
      "enter the third number : 30\n"
     ]
    },
    {
     "name": "stdout",
     "output_type": "stream",
     "text": [
      "the largest number is : 30\n"
     ]
    }
   ],
   "source": [
    "#Develop a program that determines the largest of three given numbers using if-else statements\n",
    "a=int(input(\"enter the first number :\"))\n",
    "b=int(input(\"enter the second number:\"))\n",
    "c=int(input(\"enter the third number :\"))\n",
    "if a>=b and a>=c:\n",
    "    print(\"the largest number is :\",a)\n",
    "elif b>=a and b>=c:\n",
    "    print(\"the largest number is :\",b)\n",
    "else:\n",
    "    print(\"the largest number is :\",c)"
   ]
  },
  {
   "cell_type": "code",
   "execution_count": 15,
   "id": "c791401b-5ec0-4912-8303-29b6fb5bcdca",
   "metadata": {},
   "outputs": [
    {
     "name": "stdin",
     "output_type": "stream",
     "text": [
      "enter the string : mom\n"
     ]
    },
    {
     "name": "stdout",
     "output_type": "stream",
     "text": [
      "the given string is a palindrome\n"
     ]
    }
   ],
   "source": [
    "#Create a program that checks if a given string is a palindrome.\n",
    "a=str(input(\"enter the string :\"))\n",
    "if a==a[::-1]:                  #Checking if given string is palindrome\n",
    "    print(\"the given string is a palindrome\")\n",
    "else:\n",
    "    print(\"the given string is not a palindrome\")"
   ]
  },
  {
   "cell_type": "code",
   "execution_count": 26,
   "id": "3cb53861-1355-4f68-a762-eef2abb9737a",
   "metadata": {},
   "outputs": [
    {
     "name": "stdin",
     "output_type": "stream",
     "text": [
      "enter the student score:  85\n"
     ]
    },
    {
     "name": "stdout",
     "output_type": "stream",
     "text": [
      "Excellent performance the grade of the student is b\n"
     ]
    }
   ],
   "source": [
    "#10. Write a Python program to calculate the grade based on a student's score\n",
    "a=float(input(\"enter the student score: \"))\n",
    "if a>=95:\n",
    "    print(\"Excellent performance the grade of the student is A+\")\n",
    "elif a==90:\n",
    "    print(\"Excellent performance the grade of the student is A\")\n",
    "elif a in list(range(80,90)):\n",
    "    print(\"Excellent performance the grade of the student is b\")\n",
    "else:\n",
    "    print(\"Excellent performance the grade of the student is c\")\n"
   ]
  },
  {
   "cell_type": "code",
   "execution_count": 64,
   "id": "44119c5b-6e0b-41fe-a376-20ca1d509051",
   "metadata": {},
   "outputs": [
    {
     "name": "stdin",
     "output_type": "stream",
     "text": [
      "enter the first number : 10\n",
      "enter the second number: 200\n",
      "enter the third number : 30\n"
     ]
    },
    {
     "name": "stdout",
     "output_type": "stream",
     "text": [
      "the largest number is : 200\n"
     ]
    }
   ],
   "source": [
    "                            '''using nested if-else'''\n",
    "\n",
    "#Write a program to find the largest among three numbers using nested if-else statements\n",
    "a=int(input(\"enter the first number :\"))\n",
    "b=int(input(\"enter the second number:\"))\n",
    "c=int(input(\"enter the third number :\"))\n",
    "if a>=b and a>=c:\n",
    "    print(\"the largest number is :\",a)\n",
    "elif b>=a and b>=c:\n",
    "        print(\"the largest number is :\",b)\n",
    "else:\n",
    "    print(\"the largest number is :\",c)"
   ]
  },
  {
   "cell_type": "code",
   "execution_count": 103,
   "id": "f5fd17f9-6b00-42bd-b61f-3c46399724e1",
   "metadata": {},
   "outputs": [
    {
     "name": "stdin",
     "output_type": "stream",
     "text": [
      "enter side of a triangle = 10.2\n",
      "enter side of a triangle = 10.2\n",
      "enter side of a triangle = 10\n"
     ]
    },
    {
     "name": "stdout",
     "output_type": "stream",
     "text": [
      "the triangle is iscoscles triangle\n"
     ]
    }
   ],
   "source": [
    "#Implement a program to determine if a triangle is equilateral, isosceles, or scalene\n",
    "a=float(input(\"enter side of a triangle =\"))\n",
    "b=float(input(\"enter side of a triangle =\"))\n",
    "c=float(input(\"enter side of a triangle =\"))\n",
    "if a+b>c and b+c>a and c+a>b:\n",
    "  if a==b==c:                                            #checking if all sides are eaual\n",
    "    print(\"the triangle is equilateral triangle\")\n",
    "  else:\n",
    "     if (a==b or b==c or a==c):                          #checking if two sides are equal\n",
    "        print (\"the triangle is iscoscles triangle\")\n",
    "     else:\n",
    "           print(\"the triangle is scalene\")\n",
    "else:\n",
    "    (\"triangle is not possible\")\n",
    "      \n",
    "      "
   ]
  },
  {
   "cell_type": "code",
   "execution_count": 142,
   "id": "e63d4f5f-50eb-432d-810d-9b616a1fc1ff",
   "metadata": {},
   "outputs": [
    {
     "name": "stdin",
     "output_type": "stream",
     "text": [
      "Enter the year:  2020\n"
     ]
    },
    {
     "name": "stdout",
     "output_type": "stream",
     "text": [
      "The given year is a leap year but not a century year.\n"
     ]
    }
   ],
   "source": [
    "#Develop a program that checks if a year is a leap year and also if it is a century year\n",
    "a = int(input(\"Enter the year: \"))\n",
    "if a % 4 == 0:\n",
    "    if a % 100 == 0:\n",
    "        if a % 400 == 0:\n",
    "            print(\"The given year is a leap year and a century year.\")\n",
    "        else:\n",
    "            print(\"The given year is not a leap year but a century year.\")\n",
    "    else:\n",
    "        print(\"The given year is a leap year but not a century year.\")\n",
    "else:\n",
    "    print(\"The given year is not a leap year and not a century year.\")\n",
    "\n",
    "#First, ask the user to enter a year and convert it to an integer.\n",
    "#Then, check if the year is divisible by 4. If yes, it might be a leap year.\n",
    "#Next, check if the year is divisible by 100. If yes, it might be a century year.\n",
    "#Finally, check if the year is divisible by 400. If yes, it is a leap year and a century year. If no, it is not a leap year but a century year.\n",
    "#If the year is not divisible by 100, then it is a leap year but not a century year.\n",
    "#If the year is not divisible by 4, then it is not a leap year and not a century year.\n"
   ]
  },
  {
   "cell_type": "code",
   "execution_count": 23,
   "id": "e02874cb-0b64-4f68-9bc1-1cab84d25960",
   "metadata": {},
   "outputs": [
    {
     "name": "stdin",
     "output_type": "stream",
     "text": [
      "enter the number : 20\n"
     ]
    },
    {
     "name": "stdout",
     "output_type": "stream",
     "text": [
      "the given number is positive\n"
     ]
    }
   ],
   "source": [
    "#Write a Python script to determine if a number is positive, negative, or zero\n",
    "a=int(input(\"enter the number :\"))  #user input\n",
    "if a>0:\n",
    "    print (\"the given number is positive\") #Checking for Positive \n",
    "else:\n",
    " if a==0:\n",
    "    print(\"the number is zero\")   #checking if number is zero\n",
    " else:\n",
    "    print(\"the number is negative\")"
   ]
  },
  {
   "cell_type": "code",
   "execution_count": 30,
   "id": "50617378-8b54-4fb9-93bb-d3714b346b5e",
   "metadata": {},
   "outputs": [
    {
     "name": "stdin",
     "output_type": "stream",
     "text": [
      "enter the age: 20\n"
     ]
    },
    {
     "name": "stdout",
     "output_type": "stream",
     "text": [
      "you are not a teenager\n"
     ]
    }
   ],
   "source": [
    "#Create a program to check if a person is a teenager (between 13 and 19 years old)\n",
    "a=int(input(\"enter the age:\"))\n",
    "if a in list(range(13,20)):\n",
    "    print(\"you are teenager\")\n",
    "else:\n",
    "    print(\"you are not a teenager\")"
   ]
  },
  {
   "cell_type": "code",
   "execution_count": 41,
   "id": "a239d9ff-8466-495c-b40c-ba12c9e7a703",
   "metadata": {},
   "outputs": [
    {
     "name": "stdin",
     "output_type": "stream",
     "text": [
      "enter the angle: 100\n"
     ]
    },
    {
     "name": "stdout",
     "output_type": "stream",
     "text": [
      "the entered angle is obtuse angle\n"
     ]
    }
   ],
   "source": [
    "#Develop a program that determines the type of angle based on its measure (acute, obtuse, or right)\n",
    "a=int(input(\"enter the angle:\")) #user input\n",
    "if a==90:\n",
    "     print(\"the enterted angle is right angle\") #checking for right angle\n",
    "else:\n",
    "    if a>90 and a<180:\n",
    "        print(\"the entered angle is obtuse angle\") #checking for obtuse\n",
    "    else:\n",
    "        if a<90:\n",
    "            print(\"the entered angle is acute angle\") #checking for acute\n",
    "        else:\n",
    "            print(\"not defined\")"
   ]
  },
  {
   "cell_type": "code",
   "execution_count": 2,
   "id": "c46284c3-ae56-4320-9793-edf0e9b1d77c",
   "metadata": {},
   "outputs": [
    {
     "name": "stdout",
     "output_type": "stream",
     "text": [
      "Roots are real and same\n",
      "-2.0\n"
     ]
    }
   ],
   "source": [
    "#Write a Python program to calculate the roots of a quadratic equation\n",
    "import math\n",
    "\n",
    "def findRoots(a, b, c):\n",
    "    if a == 0:\n",
    "        print(\"Invalid\")\n",
    "        return -1\n",
    "    d = b * b - 4 * a * c\n",
    "    sqrt_val = math.sqrt(abs(d))\n",
    "    if d > 0:\n",
    "        print(\"Roots are real and different \")\n",
    "        print((-b + sqrt_val)/ (2 * a))\n",
    "        print((-b - sqrt_val)/ (2 * a))\n",
    "    elif d == 0:\n",
    "        print(\"Roots are real and same\")\n",
    "        print(-b / (2*a))\n",
    "    else: # d<0\n",
    "        print(\"Roots are complex\")\n",
    "        print(- b / (2*a), \" + i\", sqrt_val)\n",
    "        print(- b / (2*a), \" - i\", sqrt_val)\n",
    "\n",
    "a = 1\n",
    "b = 4\n",
    "c = 4\n",
    "findRoots(a, b, c)"
   ]
  },
  {
   "cell_type": "code",
   "execution_count": 58,
   "id": "eddc3dee-e257-40d7-bb89-15d43e878dc9",
   "metadata": {},
   "outputs": [
    {
     "name": "stdin",
     "output_type": "stream",
     "text": [
      "enter the number : 5\n"
     ]
    },
    {
     "name": "stdout",
     "output_type": "stream",
     "text": [
      "it is friday\n"
     ]
    }
   ],
   "source": [
    "#Implement a program to determine the day of the week based on a user-provided number (1 for Monday, 2 for Tuesday, etc.)\n",
    "a=int(input(\"enter the number :\"))\n",
    "if a==1:\n",
    "   print(\"it is  monday\")\n",
    "else:\n",
    "    if a==2:                                        #using separate if else case for each day \n",
    "        print(\"it is Tuesday\")\n",
    "    else:\n",
    "       if a==3:\n",
    "           print(\"it is wednesday\")\n",
    "       else:\n",
    "          if a==4:\n",
    "              print (\"it is Thursday\")\n",
    "          else:\n",
    "              if a==5:\n",
    "                  print(\"it is friday\")\n",
    "              else:\n",
    "                  if a==6:\n",
    "                      print(\"it is saturday\")\n",
    "                  else:\n",
    "                      if a==7:\n",
    "                          print(\"it is sunday\")\n",
    "                      else:\n",
    "                          print(\"not valid\")\n",
    "\n"
   ]
  },
  {
   "cell_type": "code",
   "execution_count": 65,
   "id": "04cdeadb-4789-4a44-82e6-10d7c7f3d3cb",
   "metadata": {},
   "outputs": [
    {
     "name": "stdin",
     "output_type": "stream",
     "text": [
      "Enter the year:  2024\n"
     ]
    },
    {
     "name": "stdout",
     "output_type": "stream",
     "text": [
      "the given year is leap year\n",
      "the given year is not divisible by 400\n"
     ]
    }
   ],
   "source": [
    "#Create a program that determines if a year is a leap year and also if it is evenly divisible by 400\n",
    "a = int(input(\"Enter the year: \"))\n",
    "if a % 4 == 0 and (a%100!=0 or a%400==0):\n",
    "    print(\"the given year is leap year\")\n",
    "    if a%100==0:\n",
    "        print (\"the given year also divisible by 400\")\n",
    "    else:\n",
    "        print(\"the given year is not divisible by 400\")\n",
    "else:\n",
    "    print(\"the given year is not a leap year and not divisible by 400\")\n",
    "   "
   ]
  },
  {
   "cell_type": "code",
   "execution_count": 68,
   "id": "68365fb2-09a3-4e34-abc1-32f56feb7756",
   "metadata": {},
   "outputs": [
    {
     "name": "stdin",
     "output_type": "stream",
     "text": [
      "enter the number : 9\n"
     ]
    },
    {
     "name": "stdout",
     "output_type": "stream",
     "text": [
      "the given number is a prime number\n"
     ]
    }
   ],
   "source": [
    "#Develop a program that checks if a given number is prime or not using nested if-else statements\n",
    "a=int(input(\"enter the number :\"))\n",
    "if a>1 and a%a==0:\n",
    "    print(\"the given number is a prime number\")\n",
    "else:\n",
    "    print(\"the given number is not prime number\")\n"
   ]
  },
  {
   "cell_type": "code",
   "execution_count": 90,
   "id": "48273d74-9d9e-4b74-afdd-09f65962f533",
   "metadata": {},
   "outputs": [
    {
     "name": "stdin",
     "output_type": "stream",
     "text": [
      "enter the score : 85\n"
     ]
    },
    {
     "name": "stdout",
     "output_type": "stream",
     "text": [
      "excllent performance the grade is b+\n"
     ]
    }
   ],
   "source": [
    "\n",
    "                                              ''' Using ELIF '''\n",
    "\n",
    "#Write a Python program to assign grades based on different ranges of scores using elif statements\n",
    "a=int(input(\"enter the score :\"))\n",
    "if a>=95:\n",
    "    print(\"excellent performance the garde is A+\")\n",
    "elif a in list(range(90,95)):\n",
    "    print(\"excellent performance the grade is A\")\n",
    "elif a in list(range(80,90)):\n",
    "    print (\"excllent performance the grade is b+\")\n",
    "elif a in list(range(70,80)):\n",
    "    print(\"excellent performance the grade is b\")\n",
    "else:\n",
    "    print(\"excellent performance the grade is c\")\n"
   ]
  },
  {
   "cell_type": "code",
   "execution_count": 117,
   "id": "988963f2-3f74-40bc-b200-7d44eb8cfa45",
   "metadata": {},
   "outputs": [
    {
     "name": "stdin",
     "output_type": "stream",
     "text": [
      "enter the angel: 181\n"
     ]
    },
    {
     "name": "stdout",
     "output_type": "stream",
     "text": [
      "not defined\n"
     ]
    }
   ],
   "source": [
    "#Implement a program to determine the type of a triangle based on its angles\n",
    "a=int(input(\"enter the angel:\"))\n",
    "if a==90:\n",
    "    print(\"the triangle is right angled triangle\")      #Checking conditions based on angles\n",
    "elif a in list(range(91,181)):\n",
    "    print(\"the triangle is obtuse triangle\")\n",
    "elif a<90:\n",
    "    print(\"the triangle is acute angled triangle\")\n",
    "else:\n",
    "    print(\"not defined\")"
   ]
  },
  {
   "cell_type": "code",
   "execution_count": 132,
   "id": "e1bcf3ed-8683-4b1e-9daa-457f28aeecd0",
   "metadata": {},
   "outputs": [
    {
     "name": "stdin",
     "output_type": "stream",
     "text": [
      "enter the BMI :  35\n"
     ]
    },
    {
     "name": "stdout",
     "output_type": "stream",
     "text": [
      "you are extremely obese\n"
     ]
    }
   ],
   "source": [
    "#Develop a program to categorize a given person's BMI into underweight, normal, overweight, or obese using elif statements.\n",
    "a=float(input(\"enter the BMI : \"))\n",
    "if a<18.5:\n",
    "    print(\"you are under weight\")\n",
    "elif 18.5<=a<25.0:\n",
    "    print (\"your weight is normal\")     #taken average BMI values into consideration\n",
    "elif 25.0<=a<30.0:\n",
    "    print(\"you are overweight \")           #Checking conditions based on BMI values\n",
    "elif 30.0<=a<35.0:\n",
    "    print(\"you are obese\")\n",
    "elif a>=35:\n",
    "    print(\"you are extremely obese\")\n"
   ]
  },
  {
   "cell_type": "code",
   "execution_count": 136,
   "id": "9d5dc6c4-0785-4d57-880c-104dc84930a7",
   "metadata": {},
   "outputs": [
    {
     "name": "stdin",
     "output_type": "stream",
     "text": [
      "enter the number : -1\n"
     ]
    },
    {
     "name": "stdout",
     "output_type": "stream",
     "text": [
      "the number is negative\n"
     ]
    }
   ],
   "source": [
    "#Create a program that determines whether a given number is positive, negative, or zero using elif statements.\n",
    "a=int(input(\"enter the number :\"))\n",
    "if a>0:\n",
    "    print(\"the number is Positive\")\n",
    "elif a==0:\n",
    "    print(\"the number is zero\")\n",
    "else:\n",
    "    print(\"the number is negative\")"
   ]
  },
  {
   "cell_type": "code",
   "execution_count": 163,
   "id": "62dc45c4-4797-43ef-921b-5aeb9fa935eb",
   "metadata": {},
   "outputs": [
    {
     "name": "stdin",
     "output_type": "stream",
     "text": [
      "enter the Character : 52\n"
     ]
    },
    {
     "name": "stdout",
     "output_type": "stream",
     "text": [
      "the entered char is  Numeric\n"
     ]
    }
   ],
   "source": [
    "#Write a Python script to determine the type of a character (uppercase, lowercase, or special) using elif statements.\n",
    "a=input(\"enter the Character :\")\n",
    "if a.isupper():                                  #Checking if entered char is Uppercase\n",
    "    print(\"the entered char is Uppercase\")\n",
    "elif a.islower():\n",
    "     print(\"the entered char is lowercase\")   #Checking if entered char is Lowercase\n",
    "elif a.isdigit():\n",
    "    print(\"the entered char is  Numeric\")      #Checking if entered char is Nueric\n",
    "else:\n",
    "    print(\"the entered Char is special charcter\")   #else it will print Special charcter"
   ]
  },
  {
   "cell_type": "code",
   "execution_count": 49,
   "id": "f1896d06-a461-453a-8160-41de1b33509f",
   "metadata": {},
   "outputs": [
    {
     "name": "stdin",
     "output_type": "stream",
     "text": [
      "enter the purchase amount :  100000\n"
     ]
    },
    {
     "name": "stdout",
     "output_type": "stream",
     "text": [
      "the Discount ampunt is : 40000.0\n"
     ]
    }
   ],
   "source": [
    "#Implement a program to calculate the discounted price based on different purchase amounts using elif statements.\n",
    "a=float(input(\"enter the purchase amount : \"))\n",
    "if a in list(range(100,501)):\n",
    "    Discount_amount=0.1*a                                     #discount calculation \n",
    "    print(\"the Discount ampunt is :\",Discount_amount)         #printing Discount amount\n",
    "elif a in list(range(500,1001)):\n",
    "    Discount_amount=0.2*a\n",
    "    print(\"the Discount ampunt is :\",Discount_amount)    \n",
    "elif a in list(range(1000,5001)):\n",
    "     Discount_amount=0.3*a\n",
    "     print(\"the Discount ampunt is :\",Discount_amount)  \n",
    "elif a>5000:\n",
    "     Discount_amount=0.4*a\n",
    "     print(\"the Discount ampunt is :\",Discount_amount)   "
   ]
  },
  {
   "cell_type": "code",
   "execution_count": 56,
   "id": "f173af5f-a4ef-4d7b-a942-ef513a41bec4",
   "metadata": {},
   "outputs": [
    {
     "name": "stdin",
     "output_type": "stream",
     "text": [
      "enter the consumed units :  200\n"
     ]
    },
    {
     "name": "stdout",
     "output_type": "stream",
     "text": [
      "the current_bill ampunt is : 500.0\n"
     ]
    }
   ],
   "source": [
    "#Develop a program to calculate the electricity bill based on different consumption slabs using elif statements.\n",
    "a=int(input(\"enter the consumed units : \"))\n",
    "if a in list(range(0,101)):\n",
    "    current_bill_amount=1.5*a                                     #current_bill calculation \n",
    "    print(\"the current_bill ampunt is :\",current_bill_amount)         #printing bill amount\n",
    "elif a in list(range(100,201)):\n",
    "    current_bill_amount=2.5*a \n",
    "    print(\"the current_bill ampunt is :\",current_bill_amount)    \n",
    "elif a in list(range(200,501)):\n",
    "    current_bill_amount=5*a \n",
    "    print(\"the current_bill ampunt is :\",current_bill_amount)  \n",
    "elif a>500:\n",
    "    current_bill_amount=10*a \n",
    "    print(\"the current_bill ampunt is :\",current_bill_amount)   "
   ]
  },
  {
   "cell_type": "code",
   "execution_count": 1,
   "id": "bdbe6620-149c-4b5f-bbf4-3b020a924868",
   "metadata": {},
   "outputs": [
    {
     "name": "stdin",
     "output_type": "stream",
     "text": [
      "Enter the first angle:  90\n",
      "Enter the second angle:  90\n",
      "Enter the third angle:  90\n",
      "Enter the fourth angle:  90\n",
      "Enter the first side:  10\n",
      "Enter the second side:  20\n",
      "Enter the third side:  10\n",
      "Enter the fourth side:  20\n"
     ]
    },
    {
     "name": "stdout",
     "output_type": "stream",
     "text": [
      "This is a rectangle\n"
     ]
    }
   ],
   "source": [
    "#Create a program to determine the type of quadrilateral based on its angles and sides using elif\n",
    "statements.\n",
    "a1 = int(input(\"Enter the first angle: \"))\n",
    "a2 = int(input(\"Enter the second angle: \"))\n",
    "a3 = int(input(\"Enter the third angle: \"))\n",
    "a4 = int(input(\"Enter the fourth angle: \"))           # input the angles and sides of the quadrilateral\n",
    "s1 = int(input(\"Enter the first side: \"))\n",
    "s2 = int(input(\"Enter the second side: \"))\n",
    "s3 = int(input(\"Enter the third side: \"))\n",
    "s4 = int(input(\"Enter the fourth side: \"))\n",
    "if a1 + a2 + a3 + a4 != 360:                          # check if the angles add up to 360 degrees\n",
    "    print(\"This is not a valid quadrilateral\")       \n",
    "else:\n",
    "    if a1 == a2 == a3 == a4 == 90:                        # check if all angles are 90 degrees\n",
    "        if s1 == s2 == s3 == s4:                          # check if all sides are equal       \n",
    "            print(\"This is a square\")\n",
    "        else:\n",
    "            print(\"This is a rectangle\")\n",
    "    elif (a1 == a3 and a2 == a4) or (a1 == a4 and a2 == a3):      # check if two opposite angles are equal\n",
    "        if (s1 == s3 and s2 == s4) or (s1 == s4 and s2 == s3):     # check if two opposite sides are parallel\n",
    "            print(\"This is a parallelogram\")\n",
    "        else:\n",
    "            print(\"This is an isosceles trapezoid\")\n",
    "    elif (a1 == a2 or a2 == a3 or a3 == a4 or a4 == a1):            # check if any two adjacent angles are equal\n",
    "        print(\"This is an isosceles trapezoid\")\n",
    "    else:\n",
    "        print(\"This is an arbitrary quadrilateral\")\n"
   ]
  },
  {
   "cell_type": "code",
   "execution_count": 7,
   "id": "5bb111e1-4270-4f16-8bcc-3004dd017abd",
   "metadata": {},
   "outputs": [
    {
     "name": "stdin",
     "output_type": "stream",
     "text": [
      "enter the month name : january\n"
     ]
    },
    {
     "name": "stdout",
     "output_type": "stream",
     "text": [
      "the entered month is in winter season\n"
     ]
    }
   ],
   "source": [
    "#Write a Python script to determine the season based on a user-provided month using elif statements.\n",
    "a=str(input(\"enter the month name :\"))                         #input month name\n",
    "summer =['march','april','may','june']                      #assigning months as per seasons\n",
    "rainy =['july','august','september','october']\n",
    "winter=['november','december','january','february']\n",
    "if a in summer:                                           #checking if entered month is from assigned seasons\n",
    "      print(\"the entered month is in summer season\")\n",
    "elif a in rainy:\n",
    "      print(\"the entered month is in rainy season\")\n",
    "elif a in winter:\n",
    "      print(\"the entered month is in winter season\")\n",
    "else:\n",
    "    print(\"invalid data\")\n",
    "      "
   ]
  },
  {
   "cell_type": "code",
   "execution_count": 13,
   "id": "beddac66-b73c-4731-ac82-23970d23cfb1",
   "metadata": {},
   "outputs": [
    {
     "name": "stdin",
     "output_type": "stream",
     "text": [
      "enter the year:  2023\n",
      "enter the month:  september\n"
     ]
    },
    {
     "name": "stdout",
     "output_type": "stream",
     "text": [
      "the given year is not a leap year\n",
      "entered month contains 30 days\n"
     ]
    }
   ],
   "source": [
    "#Implement a program to determine the type of a year (leap or common) and month (30 or 31 days) using elif statements.\n",
    "a=int(input(\"enter the year: \"))\n",
    "b=str(input(\"enter the month: \"))\n",
    "months_31=['january','march','may','july','august','october','december']\n",
    "month_29 =['february']\n",
    "if a%4==0 and a%100!=0:\n",
    "    print(\"the given year is a leap year\")\n",
    "else:\n",
    "    print(\"the given year is not a leap year\")\n",
    "if b in months_31:\n",
    "    print(\"entered month contains 31 days\")\n",
    "elif b in month_29:\n",
    "    print(\"entered month contains 28 or 29 days\")\n",
    "else:\n",
    "    print(\"entered month contains 30 days\")"
   ]
  },
  {
   "cell_type": "code",
   "execution_count": 14,
   "id": "730e7b17-d801-4564-afe4-ec885b376abb",
   "metadata": {},
   "outputs": [
    {
     "name": "stdin",
     "output_type": "stream",
     "text": [
      "enter the number : 3\n"
     ]
    },
    {
     "name": "stdout",
     "output_type": "stream",
     "text": [
      "the number is Positive\n"
     ]
    }
   ],
   "source": [
    "                                          '''Basic Level'''\n",
    "#Write a Python program that checks if a given number is positive, negative, or zero\n",
    "a=int(input(\"enter the number :\"))\n",
    "if a>0:\n",
    "    print(\"the number is Positive\")\n",
    "elif a==0:\n",
    "    print(\"the number is zero\")\n",
    "else:\n",
    "    print(\"the number is negative\")"
   ]
  },
  {
   "cell_type": "code",
   "execution_count": 15,
   "id": "c5cb6830-60a9-4696-aacc-cd390f05da02",
   "metadata": {},
   "outputs": [
    {
     "name": "stdin",
     "output_type": "stream",
     "text": [
      "enter your age :  32\n"
     ]
    },
    {
     "name": "stdout",
     "output_type": "stream",
     "text": [
      "you are eligible for voting\n"
     ]
    }
   ],
   "source": [
    "#Create a program to determine if a person is eligible to vote based on their age\n",
    "age=int(input(\"enter your age : \")) #user input\n",
    "if age>=18:                                #checking age aligibility \n",
    "    print(\"you are eligible for voting\")\n",
    "else:\n",
    "    print(\"you are not eligible for voting\")"
   ]
  },
  {
   "cell_type": "code",
   "execution_count": 20,
   "id": "8e80efc3-f4a8-43ef-88c5-d75cc7175a2f",
   "metadata": {},
   "outputs": [
    {
     "name": "stdin",
     "output_type": "stream",
     "text": [
      "enter first number : 20\n",
      "enter second number : 10\n"
     ]
    },
    {
     "name": "stdout",
     "output_type": "stream",
     "text": [
      "the first number is greater or Maximum\n"
     ]
    }
   ],
   "source": [
    "#Write a program to find the maximum of two given numbers using conditional statements\n",
    "a=int(input(\"enter first number :\")) #user input for first number\n",
    "b=int(input(\"enter second number :\")) #user input for second number\n",
    "if a>b:\n",
    "    print(\"the first number is greater or Maximum\") #checking whic number is greater\n",
    "else:\n",
    "    print(\"the second number is greater or maximum\")"
   ]
  },
  {
   "cell_type": "code",
   "execution_count": 21,
   "id": "2f3ba703-aaca-487e-9c20-af7457fc6602",
   "metadata": {},
   "outputs": [
    {
     "name": "stdin",
     "output_type": "stream",
     "text": [
      "enter the score : 85\n"
     ]
    },
    {
     "name": "stdout",
     "output_type": "stream",
     "text": [
      "excllent performance the grade is b+\n"
     ]
    }
   ],
   "source": [
    "#Develop a program that calculates the grade of a student based on their exam score.\n",
    "a=int(input(\"enter the score :\"))                   #input  enter score of a student\n",
    "if a>=95:\n",
    "    print(\"excellent performance the garde is A+\")\n",
    "elif a in list(range(90,95)):                               #assiging grades as per slabs\n",
    "    print(\"excellent performance the grade is A\")\n",
    "elif a in list(range(80,90)):\n",
    "    print (\"excllent performance the grade is b+\")\n",
    "elif a in list(range(70,80)):\n",
    "    print(\"excellent performance the grade is b\")\n",
    "else:\n",
    "    print(\"excellent performance the grade is c\")"
   ]
  },
  {
   "cell_type": "code",
   "execution_count": 22,
   "id": "9d07b45d-c58c-437f-8900-3cf1bae05673",
   "metadata": {},
   "outputs": [
    {
     "name": "stdin",
     "output_type": "stream",
     "text": [
      "enter the year : 2020\n"
     ]
    },
    {
     "name": "stdout",
     "output_type": "stream",
     "text": [
      "the given year is leap year\n"
     ]
    }
   ],
   "source": [
    "#Create a program that checks if a year is a leap year or not\n",
    "a=int(input(\"enter the year :\"))\n",
    "if (a%4 ==0 and a%100!=0):                ##If the year is divisible by 4 and not by 100,then it is a leap year. Otherwise, it is not a leap year'''   \n",
    "    print (\"the given year is leap year\")\n",
    "else:\n",
    "    print(\"the given year is not a leap year\")"
   ]
  },
  {
   "cell_type": "code",
   "execution_count": 23,
   "id": "5e246053-68aa-497f-adda-58931db9eb0e",
   "metadata": {},
   "outputs": [
    {
     "name": "stdin",
     "output_type": "stream",
     "text": [
      "enter the angel: 90\n"
     ]
    },
    {
     "name": "stdout",
     "output_type": "stream",
     "text": [
      "the triangle is right angled triangle\n"
     ]
    }
   ],
   "source": [
    "#Write a program to classify a triangle based on its sides' lengths\n",
    "a=int(input(\"enter the angel:\"))\n",
    "if a==90:\n",
    "    print(\"the triangle is right angled triangle\")      #Checking conditions based on angles\n",
    "elif a in list(range(91,181)):\n",
    "    print(\"the triangle is obtuse triangle\")\n",
    "elif a<90:\n",
    "    print(\"the triangle is acute angled triangle\")\n",
    "else:\n",
    "    print(\"not defined\")"
   ]
  },
  {
   "cell_type": "code",
   "execution_count": 24,
   "id": "c817b38b-65bc-4c2e-91a0-f89fbd2303a8",
   "metadata": {},
   "outputs": [
    {
     "name": "stdin",
     "output_type": "stream",
     "text": [
      "enter the first number : 10\n",
      "enter the second number: 20\n",
      "enter the third number : 30\n"
     ]
    },
    {
     "name": "stdout",
     "output_type": "stream",
     "text": [
      "the largest number is : 30\n"
     ]
    }
   ],
   "source": [
    "#Build a program that determines the largest of three given numbers\n",
    "a=int(input(\"enter the first number :\"))\n",
    "b=int(input(\"enter the second number:\"))\n",
    "c=int(input(\"enter the third number :\"))\n",
    "if a>=b and a>=c:\n",
    "    print(\"the largest number is :\",a)\n",
    "elif b>=a and b>=c:\n",
    "        print(\"the largest number is :\",b)\n",
    "else:\n",
    "    print(\"the largest number is :\",c)"
   ]
  },
  {
   "cell_type": "code",
   "execution_count": 25,
   "id": "cb577327-6b7c-4eaf-aff5-c6a1ae7ccb8e",
   "metadata": {},
   "outputs": [
    {
     "name": "stdin",
     "output_type": "stream",
     "text": [
      "enter the character : i\n"
     ]
    },
    {
     "name": "stdout",
     "output_type": "stream",
     "text": [
      "the enterted character is a vowel\n"
     ]
    }
   ],
   "source": [
    "#Develop a program that checks whether a character is a vowel or a consonant\n",
    "a=input(\"enter the character :\")\n",
    "vowels = ['a','e','i','o','u'] #defining vowels\n",
    "consonants =['b','c','d','f','g','h','j','k','l','m','n','p','q','r','s','t','v','w','x','y','z'] #defining consonants\n",
    "if a in vowels:\n",
    "    print(\"the enterted character is a vowel\")\n",
    "elif a in consonants:\n",
    "    print(\"the enterted character is a consonant\")\n",
    "else:\n",
    "    print(\"not defined\")\n"
   ]
  },
  {
   "cell_type": "code",
   "execution_count": 29,
   "id": "f262e390-c159-4153-867c-118601400e39",
   "metadata": {},
   "outputs": [
    {
     "name": "stdin",
     "output_type": "stream",
     "text": [
      "enter the purchase amount :  2000\n"
     ]
    },
    {
     "name": "stdout",
     "output_type": "stream",
     "text": [
      "total_cost_of_shopping_cart is : 1400.0\n"
     ]
    }
   ],
   "source": [
    "#Create a program to calculate the total cost of a shopping cart based on discounts\n",
    "a=float(input(\"enter the purchase amount : \"))\n",
    "if a in list(range(100,501)):\n",
    "    Discount_amount=0.1*a \n",
    "    total_cost_of_shopping_cart = a-Discount_amount                                    #discount calculation \n",
    "    print(\"total_cost_of_shopping_cart is :\",total_cost_of_shopping_cart)             #printing Discount amount\n",
    "elif a in list(range(500,1001)):\n",
    "    Discount_amount=0.2*a\n",
    "    total_cost_of_shopping_cart = a-Discount_amount                                    #discount calculation \n",
    "    print(\"total_cost_of_shopping_cart is :\",total_cost_of_shopping_cart)    \n",
    "elif a in list(range(1000,5001)):\n",
    "     Discount_amount=0.3*a\n",
    "     total_cost_of_shopping_cart = a-Discount_amount                                    #discount calculation \n",
    "     print(\"total_cost_of_shopping_cart is :\",total_cost_of_shopping_cart)  \n",
    "elif a>5000:\n",
    "     Discount_amount=0.4*a\n",
    "     total_cost_of_shopping_cart = a-Discount_amount                                    #discount calculation \n",
    "     print(\"total_cost_of_shopping_cart is :\",total_cost_of_shopping_cart)   "
   ]
  },
  {
   "cell_type": "code",
   "execution_count": 31,
   "id": "b76dd993-81d0-45c9-8cf8-8e493e591c0d",
   "metadata": {},
   "outputs": [
    {
     "name": "stdin",
     "output_type": "stream",
     "text": [
      "enter the number : -20\n"
     ]
    },
    {
     "name": "stdout",
     "output_type": "stream",
     "text": [
      "the number is negative\n"
     ]
    }
   ],
   "source": [
    "#Write a program that checks if a given number is even or odd\n",
    "a= int(input(\"enter the number :\"))  #user input\n",
    "if a>0:                             #checking positive numbers\n",
    "    print(\"the number is positive\") \n",
    "else:                             #checking for negative numbers\n",
    "    print(\"the number is negative\")"
   ]
  },
  {
   "cell_type": "code",
   "execution_count": 3,
   "id": "e14a079c-6c17-4f59-b352-f2d595ae578d",
   "metadata": {},
   "outputs": [
    {
     "name": "stdout",
     "output_type": "stream",
     "text": [
      "Roots are real and same\n",
      "-2.0\n"
     ]
    }
   ],
   "source": [
    "                                          '''Intermediate Level'''\n",
    "import math\n",
    "\n",
    "def findRoots(a, b, c):\n",
    "    if a == 0:\n",
    "        print(\"Invalid\")\n",
    "        return -1\n",
    "    d = b * b - 4 * a * c\n",
    "    sqrt_val = math.sqrt(abs(d))\n",
    "    if d > 0:\n",
    "        print(\"Roots are real and different \")\n",
    "        print((-b + sqrt_val)/ (2 * a))\n",
    "        print((-b - sqrt_val)/ (2 * a))\n",
    "    elif d == 0:\n",
    "        print(\"Roots are real and same\")\n",
    "        print(-b / (2*a))\n",
    "    else: # d<0\n",
    "        print(\"Roots are complex\")\n",
    "        print(- b / (2*a), \" + i\", sqrt_val)\n",
    "        print(- b / (2*a), \" - i\", sqrt_val)\n",
    "\n",
    "a = 1\n",
    "b = 4\n",
    "c = 4\n",
    "findRoots(a, b, c)"
   ]
  },
  {
   "cell_type": "code",
   "execution_count": 7,
   "id": "25918a1a-ff3c-4c55-bc1b-8d304c76eaca",
   "metadata": {},
   "outputs": [
    {
     "name": "stdin",
     "output_type": "stream",
     "text": [
      "enter the day number 7\n"
     ]
    },
    {
     "name": "stdout",
     "output_type": "stream",
     "text": [
      "the day is sunday\n"
     ]
    }
   ],
   "source": [
    "#Create a program that determines the day of the week based on the day number (1-7)\n",
    "a=int(input(\"enter the day number\"))\n",
    "if a==1:\n",
    "    print(\"The day is Monday\")\n",
    "elif a==2:\n",
    "    print(\"the day is tuesday\")\n",
    "elif a==3:\n",
    "    print(\"the day is Wednesday\")\n",
    "elif a==4:\n",
    "    print(\"the day is thursday\")\n",
    "elif a==5:\n",
    "    print(\"the day is friday\")\n",
    "elif a==6:\n",
    "    print(\"the day is saturday\")\n",
    "elif a==7:\n",
    "    print(\"the day is sunday\")   \n",
    "else:\n",
    "    print(\"invalid input\")"
   ]
  },
  {
   "cell_type": "code",
   "execution_count": 11,
   "id": "d6e4fce4-13ce-4e95-acac-d8a613fd0428",
   "metadata": {},
   "outputs": [
    {
     "name": "stdout",
     "output_type": "stream",
     "text": [
      "The factorial of 5 is 120\n"
     ]
    }
   ],
   "source": [
    "#Develop a program that calculates the factorial of a given number using recursion\n",
    "def factorial(n):\n",
    "    if n == 1:                                               #This is a recursive function to find the factorial of an integer#\n",
    "        return 1                                                  \n",
    "    else:\n",
    "        return (n * factorial(n-1))                          # recursive call to the function\n",
    "n = 5                                                        # change the value for a different result\n",
    "result = factorial(n)                                        # call the factorial function\n",
    "print(\"The factorial of\", n, \"is\", result)"
   ]
  },
  {
   "cell_type": "code",
   "execution_count": null,
   "id": "d25a03b0-964b-48e3-ab90-b683eba37a54",
   "metadata": {},
   "outputs": [],
   "source": [
    "#Write a program to find the largest among three numbers without using the `max()` function\n",
    "a=int(input(\"enter the first number : \"))\n",
    "b=int(input(\"enter the second number : \"))\n",
    "c=int(input(\"enter the third number : \"))\n",
    "def max_of_numbers(a,b,c):\n",
    "    return max_of_numbers(a,b,c)\n",
    "print(\"the maximum of three numbers is :\", max_of_numbers(a,b,c))"
   ]
  },
  {
   "cell_type": "code",
   "execution_count": 3,
   "id": "6f8069a5-c6aa-4ebb-bb16-79e14533255e",
   "metadata": {},
   "outputs": [
    {
     "name": "stdout",
     "output_type": "stream",
     "text": [
      "Welcome to Python ATM\n"
     ]
    },
    {
     "name": "stdin",
     "output_type": "stream",
     "text": [
      "Please enter your 4-digit pin:  2134\n"
     ]
    },
    {
     "name": "stdout",
     "output_type": "stream",
     "text": [
      "Invalid pin, please try again\n"
     ]
    },
    {
     "name": "stdin",
     "output_type": "stream",
     "text": [
      "Please enter your 4-digit pin:  2134\n"
     ]
    },
    {
     "name": "stdout",
     "output_type": "stream",
     "text": [
      "Invalid pin, please try again\n"
     ]
    },
    {
     "name": "stdin",
     "output_type": "stream",
     "text": [
      "Please enter your 4-digit pin:  1234\n"
     ]
    },
    {
     "name": "stdout",
     "output_type": "stream",
     "text": [
      "1. Check balance\n",
      "2. Deposit money\n",
      "3. Withdraw money\n",
      "4. Exit\n"
     ]
    },
    {
     "name": "stdin",
     "output_type": "stream",
     "text": [
      "Please choose an option:  4\n"
     ]
    },
    {
     "name": "stdout",
     "output_type": "stream",
     "text": [
      "Thank you for using Python ATM\n"
     ]
    }
   ],
   "source": [
    "#15. Create a program that simulates a basic ATM transaction menu.\n",
    "\n",
    "class Account:\n",
    "    def __init__(self, pin, balance):\n",
    "        self.pin = pin                                     # Initialize the account with a pin and a balance\n",
    "        self.balance = balance\n",
    "    def check_pin(self, pin):\n",
    "        return self.pin == pin                                            # Check if the entered pin matches the account pin\n",
    "    def get_balance(self):\n",
    "        return self.balance                                       # Get the current balance of the account\n",
    "    def deposit(self, amount):                                                # Deposit an amount to the account\n",
    "        self.balance += amount\n",
    "    def withdraw(self, amount):\n",
    "        if amount <= self.balance:                                          # Withdraw an amount from the account\n",
    "            self.balance -= amount\n",
    "            return True\n",
    "        else:\n",
    "            return False\n",
    "account = Account(1234, 1000)                            # Create an example account with pin 1234 and balance 1000\n",
    "print(\"Welcome to Python ATM\")                                 # Display a welcome message\n",
    "while True:\n",
    "    pin = int(input(\"Please enter your 4-digit pin: \"))\n",
    "    if account.check_pin(pin):\n",
    "        # Display a menu of options\n",
    "        print(\"1. Check balance\")\n",
    "        print(\"2. Deposit money\")\n",
    "        print(\"3. Withdraw money\")\n",
    "        print(\"4. Exit\")\n",
    "        choice = int(input(\"Please choose an option: \"))\n",
    "        if choice == 1:\n",
    "            print(f\"Your balance is {account.get_balance()}\")\n",
    "        elif choice == 2:\n",
    "            amount = float(input(\"Please enter the amount to deposit: \"))\n",
    "            account.deposit(amount)\n",
    "            print(f\"You deposited {amount} and your new balance is {account.get_balance()}\")\n",
    "        elif choice == 3:\n",
    "            amount = float(input(\"Please enter the amount to withdraw: \"))\n",
    "            if account.withdraw(amount):\n",
    "                print(f\"You withdrew {amount} and your new balance is {account.get_balance()}\")\n",
    "            else:\n",
    "                print(\"You do not have enough balance to withdraw that amount\")\n",
    "        elif choice == 4:\n",
    "            print(\"Thank you for using Python ATM\")\n",
    "            break\n",
    "        else:\n",
    "            print(\"Invalid choice, please try again\")\n",
    "    else:\n",
    "        print(\"Invalid pin, please try again\")"
   ]
  },
  {
   "cell_type": "code",
   "execution_count": 2,
   "id": "7a94a7d5-17c4-4ddb-a975-b1ab8bf9fc11",
   "metadata": {},
   "outputs": [
    {
     "name": "stdin",
     "output_type": "stream",
     "text": [
      "enter the string : mom\n"
     ]
    },
    {
     "name": "stdout",
     "output_type": "stream",
     "text": [
      "the given string is a palindrome\n"
     ]
    }
   ],
   "source": [
    "#Build a program that checks if a given string is a palindrome or not\n",
    "a=str(input(\"enter the string :\"))\n",
    "if a==a[::-1]:                  #Checking if given string is palindrome\n",
    "    print(\"the given string is a palindrome\")\n",
    "else:\n",
    "    print(\"the given string is not a palindrome\")"
   ]
  },
  {
   "cell_type": "code",
   "execution_count": 6,
   "id": "af658eee-10b3-42fb-9c2a-bce75afc4121",
   "metadata": {},
   "outputs": [
    {
     "name": "stdout",
     "output_type": "stream",
     "text": [
      "3.0\n",
      "5.2\n",
      "-3.0\n"
     ]
    }
   ],
   "source": [
    "#Write a program that calculates the average of a list of numbers, excluding the smallest and largest values\n",
    "def average_excluding_min_max(lst):\n",
    "    if len(lst) == 0:                    # Check if the list is empty or has only one or two elements\n",
    "        return 0\n",
    "    elif len(lst) <= 2:\n",
    "        return sum(lst) / len(lst)\n",
    "    else:\n",
    "        lst.remove(min(lst))                         # Remove the min and max values from the list\n",
    "        lst.remove(max(lst))\n",
    "        return sum(lst) / len(lst)                       # Return the average of the remaining elements\n",
    "print(average_excluding_min_max([1, 2, 3, 4, 100]))          # Test the function with some examples\n",
    "print(average_excluding_min_max([1, 1, 5, 5, 10, 8, 7])) \n",
    "print(average_excluding_min_max([-10, -4, -2, -4, -2, 0])) \n"
   ]
  },
  {
   "cell_type": "code",
   "execution_count": 10,
   "id": "3e063b15-8e60-4ad0-9eda-dda49612a5c4",
   "metadata": {},
   "outputs": [
    {
     "name": "stdin",
     "output_type": "stream",
     "text": [
      "enter the temp in celcius : 48\n"
     ]
    },
    {
     "name": "stdout",
     "output_type": "stream",
     "text": [
      "The Temperature in Farenheit is : 118.4\n"
     ]
    }
   ],
   "source": [
    "#Develop a program that converts a given temperature from Celsius to Fahrenheit\n",
    "Tempcelcius=float(input(\"enter the temp in celcius :\"))\n",
    "TempF=9/5*Tempcelcius+32\n",
    "print(\"The Temperature in Farenheit is :\",TempF)"
   ]
  },
  {
   "cell_type": "code",
   "execution_count": 2,
   "id": "6d57f5f6-3dd7-492b-a0e4-9a28ee2d00f7",
   "metadata": {},
   "outputs": [
    {
     "name": "stdin",
     "output_type": "stream",
     "text": [
      "enter the first number : 10\n",
      "enter the operator (+,-,*,/,%) : +\n",
      "enter the second number : 30\n"
     ]
    },
    {
     "name": "stdout",
     "output_type": "stream",
     "text": [
      "the sum is : 40\n"
     ]
    }
   ],
   "source": [
    "#Create a program that simulates a basic calculator for addition, subtraction, multiplication, and division\n",
    "a=int(input(\"enter the first number :\"))\n",
    "OPT=input(\"enter the operator (+,-,*,/,%) :\")\n",
    "b=int(input(\"enter the second number :\"))\n",
    "if OPT=='+':\n",
    "    a+b\n",
    "    print(\"the sum is :\",a+b)\n",
    "elif OPT=='-':\n",
    "    a-b\n",
    "    print(\"the subtraction is :\",a-b)\n",
    "elif OPT=='*':\n",
    "    a*b\n",
    "    print(\"the Multiplication is :\",a*b)\n",
    "elif OPT=='/':\n",
    "    a/b\n",
    "    print(\"the Divison is :\",a/b)\n",
    "elif OPT=='%':\n",
    "    a%b\n",
    "    print(\"the sum Modulus is :\",a%b)\n",
    "else:\n",
    "    print(\"inavlid operator\")\n"
   ]
  },
  {
   "cell_type": "code",
   "execution_count": null,
   "id": "fdaf62eb-8dc7-4f40-85b6-6d94f5f4e6a4",
   "metadata": {},
   "outputs": [],
   "source": [
    "#Write a program that determines the roots of a cubic equation using the Cardano formula"
   ]
  },
  {
   "cell_type": "code",
   "execution_count": 7,
   "id": "57e51639-67bf-45bd-a2f4-bbff9e008e53",
   "metadata": {},
   "outputs": [
    {
     "name": "stdin",
     "output_type": "stream",
     "text": [
      "enter the Salary : 1000000\n"
     ]
    },
    {
     "name": "stdout",
     "output_type": "stream",
     "text": [
      "the Income tax is: 150000.0\n"
     ]
    }
   ],
   "source": [
    "#Create a program that calculates the income tax based on the user's income and tax brackets\n",
    "a=int(input(\"enter the Salary :\"))\n",
    "if a in list(range(0,300001)):\n",
    "    print(\"no tax\")\n",
    "elif a in list(range(300000,600001)):                    # assiging conditions as per Tax Slabs in india \n",
    "    income_tax=0.05*a\n",
    "    print(\"the Income tax is:\",income_tax)\n",
    "elif a in list(range(600000,900001)):\n",
    "    income_tax=0.1*a\n",
    "    print(\"the Income tax is:\",income_tax)\n",
    "elif a in list(range(900000,1200001)):\n",
    "    income_tax=0.15*a\n",
    "    print(\"the Income tax is:\",income_tax)\n",
    "elif a in list(range(1200000,1500001)):\n",
    "    income_tax=0.2*a\n",
    "    print(\"the Income tax is:\",income_tax)\n",
    "else:\n",
    "    income_tax=0.3*a\n",
    "    print(\"the Income tax is :\",income_tax)\n",
    "    \n",
    "    "
   ]
  },
  {
   "cell_type": "code",
   "execution_count": 1,
   "id": "09fee2e8-03e5-4bce-b361-c2988903d0af",
   "metadata": {},
   "outputs": [
    {
     "name": "stdin",
     "output_type": "stream",
     "text": [
      "Enter your choice (rock, paper, scissors) or q to quit:  rock\n"
     ]
    },
    {
     "name": "stdout",
     "output_type": "stream",
     "text": [
      "You chose rock.\n",
      "The computer chose scissors.\n",
      "You win.\n",
      "Your score: 1\n",
      "Computer's score: 0\n"
     ]
    },
    {
     "name": "stdin",
     "output_type": "stream",
     "text": [
      "Enter your choice (rock, paper, scissors) or q to quit:  rock\n"
     ]
    },
    {
     "name": "stdout",
     "output_type": "stream",
     "text": [
      "You chose rock.\n",
      "The computer chose scissors.\n",
      "You win.\n",
      "Your score: 2\n",
      "Computer's score: 0\n"
     ]
    },
    {
     "name": "stdin",
     "output_type": "stream",
     "text": [
      "Enter your choice (rock, paper, scissors) or q to quit:  q\n"
     ]
    }
   ],
   "source": [
    "#Write a program that simulates a rock-paper-scissors game against the computer.\n",
    "\n",
    "import random                   # Import random module\n",
    "choices = [\"rock\", \"paper\", \"scissors\"]  # Define the choices\n",
    "\n",
    "rules = {\n",
    "    \"rock\": \"scissors\",\n",
    "    \"paper\": \"rock\",\n",
    "    \"scissors\": \"paper\"\n",
    "}\n",
    "\n",
    "score = {\n",
    "    \"user\": 0,\n",
    "    \"computer\": 0\n",
    "}\n",
    "                          \n",
    "while True:\n",
    "   \n",
    "    user_choice = input(\"Enter your choice (rock, paper, scissors) or q to quit: \").lower()           # Define the game loop\n",
    "    \n",
    "    if user_choice == \"q\":\n",
    "        break\n",
    "    \n",
    "    if user_choice not in choices:\n",
    "        print(\"Invalid choice. Try again.\")             # Check if the user's choice is valid\n",
    "        continue\n",
    "    computer_choice = random.choice(choices)\n",
    "    print(f\"You chose {user_choice}.\")\n",
    "    print(f\"The computer chose {computer_choice}.\")\n",
    "    if user_choice == computer_choice:\n",
    "        print(\"It's a tie.\")\n",
    "    elif rules[user_choice] == computer_choice:\n",
    "        print(\"You win.\")\n",
    "        score[\"user\"] += 1\n",
    "    else:\n",
    "        print(\"You lose.\")\n",
    "        score[\"computer\"] += 1\n",
    "    \n",
    "    # Print the score\n",
    "    print(f\"Your score: {score['user']}\")\n",
    "    print(f\"Computer's score: {score['computer']}\")\n"
   ]
  },
  {
   "cell_type": "code",
   "execution_count": 2,
   "id": "b48ff4f5-6a7a-46c6-bebb-eda8767ddc38",
   "metadata": {},
   "outputs": [
    {
     "name": "stdin",
     "output_type": "stream",
     "text": [
      "Enter the desired password length (at least 4):  9\n",
      "Enter the desired password complexity (low, medium, high, very high):  high\n"
     ]
    },
    {
     "name": "stdout",
     "output_type": "stream",
     "text": [
      "Your password is: goehdBRXV\n"
     ]
    }
   ],
   "source": [
    "#Develop a program that generates a random password based on user preferences (length, complexity).\n",
    "# Import string and random modules\n",
    "import string\n",
    "import random\n",
    "\n",
    "# Define the character sets\n",
    "lowercase = string.ascii_lowercase\n",
    "uppercase = string.ascii_uppercase\n",
    "digits = string.digits\n",
    "symbols = string.punctuation\n",
    "\n",
    "# Define the password complexity levels\n",
    "levels = {\n",
    "    \"low\": lowercase,\n",
    "    \"medium\": lowercase + uppercase,\n",
    "    \"high\": lowercase + uppercase + digits,\n",
    "    \"very high\": lowercase + uppercase + digits + symbols\n",
    "}\n",
    "\n",
    "# Get the user's preferences\n",
    "length = int(input(\"Enter the desired password length (at least 4): \"))\n",
    "complexity = input(\"Enter the desired password complexity (low, medium, high, very high): \").lower()\n",
    "\n",
    "# Check if the preferences are valid\n",
    "if length < 4:\n",
    "    print(\"Invalid length. Try again.\")\n",
    "elif complexity not in levels:\n",
    "    print(\"Invalid complexity. Try again.\")\n",
    "else:\n",
    "    # Generate a random password\n",
    "    password = \"\".join(random.choices(levels[complexity], k=length))\n",
    "    \n",
    "    # Print the password\n",
    "    print(f\"Your password is: {password}\")\n"
   ]
  },
  {
   "cell_type": "code",
   "execution_count": null,
   "id": "b1fd6f9d-c07d-4ae4-97d6-9d20443b34b8",
   "metadata": {},
   "outputs": [],
   "source": [
    "#Create a program that implements a simple text-based adventure game with branching scenarios.\n",
    "\n",
    "# Define the scenarios\n",
    "scenarios = {\n",
    "    \"start\": {\n",
    "        \"text\": \"You wake up in a dark and damp dungeon. You see a door, a window and a chest.\",\n",
    "        \"options\": {\n",
    "            \"door\": \"You try to open the door.\",\n",
    "            \"window\": \"You look out the window.\",\n",
    "            \"chest\": \"You open the chest.\"\n",
    "        },\n",
    "        \"next\": {\n",
    "            \"door\": \"locked\",\n",
    "            \"window\": \"escape\",\n",
    "            \"chest\": \"sword\"\n",
    "        }\n",
    "    },\n",
    "    \"locked\": {\n",
    "        \"text\": \"The door is locked. You need a key to open it.\",\n",
    "        \"options\": {\n",
    "            \"back\": \"You go back to the start.\"\n",
    "        },\n",
    "        \"next\": {\n",
    "            \"back\": \"start\"\n",
    "        }\n",
    "    },\n",
    "    \"escape\": {\n",
    "        \"text\": \"You see a forest outside the window. You can try to jump out and escape.\",\n",
    "        \"options\": {\n",
    "            \"jump\": \"You jump out of the window.\",\n",
    "            \"back\": \"You go back to the start.\"\n",
    "        },\n",
    "        \"next\": {\n",
    "            \"jump\": \"end\",\n",
    "            \"back\": \"start\"\n",
    "        }\n",
    "    },\n",
    "    \"sword\": {\n",
    "        \"text\": \"You find a sword inside the chest. You can use it to fight or break things.\",\n",
    "        \"options\": {\n",
    "            \"fight\": \"You try to fight your way out.\",\n",
    "            \"break\": \"You try to break the door with the sword.\",\n",
    "            \"back\": \"You go back to the start.\"\n",
    "        },\n",
    "        \"next\": {\n",
    "            \"fight\": \"end\",\n",
    "            \"break\": \"end\",\n",
    "            \"back\": \"start\"\n",
    "        }\n",
    "    },\n",
    "    # Add more scenarios here\n",
    "    # ...\n",
    "    # ...\n",
    "    # ...\n",
    "    # ...\n",
    "    # ...\n",
    "    # ...\n",
    "    # ...\n",
    "    # ...\n",
    "    \n",
    "    # Define the end scenario\n",
    "    # This is where the game ends\n",
    "    # You can have different endings based on the user's choices\n",
    "    # For example, you can have a happy ending, a sad ending, a funny ending, etc.\n",
    "    # Here is a generic ending\n",
    "    # Feel free to change it or add more endings\n",
    "    # Just make sure to update the next values in the previous scenarios accordingly\n",
    "    # For example, if you have an ending called 'happy', then you should have 'happy' as a value in some of the next dictionaries\n",
    "    # And you should also have a scenario called 'happy' with its own text and options\n",
    "    # The options for the end scenario should always be 'play again' or 'quit'\n",
    "    \n",
    "    # Generic ending\n",
    "    # Change or add more endings as you wish\n",
    "    # Don't forget to update the next values in the previous scenarios accordingly\n",
    "    # And also add more scenarios with their own text and options\n",
    "    # The options for the end scenario should always be 'play again' or 'quit'\n",
    "    \n",
    "    # Generic ending\n",
    "    # Change or add more endings as you wish\n",
    "    \n",
    "    # Generic ending\n",
    "    # Change or add more endings as you wish\n",
    "    \n",
    "    # Generic ending\n",
    "    # Change or add more endings as you wish"
   ]
  },
  {
   "cell_type": "code",
   "execution_count": 5,
   "id": "33c56da7-d0ee-4a97-8493-30126097b19b",
   "metadata": {},
   "outputs": [
    {
     "name": "stdin",
     "output_type": "stream",
     "text": [
      "Enter the value of a:  2\n",
      "Enter the value of b:  3\n",
      "Enter the value of c:  4\n"
     ]
    },
    {
     "name": "stdout",
     "output_type": "stream",
     "text": [
      "The solution of 2.0x + 3.0 = 4.0 is: 0.5\n"
     ]
    }
   ],
   "source": [
    "#Build a program that solves a linear equation for x, considering different cases.\n",
    "def solve_linear_equation(a, b, c):\n",
    "    # Check if a is zero\n",
    "    if a == 0:\n",
    "        # Check if b is equal to c\n",
    "        if b == c:\n",
    "            # The equation is true for any value of x\n",
    "            return \"Any value of x\"\n",
    "        else:\n",
    "            # The equation has no solution\n",
    "            return \"No solution\"\n",
    "    else:\n",
    "        # Solve for x by subtracting b from both sides and dividing by a\n",
    "        x = (c - b) / a\n",
    "        # Return the value of x\n",
    "        return x\n",
    "\n",
    "# Get the coefficients from the user\n",
    "a = float(input(\"Enter the value of a: \"))\n",
    "b = float(input(\"Enter the value of b: \"))\n",
    "c = float(input(\"Enter the value of c: \"))\n",
    "\n",
    "# Call the function and print the result\n",
    "result = solve_linear_equation(a, b, c)\n",
    "print(f\"The solution of {a}x + {b} = {c} is: {result}\")\n"
   ]
  },
  {
   "cell_type": "code",
   "execution_count": 6,
   "id": "7fe18fbc-41da-4824-90b6-534ac5facfbe",
   "metadata": {},
   "outputs": [
    {
     "name": "stdout",
     "output_type": "stream",
     "text": [
      "Question 1: What is the capital of India?\n",
      "A) Delhi\n",
      "B) Mumbai\n",
      "C) Kolkata\n",
      "D) Chennai\n"
     ]
    },
    {
     "name": "stdin",
     "output_type": "stream",
     "text": [
      "Enter your answer (A, B, C or D):  Delhi\n"
     ]
    },
    {
     "name": "stdout",
     "output_type": "stream",
     "text": [
      "Wrong!\n",
      "\n",
      "Question 2: Who is the author of Harry Potter?\n",
      "A) J.R.R. Tolkien\n",
      "B) George R.R. Martin\n",
      "C) J.K. Rowling\n",
      "D) Stephen King\n"
     ]
    },
    {
     "name": "stdin",
     "output_type": "stream",
     "text": [
      "Enter your answer (A, B, C or D):  A\n"
     ]
    },
    {
     "name": "stdout",
     "output_type": "stream",
     "text": [
      "Wrong!\n",
      "\n",
      "Question 3: Which planet is the second from the Sun?\n",
      "A) Mercury\n",
      "B) Venus\n",
      "C) Earth\n",
      "D) Mars\n"
     ]
    },
    {
     "name": "stdin",
     "output_type": "stream",
     "text": [
      "Enter your answer (A, B, C or D):  B\n"
     ]
    },
    {
     "name": "stdout",
     "output_type": "stream",
     "text": [
      "Correct!\n",
      "\n",
      "Question 4: What is the largest animal in the world?\n",
      "A) Elephant\n",
      "B) Whale\n",
      "C) Giraffe\n",
      "D) Dinosaur\n"
     ]
    },
    {
     "name": "stdin",
     "output_type": "stream",
     "text": [
      "Enter your answer (A, B, C or D):  D\n"
     ]
    },
    {
     "name": "stdout",
     "output_type": "stream",
     "text": [
      "Wrong!\n",
      "\n",
      "Question 5: How many continents are there on Earth?\n",
      "A) Five\n",
      "B) Six\n",
      "C) Seven\n",
      "D) Eight\n"
     ]
    },
    {
     "name": "stdin",
     "output_type": "stream",
     "text": [
      "Enter your answer (A, B, C or D):  C\n"
     ]
    },
    {
     "name": "stdout",
     "output_type": "stream",
     "text": [
      "Correct!\n",
      "\n",
      "Your final score is: 2/5\n",
      "Good job! You passed the quiz!\n"
     ]
    }
   ],
   "source": [
    "#Write a program that simulates a basic quiz game with multiple-choice questions and scoring.\n",
    "# Define the questions, options and answers\n",
    "questions = [\n",
    "    \"What is the capital of India?\",\n",
    "    \"Who is the author of Harry Potter?\",\n",
    "    \"Which planet is the second from the Sun?\",\n",
    "    \"What is the largest animal in the world?\",\n",
    "    \"How many continents are there on Earth?\"\n",
    "]\n",
    "\n",
    "options = [\n",
    "    [\"A) Delhi\", \"B) Mumbai\", \"C) Kolkata\", \"D) Chennai\"],\n",
    "    [\"A) J.R.R. Tolkien\", \"B) George R.R. Martin\", \"C) J.K. Rowling\", \"D) Stephen King\"],\n",
    "    [\"A) Mercury\", \"B) Venus\", \"C) Earth\", \"D) Mars\"],\n",
    "    [\"A) Elephant\", \"B) Whale\", \"C) Giraffe\", \"D) Dinosaur\"],\n",
    "    [\"A) Five\", \"B) Six\", \"C) Seven\", \"D) Eight\"]\n",
    "]\n",
    "\n",
    "answers = [\"A\", \"C\", \"B\", \"B\", \"C\"]\n",
    "\n",
    "# Define the score\n",
    "score = 0\n",
    "\n",
    "# Define the number of questions\n",
    "num_questions = len(questions)\n",
    "\n",
    "# Loop through the questions\n",
    "for i in range(num_questions):\n",
    "    # Print the question and the options\n",
    "    print(f\"Question {i+1}: {questions[i]}\")\n",
    "    print(*options[i], sep=\"\\n\")\n",
    "    \n",
    "    # Get the user's answer\n",
    "    user_answer = input(\"Enter your answer (A, B, C or D): \").upper()\n",
    "    \n",
    "    # Check if the user's answer is correct\n",
    "    if user_answer == answers[i]:\n",
    "        # Add one point to the score\n",
    "        score += 1\n",
    "        # Print a positive feedback\n",
    "        print(\"Correct!\")\n",
    "    else:\n",
    "        # Print a negative feedback\n",
    "        print(\"Wrong!\")\n",
    "    \n",
    "    # Print a blank line\n",
    "    print()\n",
    "\n",
    "# Print the final score and a message\n",
    "print(f\"Your final score is: {score}/{num_questions}\")\n",
    "if score == num_questions:\n",
    "    print(\"Excellent! You aced the quiz!\")\n",
    "elif score >= num_questions // 2:\n",
    "    print(\"Good job! You passed the quiz!\")\n",
    "else:\n",
    "    print(\"Sorry, you failed the quiz. Better luck next time!\")\n"
   ]
  },
  {
   "cell_type": "code",
   "execution_count": 7,
   "id": "f27b5e8d-0cc7-4ed5-87f3-a2ec3e97c0ac",
   "metadata": {},
   "outputs": [
    {
     "name": "stdin",
     "output_type": "stream",
     "text": [
      "enter the year :  2022\n"
     ]
    },
    {
     "name": "stdout",
     "output_type": "stream",
     "text": [
      "the entered year is a prime number\n"
     ]
    }
   ],
   "source": [
    "#Develop a program that determines whether a given year is a prime number or not.\n",
    "a=int(input(\"enter the year : \"))\n",
    "if a>0 and a%a==0:                                  #Checking Prime Number condition\n",
    "    print(\"the entered year is a prime number\")\n",
    "else:\n",
    "    print(\"the entered year is not a prime number\")"
   ]
  },
  {
   "cell_type": "code",
   "execution_count": 21,
   "id": "09874e98-7726-44b3-a7dd-b1c72ffeff09",
   "metadata": {},
   "outputs": [
    {
     "name": "stdin",
     "output_type": "stream",
     "text": [
      "enter the 1st number : 20\n",
      "enter the 2nd number : 30\n",
      "enter the 3rd number : 90\n"
     ]
    },
    {
     "name": "stdout",
     "output_type": "stream",
     "text": [
      "the sorted numbers are : [20, 30, 90]\n"
     ]
    }
   ],
   "source": [
    "a=int(input(\"enter the 1st number :\"))\n",
    "b=int(input(\"enter the 2nd number :\"))\n",
    "c=int(input(\"enter the 3rd number :\"))\n",
    "l=[a,b,c]\n",
    "l.sort()\n",
    "print(\"the sorted numbers are :\", l)"
   ]
  },
  {
   "cell_type": "code",
   "execution_count": null,
   "id": "3549af71-c02f-4d78-8174-be7496319960",
   "metadata": {},
   "outputs": [],
   "source": [
    "#Build a program that determines the roots of a quartic equation using numerical methods.\n",
    "import math\n",
    "\n",
    "def findRoots(a, b, c):\n",
    "    if a == 0:\n",
    "        print(\"Invalid\")\n",
    "        return -1\n",
    "    d = b * b - 4 * a * c\n",
    "    sqrt_val = math.sqrt(abs(d))\n",
    "    if d > 0:\n",
    "        print(\"Roots are real and different \")\n",
    "        print((-b + sqrt_val)/ (2 * a))\n",
    "        print((-b - sqrt_val)/ (2 * a))\n",
    "    elif d == 0:\n",
    "        print(\"Roots are real and same\")\n",
    "        print(-b / (2*a))\n",
    "    else: # d<0\n",
    "        print(\"Roots are complex\")\n",
    "        print(- b / (2*a), \" + i\", sqrt_val)\n",
    "        print(- b / (2*a), \" - i\", sqrt_val)\n",
    "\n",
    "a = 1\n",
    "b = 4\n",
    "c = 4\n",
    "findRoots(a, b, c)"
   ]
  },
  {
   "cell_type": "code",
   "execution_count": 32,
   "id": "42692369-77ca-4bcb-bb5c-10eab5849d85",
   "metadata": {},
   "outputs": [
    {
     "name": "stdin",
     "output_type": "stream",
     "text": [
      "Enter your weight in kilograms:  65\n",
      "Enter your height in meters:  1.65\n"
     ]
    },
    {
     "name": "stdout",
     "output_type": "stream",
     "text": [
      "Your BMI is 23.875114784205696\n",
      "You have a normal weight. You are doing great!\n"
     ]
    }
   ],
   "source": [
    "#Write a program that calculates the BMI (Body Mass Index) and provides health recommendations basedon the user's input.\n",
    "def calculate_bmi(weight, height):\n",
    "  return weight / height ** 2\n",
    "def get_health_advice(bmi):\n",
    "  if bmi < 18.5:\n",
    "    return \"You are underweight. You should eat more calories.\"\n",
    "  elif bmi < 25:\n",
    "    return \"You have a normal weight. You are doing great!\"\n",
    "  elif bmi < 30:\n",
    "    return \"You are overweight. You should lose some weight.\"\n",
    "  else:\n",
    "    return \"You are obese. You should lose a lot of weight.\"\n",
    "def main():\n",
    "  weight = float(input(\"Enter your weight in kilograms: \"))\n",
    "  height = float(input(\"Enter your height in meters: \"))\n",
    "  bmi = calculate_bmi(weight, height)\n",
    "  print(f\"Your BMI is {bmi}\")\n",
    "  print(get_health_advice(bmi))\n",
    "if __name__ == \"__main__\":\n",
    "  main()"
   ]
  },
  {
   "cell_type": "code",
   "execution_count": 39,
   "id": "3fb7bac4-46da-4adc-8792-cff9b812dda7",
   "metadata": {},
   "outputs": [
    {
     "name": "stdin",
     "output_type": "stream",
     "text": [
      "Enter a password:  kjk\n"
     ]
    },
    {
     "name": "stdout",
     "output_type": "stream",
     "text": [
      "Password is not valid.\n"
     ]
    }
   ],
   "source": [
    "\n",
    "                                                                                 '''challenging Level'''\n",
    "\n",
    "#Create a program that validates a password based on complexity rules (length, characters, etc.).\n",
    "import re\n",
    "def is_valid_password(password):\n",
    "    # Check if the password meets the minimum length requirement\n",
    "    if len(password) < 8:\n",
    "        return False\n",
    "\n",
    "    # Check if the password contains at least one uppercase letter\n",
    "    elif any(char.isupper() for char in password):\n",
    "        return False\n",
    "\n",
    "    # Check if the password contains at least one lowercase letter\n",
    "    elif any(char.islower() for char in password):\n",
    "        return False\n",
    "\n",
    "    # Check if the password contains at least one digit (0-9)\n",
    "    elif any(char.isdigit() for char in password):\n",
    "        return False\n",
    "\n",
    "    # Check if the password contains at least one special character\n",
    "    elif re.search(r'[!@#$%^&*(),.?\":{}|<>]', password):\n",
    "        return False\n",
    "\n",
    "    # If all conditions are met, the password is valid\n",
    "    return True\n",
    "\n",
    "# Test the function with a password\n",
    "password = input(\"Enter a password: \")\n",
    "if is_valid_password(password):\n",
    "    print(\"Password is valid.\")\n",
    "else:\n",
    "    print(\"Password is not valid.\")"
   ]
  },
  {
   "cell_type": "code",
   "execution_count": 36,
   "id": "ed0fedf2-dca0-408d-87c3-61a682961645",
   "metadata": {},
   "outputs": [
    {
     "name": "stdin",
     "output_type": "stream",
     "text": [
      "Enter the number of rows for the matrices:  2\n",
      "Enter the number of columns for the matrices:  3\n"
     ]
    },
    {
     "name": "stdout",
     "output_type": "stream",
     "text": [
      "Enter values for the first matrix:\n"
     ]
    },
    {
     "name": "stdin",
     "output_type": "stream",
     "text": [
      "Enter the element at position (1, 1):  1\n",
      "Enter the element at position (1, 2):  3\n",
      "Enter the element at position (1, 3):  2\n",
      "Enter the element at position (2, 1):  3\n",
      "Enter the element at position (2, 2):  6\n",
      "Enter the element at position (2, 3):  8\n"
     ]
    },
    {
     "name": "stdout",
     "output_type": "stream",
     "text": [
      "Enter values for the second matrix:\n"
     ]
    },
    {
     "name": "stdin",
     "output_type": "stream",
     "text": [
      "Enter the element at position (1, 1):  6\n",
      "Enter the element at position (1, 2):  3\n",
      "Enter the element at position (1, 3):  2\n",
      "Enter the element at position (2, 1):  5\n",
      "Enter the element at position (2, 2):  4\n",
      "Enter the element at position (2, 3):  3\n"
     ]
    },
    {
     "name": "stdout",
     "output_type": "stream",
     "text": [
      "Matrix 1:\n",
      "1.0 3.0 2.0\n",
      "3.0 6.0 8.0\n",
      "Matrix 2:\n",
      "6.0 3.0 2.0\n",
      "5.0 4.0 3.0\n",
      "Matrix Addition:\n",
      "7.0 6.0 4.0\n",
      "8.0 10.0 11.0\n",
      "Matrix Subtraction:\n",
      "-5.0 0.0 0.0\n",
      "-2.0 2.0 5.0\n"
     ]
    }
   ],
   "source": [
    "#Develop a program that performs matrix addition and subtraction based on user input.\n",
    "def create_matrix(rows, cols):\n",
    "    matrix = []\n",
    "    for i in range(rows):\n",
    "        row = []\n",
    "        for j in range(cols):\n",
    "            element = float(input(f\"Enter the element at position ({i + 1}, {j + 1}): \"))\n",
    "            row.append(element)\n",
    "        matrix.append(row)\n",
    "    return matrix\n",
    "\n",
    "def add_matrices(matrix1, matrix2):\n",
    "    if len(matrix1) != len(matrix2) or len(matrix1[0]) != len(matrix2[0]):\n",
    "        print(\"Matrix addition is not possible. Matrices must have the same dimensions.\")\n",
    "        return None\n",
    "\n",
    "    result_matrix = []\n",
    "    for i in range(len(matrix1)):\n",
    "        row = []\n",
    "        for j in range(len(matrix1[0])):\n",
    "            row.append(matrix1[i][j] + matrix2[i][j])\n",
    "        result_matrix.append(row)\n",
    "    return result_matrix\n",
    "\n",
    "def subtract_matrices(matrix1, matrix2):\n",
    "    if len(matrix1) != len(matrix2) or len(matrix1[0]) != len(matrix2[0]):\n",
    "        print(\"Matrix subtraction is not possible. Matrices must have the same dimensions.\")\n",
    "        return None\n",
    "\n",
    "    result_matrix = []\n",
    "    for i in range(len(matrix1)):\n",
    "        row = []\n",
    "        for j in range(len(matrix1[0])):\n",
    "            row.append(matrix1[i][j] - matrix2[i][j])\n",
    "        result_matrix.append(row)\n",
    "    return result_matrix\n",
    "\n",
    "def print_matrix(matrix):\n",
    "    for row in matrix:\n",
    "        print(\" \".join(map(str, row)))\n",
    "\n",
    "def main():\n",
    "    try:\n",
    "        rows = int(input(\"Enter the number of rows for the matrices: \"))\n",
    "        cols = int(input(\"Enter the number of columns for the matrices: \"))\n",
    "\n",
    "        print(\"Enter values for the first matrix:\")\n",
    "        matrix1 = create_matrix(rows, cols)\n",
    "\n",
    "        print(\"Enter values for the second matrix:\")\n",
    "        matrix2 = create_matrix(rows, cols)\n",
    "\n",
    "        print(\"Matrix 1:\")\n",
    "        print_matrix(matrix1)\n",
    "\n",
    "        print(\"Matrix 2:\")\n",
    "        print_matrix(matrix2)\n",
    "\n",
    "        print(\"Matrix Addition:\")\n",
    "        result_addition = add_matrices(matrix1, matrix2)\n",
    "        if result_addition:\n",
    "            print_matrix(result_addition)\n",
    "\n",
    "        print(\"Matrix Subtraction:\")\n",
    "        result_subtraction = subtract_matrices(matrix1, matrix2)\n",
    "        if result_subtraction:\n",
    "            print_matrix(result_subtraction)\n",
    "\n",
    "    except ValueError:\n",
    "        print(\"Invalid input. Please enter valid numeric values for rows and columns.\")\n",
    "\n",
    "if __name__ == \"__main__\":\n",
    "    main()\n"
   ]
  },
  {
   "cell_type": "code",
   "execution_count": 37,
   "id": "7ef927b2-e437-45bb-b92c-9e6250537b49",
   "metadata": {},
   "outputs": [
    {
     "name": "stdin",
     "output_type": "stream",
     "text": [
      "Enter the first number:  6\n",
      "Enter the second number:  3\n"
     ]
    },
    {
     "name": "stdout",
     "output_type": "stream",
     "text": [
      "The GCD of 6 and 3 is 3\n"
     ]
    }
   ],
   "source": [
    "#Write a program that calculates the greatest common divisor (GCD) of two numbers using the Euclidean algorithm.\n",
    "def gcd_euclidean(a, b):\n",
    "    while b:\n",
    "        a, b = b, a % b\n",
    "    return a\n",
    "try:\n",
    "    num1 = int(input(\"Enter the first number: \"))\n",
    "    num2 = int(input(\"Enter the second number: \"))\n",
    "    if num1 < 0 or num2 < 0:\n",
    "        print(\"Please enter positive integers.\")\n",
    "    else:\n",
    "        result = gcd_euclidean(num1, num2)\n",
    "        print(f\"The GCD of {num1} and {num2} is {result}\")\n",
    "except ValueError:\n",
    "    print(\"Invalid input. Please enter valid integers.\")\n"
   ]
  },
  {
   "cell_type": "code",
   "execution_count": 41,
   "id": "256da29f-f6b9-4c72-8122-414838bb7f99",
   "metadata": {},
   "outputs": [
    {
     "name": "stdin",
     "output_type": "stream",
     "text": [
      "Enter the number of rows for the first matrix:  2\n",
      "Enter the number of columns for the first matrix:  2\n",
      "Enter the number of rows for the second matrix:  2\n",
      "Enter the number of columns for the second matrix:  2\n"
     ]
    },
    {
     "name": "stdout",
     "output_type": "stream",
     "text": [
      "Enter values for the first matrix:\n"
     ]
    },
    {
     "name": "stdin",
     "output_type": "stream",
     "text": [
      "Enter the element at position (1, 1):  2\n",
      "Enter the element at position (1, 2):  3\n",
      "Enter the element at position (2, 1):  1\n",
      "Enter the element at position (2, 2):  3\n"
     ]
    },
    {
     "name": "stdout",
     "output_type": "stream",
     "text": [
      "Enter values for the second matrix:\n"
     ]
    },
    {
     "name": "stdin",
     "output_type": "stream",
     "text": [
      "Enter the element at position (1, 1):  8\n",
      "Enter the element at position (1, 2):  9\n",
      "Enter the element at position (2, 1):  4\n",
      "Enter the element at position (2, 2):  3\n"
     ]
    },
    {
     "name": "stdout",
     "output_type": "stream",
     "text": [
      "Matrix 1:\n",
      "2.0 3.0\n",
      "1.0 3.0\n",
      "Matrix 2:\n",
      "8.0 9.0\n",
      "4.0 3.0\n",
      "Matrix Multiplication Result:\n",
      "28.0 27.0\n",
      "20.0 18.0\n"
     ]
    }
   ],
   "source": [
    "#Build a program that performs matrix multiplication using nested loops and conditional statements.\n",
    "def matrix_multiply(matrix1, matrix2):\n",
    "    # Check if the matrices can be multiplied\n",
    "    if len(matrix1[0]) != len(matrix2):\n",
    "        print(\"Matrix multiplication is not possible. The number of columns in matrix1 must be equal to the number of rows in matrix2.\")\n",
    "        return None\n",
    "\n",
    "    # Initialize the result matrix with zeros\n",
    "    result_matrix = []\n",
    "    for i in range(len(matrix1)):\n",
    "        row = []\n",
    "        for j in range(len(matrix2[0])):\n",
    "            row.append(0)\n",
    "        result_matrix.append(row)\n",
    "\n",
    "    # Perform matrix multiplication\n",
    "    for i in range(len(matrix1)):\n",
    "        for j in range(len(matrix2[0])):\n",
    "            for k in range(len(matrix2)):\n",
    "                result_matrix[i][j] += matrix1[i][k] * matrix2[k][j]\n",
    "\n",
    "    return result_matrix\n",
    "\n",
    "def print_matrix(matrix):\n",
    "    for row in matrix:\n",
    "        print(\" \".join(map(str, row)))\n",
    "\n",
    "def main():\n",
    "    try:\n",
    "        rows1 = int(input(\"Enter the number of rows for the first matrix: \"))\n",
    "        cols1 = int(input(\"Enter the number of columns for the first matrix: \"))\n",
    "\n",
    "        rows2 = int(input(\"Enter the number of rows for the second matrix: \"))\n",
    "        cols2 = int(input(\"Enter the number of columns for the second matrix: \"))\n",
    "\n",
    "        if cols1 != rows2:\n",
    "            print(\"Matrix multiplication is not possible. The number of columns in the first matrix must be equal to the number of rows in the second matrix.\")\n",
    "            return\n",
    "\n",
    "        print(\"Enter values for the first matrix:\")\n",
    "        matrix1 = []\n",
    "        for i in range(rows1):\n",
    "            row = []\n",
    "            for j in range(cols1):\n",
    "                element = float(input(f\"Enter the element at position ({i + 1}, {j + 1}): \"))\n",
    "                row.append(element)\n",
    "            matrix1.append(row)\n",
    "\n",
    "        print(\"Enter values for the second matrix:\")\n",
    "        matrix2 = []\n",
    "        for i in range(rows2):\n",
    "            row = []\n",
    "            for j in range(cols2):\n",
    "                element = float(input(f\"Enter the element at position ({i + 1}, {j + 1}): \"))\n",
    "                row.append(element)\n",
    "            matrix2.append(row)\n",
    "\n",
    "        print(\"Matrix 1:\")\n",
    "        print_matrix(matrix1)\n",
    "\n",
    "        print(\"Matrix 2:\")\n",
    "        print_matrix(matrix2)\n",
    "\n",
    "        result = matrix_multiply(matrix1, matrix2)\n",
    "        if result:\n",
    "            print(\"Matrix Multiplication Result:\")\n",
    "            print_matrix(result)\n",
    "\n",
    "    except ValueError:\n",
    "        print(\"Invalid input. Please enter valid numeric values for matrix elements.\")\n",
    "\n",
    "if __name__ == \"__main__\":\n",
    "    main()\n"
   ]
  },
  {
   "cell_type": "code",
   "execution_count": 42,
   "id": "1845a2f1-13a3-49fa-a123-2f245c782b5b",
   "metadata": {},
   "outputs": [
    {
     "name": "stdout",
     "output_type": "stream",
     "text": [
      "Welcome to Tic-Tac-Toe!\n",
      "   |   |\n",
      "   |   |   \n",
      "   |   |\n",
      "-----------\n",
      "   |   |\n",
      "   |   |   \n",
      "   |   |\n",
      "-----------\n",
      "   |   |\n",
      "   |   |   \n",
      "   |   |\n"
     ]
    },
    {
     "name": "stdin",
     "output_type": "stream",
     "text": [
      "Enter your move (1-9):  3\n"
     ]
    },
    {
     "name": "stdout",
     "output_type": "stream",
     "text": [
      "   |   |\n",
      "   |   | X \n",
      "   |   |\n",
      "-----------\n",
      "   |   |\n",
      "   |   |   \n",
      "   |   |\n",
      "-----------\n",
      "   |   |\n",
      "   |   |   \n",
      "   |   |\n",
      "   |   |\n",
      "   |   | X \n",
      "   |   |\n",
      "-----------\n",
      "   |   |\n",
      "   |   |   \n",
      "   |   |\n",
      "-----------\n",
      "   |   |\n",
      "   |   | O \n",
      "   |   |\n"
     ]
    },
    {
     "name": "stdin",
     "output_type": "stream",
     "text": [
      "Enter your move (1-9):  2\n"
     ]
    },
    {
     "name": "stdout",
     "output_type": "stream",
     "text": [
      "   |   |\n",
      "   | X | X \n",
      "   |   |\n",
      "-----------\n",
      "   |   |\n",
      "   |   |   \n",
      "   |   |\n",
      "-----------\n",
      "   |   |\n",
      "   |   | O \n",
      "   |   |\n",
      "   |   |\n",
      "   | X | X \n",
      "   |   |\n",
      "-----------\n",
      "   |   |\n",
      " O |   |   \n",
      "   |   |\n",
      "-----------\n",
      "   |   |\n",
      "   |   | O \n",
      "   |   |\n"
     ]
    },
    {
     "name": "stdin",
     "output_type": "stream",
     "text": [
      "Enter your move (1-9):  4\n"
     ]
    },
    {
     "name": "stdout",
     "output_type": "stream",
     "text": [
      "Invalid move. Try again.\n"
     ]
    },
    {
     "name": "stdin",
     "output_type": "stream",
     "text": [
      "Enter your move (1-9):  3\n"
     ]
    },
    {
     "name": "stdout",
     "output_type": "stream",
     "text": [
      "Invalid move. Try again.\n"
     ]
    },
    {
     "name": "stdin",
     "output_type": "stream",
     "text": [
      "Enter your move (1-9):  2\n"
     ]
    },
    {
     "name": "stdout",
     "output_type": "stream",
     "text": [
      "Invalid move. Try again.\n"
     ]
    },
    {
     "name": "stdin",
     "output_type": "stream",
     "text": [
      "Enter your move (1-9):  7\n"
     ]
    },
    {
     "name": "stdout",
     "output_type": "stream",
     "text": [
      "   |   |\n",
      "   | X | X \n",
      "   |   |\n",
      "-----------\n",
      "   |   |\n",
      " O |   |   \n",
      "   |   |\n",
      "-----------\n",
      "   |   |\n",
      " X |   | O \n",
      "   |   |\n",
      "   |   |\n",
      "   | X | X \n",
      "   |   |\n",
      "-----------\n",
      "   |   |\n",
      " O | O |   \n",
      "   |   |\n",
      "-----------\n",
      "   |   |\n",
      " X |   | O \n",
      "   |   |\n"
     ]
    },
    {
     "name": "stdin",
     "output_type": "stream",
     "text": [
      "Enter your move (1-9):  6\n"
     ]
    },
    {
     "name": "stdout",
     "output_type": "stream",
     "text": [
      "   |   |\n",
      "   | X | X \n",
      "   |   |\n",
      "-----------\n",
      "   |   |\n",
      " O | O | X \n",
      "   |   |\n",
      "-----------\n",
      "   |   |\n",
      " X |   | O \n",
      "   |   |\n",
      "   |   |\n",
      "   | X | X \n",
      "   |   |\n",
      "-----------\n",
      "   |   |\n",
      " O | O | X \n",
      "   |   |\n",
      "-----------\n",
      "   |   |\n",
      " X | O | O \n",
      "   |   |\n"
     ]
    },
    {
     "name": "stdin",
     "output_type": "stream",
     "text": [
      "Enter your move (1-9):  7\n"
     ]
    },
    {
     "name": "stdout",
     "output_type": "stream",
     "text": [
      "Invalid move. Try again.\n"
     ]
    },
    {
     "name": "stdin",
     "output_type": "stream",
     "text": [
      "Enter your move (1-9):  1\n"
     ]
    },
    {
     "name": "stdout",
     "output_type": "stream",
     "text": [
      "   |   |\n",
      " X | X | X \n",
      "   |   |\n",
      "-----------\n",
      "   |   |\n",
      " O | O | X \n",
      "   |   |\n",
      "-----------\n",
      "   |   |\n",
      " X | O | O \n",
      "   |   |\n",
      "X wins!\n",
      "Game Over!\n"
     ]
    }
   ],
   "source": [
    "#Create a program that simulates a basic text-based tic-tac-toe game against the computer.\n",
    "import random\n",
    "\n",
    "# Initialize the Tic-Tac-Toe board\n",
    "board = [\" \" for _ in range(9)]\n",
    "\n",
    "# Function to print the Tic-Tac-Toe board\n",
    "def print_board(board):\n",
    "    print(\"   |   |\")\n",
    "    print(f\" {board[0]} | {board[1]} | {board[2]} \")\n",
    "    print(\"   |   |\")\n",
    "    print(\"-----------\")\n",
    "    print(\"   |   |\")\n",
    "    print(f\" {board[3]} | {board[4]} | {board[5]} \")\n",
    "    print(\"   |   |\")\n",
    "    print(\"-----------\")\n",
    "    print(\"   |   |\")\n",
    "    print(f\" {board[6]} | {board[7]} | {board[8]} \")\n",
    "    print(\"   |   |\")\n",
    "\n",
    "# Function to check if the board is full\n",
    "def is_board_full(board):\n",
    "    return \" \" not in board\n",
    "\n",
    "# Function to check if a player has won\n",
    "def check_winner(board, player):\n",
    "    # Check rows\n",
    "    for i in range(0, 9, 3):\n",
    "        if board[i] == board[i + 1] == board[i + 2] == player:\n",
    "            return True\n",
    "\n",
    "    # Check columns\n",
    "    for i in range(3):\n",
    "        if board[i] == board[i + 3] == board[i + 6] == player:\n",
    "            return True\n",
    "\n",
    "    # Check diagonals\n",
    "    if board[0] == board[4] == board[8] == player:\n",
    "        return True\n",
    "    if board[2] == board[4] == board[6] == player:\n",
    "        return True\n",
    "\n",
    "    return False\n",
    "\n",
    "# Function for the computer's move (random)\n",
    "def computer_move(board):\n",
    "    while True:\n",
    "        move = random.randint(0, 8)\n",
    "        if board[move] == \" \":\n",
    "            return move\n",
    "\n",
    "# Main game loop\n",
    "def play_game():\n",
    "    player = \"X\"\n",
    "    computer = \"O\"\n",
    "    current_player = player\n",
    "\n",
    "    print(\"Welcome to Tic-Tac-Toe!\")\n",
    "    print_board(board)\n",
    "\n",
    "    while True:\n",
    "        if current_player == player:\n",
    "            try:\n",
    "                move = int(input(\"Enter your move (1-9): \")) - 1\n",
    "                if 0 <= move <= 8 and board[move] == \" \":\n",
    "                    board[move] = player\n",
    "                else:\n",
    "                    print(\"Invalid move. Try again.\")\n",
    "                    continue\n",
    "            except ValueError:\n",
    "                print(\"Invalid input. Enter a number between 1 and 9.\")\n",
    "                continue\n",
    "        else:\n",
    "            move = computer_move(board)\n",
    "            board[move] = computer\n",
    "\n",
    "        print_board(board)\n",
    "\n",
    "        if check_winner(board, current_player):\n",
    "            print(f\"{current_player} wins!\")\n",
    "            break\n",
    "        elif is_board_full(board):\n",
    "            print(\"It's a tie!\")\n",
    "            break\n",
    "\n",
    "        current_player = player if current_player == computer else computer\n",
    "\n",
    "    print(\"Game Over!\")\n",
    "\n",
    "if __name__ == \"__main__\":\n",
    "    play_game()\n"
   ]
  },
  {
   "cell_type": "code",
   "execution_count": 43,
   "id": "e6efbce0-fa15-4613-a254-2fd18010a48a",
   "metadata": {},
   "outputs": [
    {
     "name": "stdin",
     "output_type": "stream",
     "text": [
      "Enter the number of Fibonacci terms to generate:  3\n"
     ]
    },
    {
     "name": "stdout",
     "output_type": "stream",
     "text": [
      "Fibonacci Sequence:\n",
      "[0, 1, 1]\n"
     ]
    }
   ],
   "source": [
    "#Write a program that generates Fibonacci numbers up to a specified term using iterative methods\n",
    "def generate_fibonacci(n):\n",
    "    fibonacci_sequence = [0, 1]  # Initialize the sequence with the first two Fibonacci numbers\n",
    "\n",
    "    while len(fibonacci_sequence) < n:\n",
    "        next_fibonacci = fibonacci_sequence[-1] + fibonacci_sequence[-2]\n",
    "        fibonacci_sequence.append(next_fibonacci)\n",
    "\n",
    "    return fibonacci_sequence\n",
    "\n",
    "try:\n",
    "    n = int(input(\"Enter the number of Fibonacci terms to generate: \"))\n",
    "\n",
    "    if n <= 0:\n",
    "        print(\"Please enter a positive integer.\")\n",
    "    else:\n",
    "        fibonacci_sequence = generate_fibonacci(n)\n",
    "        print(\"Fibonacci Sequence:\")\n",
    "        print(fibonacci_sequence)\n",
    "except ValueError:\n",
    "    print(\"Invalid input. Please enter a valid integer.\")\n"
   ]
  },
  {
   "cell_type": "code",
   "execution_count": 44,
   "id": "0fe38d97-b10f-4586-8df5-45367200dd72",
   "metadata": {},
   "outputs": [
    {
     "name": "stdin",
     "output_type": "stream",
     "text": [
      "Enter the value of n to calculate the nth Fibonacci number:  3\n"
     ]
    },
    {
     "name": "stdout",
     "output_type": "stream",
     "text": [
      "The 3-th Fibonacci number is: 2\n"
     ]
    }
   ],
   "source": [
    "#Develop a program that calculates the nth term of the Fibonacci sequence using memoization.\n",
    "\n",
    "# Create a dictionary to store already calculated Fibonacci numbers\n",
    "fib_cache = {}\n",
    "\n",
    "def fibonacci_memo(n):\n",
    "    # Check if the result is already cached\n",
    "    if n in fib_cache:\n",
    "        return fib_cache[n]\n",
    "\n",
    "    # Calculate Fibonacci number recursively\n",
    "    if n <= 1:\n",
    "        fib_cache[n] = n\n",
    "    else:\n",
    "        fib_cache[n] = fibonacci_memo(n - 1) + fibonacci_memo(n - 2)\n",
    "\n",
    "    return fib_cache[n]\n",
    "\n",
    "try:\n",
    "    n = int(input(\"Enter the value of n to calculate the nth Fibonacci number: \"))\n",
    "\n",
    "    if n < 0:\n",
    "        print(\"Please enter a non-negative integer.\")\n",
    "    else:\n",
    "        result = fibonacci_memo(n)\n",
    "        print(f\"The {n}-th Fibonacci number is: {result}\")\n",
    "except ValueError:\n",
    "    print(\"Invalid input. Please enter a valid integer.\")\n"
   ]
  },
  {
   "cell_type": "code",
   "execution_count": 46,
   "id": "930a13ac-01d8-47fa-ba00-208428598091",
   "metadata": {},
   "outputs": [
    {
     "name": "stdin",
     "output_type": "stream",
     "text": [
      "Enter the year (e.g., 2023):  2022\n",
      "Enter the month (1-12):  3\n"
     ]
    },
    {
     "name": "stdout",
     "output_type": "stream",
     "text": [
      "Calendar for 2022/3\n",
      "\n",
      "     March 2022\n",
      "Mo Tu We Th Fr Sa Su\n",
      "    1  2  3  4  5  6\n",
      " 7  8  9 10 11 12 13\n",
      "14 15 16 17 18 19 20\n",
      "21 22 23 24 25 26 27\n",
      "28 29 30 31\n",
      "\n"
     ]
    }
   ],
   "source": [
    "#Create a program that generates a calendar for a given month and year using conditional statements.\n",
    "import calendar\n",
    "\n",
    "def generate_calendar(year, month):\n",
    "    # Create a calendar object for the given month and year\n",
    "    cal = calendar.month(year, month)\n",
    "\n",
    "    # Print the calendar\n",
    "    print(\"Calendar for {}/{}\\n\".format(year, month))\n",
    "    print(cal)\n",
    "\n",
    "try:\n",
    "    year = int(input(\"Enter the year (e.g., 2023): \"))\n",
    "    month = int(input(\"Enter the month (1-12): \"))\n",
    "\n",
    "    if 1 <= month <= 12:\n",
    "        generate_calendar(year, month)\n",
    "    else:\n",
    "        print(\"Invalid month. Please enter a number between 1 and 12.\")\n",
    "except ValueError:\n",
    "    print(\"Invalid input. Please enter valid integers for year and month.\")\n"
   ]
  },
  {
   "cell_type": "code",
   "execution_count": 47,
   "id": "c2707eac-fb97-4c13-b128-da4bbffd4164",
   "metadata": {},
   "outputs": [
    {
     "name": "stdout",
     "output_type": "stream",
     "text": [
      "\n",
      "Your hand: [10, 5] Value: 15\n",
      "Computer's hand: [6, '?']\n"
     ]
    },
    {
     "name": "stdin",
     "output_type": "stream",
     "text": [
      "Do you want to 'hit' or 'stand'?  9\n"
     ]
    },
    {
     "name": "stdout",
     "output_type": "stream",
     "text": [
      "Invalid input. Please enter 'hit' or 'stand'.\n",
      "\n",
      "Your hand: [10, 5] Value: 15\n",
      "Computer's hand: [6, '?']\n"
     ]
    },
    {
     "name": "stdin",
     "output_type": "stream",
     "text": [
      "Do you want to 'hit' or 'stand'?  hit\n"
     ]
    },
    {
     "name": "stdout",
     "output_type": "stream",
     "text": [
      "Bust! You went over 21. You lose.\n",
      "Game Over\n"
     ]
    }
   ],
   "source": [
    "#Build a program that simulates a basic text-based blackjack game against the computer.\n",
    "import random\n",
    "\n",
    "# Function to calculate the total value of a hand\n",
    "def calculate_hand_value(hand):\n",
    "    value = sum(hand)\n",
    "    if 11 in hand and value > 21:\n",
    "        hand.remove(11)\n",
    "        hand.append(1)\n",
    "    return value\n",
    "\n",
    "# Function to deal a card\n",
    "def deal_card():\n",
    "    return random.randint(2, 11)\n",
    "\n",
    "# Initialize the deck and player and computer hands\n",
    "deck = [2, 3, 4, 5, 6, 7, 8, 9, 10, 11] * 4\n",
    "random.shuffle(deck)\n",
    "player_hand = [deal_card(), deal_card()]\n",
    "computer_hand = [deal_card()]\n",
    "\n",
    "# Game loop\n",
    "while True:\n",
    "    player_value = calculate_hand_value(player_hand)\n",
    "    computer_value = calculate_hand_value(computer_hand)\n",
    "\n",
    "    print(\"\\nYour hand:\", player_hand, \"Value:\", player_value)\n",
    "    print(\"Computer's hand:\", [computer_hand[0], \"?\"])\n",
    "\n",
    "    # Check for blackjack\n",
    "    if player_value == 21:\n",
    "        print(\"Congratulations! You have a Blackjack!\")\n",
    "        break\n",
    "    elif computer_value == 21:\n",
    "        print(\"Computer has a Blackjack. You lose.\")\n",
    "        break\n",
    "\n",
    "    # Player's turn\n",
    "    action = input(\"Do you want to 'hit' or 'stand'? \").lower()\n",
    "    if action == 'hit':\n",
    "        player_hand.append(deal_card())\n",
    "        if calculate_hand_value(player_hand) > 21:\n",
    "            print(\"Bust! You went over 21. You lose.\")\n",
    "            break\n",
    "    elif action == 'stand':\n",
    "        # Computer's turn\n",
    "        while calculate_hand_value(computer_hand) < 17:\n",
    "            computer_hand.append(deal_card())\n",
    "\n",
    "        print(\"\\nComputer's hand:\", computer_hand, \"Value:\", calculate_hand_value(computer_hand))\n",
    "\n",
    "        # Determine the winner\n",
    "        if calculate_hand_value(computer_hand) > 21:\n",
    "            print(\"Computer busts! You win.\")\n",
    "        elif calculate_hand_value(player_hand) > calculate_hand_value(computer_hand):\n",
    "            print(\"You win!\")\n",
    "        elif calculate_hand_value(player_hand) < calculate_hand_value(computer_hand):\n",
    "            print(\"Computer wins.\")\n",
    "        else:\n",
    "            print(\"It's a tie!\")\n",
    "        break\n",
    "    else:\n",
    "        print(\"Invalid input. Please enter 'hit' or 'stand'.\")\n",
    "\n",
    "print(\"Game Over\")\n"
   ]
  },
  {
   "cell_type": "code",
   "execution_count": 48,
   "id": "01e90c76-57c8-4a76-ab5d-ef378a0eb69e",
   "metadata": {},
   "outputs": [
    {
     "name": "stdin",
     "output_type": "stream",
     "text": [
      "Enter a number to find its prime factors:  9\n"
     ]
    },
    {
     "name": "stdout",
     "output_type": "stream",
     "text": [
      "The prime factors of 9 are: [3, 3]\n"
     ]
    }
   ],
   "source": [
    "#Write a program that generates the prime factors of a given number using trial division.\n",
    "def prime_factors(n):\n",
    "    factors = []\n",
    "    divisor = 2  # Start with the smallest prime number\n",
    "\n",
    "    while divisor <= n:\n",
    "        if n % divisor == 0:\n",
    "            factors.append(divisor)\n",
    "            n //= divisor  # Divide n by the divisor\n",
    "        else:\n",
    "            divisor += 1  # Try the next number\n",
    "\n",
    "    return factors\n",
    "\n",
    "try:\n",
    "    num = int(input(\"Enter a number to find its prime factors: \"))\n",
    "\n",
    "    if num <= 1:\n",
    "        print(\"Please enter a positive integer greater than 1.\")\n",
    "    else:\n",
    "        factors = prime_factors(num)\n",
    "        if len(factors) == 1:\n",
    "            print(f\"{num} is a prime number.\")\n",
    "        else:\n",
    "            print(f\"The prime factors of {num} are: {factors}\")\n",
    "except ValueError:\n",
    "    print(\"Invalid input. Please enter a valid integer.\")\n"
   ]
  },
  {
   "cell_type": "code",
   "execution_count": null,
   "id": "1555fece-4c78-4a8d-b852-c0b9114a0121",
   "metadata": {},
   "outputs": [],
   "source": []
  }
 ],
 "metadata": {
  "kernelspec": {
   "display_name": "Python 3 (ipykernel)",
   "language": "python",
   "name": "python3"
  },
  "language_info": {
   "codemirror_mode": {
    "name": "ipython",
    "version": 3
   },
   "file_extension": ".py",
   "mimetype": "text/x-python",
   "name": "python",
   "nbconvert_exporter": "python",
   "pygments_lexer": "ipython3",
   "version": "3.11.3"
  }
 },
 "nbformat": 4,
 "nbformat_minor": 5
}
