{
 "cells": [
  {
   "cell_type": "code",
   "execution_count": 1,
   "id": "a6839c8b-70d4-4ff6-acf2-fbc29dcebda3",
   "metadata": {},
   "outputs": [],
   "source": [
    "#program for swaping variable values without using other temporary variable\n",
    "\n",
    "a=2\n",
    "b=4\n",
    "a=a+b #a=6 here\n",
    "b=a-b #b=6-4 =2 now b=2'''\n",
    "a=a-b #a=6-2 =4 now a=4'''"
   ]
  },
  {
   "cell_type": "code",
   "execution_count": 2,
   "id": "58801b26-862a-483c-8836-bfb549f50e77",
   "metadata": {},
   "outputs": [
    {
     "data": {
      "text/plain": [
       "4"
      ]
     },
     "execution_count": 2,
     "metadata": {},
     "output_type": "execute_result"
    }
   ],
   "source": [
    "a"
   ]
  },
  {
   "cell_type": "code",
   "execution_count": 3,
   "id": "531da5fa-3937-4da2-b531-a2663ca7914a",
   "metadata": {},
   "outputs": [
    {
     "data": {
      "text/plain": [
       "2"
      ]
     },
     "execution_count": 3,
     "metadata": {},
     "output_type": "execute_result"
    }
   ],
   "source": [
    "b"
   ]
  },
  {
   "cell_type": "code",
   "execution_count": 5,
   "id": "d292fa8c-649c-43df-9c66-df25f971a335",
   "metadata": {},
   "outputs": [
    {
     "name": "stdin",
     "output_type": "stream",
     "text": [
      " 10\n",
      " 2\n"
     ]
    },
    {
     "name": "stdout",
     "output_type": "stream",
     "text": [
      "area of rectangle 20.0\n"
     ]
    }
   ],
   "source": [
    "#program to calculate area of rectangle taking inputs from user, calculating and displaying area\n",
    "\n",
    "length=float(input()) #taking inputs from user using input() function considering length and width as variables'''\n",
    "width=float(input())  \n",
    "area=length*width\n",
    "print(\"area of rectangle\",area) #printing area using print function"
   ]
  },
  {
   "cell_type": "code",
   "execution_count": 6,
   "id": "8b330b8f-c129-4f37-bde1-a200477e1c69",
   "metadata": {},
   "outputs": [
    {
     "name": "stdin",
     "output_type": "stream",
     "text": [
      " 36\n"
     ]
    },
    {
     "name": "stdout",
     "output_type": "stream",
     "text": [
      "Temparature in Fahrenheit 96.8\n"
     ]
    }
   ],
   "source": [
    "#program to convert degree celcius to Fahrenheit\n",
    "\n",
    "Tempcelcuis = float(input())       #taking input from user\n",
    "TempF = (9/5) * Tempcelcuis + 32    #conversion\n",
    "print(\"Temparature in Fahrenheit\", TempF)"
   ]
  },
  {
   "cell_type": "code",
   "execution_count": 7,
   "id": "2204545e-a1bf-43eb-921b-e87aa0eac123",
   "metadata": {},
   "outputs": [
    {
     "name": "stdin",
     "output_type": "stream",
     "text": [
      " ubedur rahman khan\n"
     ]
    },
    {
     "name": "stdout",
     "output_type": "stream",
     "text": [
      "length of a 18\n"
     ]
    }
   ],
   "source": [
    "#program to take string as input from user and prints length of string\n",
    "\n",
    "a=str(input())\n",
    "len(a)\n",
    "print(\"length of a\",len(a))"
   ]
  },
  {
   "cell_type": "code",
   "execution_count": 9,
   "id": "42b55dfa-3888-4224-a8f6-7ccad325aa46",
   "metadata": {},
   "outputs": [
    {
     "name": "stdin",
     "output_type": "stream",
     "text": [
      " ubedur rahman khan\n"
     ]
    },
    {
     "name": "stdout",
     "output_type": "stream",
     "text": [
      "The number of vowels in the string is: 6\n"
     ]
    }
   ],
   "source": [
    "#program to count vowels in a string\n",
    "s=str(input())\n",
    "vowels = {\"a\", \"e\", \"i\", \"o\", \"u\"}\n",
    "count = 0\n",
    "\n",
    "for char in s.lower():\n",
    "  # If the character is a vowel, increment the counter\n",
    "  if char in vowels:\n",
    "    count += 1\n",
    "\n",
    "# Print the number of vowels in the string\n",
    "print(\"The number of vowels in the string is:\", count)"
   ]
  },
  {
   "cell_type": "code",
   "execution_count": 11,
   "id": "dd02f911-e40c-47ab-8819-58d6383057a5",
   "metadata": {},
   "outputs": [
    {
     "name": "stdin",
     "output_type": "stream",
     "text": [
      " sharukh\n"
     ]
    },
    {
     "name": "stdout",
     "output_type": "stream",
     "text": [
      "The reversed string is : hkurahs\n"
     ]
    }
   ],
   "source": [
    "''' program to reverse the order of characters using string slicing and print\n",
    "the reversed string'''\n",
    "a=str(input())\n",
    "a[::-1]\n",
    "print(\"The reversed string is :\" , a[::-1])"
   ]
  },
  {
   "cell_type": "code",
   "execution_count": 21,
   "id": "f48d5b24-1f17-4c79-a96f-6a716771f902",
   "metadata": {},
   "outputs": [
    {
     "name": "stdin",
     "output_type": "stream",
     "text": [
      " madam\n"
     ]
    },
    {
     "name": "stdout",
     "output_type": "stream",
     "text": [
      "string is palindrome\n"
     ]
    }
   ],
   "source": [
    "a=str(input())\n",
    "b=a[::-1] #reversing String \n",
    "if b==a :                           #checking reversed string with given string \n",
    "  print ('string is palindrome') \n",
    "else :\n",
    "  print('string is not palindrome') "
   ]
  },
  {
   "cell_type": "code",
   "execution_count": 22,
   "id": "fae9089e-6034-4fc9-b26c-f42f7ace202e",
   "metadata": {},
   "outputs": [
    {
     "name": "stdin",
     "output_type": "stream",
     "text": [
      " \"   ubed  \"\n"
     ]
    },
    {
     "name": "stdout",
     "output_type": "stream",
     "text": [
      "The modified string is: \"ubed\"\n"
     ]
    }
   ],
   "source": [
    "'''program that takes a string as input and removes all the spaces from\n",
    "it. Print the modified string without spaces'''\n",
    "\n",
    "\n",
    "a = str(input())                                                        #user input\n",
    "a.replace(\" \", \"\")                                                      #replaces spaces (” “) with empty strings (”“)\n",
    "print(\"The modified string is:\", a.replace(\" \", \"\"))                          #print Output"
   ]
  },
  {
   "cell_type": "code",
   "execution_count": null,
   "id": "fe68d2ea-6420-42c4-a9b8-4f8e472559c4",
   "metadata": {},
   "outputs": [],
   "source": []
  }
 ],
 "metadata": {
  "kernelspec": {
   "display_name": "Python 3 (ipykernel)",
   "language": "python",
   "name": "python3"
  },
  "language_info": {
   "codemirror_mode": {
    "name": "ipython",
    "version": 3
   },
   "file_extension": ".py",
   "mimetype": "text/x-python",
   "name": "python",
   "nbconvert_exporter": "python",
   "pygments_lexer": "ipython3",
   "version": "3.10.8"
  }
 },
 "nbformat": 4,
 "nbformat_minor": 5
}
