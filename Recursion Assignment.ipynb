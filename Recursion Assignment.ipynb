{
 "cells": [
  {
   "cell_type": "code",
   "execution_count": 7,
   "id": "efb847a8-fb9a-4a6e-8a06-7c19f72e4d48",
   "metadata": {},
   "outputs": [
    {
     "name": "stdout",
     "output_type": "stream",
     "text": [
      "1\n",
      "3\n",
      "7\n",
      "15\n"
     ]
    }
   ],
   "source": [
    "# Can you explain the logic and working of the Tower of Hanoi algorithm by writing a Java program?\n",
    "#How does the recursion work, and how are the movements of disks between rods accomplished?\n",
    "\n",
    "#tower of Hanoi\n",
    "def moves(n,s,d,a):\n",
    "    if n==1:\n",
    "        return 1\n",
    "    return moves(n-1,s,a,d)+1+moves(n-1,a,d,s) \n",
    "\n",
    "print(moves(1,'s','d','a'))\n",
    "print(moves(2,'s','d','a'))\n",
    "print(moves(3,'s','d','a'))\n",
    "print(moves(4,'s','d','a'))\n"
   ]
  },
  {
   "cell_type": "code",
   "execution_count": 4,
   "id": "906e7e52-cfd3-400b-8eeb-750a5ad6e080",
   "metadata": {},
   "outputs": [
    {
     "ename": "NameError",
     "evalue": "name 'm' is not defined",
     "output_type": "error",
     "traceback": [
      "\u001b[0;31m---------------------------------------------------------------------------\u001b[0m",
      "\u001b[0;31mNameError\u001b[0m                                 Traceback (most recent call last)",
      "Cell \u001b[0;32mIn[4], line 13\u001b[0m\n\u001b[1;32m     10\u001b[0m     m \u001b[38;5;241m=\u001b[39m \u001b[38;5;28mlen\u001b[39m(word1)\n\u001b[1;32m     11\u001b[0m     n \u001b[38;5;241m=\u001b[39m \u001b[38;5;28mlen\u001b[39m(word2)\n\u001b[0;32m---> 13\u001b[0m dp \u001b[38;5;241m=\u001b[39m [[\u001b[38;5;241m0\u001b[39m \u001b[38;5;28;01mfor\u001b[39;00m x \u001b[38;5;129;01min\u001b[39;00m \u001b[38;5;28mrange\u001b[39m(n\u001b[38;5;241m+\u001b[39m\u001b[38;5;241m1\u001b[39m)] \u001b[38;5;28;01mfor\u001b[39;00m x \u001b[38;5;129;01min\u001b[39;00m \u001b[38;5;28mrange\u001b[39m(\u001b[43mm\u001b[49m\u001b[38;5;241m+\u001b[39m\u001b[38;5;241m1\u001b[39m)]\n\u001b[1;32m     14\u001b[0m \u001b[38;5;28;01mfor\u001b[39;00m i \u001b[38;5;129;01min\u001b[39;00m \u001b[38;5;28mrange\u001b[39m(m\u001b[38;5;241m+\u001b[39m\u001b[38;5;241m1\u001b[39m):\n\u001b[1;32m     15\u001b[0m     dp[i][\u001b[38;5;241m0\u001b[39m] \u001b[38;5;241m=\u001b[39m i \n",
      "\u001b[0;31mNameError\u001b[0m: name 'm' is not defined"
     ]
    }
   ],
   "source": [
    "'''Q.2 Given two strings word1 and word2, return the minimum number of operations required to convert word1\n",
    "to word2.\n",
    "Example 1:\n",
    "Input: word1 = \"horse\", word2 = \"ros\"\n",
    "Output: 3'''\n",
    "\n",
    "\n",
    "# Function to return the minimum number of operations required to convert word1 to word2\n",
    "def min_operations(word1, word2):\n",
    "    m = len(word1)\n",
    "    n = len(word2)\n",
    "\n",
    "dp = [[0 for x in range(n+1)] for x in range(m+1)]\n",
    "for i in range(m+1):\n",
    "    dp[i][0] = i \n",
    "    for j in range(n+1):\n",
    "        dp[0][j] = j \n",
    "        for i in range(1, m+1):\n",
    "            for j in range(1, n+1):\n",
    "                if word1[i-1] == word2[j-1]:\n",
    "                    dp[i][j] = dp[i-1][j-1]\n",
    "                else:\n",
    "                    dp[i][j] = 1 + min(dp[i][j-1], \n",
    "                                       dp[i-1][j], # Delete\n",
    "                                       dp[i-1][j-1]) # Replace\n",
    "                    return dp[m][n]\n",
    "\n",
    "\n",
    "word1 = input(\"Enter the first word: \")\n",
    "word2 = input(\"Enter the second word: \")\n",
    "print(\"The minimum number of operations required to convert\", word1, \"to\", word2, \"is\", min_operations(word1, word2))\n",
    "\n",
    "\n"
   ]
  },
  {
   "cell_type": "code",
   "execution_count": 1,
   "id": "f5d66089-de1c-453f-9249-e0ca44226e2d",
   "metadata": {},
   "outputs": [
    {
     "name": "stdout",
     "output_type": "stream",
     "text": [
      "the max of array is :  22\n"
     ]
    }
   ],
   "source": [
    "#Print the max value of the array [ 13, 1, -3, 22, 5].\n",
    "arr =[13,1,-3,22,5]\n",
    "max_value = max(arr)\n",
    "print(\"the max of array is : \", max_value)"
   ]
  },
  {
   "cell_type": "code",
   "execution_count": 37,
   "id": "0f51c46a-5b92-47be-a4c9-35d6cd6a0d23",
   "metadata": {},
   "outputs": [
    {
     "name": "stdout",
     "output_type": "stream",
     "text": [
      "sum of the values of the array : 120\n"
     ]
    }
   ],
   "source": [
    "#Find the sum of the values of the array [92, 23, 15, -20, 10].\n",
    "arr = [92,23,15,-20,10]\n",
    "sum_= 0\n",
    "\n",
    "for i in arr:\n",
    "    sum_ += i\n",
    "\n",
    "print(\"sum of the values of the array :\",sum_)"
   ]
  },
  {
   "cell_type": "code",
   "execution_count": 2,
   "id": "10063ce7-139a-4168-86d9-80d9a0873f87",
   "metadata": {},
   "outputs": [
    {
     "name": "stdin",
     "output_type": "stream",
     "text": [
      "Enter a number:  153\n"
     ]
    },
    {
     "name": "stdout",
     "output_type": "stream",
     "text": [
      "153 is not an armstrong number.\n"
     ]
    }
   ],
   "source": [
    "'''Q.5 Given a number n. Print if it is an armstrong number or not.An armstrong number is a number if the sum\n",
    "of every digit in that number raised to the power of total digits in that number is equal to the number.\n",
    "Example : 153 = 1^3 + 5^3 + 3^3 = 1 + 125 + 27 = 153 hence 153 is an armstrong number. (Easy)\n",
    "Input1 : 153\n",
    "Output1 : Yes\n",
    "Input 2 : 134\n",
    "Output2 : No'''\n",
    "\n",
    "# Function to check if a number is an armstrong number or not\n",
    "def is_armstrong(n):\n",
    "    s = str(n)\n",
    "    l = len(s)\n",
    "    sum = 0\n",
    "    for c in s:\n",
    "        d = int(c)\n",
    "        sum += d ** l\n",
    "        return sum == n\n",
    "\n",
    "n = int(input(\"Enter a number: \"))\n",
    "\n",
    "if is_armstrong(n):\n",
    "    print(n, \"is an armstrong number.\")\n",
    "else:\n",
    "    print(n, \"is not an armstrong number.\")\n"
   ]
  },
  {
   "cell_type": "code",
   "execution_count": null,
   "id": "7e9f741f-ccdb-4d97-a4ee-5c47ca5121cd",
   "metadata": {},
   "outputs": [],
   "source": []
  }
 ],
 "metadata": {
  "kernelspec": {
   "display_name": "Python 3 (ipykernel)",
   "language": "python",
   "name": "python3"
  },
  "language_info": {
   "codemirror_mode": {
    "name": "ipython",
    "version": 3
   },
   "file_extension": ".py",
   "mimetype": "text/x-python",
   "name": "python",
   "nbconvert_exporter": "python",
   "pygments_lexer": "ipython3",
   "version": "3.10.8"
  }
 },
 "nbformat": 4,
 "nbformat_minor": 5
}
