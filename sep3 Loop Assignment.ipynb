{
 "cells": [
  {
   "cell_type": "code",
   "execution_count": 2,
   "id": "edfe1176-6b60-4906-8f23-69e75c1ef26a",
   "metadata": {},
   "outputs": [
    {
     "name": "stdout",
     "output_type": "stream",
     "text": [
      "positive number\n",
      "this is always prints\n"
     ]
    }
   ],
   "source": [
    "number=23\n",
    "if number>0:\n",
    "    print(\"positive number\")\n",
    "elif number ==0:\n",
    "    print(\"number is zero\")\n",
    "else:\n",
    "    print(\"negative number\")\n",
    "\n",
    "print(\"this is always prints\")\n",
    "    "
   ]
  },
  {
   "cell_type": "code",
   "execution_count": null,
   "id": "ec877103-5aab-497e-9464-27c478e1f349",
   "metadata": {},
   "outputs": [],
   "source": []
  },
  {
   "cell_type": "code",
   "execution_count": null,
   "id": "df5396f0-e0ef-4a9c-9e3f-ababa88b08be",
   "metadata": {},
   "outputs": [],
   "source": [
    "days=0\n",
    "week"
   ]
  },
  {
   "cell_type": "code",
   "execution_count": 3,
   "id": "97327c49-4519-46a5-ab00-1b73e83fcc6b",
   "metadata": {},
   "outputs": [
    {
     "data": {
      "text/plain": [
       "['i', 'wrote', 'code']"
      ]
     },
     "execution_count": 3,
     "metadata": {},
     "output_type": "execute_result"
    }
   ],
   "source": [
    "text=\"i wrote code\"\n",
    "text.split()"
   ]
  },
  {
   "cell_type": "code",
   "execution_count": 5,
   "id": "7424c250-fcc2-48da-882a-ac09dd979b2f",
   "metadata": {},
   "outputs": [
    {
     "data": {
      "text/plain": [
       "['i', 'love', 'python']"
      ]
     },
     "execution_count": 5,
     "metadata": {},
     "output_type": "execute_result"
    }
   ],
   "source": [
    "text='i love python'\n",
    "text.split()"
   ]
  },
  {
   "cell_type": "code",
   "execution_count": 6,
   "id": "ae54b948-bd95-4e75-aa71-8458d073d1a4",
   "metadata": {},
   "outputs": [
    {
     "name": "stdin",
     "output_type": "stream",
     "text": [
      "enter 3 word message welcome to pwskills\n"
     ]
    }
   ],
   "source": [
    "x=input(\"enter 3 word message\")"
   ]
  },
  {
   "cell_type": "code",
   "execution_count": 7,
   "id": "e8e2a7f0-665e-4f30-8498-eaba4e590a91",
   "metadata": {},
   "outputs": [],
   "source": [
    "y=1\n"
   ]
  },
  {
   "cell_type": "code",
   "execution_count": null,
   "id": "2198a367-91cf-4661-bb03-56c0f1c25c18",
   "metadata": {},
   "outputs": [],
   "source": [
    "y,w=2,3"
   ]
  },
  {
   "cell_type": "code",
   "execution_count": null,
   "id": "0bb9e037-edd3-412a-9b11-34c0571b06df",
   "metadata": {},
   "outputs": [],
   "source": []
  },
  {
   "cell_type": "code",
   "execution_count": null,
   "id": "ba69108f-0530-4d00-aa10-d84947ddddce",
   "metadata": {},
   "outputs": [],
   "source": []
  },
  {
   "cell_type": "code",
   "execution_count": 8,
   "id": "7a7a5a4e-ebcc-47d3-a37d-3a4301b8636a",
   "metadata": {},
   "outputs": [
    {
     "name": "stdin",
     "output_type": "stream",
     "text": [
      "enter the first number 2\n",
      "enter the first number 3\n"
     ]
    },
    {
     "name": "stdout",
     "output_type": "stream",
     "text": [
      "5\n"
     ]
    }
   ],
   "source": [
    "a=int(input(\"enter the first number\"))\n",
    "b=int(input(\"enter the first number\"))\n",
    "print(a+b)"
   ]
  },
  {
   "cell_type": "code",
   "execution_count": 10,
   "id": "dff3a96a-29de-4424-a716-8b79d92a600a",
   "metadata": {},
   "outputs": [
    {
     "name": "stdin",
     "output_type": "stream",
     "text": [
      "enter two numbers 2 3\n"
     ]
    },
    {
     "name": "stdout",
     "output_type": "stream",
     "text": [
      "5\n"
     ]
    }
   ],
   "source": [
    "a,b=input(\"enter two numbers\").split()\n",
    "c=int(a)+int(b)\n",
    "print(c)"
   ]
  },
  {
   "cell_type": "code",
   "execution_count": 12,
   "id": "9a1e4ed6-7388-45c3-8766-15670f126372",
   "metadata": {},
   "outputs": [
    {
     "name": "stdout",
     "output_type": "stream",
     "text": [
      "['a', 'b', 'c', 'd e f']\n"
     ]
    }
   ],
   "source": [
    "s1=\"a b c d e f\"\n",
    "print(s1.split(' ',3))"
   ]
  },
  {
   "cell_type": "code",
   "execution_count": 32,
   "id": "c5e49247-88ff-4ee4-9021-f636e7368df0",
   "metadata": {},
   "outputs": [
    {
     "data": {
      "text/plain": [
       "['hi', 'hi', 'hi', 'hi', 'hi']"
      ]
     },
     "execution_count": 32,
     "metadata": {},
     "output_type": "execute_result"
    }
   ],
   "source": [
    "s1=\"hi@hi@hi@hi@hi\"\n",
    "s1.split('@')"
   ]
  },
  {
   "cell_type": "code",
   "execution_count": 16,
   "id": "97f037a6-6f25-484a-a064-db5f88199f43",
   "metadata": {},
   "outputs": [
    {
     "name": "stdout",
     "output_type": "stream",
     "text": [
      "letter p\n",
      "letter w\n",
      "letter s\n",
      "letter k\n",
      "letter i\n",
      "letter l\n",
      "letter l\n",
      "letter s\n"
     ]
    }
   ],
   "source": [
    "for i in \"pwskills\":\n",
    "    print(\"letter\",i)"
   ]
  },
  {
   "cell_type": "code",
   "execution_count": 18,
   "id": "d4c88491-dbe5-4bac-ab71-d58a18e90289",
   "metadata": {},
   "outputs": [
    {
     "name": "stdout",
     "output_type": "stream",
     "text": [
      "letter p\n",
      "letter w\n",
      "letter s\n",
      "letter k\n",
      "letter i\n"
     ]
    }
   ],
   "source": [
    "for i in \"pwskills\":\n",
    "    if i==\"l\":\n",
    "        break\n",
    "    print(\"letter\",i)"
   ]
  },
  {
   "cell_type": "code",
   "execution_count": 22,
   "id": "aec19c9d-56c9-496a-862f-7814b527fc3b",
   "metadata": {},
   "outputs": [
    {
     "name": "stdout",
     "output_type": "stream",
     "text": [
      "0\n",
      "1\n",
      "2\n"
     ]
    }
   ],
   "source": [
    "for i in range(5):\n",
    "    if i==3:\n",
    "        break\n",
    "    print(i)   \n"
   ]
  },
  {
   "cell_type": "code",
   "execution_count": null,
   "id": "144d3cb8-9028-4b11-a92c-f29f538cf800",
   "metadata": {},
   "outputs": [],
   "source": []
  },
  {
   "cell_type": "code",
   "execution_count": 6,
   "id": "9ce86402-7696-47ef-8fb9-3aa6e2dca9ba",
   "metadata": {},
   "outputs": [
    {
     "name": "stdout",
     "output_type": "stream",
     "text": [
      "1\n",
      "2\n",
      "3\n",
      "4\n",
      "5\n"
     ]
    }
   ],
   "source": [
    " i=1\n",
    "while i<=10:\n",
    "    print(i)\n",
    "    if i>=5:\n",
    "        break\n",
    "    i=i+1   \n"
   ]
  },
  {
   "cell_type": "code",
   "execution_count": 9,
   "id": "445bdaeb-0c84-400a-a0f9-2992f4bf1317",
   "metadata": {},
   "outputs": [
    {
     "name": "stdout",
     "output_type": "stream",
     "text": [
      "10\n",
      "20\n",
      "30\n",
      "40\n",
      "100\n"
     ]
    }
   ],
   "source": [
    "numbers =[10,20,30,40,100,120]\n",
    "\n",
    "for i in numbers:\n",
    "    if i>100:\n",
    "        break\n",
    "    print(i)    "
   ]
  },
  {
   "cell_type": "code",
   "execution_count": 14,
   "id": "c1206e81-37d8-4b34-9b67-8ebd74799669",
   "metadata": {},
   "outputs": [
    {
     "name": "stdout",
     "output_type": "stream",
     "text": [
      "h\n",
      "e\n",
      "l\n",
      "l\n",
      "o\n",
      ",\n",
      "w\n",
      "o\n",
      "r\n",
      "l\n",
      "d\n"
     ]
    }
   ],
   "source": [
    "s =\"hello,world\"\n",
    "for i in s:\n",
    "    print(i)\n",
    "    if i ==' ,':\n",
    "        break"
   ]
  },
  {
   "cell_type": "code",
   "execution_count": 13,
   "id": "168ef858-9dc6-48c9-bd17-aa0762976b20",
   "metadata": {},
   "outputs": [
    {
     "name": "stdout",
     "output_type": "stream",
     "text": [
      "p\n",
      "w\n",
      "s\n",
      "k\n",
      "i\n",
      "s\n"
     ]
    }
   ],
   "source": [
    "for letter in \"pwskills\":\n",
    "    if letter== \"l\":\n",
    "        continue\n",
    "    print(letter)   "
   ]
  },
  {
   "cell_type": "code",
   "execution_count": 27,
   "id": "4c2ec65c-f1fa-4c45-90f7-455ed17f37fa",
   "metadata": {},
   "outputs": [
    {
     "name": "stdout",
     "output_type": "stream",
     "text": [
      "0\n",
      "1\n",
      "2\n",
      "4\n"
     ]
    }
   ],
   "source": [
    "for i in range(5):\n",
    "     if i==3:\n",
    "         continue\n",
    "     print(i)\n"
   ]
  },
  {
   "cell_type": "code",
   "execution_count": 31,
   "id": "f5b42414-0a60-47c4-bb1d-75425d9cc6a4",
   "metadata": {},
   "outputs": [
    {
     "name": "stdout",
     "output_type": "stream",
     "text": [
      "1\n",
      "3\n",
      "5\n",
      "7\n",
      "9\n"
     ]
    }
   ],
   "source": [
    "#write a program to print odd numbers from 1 to 10.\n",
    "for i in range(1,11):\n",
    "    if i%2==0:\n",
    "        continue\n",
    "    print(i)     "
   ]
  },
  {
   "cell_type": "code",
   "execution_count": 37,
   "id": "b7485e6f-3cf5-49ce-98a2-17d4a8ce6b93",
   "metadata": {},
   "outputs": [
    {
     "name": "stdout",
     "output_type": "stream",
     "text": [
      "hello\n"
     ]
    }
   ],
   "source": [
    "n=12\n",
    "if n>10:\n",
    "    pass\n",
    "print('hello')    "
   ]
  },
  {
   "cell_type": "code",
   "execution_count": 38,
   "id": "3264becb-e5ad-4dc2-a975-bb9ddff12236",
   "metadata": {},
   "outputs": [],
   "source": [
    "for i in range(5):\n",
    "    pass"
   ]
  },
  {
   "cell_type": "code",
   "execution_count": 44,
   "id": "db9ca932-bfb5-4935-9e90-421cdbb4357b",
   "metadata": {},
   "outputs": [
    {
     "name": "stdout",
     "output_type": "stream",
     "text": [
      "p w s k i s "
     ]
    }
   ],
   "source": [
    "for letter in \"pwskills\":\n",
    "    if letter== \"l\":\n",
    "        continue\n",
    "    print(letter,end=\" \")  "
   ]
  },
  {
   "cell_type": "code",
   "execution_count": 45,
   "id": "6ef82403-5956-456c-87db-99f5503ac239",
   "metadata": {},
   "outputs": [
    {
     "name": "stdout",
     "output_type": "stream",
     "text": [
      "30\n"
     ]
    }
   ],
   "source": [
    "a=10\n",
    "b=20\n",
    "print(a+b)"
   ]
  },
  {
   "cell_type": "code",
   "execution_count": 46,
   "id": "f9b2a60e-2ffc-4df9-9468-e771f8fd057c",
   "metadata": {},
   "outputs": [
    {
     "name": "stdout",
     "output_type": "stream",
     "text": [
      "177\n"
     ]
    }
   ],
   "source": [
    "a=87\n",
    "b=90\n",
    "print(a+b)"
   ]
  },
  {
   "cell_type": "code",
   "execution_count": null,
   "id": "96603f33-ac31-4988-89e8-44518307b970",
   "metadata": {},
   "outputs": [],
   "source": [
    "def add_numbers(a,b):\n",
    "    return a+b"
   ]
  },
  {
   "cell_type": "code",
   "execution_count": 49,
   "id": "9a579878-4195-4b1c-baca-cf7840f8b1b8",
   "metadata": {},
   "outputs": [],
   "source": [
    "def greet():\n",
    "    print(\"hello world\")\n",
    "    "
   ]
  },
  {
   "cell_type": "code",
   "execution_count": 50,
   "id": "622fa4e3-fb53-4bbb-9835-81c9170d9493",
   "metadata": {},
   "outputs": [
    {
     "name": "stdout",
     "output_type": "stream",
     "text": [
      "hello world\n"
     ]
    }
   ],
   "source": [
    "greet()"
   ]
  },
  {
   "cell_type": "code",
   "execution_count": 52,
   "id": "979ea8c4-75fa-4801-a0f9-3343d7cd93ea",
   "metadata": {},
   "outputs": [
    {
     "data": {
      "text/plain": [
       "177"
      ]
     },
     "execution_count": 52,
     "metadata": {},
     "output_type": "execute_result"
    }
   ],
   "source": [
    "add_numbers(a,b)"
   ]
  },
  {
   "cell_type": "code",
   "execution_count": 53,
   "id": "f1bbcb71-fbee-48d3-a256-005cb9be5866",
   "metadata": {},
   "outputs": [],
   "source": [
    "def addnum():\n",
    "    a=10\n",
    "    b=20\n",
    "    c=a+b\n",
    "    print(c)"
   ]
  },
  {
   "cell_type": "code",
   "execution_count": 54,
   "id": "6e42b1cf-703a-4345-8976-071b52fc9b75",
   "metadata": {},
   "outputs": [
    {
     "name": "stdout",
     "output_type": "stream",
     "text": [
      "30\n"
     ]
    }
   ],
   "source": [
    "addnum()"
   ]
  },
  {
   "cell_type": "code",
   "execution_count": 59,
   "id": "fe526b6f-8a7c-4f30-93d6-9b9d53172ac8",
   "metadata": {},
   "outputs": [],
   "source": [
    "def addtwonumbers():\n",
    "    a=int(input(\"enter first number\"))\n",
    "    b=int(input(\"enter second number\"))\n",
    "    c=a+b\n",
    "    print(\"sum of two numbers\",c)"
   ]
  },
  {
   "cell_type": "code",
   "execution_count": 57,
   "id": "153d8fec-4d4a-4a03-a931-341638fe6318",
   "metadata": {},
   "outputs": [
    {
     "name": "stdin",
     "output_type": "stream",
     "text": [
      "enter first number 10\n",
      "enter second number 30\n"
     ]
    },
    {
     "name": "stdout",
     "output_type": "stream",
     "text": [
      "40\n"
     ]
    }
   ],
   "source": [
    "addtwonumbers()"
   ]
  },
  {
   "cell_type": "code",
   "execution_count": 58,
   "id": "1544b74e-44a6-4852-9e92-4d616afb645e",
   "metadata": {},
   "outputs": [
    {
     "name": "stdin",
     "output_type": "stream",
     "text": [
      "enter first number 10\n",
      "enter second number 90\n"
     ]
    },
    {
     "name": "stdout",
     "output_type": "stream",
     "text": [
      "100\n"
     ]
    }
   ],
   "source": [
    "addtwonumbers()"
   ]
  },
  {
   "cell_type": "code",
   "execution_count": 60,
   "id": "a9b5a541-b340-4e48-a21c-46b9c5a578e3",
   "metadata": {},
   "outputs": [
    {
     "name": "stdin",
     "output_type": "stream",
     "text": [
      "enter first number 10\n",
      "enter second number 50\n"
     ]
    },
    {
     "name": "stdout",
     "output_type": "stream",
     "text": [
      "sum of two numbers 60\n"
     ]
    }
   ],
   "source": [
    "addtwonumbers()\n"
   ]
  },
  {
   "cell_type": "code",
   "execution_count": 61,
   "id": "7ebaff24-f80a-4ef6-a3f3-0a756672034b",
   "metadata": {},
   "outputs": [],
   "source": [
    "def multwonumbers(x,y):\n",
    "    a=x\n",
    "    b=y\n",
    "    c=a*b\n",
    "    print(c)"
   ]
  },
  {
   "cell_type": "code",
   "execution_count": 63,
   "id": "ea30c1c2-4698-4ed4-a633-459da407ab65",
   "metadata": {},
   "outputs": [
    {
     "name": "stdout",
     "output_type": "stream",
     "text": [
      "8\n"
     ]
    }
   ],
   "source": [
    "multwonumbers(2,4)"
   ]
  },
  {
   "cell_type": "code",
   "execution_count": 71,
   "id": "6545675f-e955-4510-be25-330274919298",
   "metadata": {},
   "outputs": [],
   "source": [
    "def introduction(name):\n",
    "    print(\"hi\",name)"
   ]
  },
  {
   "cell_type": "code",
   "execution_count": 70,
   "id": "21ec5e6a-d357-4eac-80b4-6e4db2225b57",
   "metadata": {},
   "outputs": [
    {
     "name": "stdout",
     "output_type": "stream",
     "text": [
      "hi ubed\n"
     ]
    }
   ],
   "source": [
    "introduction('ubed')"
   ]
  },
  {
   "cell_type": "code",
   "execution_count": 72,
   "id": "020f8d9e-1777-43e8-a223-2f4e541d3249",
   "metadata": {},
   "outputs": [],
   "source": [
    "def absolute(n):\n",
    "    if n>0:\n",
    "        print(n)\n",
    "    else:\n",
    "        print(-n)"
   ]
  },
  {
   "cell_type": "code",
   "execution_count": 74,
   "id": "610c4fa4-d90d-46ec-8855-a63a433d36e9",
   "metadata": {},
   "outputs": [
    {
     "name": "stdout",
     "output_type": "stream",
     "text": [
      "85\n"
     ]
    }
   ],
   "source": [
    "absolute(85)"
   ]
  },
  {
   "cell_type": "code",
   "execution_count": 94,
   "id": "060f8620-fbe4-4757-bc59-9e5c26394520",
   "metadata": {},
   "outputs": [],
   "source": [
    "def fullname(a,b):\n",
    "    c=a+b\n",
    "    return c"
   ]
  },
  {
   "cell_type": "code",
   "execution_count": 95,
   "id": "beb641c4-9b86-4dbb-9bdb-5d0008bbf1ac",
   "metadata": {},
   "outputs": [],
   "source": [
    "x=fullname('pw','skills')"
   ]
  },
  {
   "cell_type": "code",
   "execution_count": 96,
   "id": "987a677d-822c-4336-a4cf-2949fa032e86",
   "metadata": {},
   "outputs": [
    {
     "data": {
      "text/plain": [
       "'pwskills'"
      ]
     },
     "execution_count": 96,
     "metadata": {},
     "output_type": "execute_result"
    }
   ],
   "source": [
    "x"
   ]
  },
  {
   "cell_type": "code",
   "execution_count": 97,
   "id": "fd661d07-356f-496a-9705-cccebe42fbc1",
   "metadata": {},
   "outputs": [
    {
     "data": {
      "text/plain": [
       "'pwskills'"
      ]
     },
     "execution_count": 97,
     "metadata": {},
     "output_type": "execute_result"
    }
   ],
   "source": [
    "x"
   ]
  },
  {
   "cell_type": "code",
   "execution_count": 181,
   "id": "59a5ebc9-d1a1-408d-a7d1-bebb5c488552",
   "metadata": {},
   "outputs": [],
   "source": [
    "def Calci_numbers(a,b):\n",
    "    Multiplication=a*b\n",
    "    Subtraction=a-b\n",
    "    Division =a/b\n",
    "    Addition=a+b\n",
    "    return Multiplication,Subtraction,Division,Addition\n",
    "\n",
    "    "
   ]
  },
  {
   "cell_type": "code",
   "execution_count": 182,
   "id": "2ab2e187-aed6-4f2c-a28b-0f125dd8bdf2",
   "metadata": {},
   "outputs": [
    {
     "data": {
      "text/plain": [
       "(600, -10, 0.6666666666666666, 50)"
      ]
     },
     "execution_count": 182,
     "metadata": {},
     "output_type": "execute_result"
    }
   ],
   "source": [
    "Calci_numbers(a,b)"
   ]
  },
  {
   "cell_type": "code",
   "execution_count": 107,
   "id": "757e0497-4da1-408f-84d9-e96486058c3c",
   "metadata": {},
   "outputs": [],
   "source": [
    "#area of circle\n",
    "def areaofcircle(r):\n",
    "    return 3.14*r*r"
   ]
  },
  {
   "cell_type": "code",
   "execution_count": 109,
   "id": "6fdc8eea-df58-4bb2-a4db-5ff11f1b600e",
   "metadata": {},
   "outputs": [
    {
     "data": {
      "text/plain": [
       "28.259999999999998"
      ]
     },
     "execution_count": 109,
     "metadata": {},
     "output_type": "execute_result"
    }
   ],
   "source": [
    "areaofcircle(3)"
   ]
  },
  {
   "cell_type": "code",
   "execution_count": 112,
   "id": "4fc97fe6-a866-4d39-ba29-b60efe6bee59",
   "metadata": {},
   "outputs": [],
   "source": [
    "#area of rectangle(a,b)\n",
    "def areaofrectangle(l,b):\n",
    "    return l*b\n",
    "    "
   ]
  },
  {
   "cell_type": "code",
   "execution_count": 113,
   "id": "25aabb79-5480-4efc-9846-3cc03c3702cd",
   "metadata": {},
   "outputs": [
    {
     "data": {
      "text/plain": [
       "6"
      ]
     },
     "execution_count": 113,
     "metadata": {},
     "output_type": "execute_result"
    }
   ],
   "source": [
    "areaofrectangle(2,3)"
   ]
  },
  {
   "cell_type": "code",
   "execution_count": 118,
   "id": "8154d502-6fb1-43df-ad4c-3d33c34f8787",
   "metadata": {},
   "outputs": [
    {
     "name": "stdout",
     "output_type": "stream",
     "text": [
      "1\n",
      "2\n",
      "3\n",
      "4\n",
      "5\n"
     ]
    }
   ],
   "source": [
    "#print the first 5 positive numbers ascending order\n",
    "for i in range(1,6):\n",
    "    print(i)"
   ]
  },
  {
   "cell_type": "code",
   "execution_count": 141,
   "id": "caaed1e4-10da-45e7-bcd1-e3adabe9d604",
   "metadata": {},
   "outputs": [
    {
     "name": "stdin",
     "output_type": "stream",
     "text": [
      "enter the number: 3\n"
     ]
    },
    {
     "name": "stdout",
     "output_type": "stream",
     "text": [
      "square of number is : 9\n"
     ]
    }
   ],
   "source": [
    "a=int(input(\"enter the number:\"))\n",
    "b=a*a\n",
    "print(\"square of number is :\", b)"
   ]
  },
  {
   "cell_type": "code",
   "execution_count": 121,
   "id": "fe5bf081-75db-4d73-afef-71c6d71616ed",
   "metadata": {},
   "outputs": [
    {
     "name": "stdin",
     "output_type": "stream",
     "text": [
      "enter first the number: 3\n",
      "enter second the number: 3\n"
     ]
    },
    {
     "name": "stdout",
     "output_type": "stream",
     "text": [
      "sum of two numbers 6\n"
     ]
    }
   ],
   "source": [
    "a=int(input(\"enter first the number:\"))\n",
    "b=int(input(\"enter second the number:\"))\n",
    "c=a+b\n",
    "print(\"sum of two numbers\",c)"
   ]
  },
  {
   "cell_type": "code",
   "execution_count": 122,
   "id": "5f21d38d-50f1-47c2-b89f-9566c4ba6c1e",
   "metadata": {},
   "outputs": [
    {
     "name": "stdout",
     "output_type": "stream",
     "text": [
      "ubed khan\n"
     ]
    }
   ],
   "source": [
    "a=\"ubed\"\n",
    "b=\"khan\"\n",
    "c=a+\" \"+b\n",
    "print(c)"
   ]
  },
  {
   "cell_type": "code",
   "execution_count": 139,
   "id": "228015c6-e29c-4088-b94f-e8169a3f60fc",
   "metadata": {},
   "outputs": [],
   "source": [
    "def fullname(a,b):\n",
    "    c=a+ '  ' +b\n",
    "    return c"
   ]
  },
  {
   "cell_type": "code",
   "execution_count": 140,
   "id": "9a256dd9-a518-4e4a-8151-26499bed1f44",
   "metadata": {},
   "outputs": [
    {
     "data": {
      "text/plain": [
       "'ubed  khan'"
      ]
     },
     "execution_count": 140,
     "metadata": {},
     "output_type": "execute_result"
    }
   ],
   "source": [
    "fullname('ubed','khan')"
   ]
  },
  {
   "cell_type": "code",
   "execution_count": 165,
   "id": "8fe6ab76-d819-4b28-9244-b6d5d0bd35c5",
   "metadata": {},
   "outputs": [],
   "source": [
    "def print_even_numbers():\n",
    "  a=int(input(\"enter the first number\"))\n",
    "  b=int(input(\"enter the second number\"))  \n",
    "  for i in range(a,b):\n",
    "     if i%2==0:\n",
    "         print(i,end=' ')"
   ]
  },
  {
   "cell_type": "code",
   "execution_count": 166,
   "id": "9d1e0afb-01a1-4fa1-824e-a5285ab4f71a",
   "metadata": {},
   "outputs": [
    {
     "name": "stdin",
     "output_type": "stream",
     "text": [
      "enter the first number 1\n",
      "enter the second number 100\n"
     ]
    },
    {
     "name": "stdout",
     "output_type": "stream",
     "text": [
      "2 4 6 8 10 12 14 16 18 20 22 24 26 28 30 32 34 36 38 40 42 44 46 48 50 52 54 56 58 60 62 64 66 68 70 72 74 76 78 80 82 84 86 88 90 92 94 96 98 "
     ]
    }
   ],
   "source": [
    "print_even_numbers()\n"
   ]
  },
  {
   "cell_type": "code",
   "execution_count": 1,
   "id": "7050e224-c694-4fc5-b884-c9cf60f4e06f",
   "metadata": {},
   "outputs": [
    {
     "name": "stdin",
     "output_type": "stream",
     "text": [
      "enter the number : 5\n"
     ]
    },
    {
     "name": "stdout",
     "output_type": "stream",
     "text": [
      "tha multiplication table for given number is : [5, 10, 15, 20, 25, 30, 35, 40, 45, 50]\n"
     ]
    }
   ],
   "source": [
    "a=int(input(\"enter the number :\"))\n",
    "list=[1,2,3,4,5,6,7,8,9,10]\n",
    "multiplication_table=[]\n",
    "for i in list:\n",
    "    multiplication=a*i\n",
    "    multiplication_table.append(multiplication)\n",
    "print(\"tha multiplication table for given number is :\",multiplication_table)    "
   ]
  },
  {
   "cell_type": "code",
   "execution_count": 1,
   "id": "c6a77e5e-c026-44b9-a8e7-3807b02712d3",
   "metadata": {},
   "outputs": [
    {
     "name": "stdout",
     "output_type": "stream",
     "text": [
      "python is fantastic\n",
      "awesome\n"
     ]
    }
   ],
   "source": [
    "x=\"awesome\"\n",
    "def myfunc():\n",
    "    x=\"fantastic\"\n",
    "    print(\"python is \"+x)\n",
    "myfunc()\n",
    "print(x)"
   ]
  },
  {
   "cell_type": "code",
   "execution_count": 4,
   "id": "577dd7d3-e8a4-46cb-ae17-1ad233bf59a4",
   "metadata": {},
   "outputs": [],
   "source": [
    "x=20\n",
    "\n",
    "def add():\n",
    "    y=30\n",
    "    print(\"local var y =\",y)\n",
    "\n",
    "    print(\"global var x=\",x)\n",
    "\n",
    "    z=x+y\n",
    "    print(z)\n",
    "def sub():\n",
    "     a=10\n",
    "     print(\"print local var a=\", a)"
   ]
  },
  {
   "cell_type": "code",
   "execution_count": 5,
   "id": "485dd95d-e15a-411c-8ebc-0752450ce34e",
   "metadata": {},
   "outputs": [
    {
     "name": "stdout",
     "output_type": "stream",
     "text": [
      "local var y = 30\n",
      "global var x= 20\n",
      "50\n"
     ]
    }
   ],
   "source": [
    "add()"
   ]
  },
  {
   "cell_type": "code",
   "execution_count": 6,
   "id": "157ec88a-e337-417b-8c68-958523c7f54a",
   "metadata": {},
   "outputs": [],
   "source": [
    "def addnumbers(a,b):\n",
    "    sum=a+b\n",
    "    print(\"sum\", sum)"
   ]
  },
  {
   "cell_type": "code",
   "execution_count": 9,
   "id": "eabbe0b3-ad28-4ed3-984d-43875b7ea391",
   "metadata": {},
   "outputs": [
    {
     "name": "stdout",
     "output_type": "stream",
     "text": [
      "sum 13\n"
     ]
    }
   ],
   "source": [
    "addnumbers(10,3)"
   ]
  },
  {
   "cell_type": "code",
   "execution_count": 10,
   "id": "ccc24bc2-3a6a-4606-9b7f-7391cfa37819",
   "metadata": {},
   "outputs": [],
   "source": [
    "def empname(name):\n",
    "    print(\"my name is :\",name)"
   ]
  },
  {
   "cell_type": "code",
   "execution_count": 13,
   "id": "02936d1e-a4f7-4a4a-a48e-ea745c19d886",
   "metadata": {},
   "outputs": [
    {
     "name": "stdout",
     "output_type": "stream",
     "text": [
      "my name is : ubed\n"
     ]
    }
   ],
   "source": [
    "empname(\"ubed\")"
   ]
  },
  {
   "cell_type": "code",
   "execution_count": 17,
   "id": "8cb8d5b6-5c10-4af3-a872-0a7bf03c2f58",
   "metadata": {},
   "outputs": [],
   "source": [
    "def addnumbers(a=4,b=10):\n",
    "    sum =a+b\n",
    "    print(\"sum\", sum)"
   ]
  },
  {
   "cell_type": "code",
   "execution_count": 18,
   "id": "63f4871d-4bcf-4607-86a1-f22b14dedbdb",
   "metadata": {},
   "outputs": [
    {
     "name": "stdout",
     "output_type": "stream",
     "text": [
      "sum 14\n"
     ]
    }
   ],
   "source": [
    "addnumbers()"
   ]
  },
  {
   "cell_type": "code",
   "execution_count": 25,
   "id": "70f5e23c-2f0b-4fce-9e91-4bd7db23127f",
   "metadata": {},
   "outputs": [],
   "source": [
    "def empname(name='jawan'):\n",
    "    print(\"my name is\",name)"
   ]
  },
  {
   "cell_type": "code",
   "execution_count": 26,
   "id": "8701430d-d4d5-4224-884b-692b3cd5e2a6",
   "metadata": {},
   "outputs": [
    {
     "name": "stdout",
     "output_type": "stream",
     "text": [
      "my name is jawan\n"
     ]
    }
   ],
   "source": [
    "empname()"
   ]
  },
  {
   "cell_type": "code",
   "execution_count": 34,
   "id": "c14951c9-f717-4178-a4fa-253f1f5e607a",
   "metadata": {},
   "outputs": [],
   "source": [
    "def diplay_info(firstname,lastname):\n",
    "    print(\"firstname\", firstname)\n",
    "    print(\"firstname\", lastname)"
   ]
  },
  {
   "cell_type": "code",
   "execution_count": 35,
   "id": "81aca7d6-71bb-44ad-aecb-cdd8dc2409ff",
   "metadata": {},
   "outputs": [
    {
     "ename": "NameError",
     "evalue": "name 'display_info' is not defined",
     "output_type": "error",
     "traceback": [
      "\u001b[1;31m---------------------------------------------------------------------------\u001b[0m",
      "\u001b[1;31mNameError\u001b[0m                                 Traceback (most recent call last)",
      "Cell \u001b[1;32mIn[35], line 1\u001b[0m\n\u001b[1;32m----> 1\u001b[0m \u001b[43mdisplay_info\u001b[49m(firstname\u001b[38;5;241m=\u001b[39m\u001b[38;5;124m'\u001b[39m\u001b[38;5;124mubed\u001b[39m\u001b[38;5;124m'\u001b[39m,lastname\u001b[38;5;241m=\u001b[39m\u001b[38;5;124m'\u001b[39m\u001b[38;5;124mkhan\u001b[39m\u001b[38;5;124m'\u001b[39m)\n",
      "\u001b[1;31mNameError\u001b[0m: name 'display_info' is not defined"
     ]
    }
   ],
   "source": [
    "display_info(firstname='ubed',lastname='khan')"
   ]
  },
  {
   "cell_type": "code",
   "execution_count": 38,
   "id": "947cc8d1-dfac-454d-a634-9c8100666484",
   "metadata": {},
   "outputs": [],
   "source": [
    "def display_info(firstname,lastname):\n",
    "    print(\"firstname\", firstname)\n",
    "    print(\"firstname\", lastname)"
   ]
  },
  {
   "cell_type": "code",
   "execution_count": 39,
   "id": "c4732a04-f710-49f4-a523-e6f164aa4e3f",
   "metadata": {},
   "outputs": [
    {
     "name": "stdout",
     "output_type": "stream",
     "text": [
      "firstname ubed\n",
      "firstname khan\n"
     ]
    }
   ],
   "source": [
    "display_info(firstname='ubed',lastname='khan')"
   ]
  },
  {
   "cell_type": "code",
   "execution_count": 40,
   "id": "b23c6ea6-038e-4bb9-b981-155245e5fa0e",
   "metadata": {},
   "outputs": [],
   "source": [
    "def addnumbers(a,b):\n",
    "    sum=a+b\n",
    "    print(\"sum\", sum)"
   ]
  },
  {
   "cell_type": "code",
   "execution_count": 41,
   "id": "e2271ba0-8ed5-482a-bad3-126609fbad10",
   "metadata": {},
   "outputs": [
    {
     "name": "stdout",
     "output_type": "stream",
     "text": [
      "sum 12\n"
     ]
    }
   ],
   "source": [
    "addnumbers(a=4,b=8)"
   ]
  },
  {
   "cell_type": "code",
   "execution_count": 44,
   "id": "97d7ad7f-c8ee-4ba8-ab3b-58d4180f6011",
   "metadata": {},
   "outputs": [],
   "source": [
    "def findsum(*numbers):\n",
    "    result=0\n",
    "    for i in numbers:\n",
    "        result=result+i\n",
    "    print(\"sum\", result)    "
   ]
  },
  {
   "cell_type": "code",
   "execution_count": 47,
   "id": "f1dfa86c-250b-4e75-88de-d10f560f5740",
   "metadata": {},
   "outputs": [
    {
     "name": "stdout",
     "output_type": "stream",
     "text": [
      "sum 2700\n"
     ]
    }
   ],
   "source": [
    "findsum(300,400,2000)"
   ]
  },
  {
   "cell_type": "code",
   "execution_count": 141,
   "id": "5ec47c68-f226-4d26-a9a3-c497db4395b2",
   "metadata": {},
   "outputs": [],
   "source": [
    "def findsumofevenandoddnumbers(*numbers):\n",
    "    evenresult=0\n",
    "    oddresult=0\n",
    "    for i in numbers:\n",
    "        if i%2==0:\n",
    "         evenresult=evenresult+i\n",
    "        else:\n",
    "           oddresult=oddresult+i  \n",
    "    print(\"sum of even numbers\", evenresult) \n",
    "    print(\"sum of odd numbers\", oddresult)"
   ]
  },
  {
   "cell_type": "code",
   "execution_count": 142,
   "id": "5443732e-6f2d-4aae-b198-540e34d1bf51",
   "metadata": {},
   "outputs": [
    {
     "name": "stdout",
     "output_type": "stream",
     "text": [
      "sum of even numbers 30\n",
      "sum of odd numbers 25\n"
     ]
    }
   ],
   "source": [
    "findsumofevenandoddnumbers(1,2,3,4,5,6,7,8,9,10)"
   ]
  },
  {
   "cell_type": "code",
   "execution_count": null,
   "id": "bc7f77ec-ae53-4f20-9b99-b1cf6b17f08b",
   "metadata": {},
   "outputs": [],
   "source": [
    "def intro(**data):\n",
    "    print(\"data type of argument\",type(data))"
   ]
  },
  {
   "cell_type": "code",
   "execution_count": 56,
   "id": "c0995b77-4805-4b74-8d09-62049718284c",
   "metadata": {},
   "outputs": [],
   "source": [
    "x={'a':1,'b':2}"
   ]
  },
  {
   "cell_type": "code",
   "execution_count": 57,
   "id": "de72f99f-af4c-4309-ad23-0c07b2f29d2b",
   "metadata": {},
   "outputs": [
    {
     "data": {
      "text/plain": [
       "dict_items([('a', 1), ('b', 2)])"
      ]
     },
     "execution_count": 57,
     "metadata": {},
     "output_type": "execute_result"
    }
   ],
   "source": [
    "x.items()"
   ]
  },
  {
   "cell_type": "code",
   "execution_count": 60,
   "id": "c9dd89e8-d5fc-4133-be2e-4452fa8c15d5",
   "metadata": {},
   "outputs": [
    {
     "name": "stdout",
     "output_type": "stream",
     "text": [
      "a 1\n",
      "b 2\n"
     ]
    }
   ],
   "source": [
    "for keys,value in x.items():\n",
    "    print(keys,value)"
   ]
  },
  {
   "cell_type": "code",
   "execution_count": 61,
   "id": "dcdbf1b8-e4e7-4897-bcde-0c65165b0dc6",
   "metadata": {},
   "outputs": [],
   "source": [
    "def simple(**x):\n",
    "    print(x)"
   ]
  },
  {
   "cell_type": "code",
   "execution_count": 62,
   "id": "8b4b304b-15fa-4e82-ad38-8ae9de578e3b",
   "metadata": {},
   "outputs": [
    {
     "name": "stdout",
     "output_type": "stream",
     "text": [
      "{'name': 'ubed', 'age': 32, 'weight': 78, 'sex': 'male'}\n"
     ]
    }
   ],
   "source": [
    "simple(name='ubed',age=32,weight=78,sex='male')"
   ]
  },
  {
   "cell_type": "code",
   "execution_count": 109,
   "id": "0cc1bd9a-a2a9-4282-b147-7142dffa1c69",
   "metadata": {},
   "outputs": [],
   "source": [
    "x=lambda : print(\"jawan is the biggest hit\")"
   ]
  },
  {
   "cell_type": "code",
   "execution_count": 110,
   "id": "d867bde6-d7af-48c2-8e8c-4324cd427e62",
   "metadata": {},
   "outputs": [
    {
     "name": "stdout",
     "output_type": "stream",
     "text": [
      "jawan is the biggest hit\n"
     ]
    }
   ],
   "source": [
    "x()"
   ]
  },
  {
   "cell_type": "code",
   "execution_count": 112,
   "id": "eee70801-b754-41fb-8cd7-915ca07136b9",
   "metadata": {},
   "outputs": [],
   "source": [
    "u=lambda a,b:a+b"
   ]
  },
  {
   "cell_type": "code",
   "execution_count": 114,
   "id": "449e4daf-f753-4f7f-b6ba-2cf8ccbb7edf",
   "metadata": {},
   "outputs": [
    {
     "data": {
      "text/plain": [
       "5"
      ]
     },
     "execution_count": 114,
     "metadata": {},
     "output_type": "execute_result"
    }
   ],
   "source": [
    "u(2,3)"
   ]
  },
  {
   "cell_type": "code",
   "execution_count": 115,
   "id": "13e7b1c1-77bf-482c-9f21-86f2bd17ca69",
   "metadata": {},
   "outputs": [],
   "source": [
    "v=lambda a,b:a*b"
   ]
  },
  {
   "cell_type": "code",
   "execution_count": 116,
   "id": "56bc4f01-1326-4d9b-9d0a-058cb4b03630",
   "metadata": {},
   "outputs": [
    {
     "data": {
      "text/plain": [
       "8"
      ]
     },
     "execution_count": 116,
     "metadata": {},
     "output_type": "execute_result"
    }
   ],
   "source": [
    "v(2,4)"
   ]
  },
  {
   "cell_type": "code",
   "execution_count": 118,
   "id": "fa428d46-0afb-4c8e-9211-23c93c98e9b1",
   "metadata": {},
   "outputs": [
    {
     "name": "stdin",
     "output_type": "stream",
     "text": [
      "enter first number : 2\n",
      "enter second number : 3\n"
     ]
    },
    {
     "name": "stdout",
     "output_type": "stream",
     "text": [
      "(4, 9)\n"
     ]
    }
   ],
   "source": [
    "a=int(input(\"enter first number :\"))\n",
    "b=int(input(\"enter second number :\"))\n",
    "square = lambda a,b:(a**2,b**2)\n",
    "print(square(a,b))"
   ]
  },
  {
   "cell_type": "code",
   "execution_count": 122,
   "id": "5f598ede-f45f-436b-894a-b85c3b1f7c03",
   "metadata": {},
   "outputs": [
    {
     "name": "stdin",
     "output_type": "stream",
     "text": [
      "enter first number : 9\n"
     ]
    },
    {
     "name": "stdout",
     "output_type": "stream",
     "text": [
      "False\n"
     ]
    }
   ],
   "source": [
    "a=int(input(\"enter first number :\"))\n",
    "even = lambda a:a%2==0 \n",
    "print(even(a))"
   ]
  },
  {
   "cell_type": "code",
   "execution_count": 123,
   "id": "8bf7b543-75c8-464b-b7a2-0405b9514dd2",
   "metadata": {},
   "outputs": [],
   "source": [
    "x=lambda n:\"number is even\" if n%2==0 else \"number is odd\""
   ]
  },
  {
   "cell_type": "code",
   "execution_count": 125,
   "id": "603f5ec9-325e-4846-b2e4-2b9d49d4a2ac",
   "metadata": {},
   "outputs": [
    {
     "data": {
      "text/plain": [
       "'number is even'"
      ]
     },
     "execution_count": 125,
     "metadata": {},
     "output_type": "execute_result"
    }
   ],
   "source": [
    "x(8)"
   ]
  },
  {
   "cell_type": "code",
   "execution_count": 136,
   "id": "e442944d-1f95-4523-aa50-ccd4acc58408",
   "metadata": {},
   "outputs": [],
   "source": [
    "greatest=lambda a,b,c : a if (a>b and a>c) else b if (b>a and b>c) else c"
   ]
  },
  {
   "cell_type": "code",
   "execution_count": 138,
   "id": "e95e7159-0704-4cf9-9581-1842f5ffcacc",
   "metadata": {},
   "outputs": [
    {
     "data": {
      "text/plain": [
       "100000"
      ]
     },
     "execution_count": 138,
     "metadata": {},
     "output_type": "execute_result"
    }
   ],
   "source": [
    "greatest(100000,3,300)"
   ]
  },
  {
   "cell_type": "code",
   "execution_count": 143,
   "id": "d36702b3-dc0c-44fe-a188-4c3321291dd1",
   "metadata": {},
   "outputs": [
    {
     "name": "stdin",
     "output_type": "stream",
     "text": [
      "enter the string : imran\n"
     ]
    },
    {
     "name": "stdout",
     "output_type": "stream",
     "text": [
      "the number of vowels in the given string are : 2\n"
     ]
    }
   ],
   "source": [
    "a=str(input(\"enter the string :\"))\n",
    "vowels=['a','e','i','o','u']\n",
    "count=0\n",
    "for i in a:\n",
    "    if i in vowels:\n",
    "        count+=1\n",
    "print(\"the number of vowels in the given string are :\",count)        \n"
   ]
  },
  {
   "cell_type": "code",
   "execution_count": 147,
   "id": "23440325-8a33-4a5b-96ed-5817399331ee",
   "metadata": {},
   "outputs": [],
   "source": [
    "language=['python','java','ruby']\n",
    "enumerateuse = enumerate(language,50)"
   ]
  },
  {
   "cell_type": "code",
   "execution_count": 148,
   "id": "853f7dfa-bf5a-43e6-98c1-69f57660dc16",
   "metadata": {},
   "outputs": [
    {
     "data": {
      "text/plain": [
       "[(50, 'python'), (51, 'java'), (52, 'ruby')]"
      ]
     },
     "execution_count": 148,
     "metadata": {},
     "output_type": "execute_result"
    }
   ],
   "source": [
    "list(enumerateuse)"
   ]
  },
  {
   "cell_type": "code",
   "execution_count": 169,
   "id": "06b515b1-592c-4c2a-b6a9-0859596ac8ec",
   "metadata": {},
   "outputs": [],
   "source": [
    "list=[1,2,3,4,5,6,7,8,9,10]"
   ]
  },
  {
   "cell_type": "code",
   "execution_count": 170,
   "id": "65b9b170-af43-4304-8a18-8be85010c566",
   "metadata": {},
   "outputs": [],
   "source": [
    "a=[x for x in list]"
   ]
  },
  {
   "cell_type": "code",
   "execution_count": 171,
   "id": "db1fd1da-0178-42b4-930d-ac5d2adffa3c",
   "metadata": {},
   "outputs": [
    {
     "data": {
      "text/plain": [
       "[1, 2, 3, 4, 5, 6, 7, 8, 9, 10]"
      ]
     },
     "execution_count": 171,
     "metadata": {},
     "output_type": "execute_result"
    }
   ],
   "source": [
    "a"
   ]
  },
  {
   "cell_type": "code",
   "execution_count": 172,
   "id": "d96eda8e-876f-4b95-8880-90e83bdb7136",
   "metadata": {},
   "outputs": [],
   "source": [
    "a=[x+1 for x in list]"
   ]
  },
  {
   "cell_type": "code",
   "execution_count": 173,
   "id": "1d4a75b3-9df9-464f-8a3b-4e2563cdb660",
   "metadata": {},
   "outputs": [
    {
     "data": {
      "text/plain": [
       "[2, 3, 4, 5, 6, 7, 8, 9, 10, 11]"
      ]
     },
     "execution_count": 173,
     "metadata": {},
     "output_type": "execute_result"
    }
   ],
   "source": [
    "a"
   ]
  },
  {
   "cell_type": "code",
   "execution_count": 174,
   "id": "15367a2b-3271-4f79-bdbc-dbd8a11d389c",
   "metadata": {},
   "outputs": [],
   "source": [
    "a=[x*2 for x in list]"
   ]
  },
  {
   "cell_type": "code",
   "execution_count": 175,
   "id": "663295ea-0884-4d96-a08b-9ed26ab05dbe",
   "metadata": {},
   "outputs": [
    {
     "data": {
      "text/plain": [
       "[2, 4, 6, 8, 10, 12, 14, 16, 18, 20]"
      ]
     },
     "execution_count": 175,
     "metadata": {},
     "output_type": "execute_result"
    }
   ],
   "source": [
    "a"
   ]
  },
  {
   "cell_type": "code",
   "execution_count": 176,
   "id": "fe60b07e-c0a7-45ac-adb6-c9ec5291e491",
   "metadata": {},
   "outputs": [],
   "source": [
    "list1=[1,2,3,4,5,6,7,8,9,10]\n",
    "c=[x for x in list1 if x%2==0]"
   ]
  },
  {
   "cell_type": "code",
   "execution_count": 177,
   "id": "00157c94-a24f-4b9a-9ee9-87210b9f8763",
   "metadata": {},
   "outputs": [
    {
     "data": {
      "text/plain": [
       "[2, 4, 6, 8, 10]"
      ]
     },
     "execution_count": 177,
     "metadata": {},
     "output_type": "execute_result"
    }
   ],
   "source": [
    "c"
   ]
  },
  {
   "cell_type": "code",
   "execution_count": 178,
   "id": "3b035e57-f3d9-4c32-b89d-e608177fc699",
   "metadata": {},
   "outputs": [],
   "source": [
    "list2=[1,2,3,4,5,6,7,8,9,10]\n",
    "d=[x for x in list1 if x%2!=0]"
   ]
  },
  {
   "cell_type": "code",
   "execution_count": 179,
   "id": "9fe29835-77eb-465c-b6a9-ff7747bcc646",
   "metadata": {},
   "outputs": [
    {
     "data": {
      "text/plain": [
       "[1, 3, 5, 7, 9]"
      ]
     },
     "execution_count": 179,
     "metadata": {},
     "output_type": "execute_result"
    }
   ],
   "source": [
    "d"
   ]
  },
  {
   "cell_type": "code",
   "execution_count": 180,
   "id": "ce897940-a9cd-44bf-aa19-25afdd077e9b",
   "metadata": {},
   "outputs": [],
   "source": [
    "list1=[1,2,3,4,5,6,7,8,9,10]\n",
    "c=[x for x in list1 if x>4 if x%2==0]\n"
   ]
  },
  {
   "cell_type": "code",
   "execution_count": 181,
   "id": "b73cd5b8-87d2-4832-8cad-f6845b61e4fd",
   "metadata": {},
   "outputs": [
    {
     "data": {
      "text/plain": [
       "[6, 8, 10]"
      ]
     },
     "execution_count": 181,
     "metadata": {},
     "output_type": "execute_result"
    }
   ],
   "source": [
    "c"
   ]
  },
  {
   "cell_type": "code",
   "execution_count": 182,
   "id": "4f0050fe-f60e-474a-9045-a8aec84695fa",
   "metadata": {},
   "outputs": [],
   "source": [
    "list3=[1,2,3,4,5,6,7,8,9,10]\n",
    "e=[x if x>4 else 'lessthan 4' for x in list3]"
   ]
  },
  {
   "cell_type": "code",
   "execution_count": 183,
   "id": "9a2e0305-c5a8-45a6-b9d8-d8007c6d205e",
   "metadata": {},
   "outputs": [
    {
     "data": {
      "text/plain": [
       "['lessthan 4', 'lessthan 4', 'lessthan 4', 'lessthan 4', 5, 6, 7, 8, 9, 10]"
      ]
     },
     "execution_count": 183,
     "metadata": {},
     "output_type": "execute_result"
    }
   ],
   "source": [
    "e"
   ]
  },
  {
   "cell_type": "code",
   "execution_count": 187,
   "id": "9db1b471-e209-409d-adb3-dfdde78c3781",
   "metadata": {},
   "outputs": [
    {
     "name": "stdout",
     "output_type": "stream",
     "text": [
      "['not a&b', 'two', 'three', 'two', 'not a&b', 'two', 'not a&b', 'two', 'three', 'two'] "
     ]
    }
   ],
   "source": [
    "list3=[1,2,3,4,5,6,7,8,9,10]\n",
    "f=['two' if x%2==0  else 'three' if x%3==0 else 'not a&b' for x in list]\n",
    "print(f,end=' ')"
   ]
  },
  {
   "cell_type": "code",
   "execution_count": 188,
   "id": "7a517213-2179-4825-b1c9-34c956821e49",
   "metadata": {},
   "outputs": [
    {
     "data": {
      "text/plain": [
       "['not a&b',\n",
       " 'two',\n",
       " 'three',\n",
       " 'two',\n",
       " 'not a&b',\n",
       " 'two',\n",
       " 'not a&b',\n",
       " 'two',\n",
       " 'three',\n",
       " 'two']"
      ]
     },
     "execution_count": 188,
     "metadata": {},
     "output_type": "execute_result"
    }
   ],
   "source": [
    "f"
   ]
  },
  {
   "cell_type": "code",
   "execution_count": 3,
   "id": "e664a269-8769-4a30-b59a-14e50a582d43",
   "metadata": {},
   "outputs": [
    {
     "data": {
      "text/plain": [
       "[0, 2, 4, 6, 8, 10, 12, 14, 16, 18]"
      ]
     },
     "execution_count": 3,
     "metadata": {},
     "output_type": "execute_result"
    }
   ],
   "source": [
    "list(range(0,20,2))"
   ]
  },
  {
   "cell_type": "code",
   "execution_count": 4,
   "id": "60dc8ef0-cadc-47c0-b8dc-f66ceacf5f38",
   "metadata": {},
   "outputs": [
    {
     "data": {
      "text/plain": [
       "[0, 2, 4, 6, 8, 10, 12, 14, 16, 18]"
      ]
     },
     "execution_count": 4,
     "metadata": {},
     "output_type": "execute_result"
    }
   ],
   "source": [
    "list(range(0,20,2))"
   ]
  },
  {
   "cell_type": "code",
   "execution_count": 5,
   "id": "ad12c32b-f01e-426e-abd1-f254649ca1c4",
   "metadata": {},
   "outputs": [
    {
     "data": {
      "text/plain": [
       "[1, 2, 3, 4, 5, 6, 7, 8, 9, 10]"
      ]
     },
     "execution_count": 5,
     "metadata": {},
     "output_type": "execute_result"
    }
   ],
   "source": [
    "list(range(1,11))"
   ]
  },
  {
   "cell_type": "code",
   "execution_count": 20,
   "id": "6a178d69-d3f6-4a92-b042-fee5b344ffa7",
   "metadata": {},
   "outputs": [
    {
     "name": "stdout",
     "output_type": "stream",
     "text": [
      "[1, 4, 9, 16, 25, 36, 49, 64, 81, 100]\n"
     ]
    }
   ],
   "source": [
    "a=list(range(1,11))\n",
    "b=[x*x for x in a]\n",
    "print(b)"
   ]
  },
  {
   "cell_type": "code",
   "execution_count": 22,
   "id": "eafe93c4-1143-451d-8d32-098cbf8aad82",
   "metadata": {},
   "outputs": [
    {
     "data": {
      "text/plain": [
       "[70, 10, 20, 90, 60]"
      ]
     },
     "execution_count": 22,
     "metadata": {},
     "output_type": "execute_result"
    }
   ],
   "source": [
    "a=[10,20,10,60,70,60,90]\n",
    "set(a)\n",
    "list(set(a))"
   ]
  },
  {
   "cell_type": "code",
   "execution_count": 1,
   "id": "0c95f885-ec9a-484f-b9cc-4446be631e27",
   "metadata": {},
   "outputs": [
    {
     "name": "stdout",
     "output_type": "stream",
     "text": [
      "hi umaiza\n"
     ]
    }
   ],
   "source": [
    "x='hi'\n",
    "y='umaiza'\n",
    "print(f\"{x} {y}\")"
   ]
  },
  {
   "cell_type": "code",
   "execution_count": null,
   "id": "6c74c4ef-6abe-4928-99f9-00cb42c440fd",
   "metadata": {},
   "outputs": [],
   "source": []
  }
 ],
 "metadata": {
  "kernelspec": {
   "display_name": "Python 3 (ipykernel)",
   "language": "python",
   "name": "python3"
  },
  "language_info": {
   "codemirror_mode": {
    "name": "ipython",
    "version": 3
   },
   "file_extension": ".py",
   "mimetype": "text/x-python",
   "name": "python",
   "nbconvert_exporter": "python",
   "pygments_lexer": "ipython3",
   "version": "3.11.3"
  }
 },
 "nbformat": 4,
 "nbformat_minor": 5
}
