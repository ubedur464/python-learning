{
 "cells": [
  {
   "cell_type": "code",
   "execution_count": 1,
   "id": "5d1ad585-e756-4fed-bcaa-84f466d34b39",
   "metadata": {},
   "outputs": [
    {
     "name": "stdin",
     "output_type": "stream",
     "text": [
      " rahman\n"
     ]
    },
    {
     "name": "stdout",
     "output_type": "stream",
     "text": [
      "reversed string is: namhar\n"
     ]
    }
   ],
   "source": [
    "                                                                               '''string'''\n",
    "#program to reverse a string\n",
    "a=str(input())      #input string\n",
    "a=a[::-1]           #reversing string\n",
    "print(\"reversed string is:\",a)  "
   ]
  },
  {
   "cell_type": "code",
   "execution_count": 2,
   "id": "6b246909-c8bd-45a3-a9a6-d13eec2a1d51",
   "metadata": {},
   "outputs": [
    {
     "name": "stdin",
     "output_type": "stream",
     "text": [
      " ubed\n"
     ]
    },
    {
     "name": "stdout",
     "output_type": "stream",
     "text": [
      "string is not palindrome\n"
     ]
    }
   ],
   "source": [
    "# program to Check if a string is a palindrome\n",
    "a=str(input())   #input string\n",
    "b=a[::-1]        #reversing string\n",
    "if  a==b:        \n",
    " print (\"string is palindrome\")\n",
    "else:\n",
    " print (\"string is not palindrome\")"
   ]
  },
  {
   "cell_type": "code",
   "execution_count": 3,
   "id": "ef954547-eacb-4dfa-a996-0ede8163dd1e",
   "metadata": {},
   "outputs": [
    {
     "data": {
      "text/plain": [
       "'UBED'"
      ]
     },
     "execution_count": 3,
     "metadata": {},
     "output_type": "execute_result"
    }
   ],
   "source": [
    "#Convert a string to uppercase\n",
    "a='ubed'\n",
    "a.upper()"
   ]
  },
  {
   "cell_type": "code",
   "execution_count": 4,
   "id": "0d5f1fbb-df05-489d-9c2d-f5a8947fba46",
   "metadata": {},
   "outputs": [
    {
     "data": {
      "text/plain": [
       "'rahman'"
      ]
     },
     "execution_count": 4,
     "metadata": {},
     "output_type": "execute_result"
    }
   ],
   "source": [
    "#Convert a string to lowercase.\n",
    "a='RAHMAN'\n",
    "a.lower()"
   ]
  },
  {
   "cell_type": "code",
   "execution_count": 1,
   "id": "dbb59904-4ec3-4122-a5a1-ea7b4963da5a",
   "metadata": {},
   "outputs": [
    {
     "name": "stdin",
     "output_type": "stream",
     "text": [
      " ubed\n"
     ]
    },
    {
     "name": "stdout",
     "output_type": "stream",
     "text": [
      "number of vowles is : 2\n"
     ]
    }
   ],
   "source": [
    "#program to Count the number of vowels in a string\n",
    "a=str(input())\n",
    "vowels = {'a','e','i','o','u'}\n",
    "count=0\n",
    "for char in a:\n",
    "  if char in vowels: \n",
    "    count+=1\n",
    "print (\"number of vowles is :\", count)"
   ]
  },
  {
   "cell_type": "code",
   "execution_count": 6,
   "id": "ba420857-72e7-466f-8f63-fb3d01eca2ee",
   "metadata": {},
   "outputs": [
    {
     "name": "stdin",
     "output_type": "stream",
     "text": [
      " ubed\n"
     ]
    },
    {
     "name": "stdout",
     "output_type": "stream",
     "text": [
      "number of consonants is : 2\n"
     ]
    }
   ],
   "source": [
    "#Count the number of consonants in a string\n",
    "a=str(input())\n",
    "consonants = {'b','c','d','f','g','h','j','k','l','m','n','p','q','r','s','t','v','w','x','y','z'}\n",
    "count=0\n",
    "for char in a.lower():\n",
    "  if char in consonants: \n",
    "    count+=1\n",
    "print (\"number of consonants is :\", count)"
   ]
  },
  {
   "cell_type": "code",
   "execution_count": 7,
   "id": "05b94606-ca43-4577-a481-9b3a58bb1640",
   "metadata": {},
   "outputs": [
    {
     "data": {
      "text/plain": [
       "'ubed'"
      ]
     },
     "execution_count": 7,
     "metadata": {},
     "output_type": "execute_result"
    }
   ],
   "source": [
    "#Remove all whitespaces from a string\n",
    "a= \"   ubed   \"\n",
    "a.strip()\n"
   ]
  },
  {
   "cell_type": "code",
   "execution_count": 2,
   "id": "6d81bd55-1cbe-4619-8b12-798cb098de1d",
   "metadata": {},
   "outputs": [
    {
     "name": "stdin",
     "output_type": "stream",
     "text": [
      " sharukh\n"
     ]
    },
    {
     "name": "stdout",
     "output_type": "stream",
     "text": [
      "the length of string is : 7\n"
     ]
    }
   ],
   "source": [
    "#Find the length of a string without using the `len()` function.\n",
    "a=str(input())\n",
    "alphabets={'a','b','c','d','e','f','g','h','i','j','k','l','m','n','o','p','q','r','s','t','u','v','w','x','y','z'}\n",
    "count=0\n",
    "for char in a.lower():\n",
    " if char in alphabets:\n",
    "    count+=1\n",
    "print(\"the length of string is :\",count)    "
   ]
  },
  {
   "cell_type": "code",
   "execution_count": 2,
   "id": "efdbaa90-1b25-45d4-848b-163f0f97bfe2",
   "metadata": {},
   "outputs": [
    {
     "name": "stdin",
     "output_type": "stream",
     "text": [
      " good\n"
     ]
    },
    {
     "name": "stdout",
     "output_type": "stream",
     "text": [
      "string has specific word good\n"
     ]
    }
   ],
   "source": [
    "#Check if a string contains a specific word\n",
    "a=str(input())\n",
    "b={'good'}\n",
    " "
   ]
  },
  {
   "cell_type": "code",
   "execution_count": 8,
   "id": "168d36c6-f08e-476a-90a5-57ae54a25ffe",
   "metadata": {},
   "outputs": [
    {
     "data": {
      "text/plain": [
       "'umaira is good girl'"
      ]
     },
     "execution_count": 8,
     "metadata": {},
     "output_type": "execute_result"
    }
   ],
   "source": [
    "#Replace a word in a string with another word\n",
    "s='umaiza is good girl'\n",
    "s.replace('umaiza','umaira')"
   ]
  },
  {
   "cell_type": "code",
   "execution_count": 15,
   "id": "54b95f81-e2c7-48de-b6f0-5b2c7a6c042e",
   "metadata": {},
   "outputs": [
    {
     "data": {
      "text/plain": [
       "3"
      ]
     },
     "execution_count": 15,
     "metadata": {},
     "output_type": "execute_result"
    }
   ],
   "source": [
    "#Count the occurrences of a word in a string\n",
    "s='ubedur rahman khan'\n",
    "s.count('a')"
   ]
  },
  {
   "cell_type": "code",
   "execution_count": 16,
   "id": "c31cc53a-5ed1-4b09-8155-c7cbd7e8bf14",
   "metadata": {},
   "outputs": [
    {
     "data": {
      "text/plain": [
       "2"
      ]
     },
     "execution_count": 16,
     "metadata": {},
     "output_type": "execute_result"
    }
   ],
   "source": [
    "#Find the first occurrence of a word in a string\n",
    "s='umaiza'\n",
    "s.find('a')"
   ]
  },
  {
   "cell_type": "code",
   "execution_count": 18,
   "id": "921967d5-d7d8-4d3a-a64a-39be66700e2f",
   "metadata": {},
   "outputs": [
    {
     "data": {
      "text/plain": [
       "5"
      ]
     },
     "execution_count": 18,
     "metadata": {},
     "output_type": "execute_result"
    }
   ],
   "source": [
    "#Find the last occurrence of a word in a string\n",
    "s=\"umaiza\"\n",
    "s.rfind('a')"
   ]
  },
  {
   "cell_type": "code",
   "execution_count": 31,
   "id": "cdd7b208-6c18-487a-80e2-50c794962672",
   "metadata": {},
   "outputs": [
    {
     "data": {
      "text/plain": [
       "['ubed', 'is', 'don']"
      ]
     },
     "execution_count": 31,
     "metadata": {},
     "output_type": "execute_result"
    }
   ],
   "source": [
    "#Split a string into a list of words\n",
    "s='ubed is don'\n",
    "s.split()\n"
   ]
  },
  {
   "cell_type": "code",
   "execution_count": 22,
   "id": "69f798b7-6bb6-4aea-b0ed-99d598eaa568",
   "metadata": {},
   "outputs": [
    {
     "name": "stdout",
     "output_type": "stream",
     "text": [
      "ubed is a good boy\n"
     ]
    }
   ],
   "source": [
    "#Join a list of words into a string\n",
    "l=['ubed','is','a','good','boy']\n",
    "string=\" \".join(l)\n",
    "print(string)"
   ]
  },
  {
   "cell_type": "code",
   "execution_count": 16,
   "id": "04960c79-b369-42fb-994d-4e846fd3472b",
   "metadata": {},
   "outputs": [
    {
     "data": {
      "text/plain": [
       "'world_is_beautiful'"
      ]
     },
     "execution_count": 16,
     "metadata": {},
     "output_type": "execute_result"
    }
   ],
   "source": [
    "#Convert a string where words are separated by spaces to one where words are separated by underscores\n",
    "s='world is beautiful'\n",
    "s.replace(' ','_')"
   ]
  },
  {
   "cell_type": "code",
   "execution_count": 30,
   "id": "5e5ce460-f652-4cac-b68c-d1a37e742b4f",
   "metadata": {},
   "outputs": [
    {
     "name": "stdout",
     "output_type": "stream",
     "text": [
      "text doestnot starts with prefix\n"
     ]
    }
   ],
   "source": [
    "#Check if a string starts with a specific word or phrase\n",
    "def starts_with(text, prefix):\n",
    "    is_start = text.startswith(prefix)\n",
    "    return is_start\n",
    "text = \"sharukh , khan\"\n",
    "prefix = \"ubed\"\n",
    "result = starts_with(text,prefix)\n",
    "if result:\n",
    " print(\"the text starts with prefix\")\n",
    "else:\n",
    " print(\"text doestnot starts with prefix\")"
   ]
  },
  {
   "cell_type": "code",
   "execution_count": 29,
   "id": "18924d58-f0f6-4dec-aa94-2ebc16faa2b6",
   "metadata": {},
   "outputs": [
    {
     "name": "stdout",
     "output_type": "stream",
     "text": [
      "the text ends with suffix\n"
     ]
    }
   ],
   "source": [
    "#Check if a string ends with a specific word or phrase.\n",
    "def ends_with(text, suffix):\n",
    "    is_end = text.endswith(suffix)\n",
    "    return is_end\n",
    "text = \"sharukh , khan\"\n",
    "suffix = \"khan\"\n",
    "result = ends_with(text,suffix)\n",
    "if result:\n",
    " print(\"the text ends with suffix\")\n",
    "else:\n",
    " print(\"text doestnot ends with suffix\")"
   ]
  },
  {
   "cell_type": "code",
   "execution_count": 31,
   "id": "55fcb6d2-2987-48e5-bae2-00746cd645da",
   "metadata": {},
   "outputs": [
    {
     "data": {
      "text/plain": [
       "'HELLO WORLD'"
      ]
     },
     "execution_count": 31,
     "metadata": {},
     "output_type": "execute_result"
    }
   ],
   "source": [
    "#Convert a string to title case (e.g., \"hello world\" to \"Hello World\").\n",
    "s=\"hello world\"\n",
    "s.upper()\n"
   ]
  },
  {
   "cell_type": "code",
   "execution_count": 19,
   "id": "4b884f35-8ae0-49e9-8d30-a088a0733600",
   "metadata": {},
   "outputs": [
    {
     "name": "stdout",
     "output_type": "stream",
     "text": [
      "The longest word is : biggest\n"
     ]
    }
   ],
   "source": [
    "#Find the longest word in a string\n",
    "def find_longest_word(text):\n",
    "    words=text.split()\n",
    "    longest_word=max(words,key=len)\n",
    "    return longest_word\n",
    "text=\"jawan is the biggest hit of the decade\"\n",
    "longest_word = find_longest_word(text)\n",
    "print(\"The longest word is :\",longest_word )"
   ]
  },
  {
   "cell_type": "code",
   "execution_count": 18,
   "id": "686a09d8-c213-48c4-9052-980ccfc6cf3b",
   "metadata": {},
   "outputs": [
    {
     "name": "stdout",
     "output_type": "stream",
     "text": [
      "shortest_word : a\n"
     ]
    }
   ],
   "source": [
    "#Find the shortest word in a string.\n",
    "def find_shortest_word(text):\n",
    "    words = text.split()\n",
    "    shortest_word = min(words, key=len)\n",
    "    return shortest_word\n",
    "text = \"jawan is a biggest hit of millenium\"\n",
    "shortest_word = find_shortest_word(text)\n",
    "print(\"shortest_word :\", shortest_word)\n"
   ]
  },
  {
   "cell_type": "code",
   "execution_count": 27,
   "id": "1b699450-4be0-43af-b436-0fec3083fda9",
   "metadata": {},
   "outputs": [
    {
     "name": "stdout",
     "output_type": "stream",
     "text": [
      "reverse order of words in a string :  boy a is ubed\n"
     ]
    }
   ],
   "source": [
    "#Reverse the order of words in a string.\n",
    "def reverse_string(text):\n",
    "    words=text.split() # split the string into a list of words\n",
    "    words=words[::-1]  # reverse the order of the list using slicing\n",
    "    reverse_string = \" \". join(words) # # join the list of words into a new string\n",
    "    return reverse_string\n",
    "text = 'ubed is a boy'\n",
    "reverse_string = reverse_string(text)\n",
    "print(\"reverse order of words in a string : \", reverse_string)"
   ]
  },
  {
   "cell_type": "code",
   "execution_count": 12,
   "id": "674e9171-5be3-4d5d-8012-7c7a0a664fa4",
   "metadata": {},
   "outputs": [
    {
     "name": "stdout",
     "output_type": "stream",
     "text": [
      "the string is alphanumeric\n"
     ]
    }
   ],
   "source": [
    "#Check if a string is alphanumeric.\n",
    "def is_alnum(text):\n",
    "    a= text.isalnum()\n",
    "    return a\n",
    "text = \"hello123\"\n",
    "result = is_alnum(text)\n",
    "if result:\n",
    "    print (\"the string is alphanumeric\") \n",
    "else:\n",
    "     print(\"the string is not alphanumeric\")"
   ]
  },
  {
   "cell_type": "code",
   "execution_count": 35,
   "id": "5d4a31fd-1f0b-44c2-9865-33bb3543b647",
   "metadata": {},
   "outputs": [
    {
     "name": "stdout",
     "output_type": "stream",
     "text": [
      "the digits in string :  143\n"
     ]
    }
   ],
   "source": [
    "#Extract all digits from a string.\n",
    "def extract_digits(text):\n",
    "    digits = \"\"\n",
    "    for char in text:\n",
    "        if char.isdigit():\n",
    "            digits += char\n",
    "    return digits # move this line outside the for loop\n",
    "\n",
    "text = \"ubed143\"\n",
    "digits = extract_digits(text)\n",
    "print(\"the digits in string : \", digits)"
   ]
  },
  {
   "cell_type": "code",
   "execution_count": 7,
   "id": "3cfeda41-551e-4f34-90c5-4957899576d6",
   "metadata": {},
   "outputs": [
    {
     "name": "stdout",
     "output_type": "stream",
     "text": [
      "alphabets in string : umiaza\n"
     ]
    }
   ],
   "source": [
    "#Extract all alphabets from a string.\n",
    "def extract_alphabets(text):\n",
    "    alphabets= \"\"\n",
    "    for char in text:\n",
    "        if char.isalpha():\n",
    "            alphabets+= char\n",
    "    return alphabets\n",
    "text =\"umiaza987\" \n",
    "alphabets = extract_alphabets(text)\n",
    "print(\"alphabets in string :\" ,alphabets)"
   ]
  },
  {
   "cell_type": "code",
   "execution_count": 27,
   "id": "6409ba57-d05f-4b5c-8c43-b428f222196a",
   "metadata": {},
   "outputs": [
    {
     "name": "stdout",
     "output_type": "stream",
     "text": [
      "Number of Uppercase Letters : 3\n"
     ]
    }
   ],
   "source": [
    "#Count the number of uppercase letters in a string.\n",
    "def number_of_uppercaseletters(text):\n",
    "    uppercase_letters = \"\"\n",
    "    count=0\n",
    "    for char in text:\n",
    "        if char.isupper(): \n",
    "            count+= 1\n",
    "    return count\n",
    "text = \"Ubed Rahman Khan\"\n",
    "uppercase_letters = number_of_uppercaseletters(text)\n",
    "print(\"Number of Uppercase Letters :\" , uppercase_letters )    "
   ]
  },
  {
   "cell_type": "code",
   "execution_count": 32,
   "id": "0aca844b-e626-4e1c-8dbb-7307f9b460cb",
   "metadata": {},
   "outputs": [
    {
     "name": "stdout",
     "output_type": "stream",
     "text": [
      "number of lowercase letters :  10\n"
     ]
    }
   ],
   "source": [
    "#Count the number of lowercase letters in a string.\n",
    "def number_of_lowercaseletters(text):\n",
    "    lowercase_letters= \"\"\n",
    "    count =0\n",
    "    for char in text:\n",
    "        if char.islower(): #checking if char is lowercase letter\n",
    "            count+=1\n",
    "    return count\n",
    "text = \"Ubedur Rahman\"  \n",
    "lowercase_letters = number_of_lowercaseletters(text)\n",
    "print(\"number of lowercase letters : \" , lowercase_letters)"
   ]
  },
  {
   "cell_type": "code",
   "execution_count": 61,
   "id": "dc4d7986-df93-4275-8441-61e082357759",
   "metadata": {},
   "outputs": [
    {
     "name": "stdout",
     "output_type": "stream",
     "text": [
      "swapped chars in a string : uBEDuR\n"
     ]
    }
   ],
   "source": [
    "#Swap the case of each character in a string.\n",
    "def swap_char_in_a_string(text):\n",
    "    swappedchars = \"\"\n",
    "    chars=text.split()\n",
    "    for char in text:\n",
    "        swappedchars += char.swapcase() #swapping case of each char\n",
    "    return swappedchars\n",
    "text =\"UbedUr\"  \n",
    "swappedchars = swap_char_in_a_string(text)\n",
    "print(\"swapped chars in a string :\",swappedchars)"
   ]
  },
  {
   "cell_type": "code",
   "execution_count": 95,
   "id": "9902d875-2bd3-47a5-ac14-404bd6e14285",
   "metadata": {},
   "outputs": [
    {
     "name": "stdout",
     "output_type": "stream",
     "text": [
      "new string is : searching for  videos\n"
     ]
    }
   ],
   "source": [
    "#Remove a specific word from a string.\n",
    "def remove_specific_word(text):\n",
    "    words=text.split()\n",
    "    a = text     #assign the original text to a\n",
    "    for word in words:\n",
    "        if word =='porn':\n",
    "            a= a.replace('porn',\"\")   # # replace 'porn' with an empty string and assign it to a\n",
    "    return a\n",
    "text = \"searching for porn videos\"\n",
    "removewords= remove_specific_word(text)\n",
    "print(\"new string is :\" , removewords)"
   ]
  },
  {
   "cell_type": "code",
   "execution_count": 13,
   "id": "626e44f2-55a5-4d5f-9b5c-41a1c49b8995",
   "metadata": {},
   "outputs": [
    {
     "name": "stdin",
     "output_type": "stream",
     "text": [
      "enter the email id ubedur&&&enterprisesolutioninc.com\n"
     ]
    },
    {
     "name": "stdout",
     "output_type": "stream",
     "text": [
      "Invalid Email\n"
     ]
    }
   ],
   "source": [
    "#Check if a string is a valid email address.\n",
    "import re\n",
    "def check_email(email):\n",
    "    regex = r'\\b[A-Za-z0-9._%+-]+@[A-Za-z0-9.-]+\\.[A-Z|a-z]{2,}\\b'\n",
    "    if re.match(regex, email):\n",
    "        print(\"Valid Email\")\n",
    "    else:\n",
    "        print(\"Invalid Email\")\n",
    "      \n",
    "check_email(input(\"enter the email id\"))     "
   ]
  },
  {
   "cell_type": "code",
   "execution_count": 18,
   "id": "cd93dc06-f37d-407f-a215-2ee11f06f291",
   "metadata": {},
   "outputs": [
    {
     "name": "stdin",
     "output_type": "stream",
     "text": [
      "enter the email : rahmankhan496@gmail.com\n"
     ]
    },
    {
     "name": "stdout",
     "output_type": "stream",
     "text": [
      " etracted user name from email : rahmankhan496\n"
     ]
    }
   ],
   "source": [
    "#Extract the username from an email address string.\n",
    "def extract_username(email):\n",
    "    return email.split('@')[0]\n",
    "email=str(input(\"enter the email :\")) \n",
    "print(\" etracted user name from email :\", extract_username(email))"
   ]
  },
  {
   "cell_type": "code",
   "execution_count": 23,
   "id": "e6d2ccac-d785-499a-b6bb-5d497a23dbe8",
   "metadata": {},
   "outputs": [
    {
     "name": "stdin",
     "output_type": "stream",
     "text": [
      "enter the email ID : ubedur.khan@navitastech.com\n"
     ]
    },
    {
     "name": "stdout",
     "output_type": "stream",
     "text": [
      "Extarcted Domain name from email id is : navitastech.com\n"
     ]
    }
   ],
   "source": [
    "#Extract the domain name from an email address \n",
    "def extract_domain(email):\n",
    "    return email.split('@')[1]\n",
    "email =str(input(\"enter the email ID :\"))\n",
    "print(\"Extarcted Domain name from email id is :\",extract_domain(email))           "
   ]
  },
  {
   "cell_type": "code",
   "execution_count": 13,
   "id": "3c7fb09f-d128-4208-9368-6144bc6ca546",
   "metadata": {},
   "outputs": [
    {
     "data": {
      "text/plain": [
       "'ubedur    rahman'"
      ]
     },
     "execution_count": 13,
     "metadata": {},
     "output_type": "execute_result"
    }
   ],
   "source": [
    "#Replace multiple spaces in a string with a single space\n",
    "string = 'ubedur    rahman'\n",
    "string.replace(\" \" ,  ' ')"
   ]
  },
  {
   "cell_type": "code",
   "execution_count": 27,
   "id": "400b47a5-5674-4437-a5aa-dcf003f47810",
   "metadata": {},
   "outputs": [
    {
     "data": {
      "text/plain": [
       "True"
      ]
     },
     "execution_count": 27,
     "metadata": {},
     "output_type": "execute_result"
    }
   ],
   "source": [
    "#Check if a string is a valid URL\n",
    "from urllib.parse import urlparse\n",
    "\n",
    "def is_valid_url(url):\n",
    "    try:\n",
    "        result = urlparse(url)\n",
    "        return all([result.scheme, result.netloc])\n",
    "    except ValueError:\n",
    "        return False\n",
    "is_valid_url('https://www.bing.com/search?form=NTPCHB&q=Bing+AI&showconv=1')        "
   ]
  },
  {
   "cell_type": "code",
   "execution_count": 1,
   "id": "40ffbf07-a1b3-4a0c-88ef-baeb0ba422b5",
   "metadata": {},
   "outputs": [
    {
     "name": "stdout",
     "output_type": "stream",
     "text": [
      "https\n"
     ]
    }
   ],
   "source": [
    "#Extract the protocol (http or https) from a URL string.\n",
    "from urllib.parse import urlparse\n",
    "\n",
    "url = \"https://www.example.com\"\n",
    "protocol = urlparse(url).scheme\n",
    "print(protocol)  "
   ]
  },
  {
   "cell_type": "code",
   "execution_count": 10,
   "id": "5290635c-7df3-4978-8c00-1500a9f7755a",
   "metadata": {},
   "outputs": [
    {
     "name": "stdout",
     "output_type": "stream",
     "text": [
      "{'u': 5, 'm': 3, 'a': 8, 'i': 4, 'z': 1, ' ': 8, 'n': 2, 'd': 2, 'r': 3, 'e': 3, 't': 2, 'w': 1, 'o': 1, 'b': 2, 'f': 1, 'l': 3, 'h': 1, 'g': 1, 's': 1}\n"
     ]
    }
   ],
   "source": [
    "#Find the frequency of each character in a string.\n",
    "s='umaiza and umaira are two beautiful and humble girls'\n",
    "frequency={}\n",
    "for char in s:\n",
    "    if char in frequency:\n",
    "        frequency[char] +=1\n",
    "    else:\n",
    "        frequency[char] =1\n",
    "print(frequency)        "
   ]
  },
  {
   "cell_type": "code",
   "execution_count": 9,
   "id": "cea2c7e4-adfc-4815-8a15-b9e71cfd1d72",
   "metadata": {},
   "outputs": [
    {
     "name": "stdin",
     "output_type": "stream",
     "text": [
      "enter the string : \"ubed\"\n"
     ]
    },
    {
     "data": {
      "text/plain": [
       "' \" u b e d \" '"
      ]
     },
     "execution_count": 9,
     "metadata": {},
     "output_type": "execute_result"
    }
   ],
   "source": [
    "#Remove all punctuation from a string\n",
    "a=str(input(\"enter the string :\"))"
   ]
  },
  {
   "cell_type": "code",
   "execution_count": 7,
   "id": "f71ff04b-26a5-40e5-9c74-62f05aacc8b0",
   "metadata": {},
   "outputs": [
    {
     "name": "stdin",
     "output_type": "stream",
     "text": [
      "enter the string : 1234\n"
     ]
    },
    {
     "name": "stdout",
     "output_type": "stream",
     "text": [
      "entered string contains only digits\n"
     ]
    }
   ],
   "source": [
    "#Check if a string contains only digits.\n",
    "a=str(input(\"enter the string :\"))\n",
    "if a.isdigit():\n",
    "    print(\"entered string contains only digits\")\n",
    "else:\n",
    "    print(\"entered string contains chars other digits or combination of digits\")\n",
    "    "
   ]
  },
  {
   "cell_type": "code",
   "execution_count": 5,
   "id": "a4d2cfa2-6f83-4f6b-9a76-dee85eb7bcd0",
   "metadata": {},
   "outputs": [
    {
     "name": "stdin",
     "output_type": "stream",
     "text": [
      "enter the string : ubed\n"
     ]
    },
    {
     "name": "stdout",
     "output_type": "stream",
     "text": [
      "Entered String contains only alphabets\n"
     ]
    }
   ],
   "source": [
    "#Check if a string contains only alphabets.\n",
    "a=str(input(\"enter the string :\"))\n",
    "if a.isalpha():\n",
    "    print(\"Entered String contains only alphabets\")\n",
    "else:\n",
    "    print(\"entered string is a combination of alpha Numeric or special characters\")"
   ]
  },
  {
   "cell_type": "code",
   "execution_count": 6,
   "id": "651f1911-5de0-400d-941f-1d7dc485e646",
   "metadata": {},
   "outputs": [
    {
     "name": "stdout",
     "output_type": "stream",
     "text": [
      "['u', 'b', 'e', 'd', 'u', 'r']\n"
     ]
    }
   ],
   "source": [
    "#Convert a string to a list of characters.\n",
    "a='ubedur'\n",
    "list=[]\n",
    "for i in a:\n",
    "    list.append(i)\n",
    "print(list)"
   ]
  },
  {
   "cell_type": "code",
   "execution_count": 11,
   "id": "8b0505c5-bd9d-4684-a8c1-66859553765a",
   "metadata": {},
   "outputs": [
    {
     "name": "stdout",
     "output_type": "stream",
     "text": [
      "listen and silent are anagrams.\n"
     ]
    }
   ],
   "source": [
    "#Check if two strings are anagrams.\n",
    "def is_anagram(str1: str, str2: str) -> bool:\n",
    "    return sorted(str1) == sorted(str2)\n",
    "\n",
    "str1 = \"listen\"\n",
    "str2 = \"silent\"\n",
    "if is_anagram(str1, str2):\n",
    "    print(f\"{str1} and {str2} are anagrams.\")\n",
    "else:\n",
    "    print(f\"{str1} and {str2} are not anagrams.\")"
   ]
  },
  {
   "cell_type": "code",
   "execution_count": 12,
   "id": "f1f558d1-ab2d-4483-b29d-f0f83408ac17",
   "metadata": {},
   "outputs": [
    {
     "name": "stdout",
     "output_type": "stream",
     "text": [
      "khoor zruog\n"
     ]
    }
   ],
   "source": [
    "#Encode a string using a Caesar cipher\n",
    "def caesar_cipher(text: str, shift: int) -> str:\n",
    "    result = \"\"\n",
    "    for char in text:\n",
    "        if char.isalpha():\n",
    "            if char.isupper():\n",
    "                result += chr((ord(char) + shift - 65) % 26 + 65)\n",
    "            else:\n",
    "                result += chr((ord(char) + shift - 97) % 26 + 97)\n",
    "        else:\n",
    "            result += char\n",
    "    return result\n",
    "\n",
    "text = \"hello world\"\n",
    "shift = 3\n",
    "encoded_text = caesar_cipher(text, shift)\n",
    "print(encoded_text) "
   ]
  },
  {
   "cell_type": "code",
   "execution_count": 13,
   "id": "c93ba99d-6c5f-4351-8bbe-32a2d62dc91f",
   "metadata": {},
   "outputs": [
    {
     "name": "stdout",
     "output_type": "stream",
     "text": [
      "hello world\n"
     ]
    }
   ],
   "source": [
    "#Decode a Caesar cipher encoded string.\n",
    "def caesar_cipher(text: str, shift: int) -> str:\n",
    "    result = \"\"\n",
    "    for char in text:\n",
    "        if char.isalpha():\n",
    "            if char.isupper():\n",
    "                result += chr((ord(char) - shift - 65) % 26 + 65)\n",
    "            else:\n",
    "                result += chr((ord(char) - shift - 97) % 26 + 97)\n",
    "        else:\n",
    "            result += char\n",
    "    return result\n",
    "\n",
    "text = \"khoor zruog\"\n",
    "shift = 3\n",
    "decoded_text = caesar_cipher(text, shift)\n",
    "print(decoded_text)"
   ]
  },
  {
   "cell_type": "code",
   "execution_count": 14,
   "id": "53d4bf43-4da7-4642-bbbf-488b4594a110",
   "metadata": {},
   "outputs": [
    {
     "name": "stdout",
     "output_type": "stream",
     "text": [
      "ubed\n"
     ]
    }
   ],
   "source": [
    "#Find the most frequent word in a string.\n",
    "from collections import Counter\n",
    "\n",
    "string = 'ubed is a good and ubed is accha baccha and ubed is a powerful man'\n",
    "frequency = Counter(string.split())\n",
    "most_common_word = frequency.most_common(1)[0][0]\n",
    "print(most_common_word)  # Output: hello"
   ]
  },
  {
   "cell_type": "code",
   "execution_count": 37,
   "id": "62a5e694-8197-4038-a3b8-6040c3e73b27",
   "metadata": {},
   "outputs": [
    {
     "name": "stdout",
     "output_type": "stream",
     "text": [
      "{'quick', 'jumps', 'over', 'fox', 'lazy', 'the', 'dog', 'brown'}\n"
     ]
    }
   ],
   "source": [
    "#Find all unique words in a string.\n",
    "my_string = \"the quick brown fox jumps over the lazy dog\"\n",
    "unique_words = set(my_string.split())\n",
    "print(unique_words)"
   ]
  },
  {
   "cell_type": "code",
   "execution_count": 15,
   "id": "193565a1-4b4c-41f9-a90b-7d5407415b05",
   "metadata": {},
   "outputs": [
    {
     "name": "stdout",
     "output_type": "stream",
     "text": [
      "The word 'syllables' has 3 syllables.\n"
     ]
    }
   ],
   "source": [
    "#Count the number of syllables in a string.\n",
    "def syllable_count(word: str) -> int:\n",
    "    word = word.lower()\n",
    "    count = 0\n",
    "    vowels = \"aeiouy\"\n",
    "    if word[0] in vowels:\n",
    "        count += 1\n",
    "    for index in range(1, len(word)):\n",
    "        if word[index] in vowels and word[index - 1] not in vowels:\n",
    "            count += 1\n",
    "    if word.endswith(\"e\"):\n",
    "        count -= 1\n",
    "    if count == 0:\n",
    "        count += 1\n",
    "    return count\n",
    "\n",
    "word = \"syllables\"\n",
    "syllables = syllable_count(word)\n",
    "print(f\"The word '{word}' has {syllables} syllables.\")\n"
   ]
  },
  {
   "cell_type": "code",
   "execution_count": 38,
   "id": "008dfca1-37e3-40e6-9a6e-f811f92095b0",
   "metadata": {},
   "outputs": [
    {
     "name": "stdout",
     "output_type": "stream",
     "text": [
      "The string contains special characters\n"
     ]
    }
   ],
   "source": [
    "#Check if a string contains any special characters.\n",
    "import string\n",
    "\n",
    "def has_special_chars(s):\n",
    "    return any(c in string.punctuation for c in s)\n",
    "\n",
    "if has_special_chars(\"Hello, world!\"):\n",
    "    print(\"The string contains special characters\")\n",
    "else:\n",
    "    print(\"The string does not contain special characters\")"
   ]
  },
  {
   "cell_type": "code",
   "execution_count": 39,
   "id": "68f4475d-1a55-47af-a2fd-0c50e27a4f78",
   "metadata": {},
   "outputs": [
    {
     "name": "stdout",
     "output_type": "stream",
     "text": [
      "The quick fox jumps over the lazy dog\n"
     ]
    }
   ],
   "source": [
    "#Remove the nth word from a string.\n",
    "my_string = \"The quick brown fox jumps over the lazy dog\"\n",
    "n = 3\n",
    "words = my_string.split()\n",
    "del words[n-1]\n",
    "new_string = \" \".join(words)\n",
    "print(new_string)"
   ]
  },
  {
   "cell_type": "code",
   "execution_count": 41,
   "id": "abdf8ab1-a520-45e8-9015-28da931859c1",
   "metadata": {},
   "outputs": [
    {
     "name": "stdout",
     "output_type": "stream",
     "text": [
      "Hello beautiful World!\n"
     ]
    }
   ],
   "source": [
    " #Insert a word at the nth position in a string.\n",
    "def insert_word(string, word, n):\n",
    "    return string[:n] + word + string[n:]\n",
    "\n",
    "string = \"Hello World!\"\n",
    "word = \"beautiful \"\n",
    "n = 6\n",
    "new_string = insert_word(string, word, n)\n",
    "print(new_string)"
   ]
  },
  {
   "cell_type": "code",
   "execution_count": 42,
   "id": "4e627e5a-0a37-4153-a521-78fb24d4f5f2",
   "metadata": {},
   "outputs": [
    {
     "name": "stdout",
     "output_type": "stream",
     "text": [
      "[['1', '2', '3'], ['4', '5', '6'], ['7', '8', '9']]\n"
     ]
    }
   ],
   "source": [
    "#Convert a CSV string to a list of lists.\n",
    "import csv\n",
    "\n",
    "def csv_to_list(csv_string):\n",
    "    reader = csv.reader(csv_string.split('\\\\n'))\n",
    "    return [row for row in reader]\n",
    "\n",
    "csv_string = '1,2,3\\\\n4,5,6\\\\n7,8,9'\n",
    "list_of_lists = csv_to_list(csv_string)\n",
    "print(list_of_lists)\n"
   ]
  },
  {
   "cell_type": "code",
   "execution_count": null,
   "id": "a0eaa971-6b76-427e-8b20-c23de8b10c89",
   "metadata": {},
   "outputs": [],
   "source": [
    "                                                            '''List'''\n",
    "#Create a list with integers from 1 to 10.\n",
    "list(range(1,11))"
   ]
  },
  {
   "cell_type": "code",
   "execution_count": 23,
   "id": "f9168e4b-901b-47de-91e1-c8e784c756e3",
   "metadata": {},
   "outputs": [
    {
     "name": "stdout",
     "output_type": "stream",
     "text": [
      "the length of string is :  6\n"
     ]
    }
   ],
   "source": [
    "#Find the length of a list without using the `len()` function.\n",
    "\n",
    "List=[1,2,8,7,'ubed',89]\n",
    "count=0\n",
    "for i in List:\n",
    "    count+=1\n",
    "print(\"the length of string is : \",count)    \n"
   ]
  },
  {
   "cell_type": "code",
   "execution_count": 19,
   "id": "c00392a9-7cc8-43d4-8c3f-ed8fd59e6104",
   "metadata": {},
   "outputs": [
    {
     "name": "stdout",
     "output_type": "stream",
     "text": [
      "[1, 2, 8, 9, 0]\n"
     ]
    }
   ],
   "source": [
    "#Append an element to the end of a list.\n",
    "List=[1,2,8,9]\n",
    "List.append(0)\n",
    "print(List)"
   ]
  },
  {
   "cell_type": "code",
   "execution_count": 20,
   "id": "4dcdb86e-da5b-4939-be9e-5bccdcc0ec81",
   "metadata": {},
   "outputs": [
    {
     "name": "stdout",
     "output_type": "stream",
     "text": [
      "[12, 100, 89, 99, 77]\n"
     ]
    }
   ],
   "source": [
    "#Insert an element at a specific index in a list.\n",
    "List=[12,89,99,77]\n",
    "List.insert(1,100)\n",
    "print(List)"
   ]
  },
  {
   "cell_type": "code",
   "execution_count": 56,
   "id": "14d4fd50-8068-4201-8a90-c2ebb6d123c7",
   "metadata": {},
   "outputs": [
    {
     "name": "stdout",
     "output_type": "stream",
     "text": [
      "[100, 500, 700]\n"
     ]
    }
   ],
   "source": [
    "#Remove an element from a list by its value.\n",
    "List=[100,500,800,700]\n",
    "List.remove(800)\n",
    "print(List)"
   ]
  },
  {
   "cell_type": "code",
   "execution_count": 9,
   "id": "7208fca3-8b73-422c-b144-4ef869cece51",
   "metadata": {},
   "outputs": [
    {
     "data": {
      "text/plain": [
       "1"
      ]
     },
     "execution_count": 9,
     "metadata": {},
     "output_type": "execute_result"
    }
   ],
   "source": [
    "#Remove an element from a list by its index.\n",
    "List=[1000,2000,9000,6000,3000]\n",
    "List.index(2000)"
   ]
  },
  {
   "cell_type": "code",
   "execution_count": 21,
   "id": "a8223e1a-d3ee-4dd6-9cb9-17b718363d0f",
   "metadata": {},
   "outputs": [
    {
     "name": "stdin",
     "output_type": "stream",
     "text": [
      "enter the elememt : 0\n"
     ]
    },
    {
     "name": "stdout",
     "output_type": "stream",
     "text": [
      "the element is in list\n"
     ]
    }
   ],
   "source": [
    "#Check if an element exists in a list.\n",
    "List=[0,1,2,3,55,88]\n",
    "element=int(input(\"enter the elememt :\"))\n",
    "if element in list:\n",
    "    print(\"the element is in list\")\n",
    "else:\n",
    "    print(\"the element is not in list\")"
   ]
  },
  {
   "cell_type": "code",
   "execution_count": 60,
   "id": "fedacfbe-4d23-4ac7-84a2-0a0cdd0f3293",
   "metadata": {},
   "outputs": [
    {
     "data": {
      "text/plain": [
       "0"
      ]
     },
     "execution_count": 60,
     "metadata": {},
     "output_type": "execute_result"
    }
   ],
   "source": [
    "#Find the index of the first occurrence of an element in a list.\n",
    "List=[3,9,6,12,3,15]\n",
    "List.index(3)"
   ]
  },
  {
   "cell_type": "code",
   "execution_count": 7,
   "id": "4dbe1026-239b-48a9-8837-a3b4566edd98",
   "metadata": {},
   "outputs": [
    {
     "data": {
      "text/plain": [
       "2"
      ]
     },
     "execution_count": 7,
     "metadata": {},
     "output_type": "execute_result"
    }
   ],
   "source": [
    "#Count the occurrences of an element in a list.\n",
    "List=[20,10,60,20,10]\n",
    "List.count(10)"
   ]
  },
  {
   "cell_type": "code",
   "execution_count": 40,
   "id": "b7882f70-ee19-438d-ba02-604438767621",
   "metadata": {},
   "outputs": [
    {
     "name": "stdout",
     "output_type": "stream",
     "text": [
      "[70, 40, 10, 20, 30]\n"
     ]
    }
   ],
   "source": [
    "#Reverse the order of elements in a list.\n",
    "List=[30,20,10,40,70]\n",
    "List.reverse()\n",
    "print(List)"
   ]
  },
  {
   "cell_type": "code",
   "execution_count": 42,
   "id": "a52b8113-68f4-4cf8-9ba7-8b136bfce815",
   "metadata": {},
   "outputs": [
    {
     "name": "stdout",
     "output_type": "stream",
     "text": [
      "[70, 80, 90, 100, 200]\n"
     ]
    }
   ],
   "source": [
    "#Sort a list in ascending order.\n",
    "L=[100,90,70,80,200]\n",
    "L.sort()\n",
    "print(l)"
   ]
  },
  {
   "cell_type": "code",
   "execution_count": 48,
   "id": "7b8c68f7-232e-4a5e-9aa5-68e3aa1cacd8",
   "metadata": {},
   "outputs": [
    {
     "name": "stdout",
     "output_type": "stream",
     "text": [
      "[200, 100, 90, 80, 70]\n"
     ]
    }
   ],
   "source": [
    "#Sort a list in descending order.\n",
    "L=[100,90,70,80,200]\n",
    "L.sort(reverse=True)\n",
    "print(L)"
   ]
  },
  {
   "cell_type": "code",
   "execution_count": 2,
   "id": "43137be1-13bb-4765-837f-fd50ef7fe012",
   "metadata": {},
   "outputs": [
    {
     "data": {
      "text/plain": [
       "[0, 2, 4, 6, 8, 10, 12, 14, 16, 18]"
      ]
     },
     "execution_count": 2,
     "metadata": {},
     "output_type": "execute_result"
    }
   ],
   "source": [
    "#Create a list of even numbers from 1 to 20.\n",
    "list(range(0,20,2))"
   ]
  },
  {
   "cell_type": "code",
   "execution_count": 3,
   "id": "88853cd5-0fe6-4e80-a43b-08ffe7384b10",
   "metadata": {},
   "outputs": [
    {
     "data": {
      "text/plain": [
       "[1, 3, 5, 7, 9, 11, 13, 15, 17, 19]"
      ]
     },
     "execution_count": 3,
     "metadata": {},
     "output_type": "execute_result"
    }
   ],
   "source": [
    "#Create a list of odd numbers from 1 to 20.\n",
    "list(range(1,20,2))"
   ]
  },
  {
   "cell_type": "code",
   "execution_count": 6,
   "id": "97c36857-d6c7-4c55-a6f0-3223b7431875",
   "metadata": {},
   "outputs": [
    {
     "name": "stdout",
     "output_type": "stream",
     "text": [
      "the sum is : 260\n"
     ]
    }
   ],
   "source": [
    "#Find the sum of all elements in a list.\n",
    "a=[10,20,60,80,90]\n",
    "sum=0\n",
    "for i in a:\n",
    "    sum+=i\n",
    "print(\"the sum is :\",sum)"
   ]
  },
  {
   "cell_type": "code",
   "execution_count": 24,
   "id": "d7365955-0dfe-4e8c-8aa7-77930fdef14a",
   "metadata": {},
   "outputs": [
    {
     "data": {
      "text/plain": [
       "90"
      ]
     },
     "execution_count": 24,
     "metadata": {},
     "output_type": "execute_result"
    }
   ],
   "source": [
    "#Find the maximum value in a list.\n",
    "a=[10,20,60,80,90]\n",
    "max(a)"
   ]
  },
  {
   "cell_type": "code",
   "execution_count": 25,
   "id": "7d1f6346-42a1-48cc-a200-a6c8cd2cfc7b",
   "metadata": {},
   "outputs": [
    {
     "data": {
      "text/plain": [
       "10"
      ]
     },
     "execution_count": 25,
     "metadata": {},
     "output_type": "execute_result"
    }
   ],
   "source": [
    "#Find the minimum value in a list.\n",
    "a=[10,20,60,80,90]\n",
    "min(a) "
   ]
  },
  {
   "cell_type": "code",
   "execution_count": null,
   "id": "310546c9-ce0f-46e2-a4c9-59be4c1748c6",
   "metadata": {},
   "outputs": [],
   "source": [
    "#Create a list of squares of numbers from 1 to 10.\n",
    "a=list(range(1,11))\n",
    "b=[x*x for x in a]                  #not getting o/p because of kernel issues already checked in other kernel\n",
    "print(b)"
   ]
  },
  {
   "cell_type": "code",
   "execution_count": 41,
   "id": "289a754d-3a7c-4bb1-b510-48f6e791a3ad",
   "metadata": {},
   "outputs": [
    {
     "name": "stdout",
     "output_type": "stream",
     "text": [
      "[69, 85, 89, 49, 41, 49, 21, 40, 73, 89]\n"
     ]
    }
   ],
   "source": [
    "#Create a list of random numbers.\n",
    "import random\n",
    "my_randoms = [random.randint(0, 100) for _ in range(10)]\n",
    "print(my_randoms)\n"
   ]
  },
  {
   "cell_type": "code",
   "execution_count": null,
   "id": "7040f804-4887-485c-823a-16bba26783fd",
   "metadata": {},
   "outputs": [],
   "source": [
    "Remove duplicates from a list.\n",
    "a=[10,20,10,60,70,60,90]\n",
    "set(a)                            #not getting o/p because of kernel issues already checked in other kernel\n",
    "list(set(a))"
   ]
  },
  {
   "cell_type": "code",
   "execution_count": 49,
   "id": "227c4f3a-7d77-4502-b35d-1a851552786b",
   "metadata": {},
   "outputs": [
    {
     "name": "stdout",
     "output_type": "stream",
     "text": [
      "list of common elements : [10, 20]\n"
     ]
    }
   ],
   "source": [
    "#Find the common elements between two lists.\n",
    "m=[10,20,30,60,40]\n",
    "n=[10,90,120,130,100,20]\n",
    "common_elements=[]\n",
    "for i in m:\n",
    "    if i in n:\n",
    "        common_elements.append(i)\n",
    "print(\"list of common elements :\",common_elements)                  "
   ]
  },
  {
   "cell_type": "code",
   "execution_count": 17,
   "id": "dc66433b-783d-4321-b283-5a1e0c913769",
   "metadata": {},
   "outputs": [
    {
     "name": "stdout",
     "output_type": "stream",
     "text": [
      "[5]\n"
     ]
    }
   ],
   "source": [
    "#Find the difference between two lists.\n",
    "def diff(l1, l2):\n",
    "    return [i for i in l1 if i not in l2]\n",
    "l1=[1,2,3,4,5]\n",
    "l2=[1,2,3,4]\n",
    "print(diff(l1, l2))"
   ]
  },
  {
   "cell_type": "code",
   "execution_count": 23,
   "id": "98128723-305c-4c10-8d0b-7be7f5a38d03",
   "metadata": {},
   "outputs": [
    {
     "name": "stdout",
     "output_type": "stream",
     "text": [
      "[1, 2, 3, 4, 5, 1, 2, 3, 4]\n"
     ]
    }
   ],
   "source": [
    "#Merge two lists.\n",
    "l1=[1,2,3,4,5]\n",
    "l2=[1,2,3,4]\n",
    "print(l1+l2)"
   ]
  },
  {
   "cell_type": "code",
   "execution_count": 51,
   "id": "1f171477-db0a-49ca-bc37-a7b1bfd80bc3",
   "metadata": {},
   "outputs": [
    {
     "name": "stdout",
     "output_type": "stream",
     "text": [
      "[4, 8, 12, 16, 20]\n"
     ]
    }
   ],
   "source": [
    "#Multiply all elements in a list by 2.\n",
    "e=[2,4,6,8,10]\n",
    "f=[x*2 for x in e]\n",
    "print(f)"
   ]
  },
  {
   "cell_type": "code",
   "execution_count": 52,
   "id": "70dcf04f-9d77-4f4a-874b-998f5858cdb5",
   "metadata": {},
   "outputs": [
    {
     "name": "stdout",
     "output_type": "stream",
     "text": [
      "the filtered out even number list : [2, 4, 8]\n"
     ]
    }
   ],
   "source": [
    "#Filter out all even numbers from a list.\n",
    "r=[1,2,3,9,77,55,4,8]\n",
    "even_numbers=[]\n",
    "for i in r:\n",
    "    if i%2==0:\n",
    "        even_numbers.append(i)\n",
    "print(\"the filtered out even number list :\",even_numbers)        "
   ]
  },
  {
   "cell_type": "code",
   "execution_count": 7,
   "id": "b1dba5fc-28b1-4262-ab5c-26b5a407717d",
   "metadata": {},
   "outputs": [
    {
     "name": "stdout",
     "output_type": "stream",
     "text": [
      "The list of integers: [456, 789, 102]\n"
     ]
    }
   ],
   "source": [
    "#Convert a list of strings to a list of integers.\n",
    "t=['456','789','102']\n",
    "u=list(map(int,t))\n",
    "print(\"The list of integers:\",u)"
   ]
  },
  {
   "cell_type": "code",
   "execution_count": 10,
   "id": "11ae4892-debf-4167-bfac-1404cc8720fb",
   "metadata": {},
   "outputs": [
    {
     "name": "stdout",
     "output_type": "stream",
     "text": [
      "the list of string: ['123', '456', '789']\n"
     ]
    }
   ],
   "source": [
    "#Convert a list of integers to a list of strings.\n",
    "i=[123,456,789]\n",
    "s=list(map(str,i))\n",
    "print(\"the list of string:\", s)"
   ]
  },
  {
   "cell_type": "code",
   "execution_count": 15,
   "id": "e50eced9-5e33-4d1f-b5b2-7494d72941e0",
   "metadata": {},
   "outputs": [
    {
     "name": "stdout",
     "output_type": "stream",
     "text": [
      "flattend list [1, 2, 4, 5, 6, 7, 8, 9]\n"
     ]
    }
   ],
   "source": [
    "#Flatten a nested list.\n",
    "nested_list=[[1,2],[4,5,6],[7,8,9]]\n",
    "flattened_list = [x for sublist in nested_list for x in sublist]\n",
    "print(\"flattend list\",flattened_list)"
   ]
  },
  {
   "cell_type": "code",
   "execution_count": 18,
   "id": "f6a2d881-25da-4efe-bdab-9780afa0a452",
   "metadata": {},
   "outputs": [
    {
     "name": "stdout",
     "output_type": "stream",
     "text": [
      "list of first 10 fibonacci numbers : [0, 1, 1, 2, 3, 5, 8, 13, 21, 34]\n"
     ]
    }
   ],
   "source": [
    "#Create a list of the first 10 Fibonacci numbers.\n",
    "def fibonacci(n):\n",
    "    if n<=1:\n",
    "        return n\n",
    "    else:\n",
    "        return fibonacci(n-1)+fibonacci(n-2)\n",
    "fibonacci_list = []\n",
    "for i in range(10):\n",
    "    fibonacci_list.append(fibonacci(i))  \n",
    "print(\"list of first 10 fibonacci numbers :\",fibonacci_list )"
   ]
  },
  {
   "cell_type": "code",
   "execution_count": 24,
   "id": "1f0cd3a6-6756-4f65-ad0d-08e13516a991",
   "metadata": {},
   "outputs": [
    {
     "name": "stdout",
     "output_type": "stream",
     "text": [
      "sorted(lst)\n"
     ]
    }
   ],
   "source": [
    "#Check if a list is sorted.\n",
    "def is_sorted(lst):\n",
    "    return lst == sorted(lst)\n",
    "lst=[10,9,7,1]\n",
    "print(\"sorted(lst)\")"
   ]
  },
  {
   "cell_type": "code",
   "execution_count": 4,
   "id": "153db0be-7eac-4cce-bc79-3d8ef666a34d",
   "metadata": {},
   "outputs": [
    {
     "name": "stdout",
     "output_type": "stream",
     "text": [
      "[7, 8, 1, 5, 6]\n"
     ]
    }
   ],
   "source": [
    "#Rotate a list to the left by `n` positions.\n",
    "l=[1,5,6,7,8]\n",
    "l2=l[3:]+l[:3]\n",
    "print(l2)"
   ]
  },
  {
   "cell_type": "code",
   "execution_count": 6,
   "id": "63d2a291-a1d7-4c85-aca5-d4930c9544b3",
   "metadata": {},
   "outputs": [
    {
     "name": "stdout",
     "output_type": "stream",
     "text": [
      "[6, 7, 8, 1, 5]\n"
     ]
    }
   ],
   "source": [
    "#Rotate a list to the right by `n` positions.\n",
    "l=[1,5,6,7,8]\n",
    "l2=l[-3:]+l[:-3]\n",
    "print(l2)"
   ]
  },
  {
   "cell_type": "code",
   "execution_count": 2,
   "id": "4be4c1ba-2979-40bc-ac89-602eacb296d9",
   "metadata": {},
   "outputs": [
    {
     "name": "stdout",
     "output_type": "stream",
     "text": [
      "[2, 3, 5, 7]\n"
     ]
    }
   ],
   "source": [
    "#Create a list of prime numbers up to 50.\n",
    "\n",
    "def is_prime(n):\n",
    "    if n < 2:\n",
    "        return False\n",
    "    for i in range(2, int(n ** 0.5) + 1):\n",
    "        if n % i == 0:\n",
    "            return False\n",
    "    return True\n",
    "\n",
    "primes = [i for i in range(2, 10) if is_prime(i)]\n",
    "print(primes)\n"
   ]
  },
  {
   "cell_type": "code",
   "execution_count": 15,
   "id": "dc298789-0804-46c2-a191-855ea5a1616d",
   "metadata": {},
   "outputs": [
    {
     "data": {
      "text/plain": [
       "[[2, 8], [9, 10], [80, 500], [1000, 500]]"
      ]
     },
     "execution_count": 15,
     "metadata": {},
     "output_type": "execute_result"
    }
   ],
   "source": [
    "#Split a list into chunks of size `n`.\n",
    "def split_list(lst, n):\n",
    "    result = []\n",
    "    for i in range(0, len(lst), n):\n",
    "        result.append(lst[i:i + n])\n",
    "    return result\n",
    "\n",
    "split_list([2,8,9,10,80,500,1000,500], 2)"
   ]
  },
  {
   "cell_type": "code",
   "execution_count": 64,
   "id": "78f8e401-cd2b-4f0c-badb-80b0e8d80598",
   "metadata": {},
   "outputs": [
    {
     "name": "stdout",
     "output_type": "stream",
     "text": [
      "8\n"
     ]
    }
   ],
   "source": [
    "#find the second largest number in a list.\n",
    "lst=[1,2,3,5,6,8,9]\n",
    "mx=max(lst)\n",
    "lst.remove(mx)\n",
    "print(max(lst))"
   ]
  },
  {
   "cell_type": "code",
   "execution_count": 26,
   "id": "4ffc4903-8be1-4074-a642-559ebceaa558",
   "metadata": {},
   "outputs": [
    {
     "name": "stdout",
     "output_type": "stream",
     "text": [
      "[49, 4, 9, 16, 25]\n"
     ]
    }
   ],
   "source": [
    "#Replace every element in a list with its square.\n",
    "lst=[7,2,3,4,5]\n",
    "s=[x*x for x in lst]\n",
    "print(s)"
   ]
  },
  {
   "cell_type": "code",
   "execution_count": 35,
   "id": "9761a656-16e6-47fe-8361-32a96bd70bea",
   "metadata": {},
   "outputs": [
    {
     "name": "stdout",
     "output_type": "stream",
     "text": [
      "{0: 'apple', 1: 'banana', 2: 'cherry'}\n"
     ]
    }
   ],
   "source": [
    "#Convert a list to a dictionary where list elements become keys and their indices become values.\n",
    "my_list = ['apple', 'banana', 'cherry']\n",
    "my_dict = {index: value for index, value in enumerate(my_list)}\n",
    "print(my_dict)"
   ]
  },
  {
   "cell_type": "code",
   "execution_count": 36,
   "id": "8077a420-d8b7-4b85-8304-b932f73a6fca",
   "metadata": {},
   "outputs": [
    {
     "name": "stdout",
     "output_type": "stream",
     "text": [
      "[3, 1, 5, 4, 2]\n"
     ]
    }
   ],
   "source": [
    "#Shuffle the elements of a list randomly.\n",
    "import random\n",
    "\n",
    "my_list = [1, 2, 3, 4, 5]\n",
    "random.shuffle(my_list)\n",
    "print(my_list)"
   ]
  },
  {
   "cell_type": "code",
   "execution_count": 9,
   "id": "4208b3ae-af42-4dc0-b3eb-bf5ae6bf6fc7",
   "metadata": {},
   "outputs": [
    {
     "name": "stdout",
     "output_type": "stream",
     "text": [
      "[1, 2, 6, 24, 120, 720, 5040, 40320, 362880, 3628800]\n"
     ]
    }
   ],
   "source": [
    "#Create a list of the first 10 factorial numbers.\n",
    "def factorial(n):\n",
    "    if n==0:\n",
    "        return 1\n",
    "    else: \n",
    "        return n*factorial(n-1)\n",
    "factorials=[factorial(i) for i in range(1,11)]\n",
    "print(factorials)"
   ]
  },
  {
   "cell_type": "code",
   "execution_count": 52,
   "id": "58e21b8a-090a-4b8f-a911-71faf613ff5d",
   "metadata": {},
   "outputs": [
    {
     "name": "stdout",
     "output_type": "stream",
     "text": [
      "two lists have a common element\n"
     ]
    }
   ],
   "source": [
    "#Check if two lists have at least one element in common.\n",
    "l1=[1,3,5,8,63,2]\n",
    "l2=[1,6,98,77,53,55]\n",
    "common = False\n",
    "for i in l1:\n",
    "    for j in l2:\n",
    "        if i==j:\n",
    "            common = True\n",
    "            break\n",
    "    if common:\n",
    "        break\n",
    "\n",
    "if common:\n",
    "    print(\"two lists have a common element\")\n",
    "else:\n",
    "    print(\"two lists don't have a common element\")     "
   ]
  },
  {
   "cell_type": "code",
   "execution_count": 28,
   "id": "d483c094-3010-44a1-a003-f78caa7eebb6",
   "metadata": {},
   "outputs": [
    {
     "name": "stdout",
     "output_type": "stream",
     "text": [
      "[]\n"
     ]
    }
   ],
   "source": [
    "#Remove all elements from a list\n",
    "lst=[52,65,47,98,63]\n",
    "lst.clear()\n",
    "print(lst)"
   ]
  },
  {
   "cell_type": "code",
   "execution_count": null,
   "id": "85fddb03-71b8-43fb-81bb-26075da03a73",
   "metadata": {},
   "outputs": [],
   "source": [
    "#Replace negative numbers in a list with 0.\n",
    "lst=[10,-20,60,-90,55,40]\n",
    "lst1=[]\n",
    "for i in lst:\n",
    "    if i<0:\n",
    "        lst1.append(0)\n",
    "print(lst1)    "
   ]
  },
  {
   "cell_type": "code",
   "execution_count": 1,
   "id": "225bfa5e-3610-446a-9a4d-316a5477df7f",
   "metadata": {},
   "outputs": [
    {
     "name": "stdout",
     "output_type": "stream",
     "text": [
      "['j', 'a', 'w', 'a', 'n']\n"
     ]
    }
   ],
   "source": [
    "#Convert a string into a list of words\n",
    "s='jawan'\n",
    "lst=[]\n",
    "for i in s:\n",
    "    lst.append(i)\n",
    "print(lst)  "
   ]
  },
  {
   "cell_type": "code",
   "execution_count": 5,
   "id": "d38b8c98-a64f-42da-9421-3ef59dd3d98e",
   "metadata": {},
   "outputs": [
    {
     "name": "stdout",
     "output_type": "stream",
     "text": [
      "j a w a n\n"
     ]
    }
   ],
   "source": [
    "#Convert a list of words into a string.\n",
    "l=['j', 'a', 'w', 'a', 'n']\n",
    "separator = ' '\n",
    "string = separator.join([str(x) for x in l])  \n",
    "print(string)"
   ]
  },
  {
   "cell_type": "code",
   "execution_count": 13,
   "id": "0a86191d-fdf6-4745-b437-6a62cbd81438",
   "metadata": {},
   "outputs": [
    {
     "name": "stdout",
     "output_type": "stream",
     "text": [
      "[2, 4, 8, 16, 32]\n"
     ]
    }
   ],
   "source": [
    "#Create a list of the first `n` powers of 2.\n",
    "u=[1,2,3,4,5]\n",
    "l=[2**x for x in u]\n",
    "print(l)"
   ]
  },
  {
   "cell_type": "code",
   "execution_count": 14,
   "id": "90db2b0b-5088-488a-adb5-c9755ead47a9",
   "metadata": {},
   "outputs": [
    {
     "name": "stdout",
     "output_type": "stream",
     "text": [
      "umaira afsha\n"
     ]
    }
   ],
   "source": [
    "#Find the longest string in a list of strings.\n",
    "l=['ubed','afiya','umaiza','umaira afsha']\n",
    "longest=max(l,key=len)\n",
    "print(longest)"
   ]
  },
  {
   "cell_type": "code",
   "execution_count": 15,
   "id": "962b25d9-2d45-47f0-8398-813ffee77b99",
   "metadata": {},
   "outputs": [
    {
     "name": "stdout",
     "output_type": "stream",
     "text": [
      "ubed\n"
     ]
    }
   ],
   "source": [
    "#Find the shortest string in a list of strings.\n",
    "l=['ubed','afiya','umaiza','umaira afsha']\n",
    "shortest=min(l,key=len)\n",
    "print(shortest)"
   ]
  },
  {
   "cell_type": "code",
   "execution_count": 46,
   "id": "de44c752-5e54-4bc3-8187-ed81acefa113",
   "metadata": {},
   "outputs": [
    {
     "name": "stdin",
     "output_type": "stream",
     "text": [
      "enter the range for triangular numbers 5\n"
     ]
    },
    {
     "name": "stdout",
     "output_type": "stream",
     "text": [
      "[1, 3, 6, 10, 15]\n"
     ]
    }
   ],
   "source": [
    "#Create a list of the first `n` triangular numbers.\n",
    "n=int(input(\"enter the range for triangular numbers\"))\n",
    "lt=[n*(n+1)//2 for n in range(1,n+1)]\n",
    "print(lt)"
   ]
  },
  {
   "cell_type": "code",
   "execution_count": 16,
   "id": "6935b82d-1eb1-434b-8d58-6eebbbf04b6b",
   "metadata": {},
   "outputs": [
    {
     "name": "stdout",
     "output_type": "stream",
     "text": [
      "True\n"
     ]
    }
   ],
   "source": [
    "#Check if a list contains another list as a subsequence.\n",
    "def check_subsequence(larger_list, lookup_list):\n",
    "    check = True\n",
    "    for i in lookup_list:\n",
    "        try:\n",
    "            index = larger_list.index(i)\n",
    "            larger_list = larger_list[index+1:]\n",
    "        except ValueError:\n",
    "            check = False\n",
    "            break\n",
    "    return check\n",
    "larger_list=[[1,2],1,2,3,4,5]  \n",
    "lookup_list=[1,2]\n",
    "print(check_subsequence(larger_list, lookup_list))"
   ]
  },
  {
   "cell_type": "code",
   "execution_count": 49,
   "id": "b47849b1-7207-454c-b7b8-bca38e498662",
   "metadata": {},
   "outputs": [
    {
     "name": "stdout",
     "output_type": "stream",
     "text": [
      "[1, 7, 3, 4, 5, 6, 2, 8]\n"
     ]
    }
   ],
   "source": [
    "#Swap two elements in a list by their indices.\n",
    "l1=[1,2,3,4,5,6,7,8]\n",
    "i,j=1,6\n",
    "l1[i],l1[j]=l1[j],l1[i]\n",
    "print(l1)"
   ]
  },
  {
   "cell_type": "code",
   "execution_count": 1,
   "id": "3d4d59e3-a89e-4496-b4c0-394d5b03fc75",
   "metadata": {},
   "outputs": [
    {
     "name": "stdout",
     "output_type": "stream",
     "text": [
      "(1, 2, 3, 4, 5)\n"
     ]
    }
   ],
   "source": [
    "                                                      '''Tuples'''\n",
    "#Create a tuple with integers from 1 to 5.\n",
    "a=list(range(1,6))\n",
    "print(tuple(a))"
   ]
  },
  {
   "cell_type": "code",
   "execution_count": 2,
   "id": "acea0c7c-0b09-4d2c-9be9-1f4f7a2a8ff8",
   "metadata": {},
   "outputs": [
    {
     "data": {
      "text/plain": [
       "3"
      ]
     },
     "execution_count": 2,
     "metadata": {},
     "output_type": "execute_result"
    }
   ],
   "source": [
    "#Access the third element of a tuple.\n",
    "t= (1, 2, 3, 4, 5)\n",
    "t[2]"
   ]
  },
  {
   "cell_type": "code",
   "execution_count": 3,
   "id": "3a37989b-31fb-4743-86bb-9584757db268",
   "metadata": {},
   "outputs": [
    {
     "name": "stdout",
     "output_type": "stream",
     "text": [
      "length of tuple is: 5\n"
     ]
    }
   ],
   "source": [
    "#Find the length of a tuple without using the `len()` function.\n",
    "t= (1, 2, 3, 4, 5)\n",
    "count=0\n",
    "for i in t:\n",
    "    count+=1\n",
    "print(\"length of tuple is:\", count)    "
   ]
  },
  {
   "cell_type": "code",
   "execution_count": 13,
   "id": "6de0371c-7864-43b9-9a42-2b417cde2a4a",
   "metadata": {},
   "outputs": [
    {
     "name": "stdin",
     "output_type": "stream",
     "text": [
      "enter the element for finding occurence in tuple: 6\n"
     ]
    },
    {
     "name": "stdout",
     "output_type": "stream",
     "text": [
      "the occurrences of entered element in a tuple is: 1\n"
     ]
    }
   ],
   "source": [
    "#Count the occurrences of an element in a tuple.\n",
    "t1=(1,2,3,4,5,5,5,6,7)\n",
    "a=int(input(\"enter the element for finding occurence in tuple:\"))\n",
    "count=0\n",
    "for i in t1:\n",
    "    if i==a:\n",
    "        count+=1\n",
    "print(\"the occurrences of entered element in a tuple is:\",count) \n"
   ]
  },
  {
   "cell_type": "code",
   "execution_count": 3,
   "id": "c6001c08-c15b-4a67-b5bb-4104faa6fcfe",
   "metadata": {},
   "outputs": [
    {
     "name": "stdout",
     "output_type": "stream",
     "text": [
      "4\n"
     ]
    }
   ],
   "source": [
    "#Find the index of the first occurrence of an element in a tuple.\n",
    "t1=(1,2,3,4,5,5,5,6,7)\n",
    "l1=list(t1)\n",
    "l1.index(5)\n",
    "print (l1.index(5))"
   ]
  },
  {
   "cell_type": "code",
   "execution_count": 9,
   "id": "8d1fd6f4-4321-4c27-b68a-3d30bb169753",
   "metadata": {},
   "outputs": [
    {
     "name": "stdin",
     "output_type": "stream",
     "text": [
      "enter the element to check : 8\n"
     ]
    },
    {
     "name": "stdout",
     "output_type": "stream",
     "text": [
      "the entered element is not in the tuple\n"
     ]
    }
   ],
   "source": [
    "#Check if an element exists in a tuplke.\n",
    "t1=(1,2,3,4,5,5,5,6,7)\n",
    "l2=list(t1)\n",
    "a=int(input(\"enter the element to check :\"))\n",
    "if a in l2:\n",
    "    print(\"the entered element is in the tuple\")\n",
    "else:\n",
    "    print(\"the entered element is not in the tuple\")"
   ]
  },
  {
   "cell_type": "code",
   "execution_count": 10,
   "id": "5fc500a1-fa06-458d-aa49-8fc7111ac27f",
   "metadata": {},
   "outputs": [
    {
     "name": "stdout",
     "output_type": "stream",
     "text": [
      "[1, 2, 3, 4, 5, 5, 5, 6, 7]\n"
     ]
    }
   ],
   "source": [
    "#Convert a tuple to a list.\n",
    "t1=(1,2,3,4,5,5,5,6,7)\n",
    "l2=list(t1)\n",
    "print(l2)"
   ]
  },
  {
   "cell_type": "code",
   "execution_count": 11,
   "id": "e9babee1-b69d-4587-8b63-78a276ea0396",
   "metadata": {},
   "outputs": [
    {
     "name": "stdout",
     "output_type": "stream",
     "text": [
      "(1, 2, 3, 4, 5, 5, 5, 6, 7)\n"
     ]
    }
   ],
   "source": [
    "#Convert a list to a tuple.\n",
    "l1=[1, 2, 3, 4, 5, 5, 5, 6, 7]\n",
    "t2=tuple(l1)\n",
    "print(t2)"
   ]
  },
  {
   "cell_type": "code",
   "execution_count": 43,
   "id": "14767bfb-bc6d-455a-815d-3c347b828a94",
   "metadata": {},
   "outputs": [
    {
     "name": "stdout",
     "output_type": "stream",
     "text": [
      "100\n",
      "200\n",
      "300\n"
     ]
    }
   ],
   "source": [
    "#Unpack the elements of a tuple into variables.\n",
    "t=(100,200,300)\n",
    "a,b,c=t\n",
    "print(a)\n",
    "print(b)\n",
    "print(c)"
   ]
  },
  {
   "cell_type": "code",
   "execution_count": 16,
   "id": "ccb99241-8bac-48ab-99a0-2e69359196b6",
   "metadata": {},
   "outputs": [
    {
     "name": "stdout",
     "output_type": "stream",
     "text": [
      "(2, 4, 6, 8, 10)\n"
     ]
    }
   ],
   "source": [
    "#Create a tuple of even numbers from 1 to 10.\n",
    "Le=[x for x in range(1,11) if x%2==0]\n",
    "print(tuple(Le))"
   ]
  },
  {
   "cell_type": "code",
   "execution_count": 17,
   "id": "1fd42f68-8760-492c-897d-55562349150b",
   "metadata": {},
   "outputs": [
    {
     "name": "stdout",
     "output_type": "stream",
     "text": [
      "(1, 3, 5, 7, 9)\n"
     ]
    }
   ],
   "source": [
    "#Create a tuple of odd numbers from 1 to 10.\n",
    "Le=[x for x in range(1,11) if x%2!=0]\n",
    "print(tuple(Le))"
   ]
  },
  {
   "cell_type": "code",
   "execution_count": 18,
   "id": "83807d7b-0290-4e7e-835a-b31bbcdd47b7",
   "metadata": {},
   "outputs": [
    {
     "name": "stdout",
     "output_type": "stream",
     "text": [
      "(1, 2, 3, 4, 5, 6)\n"
     ]
    }
   ],
   "source": [
    "#Concatenate two tuples.\n",
    "t1=(1,2,3)\n",
    "t2=(4,5,6)\n",
    "print(t1+t2)\n"
   ]
  },
  {
   "cell_type": "code",
   "execution_count": 19,
   "id": "03c98b60-4d49-4d2d-97fe-a55f5828113b",
   "metadata": {},
   "outputs": [
    {
     "data": {
      "text/plain": [
       "(1, 2, 3, 1, 2, 3, 1, 2, 3)"
      ]
     },
     "execution_count": 19,
     "metadata": {},
     "output_type": "execute_result"
    }
   ],
   "source": [
    "#Repeat a tuple three times.\n",
    "t1=(1,2,3)\n",
    "t1*3"
   ]
  },
  {
   "cell_type": "code",
   "execution_count": 29,
   "id": "35164a24-18d6-43d3-ace5-add47be4d21e",
   "metadata": {},
   "outputs": [
    {
     "name": "stdout",
     "output_type": "stream",
     "text": [
      "the tuple is empty\n"
     ]
    }
   ],
   "source": [
    "#Check if a tuple is empty.\n",
    "t1=()\n",
    "if len(t1)>0:\n",
    "    print(\"the tuple is not empty\")\n",
    "else:\n",
    "    print(\"the tuple is empty\")"
   ]
  },
  {
   "cell_type": "code",
   "execution_count": 32,
   "id": "9bab9584-30bf-41dd-afc9-e3d4941f4dc4",
   "metadata": {},
   "outputs": [
    {
     "name": "stdout",
     "output_type": "stream",
     "text": [
      "((1, 2), (0, 2), (1, 4))\n"
     ]
    }
   ],
   "source": [
    "#Create a nested tuple.\n",
    "t1=(1,2)\n",
    "t2=(0,2)\n",
    "t3=(1,4)\n",
    "t4=(t1,t2,t3)\n",
    "print(t4)"
   ]
  },
  {
   "cell_type": "code",
   "execution_count": 33,
   "id": "959c9a2e-a966-48c0-bc3a-80246b8c51b3",
   "metadata": {},
   "outputs": [
    {
     "data": {
      "text/plain": [
       "(1, 2)"
      ]
     },
     "execution_count": 33,
     "metadata": {},
     "output_type": "execute_result"
    }
   ],
   "source": [
    "#Access the first element of a nested tuple.\n",
    "Tn=((1, 2), (0, 2), (1, 4))\n",
    "Tn[0]"
   ]
  },
  {
   "cell_type": "code",
   "execution_count": 36,
   "id": "a02e8216-57a7-4980-bfee-fecda9d888a4",
   "metadata": {},
   "outputs": [
    {
     "name": "stdout",
     "output_type": "stream",
     "text": [
      "(1,)\n"
     ]
    }
   ],
   "source": [
    "#Create a tuple with a single element.\n",
    "l=list(range(1,2))\n",
    "print(tuple(l))"
   ]
  },
  {
   "cell_type": "code",
   "execution_count": 38,
   "id": "3338777c-3f1d-4fe8-99ad-7b00db54a13d",
   "metadata": {},
   "outputs": [
    {
     "name": "stdout",
     "output_type": "stream",
     "text": [
      "the common elements in two tuples: (4, 5, 7)\n"
     ]
    }
   ],
   "source": [
    "#Compare two tuples.\n",
    "t1=(1,2,4,5,7)\n",
    "l1=list(t1)\n",
    "t2=(4,5,6,7,8)\n",
    "l2=list(t2)\n",
    "Lc=[]\n",
    "for i in l1:\n",
    "    for j in l2:\n",
    "        if i==j:\n",
    "            Lc.append(i)\n",
    "print(\"the common elements in two tuples:\",tuple(Lc))            "
   ]
  },
  {
   "cell_type": "code",
   "execution_count": 50,
   "id": "1f769bf8-f6af-4ba9-8455-293f7146bd15",
   "metadata": {},
   "outputs": [],
   "source": [
    "#Delete a tuple.\n",
    "t1=(1,2,4,5,7)\n",
    "del t1"
   ]
  },
  {
   "cell_type": "code",
   "execution_count": 42,
   "id": "e91e06dc-db62-4f7a-ad2a-2a362158dbe8",
   "metadata": {},
   "outputs": [
    {
     "data": {
      "text/plain": [
       "(2, 4, 5)"
      ]
     },
     "execution_count": 42,
     "metadata": {},
     "output_type": "execute_result"
    }
   ],
   "source": [
    "#Slice a tuple.\n",
    "\n",
    "t1=(1,2,4,5,7)\n",
    "t1[1:4]\n"
   ]
  },
  {
   "cell_type": "code",
   "execution_count": 43,
   "id": "f110d051-3b6a-4ece-97e4-962d0a2d85cf",
   "metadata": {},
   "outputs": [
    {
     "name": "stdout",
     "output_type": "stream",
     "text": [
      "7\n"
     ]
    }
   ],
   "source": [
    "#Find the maximum value in a tuple.\n",
    "t1=(1,2,4,5,7)\n",
    "print(max(t1))"
   ]
  },
  {
   "cell_type": "code",
   "execution_count": 45,
   "id": "0db9c177-7b67-4843-8ea5-402f470f23a8",
   "metadata": {},
   "outputs": [
    {
     "name": "stdout",
     "output_type": "stream",
     "text": [
      "1\n"
     ]
    }
   ],
   "source": [
    "#Find the minimum value in a tuple.\n",
    "t1=(1,2,4,5,7)\n",
    "print(min(t1))"
   ]
  },
  {
   "cell_type": "code",
   "execution_count": 51,
   "id": "e10b956c-dde9-4fbb-b159-a3b6a5e4e88e",
   "metadata": {},
   "outputs": [
    {
     "name": "stdin",
     "output_type": "stream",
     "text": [
      "enter the string: ubed\n"
     ]
    },
    {
     "name": "stdout",
     "output_type": "stream",
     "text": [
      "('u', 'b', 'e', 'd')\n"
     ]
    }
   ],
   "source": [
    "#Convert a string to a tuple of characters.\n",
    "a=str(input(\"enter the string:\"))\n",
    "l=[]\n",
    "for i in a:\n",
    "    l.append(i)\n",
    "print(tuple(l))    "
   ]
  },
  {
   "cell_type": "code",
   "execution_count": 56,
   "id": "bc69d082-682e-4675-bbbc-d406c6b09150",
   "metadata": {},
   "outputs": [
    {
     "name": "stdout",
     "output_type": "stream",
     "text": [
      "ubed\n"
     ]
    }
   ],
   "source": [
    "#Convert a tuple of characters to a string.\n",
    "t=('u', 'b', 'e', 'd')\n",
    "l1=list(t)\n",
    "string=l1[0]+l1[1]+l1[2]+l1[3]\n",
    "print(str(string))"
   ]
  },
  {
   "cell_type": "code",
   "execution_count": 69,
   "id": "ad081fc8-84f1-4952-830c-a65be71dae5c",
   "metadata": {},
   "outputs": [
    {
     "name": "stdout",
     "output_type": "stream",
     "text": [
      "(1, 2, 3, 4, 5, 'ubed', 9.5)\n"
     ]
    }
   ],
   "source": [
    "#Create a tuple from multiple data types.\n",
    "l=list(range(1,6))\n",
    "l.append('ubed')\n",
    "l.append(9.5)\n",
    "print(tuple(l))"
   ]
  },
  {
   "cell_type": "code",
   "execution_count": 72,
   "id": "3b7137bd-c279-425e-af35-b3a39e3e8411",
   "metadata": {},
   "outputs": [
    {
     "name": "stdout",
     "output_type": "stream",
     "text": [
      "two tuples are not identicals\n"
     ]
    }
   ],
   "source": [
    "#Check if two tuples are identical.\n",
    "t1=(1,2,3,4)\n",
    "t2=(1,2,3)\n",
    "if t1==t2:\n",
    "    print(\"two tuples are identical\")\n",
    "else:\n",
    "    print(\"two tuples are not identicals\")"
   ]
  },
  {
   "cell_type": "code",
   "execution_count": 4,
   "id": "dc18038e-01e6-419c-a26f-462c990746e3",
   "metadata": {},
   "outputs": [
    {
     "name": "stdout",
     "output_type": "stream",
     "text": [
      "(2, 5, 10, 20, 30, 100)\n"
     ]
    }
   ],
   "source": [
    "#Sort the elements of a tuple.\n",
    "t1=(100,20,30,10,5,2)\n",
    "l1=list(t1)\n",
    "l1.sort()\n",
    "print(tuple(l1))"
   ]
  },
  {
   "cell_type": "code",
   "execution_count": 9,
   "id": "8371833b-43b9-4d36-a13f-5448160960a8",
   "metadata": {},
   "outputs": [
    {
     "name": "stdout",
     "output_type": "stream",
     "text": [
      "('100', '20', '30', '10', '5', '2')\n"
     ]
    }
   ],
   "source": [
    "#Convert a tuple of integers to a tuple of strings.\n",
    "t1=(100,20,30,10,5,2)\n",
    "t2=list(map(str,t1))\n",
    "print(tuple(t2))"
   ]
  },
  {
   "cell_type": "code",
   "execution_count": 10,
   "id": "ec0b6d8e-b2c4-400c-9c18-f0cd873d73d9",
   "metadata": {},
   "outputs": [
    {
     "name": "stdout",
     "output_type": "stream",
     "text": [
      "(100, 20, 30, 10, 5, 2)\n"
     ]
    }
   ],
   "source": [
    "#Convert a tuple of strings to a tuple of integers.\n",
    "t1=('100', '20', '30', '10', '5', '2')\n",
    "t2=list(map(int,t1))\n",
    "print(tuple(t2))"
   ]
  },
  {
   "cell_type": "code",
   "execution_count": 11,
   "id": "084be24f-fea2-423d-be58-d1c2ece29dbf",
   "metadata": {},
   "outputs": [
    {
     "name": "stdout",
     "output_type": "stream",
     "text": [
      "(1, 2, 3, 3, 4, 5)\n"
     ]
    }
   ],
   "source": [
    "#Merge two tuples.\n",
    "t1=(1,2,3)\n",
    "t2=(3,4,5)\n",
    "print(t1+t2)"
   ]
  },
  {
   "cell_type": "code",
   "execution_count": 13,
   "id": "9fc14200-7471-4d6d-9ab2-8cdf1cd41d99",
   "metadata": {},
   "outputs": [
    {
     "name": "stdout",
     "output_type": "stream",
     "text": [
      "(1, 2, 3, 4, 5, 6, 7, 8)\n"
     ]
    }
   ],
   "source": [
    "#Flatten a nested tuple.\n",
    "tn=((1,2),(3,4),(5,6),(7,8))\n",
    "tf=[x for subtuple in tn for x in subtuple]\n",
    "print(tuple(tf))"
   ]
  },
  {
   "cell_type": "code",
   "execution_count": 12,
   "id": "b2c6fb09-2d77-46a2-a3c0-d98253a6718c",
   "metadata": {},
   "outputs": [
    {
     "name": "stdout",
     "output_type": "stream",
     "text": [
      "(2, 3, 5)\n"
     ]
    }
   ],
   "source": [
    "#Create a tuple of the first 5 prime numbers.\n",
    "def is_prime(n):\n",
    "    if n < 2:\n",
    "        return False\n",
    "    for i in range(2, int(n ** 0.5) + 1):\n",
    "        if n % i == 0:\n",
    "            return False\n",
    "    return True\n",
    "    \n",
    "prime=[i for i in range(1,6) if is_prime(i)]\n",
    "print(tuple(prime))\n",
    "    "
   ]
  },
  {
   "cell_type": "code",
   "execution_count": 17,
   "id": "3b15bd3a-aa92-424b-8db0-75e8204941ac",
   "metadata": {},
   "outputs": [
    {
     "name": "stdout",
     "output_type": "stream",
     "text": [
      "the tuple is not a palindrome\n"
     ]
    }
   ],
   "source": [
    "#Check if a tuple is a palindrome.\n",
    "t1=(1,2,5)\n",
    "if t1==t1[::-1]:\n",
    "    print(\"the tuple is a palindrome\")\n",
    "else:\n",
    "    print(\"the tuple is not a palindrome\")\n"
   ]
  },
  {
   "cell_type": "code",
   "execution_count": 18,
   "id": "0c0a8b94-3a18-4c7c-84e2-24f0aa82a5f0",
   "metadata": {},
   "outputs": [
    {
     "name": "stdout",
     "output_type": "stream",
     "text": [
      "(1, 4, 9, 16, 25)\n"
     ]
    }
   ],
   "source": [
    "#Create a tuple of squares of numbers from 1 to 5.\n",
    "ls=[x**2 for x in range(1,6)]\n",
    "print(tuple(ls))\n"
   ]
  },
  {
   "cell_type": "code",
   "execution_count": 20,
   "id": "099ddd9e-6746-45d4-96bc-24bab2ed1e7a",
   "metadata": {},
   "outputs": [
    {
     "name": "stdout",
     "output_type": "stream",
     "text": [
      "(2, 4, 6, 8, 10)\n"
     ]
    }
   ],
   "source": [
    "#Filter out all even numbers from a tuple.\n",
    "t1=(1,2,3,4,5,6,7,8,9,10)\n",
    "Te=[x for x in t1 if x%2==0]\n",
    "print(tuple(Te))"
   ]
  },
  {
   "cell_type": "code",
   "execution_count": 21,
   "id": "cf3186ba-aa98-4523-9c37-8362eda9169c",
   "metadata": {},
   "outputs": [
    {
     "name": "stdout",
     "output_type": "stream",
     "text": [
      "(2, 4, 6, 8, 10, 12, 14, 16, 18, 20)\n"
     ]
    }
   ],
   "source": [
    "#Multiply all elements in a tuple by 2.\n",
    "t1=(1,2,3,4,5,6,7,8,9,10)\n",
    "T2=[x*2 for x in t1]\n",
    "print(tuple(T2))"
   ]
  },
  {
   "cell_type": "code",
   "execution_count": 26,
   "id": "9ea7465a-105d-454d-aeec-8f0405a689a3",
   "metadata": {},
   "outputs": [
    {
     "name": "stdout",
     "output_type": "stream",
     "text": [
      "(23, 99, 62, 62, 60, 94, 53, 95, 17, 47)\n"
     ]
    }
   ],
   "source": [
    "#Create a tuple of random numbers.\n",
    "import random\n",
    "my_randoms = [random.randint(0, 100) for i in range(10)]\n",
    "print(tuple(my_randoms))"
   ]
  },
  {
   "cell_type": "code",
   "execution_count": 53,
   "id": "5bbed74b-6af6-405f-9005-c43b585e4121",
   "metadata": {},
   "outputs": [
    {
     "name": "stdout",
     "output_type": "stream",
     "text": [
      "(1, 2, 3, 4)\n"
     ]
    }
   ],
   "source": [
    "#Check if a tuple is sorted.\n",
    "t=(1,2,3,4)\n",
    "l=list(t)\n",
    "sorted=l.sort()\n",
    "print(tuple(l))"
   ]
  },
  {
   "cell_type": "code",
   "execution_count": 14,
   "id": "30ef9a4f-8e35-40bb-82aa-f1b9ebf269c1",
   "metadata": {},
   "outputs": [
    {
     "name": "stdout",
     "output_type": "stream",
     "text": [
      "(3, 4, 5, 6, 1, 2)\n"
     ]
    }
   ],
   "source": [
    "#Rotate a tuple to the left by `n` positions.\n",
    "t1=(1,2,3,4,5,6)\n",
    "tl=t1[2:]+t1[:2]\n",
    "print(tl)"
   ]
  },
  {
   "cell_type": "code",
   "execution_count": 16,
   "id": "d5b1714d-6e97-4603-ae7f-d88c2a4a21c0",
   "metadata": {},
   "outputs": [
    {
     "name": "stdout",
     "output_type": "stream",
     "text": [
      "(5, 6, 1, 2, 3, 4)\n"
     ]
    }
   ],
   "source": [
    "#Rotate a tuple to the right by `n` positions.\n",
    "t1=(1,2,3,4,5,6)\n",
    "tr=t1[-2:]+t1[:-2]\n",
    "print(tr)"
   ]
  },
  {
   "cell_type": "code",
   "execution_count": 8,
   "id": "ad81f4cc-25f9-4e11-b694-a2ab6edbc816",
   "metadata": {},
   "outputs": [
    {
     "name": "stdin",
     "output_type": "stream",
     "text": [
      "enter the range for which you need fibinacci numbers: 5\n"
     ]
    },
    {
     "name": "stdout",
     "output_type": "stream",
     "text": [
      "the tuple of first 5 Fibinacci numbers:  (1, 1, 2, 3, 5)\n"
     ]
    }
   ],
   "source": [
    "#Create a tuple of the first 5 Fibonacci numbers.\n",
    "def febi(n):\n",
    "    if n<=1:\n",
    "        return n\n",
    "    else:\n",
    "        return febi(n-1)+febi(n-2)\n",
    "n=int(input(\"enter the range for which you need fibinacci numbers:\"))        \n",
    "lf=[]\n",
    "for i in range(1,n+1):\n",
    "    lf.append(febi(i))\n",
    "print(\"the tuple of first 5 Fibinacci numbers: \",tuple(lf))    \n"
   ]
  },
  {
   "cell_type": "code",
   "execution_count": null,
   "id": "4084be30-f6d6-4e34-a418-b48225de9317",
   "metadata": {},
   "outputs": [],
   "source": [
    "#create tuple from user input.\n",
    "a=int(input(\"enter the lower limit\"))\n",
    "b=int(input(\"enter the upper limit\"))\n",
    "tup=tuple(list(range(a,b+1)))\n",
    "print(tup)"
   ]
  },
  {
   "cell_type": "code",
   "execution_count": 63,
   "id": "41f6b6c8-7674-438f-9d17-be15ae9a3e32",
   "metadata": {},
   "outputs": [
    {
     "name": "stdout",
     "output_type": "stream",
     "text": [
      "(1, 2, 6, 4, 5, 3, 7, 8, 9, 10)\n"
     ]
    }
   ],
   "source": [
    "#Swap two elements in a tuple.\n",
    "t=(1,2,3,4,5,6,7,8,9,10)\n",
    "l=list(t)\n",
    "i,j=2,5\n",
    "l[i],l[j]=l[j],l[i]\n",
    "print(tuple(l))"
   ]
  },
  {
   "cell_type": "code",
   "execution_count": 29,
   "id": "c3cfb2ed-8b71-42bb-af99-eb16d9aef5e7",
   "metadata": {},
   "outputs": [
    {
     "name": "stdout",
     "output_type": "stream",
     "text": [
      "(10, 9, 8, 7, 6, 5, 4, 3, 2, 1)\n"
     ]
    }
   ],
   "source": [
    "#Reverse the elements of a tuple.\n",
    "t1=(1,2,3,4,5,6,7,8,9,10)\n",
    "l2=list(t1)\n",
    "l2.reverse()\n",
    "print(tuple(l2))"
   ]
  },
  {
   "cell_type": "code",
   "execution_count": 23,
   "id": "1e5bb804-c657-4349-a12e-d443194bac76",
   "metadata": {},
   "outputs": [
    {
     "name": "stdout",
     "output_type": "stream",
     "text": [
      "(2, 4, 8, 16, 32)\n"
     ]
    }
   ],
   "source": [
    "#Create a tuple of the first `n` powers of 2.\n",
    "t3=[2**x for x in range(1,6)]\n",
    "print(tuple(t3))\n"
   ]
  },
  {
   "cell_type": "code",
   "execution_count": 26,
   "id": "83e61bf6-af09-4f32-ab37-522326ed657d",
   "metadata": {},
   "outputs": [
    {
     "name": "stdout",
     "output_type": "stream",
     "text": [
      "umaizaa\n"
     ]
    }
   ],
   "source": [
    "#Find the longest string in a tuple of strings.\n",
    "ts=('ubed','umaira','umaizaa')\n",
    "Longest=max(ts,key=len)\n",
    "print(Longest)"
   ]
  },
  {
   "cell_type": "code",
   "execution_count": 27,
   "id": "975b9b09-2fa8-45b0-a2c3-642130b3e4ae",
   "metadata": {},
   "outputs": [
    {
     "name": "stdout",
     "output_type": "stream",
     "text": [
      "ubed\n"
     ]
    }
   ],
   "source": [
    "#Find the shortest string in a tuple of strings.\n",
    "ts=('ubed','umaira','umaizaa')\n",
    "shortest=min(ts,key=len)\n",
    "print(shortest)"
   ]
  },
  {
   "cell_type": "code",
   "execution_count": null,
   "id": "77a202fb-08d1-4012-a77b-4fb59c72fb0b",
   "metadata": {},
   "outputs": [],
   "source": [
    "#Create a tuple of the first `n` triangular numbers.\n",
    "a=int(input(\"enter the range for triangular numbers:\"))\n",
    "tt=[a*(a+1)//2 for a in range(1, a+1)]\n",
    "print(tuple(tt))"
   ]
  },
  {
   "cell_type": "code",
   "execution_count": 65,
   "id": "3f105291-d7f7-44ed-92b0-087c31371d64",
   "metadata": {},
   "outputs": [
    {
     "name": "stdout",
     "output_type": "stream",
     "text": [
      "True\n"
     ]
    }
   ],
   "source": [
    "#Check if a tuple contains another tuple as a subsequence.\n",
    "t1=(1,2,3,4,5)\n",
    "t2=(1,2,3)\n",
    "s1=set(t1)\n",
    "s2=set(t2)\n",
    "subsuquence=s2.issubset(s1)\n",
    "print(subsuquence)"
   ]
  },
  {
   "cell_type": "code",
   "execution_count": 66,
   "id": "4f0c4dd3-a17e-4e77-b447-f2b5198a5942",
   "metadata": {},
   "outputs": [
    {
     "name": "stdout",
     "output_type": "stream",
     "text": [
      "(0, 1, 0, 1, 0, 1, 0, 1, 0, 1)\n"
     ]
    }
   ],
   "source": [
    "#Create a tuple of alternating 1s and 0s of length `n`.\n",
    "n = 10\n",
    "t = tuple((i % 2) for i in range(n))\n",
    "print(t)"
   ]
  },
  {
   "cell_type": "code",
   "execution_count": 18,
   "id": "34f9f47d-b38b-48d4-8cac-8faae2e079ec",
   "metadata": {},
   "outputs": [
    {
     "name": "stdout",
     "output_type": "stream",
     "text": [
      "{1, 2, 3, 4, 5}\n"
     ]
    }
   ],
   "source": [
    "\n",
    "                                                            '''sets'''\n",
    "#Create a set with integers from 1 to 5.\n",
    "l1=list(range(1,6))\n",
    "print(set(l1))"
   ]
  },
  {
   "cell_type": "code",
   "execution_count": 21,
   "id": "f33851de-519d-4596-a956-059f104b5152",
   "metadata": {},
   "outputs": [
    {
     "name": "stdout",
     "output_type": "stream",
     "text": [
      "{1, 2, 3, 4, 5, 8}\n"
     ]
    }
   ],
   "source": [
    "#Add an element to a set.\n",
    "s= {1, 2, 3, 4, 5}\n",
    "add=s.add(8)\n",
    "print(s)"
   ]
  },
  {
   "cell_type": "code",
   "execution_count": 26,
   "id": "d82c1f13-945f-41ec-ba9b-765979a96326",
   "metadata": {},
   "outputs": [
    {
     "name": "stdout",
     "output_type": "stream",
     "text": [
      "{1, 2, 3, 4, 5}\n"
     ]
    }
   ],
   "source": [
    "#Remove an element from a set.\n",
    "s={1, 2, 3, 4, 5, 8}\n",
    "s.remove(8)\n",
    "print(s)"
   ]
  },
  {
   "cell_type": "code",
   "execution_count": 27,
   "id": "3a92b5a9-2d93-4c70-9ee7-03d2075adfc4",
   "metadata": {},
   "outputs": [
    {
     "name": "stdout",
     "output_type": "stream",
     "text": [
      "{1, 2, 3, 4, 5, 8}\n"
     ]
    }
   ],
   "source": [
    "#Check if an element exists in a set.\n",
    "s={1, 2, 3, 4, 5, 8}\n",
    "s.difference()\n",
    "print(s)"
   ]
  },
  {
   "cell_type": "code",
   "execution_count": 28,
   "id": "e4c689d9-5f2e-4d51-b7b4-5772780d343e",
   "metadata": {},
   "outputs": [
    {
     "name": "stdout",
     "output_type": "stream",
     "text": [
      "the length of set is 6\n"
     ]
    }
   ],
   "source": [
    "#Find the length of a set without using the `len()` function.\n",
    "s={1, 2, 3, 4, 5, 8}\n",
    "count=0\n",
    "for i in s:\n",
    "    count+=1\n",
    "print(\"the length of set is\", count)    \n"
   ]
  },
  {
   "cell_type": "code",
   "execution_count": 32,
   "id": "54d43a05-7b58-4af5-b025-3ad8492175d4",
   "metadata": {},
   "outputs": [
    {
     "name": "stdout",
     "output_type": "stream",
     "text": [
      "set()\n"
     ]
    }
   ],
   "source": [
    "#Clear all elements from a set.\n",
    "s={1, 2, 3, 4, 5, 8}\n",
    "s.clear()\n",
    "print(set(s))"
   ]
  },
  {
   "cell_type": "code",
   "execution_count": 33,
   "id": "2df0ecf4-9193-490b-823e-a9097709e852",
   "metadata": {},
   "outputs": [
    {
     "name": "stdout",
     "output_type": "stream",
     "text": [
      "{2, 4, 6, 8, 10}\n"
     ]
    }
   ],
   "source": [
    "#Create a set of even numbers from 1 to 10.\n",
    "even=[x for x in range(1,11) if x%2==0]\n",
    "print(set(even))\n"
   ]
  },
  {
   "cell_type": "code",
   "execution_count": 34,
   "id": "6cea4c81-4909-46ef-9754-324c4320c852",
   "metadata": {},
   "outputs": [
    {
     "name": "stdout",
     "output_type": "stream",
     "text": [
      "{1, 3, 5, 7, 9}\n"
     ]
    }
   ],
   "source": [
    "#Create a set of odd numbers from 1 to 10.\n",
    "odd=[x for x in range(1,11) if x%2!=0]\n",
    "print(set(odd))\n"
   ]
  },
  {
   "cell_type": "code",
   "execution_count": 8,
   "id": "0fa66d0a-d9a0-4879-b340-0c5792e0e77e",
   "metadata": {},
   "outputs": [
    {
     "name": "stdout",
     "output_type": "stream",
     "text": [
      "{1, 2, 3, 4, 5, 6, 7, 8, 9}\n"
     ]
    }
   ],
   "source": [
    "#Find the union of two sets.\n",
    "s1={1,2,3,5}\n",
    "s2={4,6,7,8}\n",
    "union_set=s.union(s1,s2)\n",
    "print(union_set)"
   ]
  },
  {
   "cell_type": "code",
   "execution_count": 9,
   "id": "35700e6b-4322-4c54-b247-b20208602fe9",
   "metadata": {},
   "outputs": [
    {
     "name": "stdout",
     "output_type": "stream",
     "text": [
      "{3, 4}\n"
     ]
    }
   ],
   "source": [
    "#Find the intersection of two sets.\n",
    "s1={1,2,3,4}\n",
    "s2={2,3,4,5}\n",
    "Intersecton=s.intersection(s1,s2)\n",
    "print(Intersecton)\n"
   ]
  },
  {
   "cell_type": "code",
   "execution_count": 11,
   "id": "2f8bc87e-6174-4020-92e3-4bc6878611a1",
   "metadata": {},
   "outputs": [
    {
     "name": "stdout",
     "output_type": "stream",
     "text": [
      "{1}\n"
     ]
    }
   ],
   "source": [
    "#Find the difference between two sets.\n",
    "s1={1,2,3,4}\n",
    "s2={2,3,4,5}\n",
    "difference=s1-s2\n",
    "print(difference)\n"
   ]
  },
  {
   "cell_type": "code",
   "execution_count": 13,
   "id": "a39fa065-d554-4d06-bcd9-fea3c5ebd661",
   "metadata": {},
   "outputs": [
    {
     "data": {
      "text/plain": [
       "True"
      ]
     },
     "execution_count": 13,
     "metadata": {},
     "output_type": "execute_result"
    }
   ],
   "source": [
    "#Check if a set is a subset of another set.\n",
    "s1={1, 2, 3, 4, 5, 6, 7, 8, 9}\n",
    "s1.issubset(s1)"
   ]
  },
  {
   "cell_type": "code",
   "execution_count": 14,
   "id": "5b35730a-ec9c-49cc-945a-bb24aac4cca8",
   "metadata": {},
   "outputs": [
    {
     "data": {
      "text/plain": [
       "True"
      ]
     },
     "execution_count": 14,
     "metadata": {},
     "output_type": "execute_result"
    }
   ],
   "source": [
    "#Check if a set is a superset of another set.\n",
    "s1={1, 2, 3, 4, 5, 6, 7, 8, 9}\n",
    "s1.issuperset(s1)"
   ]
  },
  {
   "cell_type": "code",
   "execution_count": 6,
   "id": "cd19dd5b-5f57-4cce-8470-ba4b1f166b0b",
   "metadata": {},
   "outputs": [
    {
     "name": "stdout",
     "output_type": "stream",
     "text": [
      "{1, 3, 4, 6, 7, 8, 9}\n"
     ]
    }
   ],
   "source": [
    "#Create a set from a list.\n",
    "lst=[1,4,6,6,8,9,7,7,3]\n",
    "SET=set(lst)\n",
    "print(SET)"
   ]
  },
  {
   "cell_type": "code",
   "execution_count": 7,
   "id": "bc7db21b-a1a7-484d-ae4f-abbe1a9582b2",
   "metadata": {},
   "outputs": [
    {
     "name": "stdout",
     "output_type": "stream",
     "text": [
      "[1, 3, 4, 6, 7, 8, 9]\n"
     ]
    }
   ],
   "source": [
    "#Convert a set to a list.\n",
    "s= {1, 3, 4, 6, 7, 8, 9}\n",
    "print(list(s))"
   ]
  },
  {
   "cell_type": "code",
   "execution_count": 16,
   "id": "7ad91174-6b8c-414b-9512-28b7243cd585",
   "metadata": {},
   "outputs": [
    {
     "name": "stdout",
     "output_type": "stream",
     "text": [
      "{1, 3, 4, 7, 8, 9}\n"
     ]
    }
   ],
   "source": [
    "#Remove a random element from a set.\n",
    "s= {1, 3, 4, 6, 7, 8, 9}\n",
    "s.remove(6)\n",
    "print(s)"
   ]
  },
  {
   "cell_type": "code",
   "execution_count": 17,
   "id": "7555e60d-c658-4880-84fd-c4c342562c1d",
   "metadata": {},
   "outputs": [
    {
     "name": "stdout",
     "output_type": "stream",
     "text": [
      "{3, 4, 6, 7, 8, 9}\n"
     ]
    }
   ],
   "source": [
    "#Pop an element from a set.\n",
    "s= {1, 3, 4, 6, 7, 8, 9}\n",
    "s.pop()\n",
    "print(s)"
   ]
  },
  {
   "cell_type": "code",
   "execution_count": 19,
   "id": "4a664897-1b8b-4ac8-af18-e5517f17237c",
   "metadata": {},
   "outputs": [
    {
     "name": "stdout",
     "output_type": "stream",
     "text": [
      "True\n"
     ]
    }
   ],
   "source": [
    "#Check if two sets have no elements in common.\n",
    "s1={1,2,3,4}\n",
    "s2={5,6,7,8}\n",
    "print(s1.isdisjoint(s2))\n"
   ]
  },
  {
   "cell_type": "code",
   "execution_count": 26,
   "id": "4036f141-1330-4374-b613-a331c59da8ca",
   "metadata": {},
   "outputs": [
    {
     "name": "stdout",
     "output_type": "stream",
     "text": [
      "{1, 2, 3, 4, 5, 6, 7, 8}\n"
     ]
    }
   ],
   "source": [
    "#Find the symmetric difference between two sets.\n",
    "s1={1,2,3,4}\n",
    "s2={5,6,7,8}\n",
    "print(s1.symmetric_difference(s2))"
   ]
  },
  {
   "cell_type": "code",
   "execution_count": 29,
   "id": "95d7a8ac-87e9-43c8-befb-92a47e15faf0",
   "metadata": {},
   "outputs": [
    {
     "name": "stdout",
     "output_type": "stream",
     "text": [
      "{800, 100, 900, 200, 10, 80, 50, 20, 90}\n"
     ]
    }
   ],
   "source": [
    "#Update a set with elements from another set.\n",
    "s={50,10,20,80,90}\n",
    "s1={100,200,900,800}\n",
    "s.update(s1)\n",
    "print(s)"
   ]
  },
  {
   "cell_type": "code",
   "execution_count": 1,
   "id": "e1ad890e-b48b-4767-a169-7ecba0497aed",
   "metadata": {},
   "outputs": [
    {
     "name": "stdout",
     "output_type": "stream",
     "text": [
      "{2, 3, 5}\n"
     ]
    }
   ],
   "source": [
    "#Create a set of the first 5 prime numbers.\n",
    "def is_prime(n):\n",
    "    if n < 2:\n",
    "        return False\n",
    "    for i in range(2, int(n ** 0.5) + 1):\n",
    "        if n % i == 0:\n",
    "            return False\n",
    "    return True\n",
    "    \n",
    "prime=[i for i in range(1,6) if is_prime(i)]\n",
    "print(set(prime))"
   ]
  },
  {
   "cell_type": "code",
   "execution_count": 12,
   "id": "341ecc1f-133d-43ea-af7d-61fab87b7ac0",
   "metadata": {},
   "outputs": [
    {
     "name": "stdout",
     "output_type": "stream",
     "text": [
      "two sets are identical\n"
     ]
    }
   ],
   "source": [
    "#Check if two sets are identical.\n",
    "s1={1,2,3,4,5,6,7,8,9,10}\n",
    "s2={1,2,3,4,5,6,7,8,9,10}\n",
    "if s1==s2:\n",
    "    print(\"two sets are identical\")\n",
    "else:\n",
    "    print(\"two sets are not identical\")"
   ]
  },
  {
   "cell_type": "code",
   "execution_count": 14,
   "id": "f44a7435-8418-42cd-85c6-07a7458a2f14",
   "metadata": {},
   "outputs": [
    {
     "name": "stdout",
     "output_type": "stream",
     "text": [
      "frozenset({153, 163, 193, 143})\n"
     ]
    }
   ],
   "source": [
    "#Create a frozen set.\n",
    "myset={143,153,163,193}\n",
    "frozen=frozenset(myset)\n",
    "print(frozen)"
   ]
  },
  {
   "cell_type": "code",
   "execution_count": 2,
   "id": "40888fa9-f3e0-4634-b0cd-5fdb75b70bad",
   "metadata": {},
   "outputs": [
    {
     "name": "stdout",
     "output_type": "stream",
     "text": [
      "True\n"
     ]
    }
   ],
   "source": [
    "#Check if a set is disjoint with another set.\n",
    "s1={1,2,3,4,5}\n",
    "s2={6,7,8,9,10}\n",
    "Disjoint= s1.isdisjoint(s2)\n",
    "print(Disjoint)"
   ]
  },
  {
   "cell_type": "code",
   "execution_count": 9,
   "id": "8663cdbd-c4a5-48c5-8c2f-cd07cc14cc2a",
   "metadata": {},
   "outputs": [
    {
     "name": "stdout",
     "output_type": "stream",
     "text": [
      "{1, 4, 9, 16, 25}\n"
     ]
    }
   ],
   "source": [
    "#Create a set of squares of numbers from 1 to 5.\n",
    "a=list(range(1,6))\n",
    "squares=[x**2 for x in a]\n",
    "print(set(squares))\n"
   ]
  },
  {
   "cell_type": "code",
   "execution_count": 8,
   "id": "99052933-6624-426b-af73-f35d07181978",
   "metadata": {},
   "outputs": [
    {
     "name": "stdout",
     "output_type": "stream",
     "text": [
      "{2, 4, 6, 8, 10}\n"
     ]
    }
   ],
   "source": [
    "#Filter out all even numbers from a set.\n",
    "s={1,2,3,4,5,6,7,8,9,10}\n",
    "l=list(s)\n",
    "even=[x for x in l if x%2==0]\n",
    "print(set(even))"
   ]
  },
  {
   "cell_type": "code",
   "execution_count": 7,
   "id": "4ac5c1d3-214b-4709-8923-7587eee6c0bd",
   "metadata": {},
   "outputs": [
    {
     "name": "stdout",
     "output_type": "stream",
     "text": [
      "{4, 8, 14, 16, 18}\n"
     ]
    }
   ],
   "source": [
    "#Multiply all elements in a set by 2.\n",
    "s={2,9,8,7,4}\n",
    "l=list(s)\n",
    "mul2=[x*2 for x in l]\n",
    "print(set(mul2))\n"
   ]
  },
  {
   "cell_type": "code",
   "execution_count": 31,
   "id": "50b7c8f2-1089-4053-a87c-c0223fab8248",
   "metadata": {},
   "outputs": [
    {
     "name": "stdout",
     "output_type": "stream",
     "text": [
      "{2, 3, 40, 48, 20, 53, 52, 26, 27}\n"
     ]
    }
   ],
   "source": [
    "#Create a set of random numbers.\n",
    "import random\n",
    "my_randoms = [random.randint(0, 100) for i in range(10)]\n",
    "print(set(my_randoms))"
   ]
  },
  {
   "cell_type": "code",
   "execution_count": 5,
   "id": "aac4e69d-8af2-46a5-a7a6-0c59cda4354c",
   "metadata": {},
   "outputs": [
    {
     "name": "stdout",
     "output_type": "stream",
     "text": [
      "the set is empty\n"
     ]
    }
   ],
   "source": [
    "#Check if a set is empty.\n",
    "s={}\n",
    "if len(s)==0:\n",
    "    print(\"the set is empty\")\n",
    "else:\n",
    "    print(\"set is not empty\")"
   ]
  },
  {
   "cell_type": "code",
   "execution_count": 33,
   "id": "f01f8083-9782-49ee-b44e-97cd81154508",
   "metadata": {},
   "outputs": [
    {
     "name": "stdout",
     "output_type": "stream",
     "text": [
      "{frozenset({3, 4}), frozenset({1, 2})}\n"
     ]
    }
   ],
   "source": [
    "#Create a nested set (hint: use frozenset)\n",
    "outer_set = set()\n",
    "inner_set1 = frozenset([1, 2])\n",
    "inner_set2 = frozenset([3, 4])\n",
    "outer_set.add(inner_set1)\n",
    "outer_set.add(inner_set2)\n",
    "print(outer_set)"
   ]
  },
  {
   "cell_type": "code",
   "execution_count": 18,
   "id": "0cdfabca-aa72-4fad-a9fa-80311b4c78b2",
   "metadata": {},
   "outputs": [
    {
     "name": "stdout",
     "output_type": "stream",
     "text": [
      "{1, 2, 3, 5, 6}\n"
     ]
    }
   ],
   "source": [
    "#Remove an element from a set using the discard method.\n",
    "d={1,2,3,5,6,9}\n",
    "d.discard(9)\n",
    "print(d)"
   ]
  },
  {
   "cell_type": "code",
   "execution_count": 3,
   "id": "afd1aebd-279c-4a9c-879a-11ee610074db",
   "metadata": {},
   "outputs": [
    {
     "name": "stdout",
     "output_type": "stream",
     "text": [
      "set()\n"
     ]
    }
   ],
   "source": [
    "#Compare two sets.\n",
    "s1={1,2,3,4,5}\n",
    "s2={6,7,8,9,10}\n",
    "inter = s1.intersection (s2)\n",
    "print(inter)"
   ]
  },
  {
   "cell_type": "code",
   "execution_count": 23,
   "id": "9f1a0bbe-3c9a-4bf3-b930-1ab587d00aed",
   "metadata": {},
   "outputs": [
    {
     "name": "stdout",
     "output_type": "stream",
     "text": [
      "{1, 2, 3, 4, 5, 6}\n"
     ]
    }
   ],
   "source": [
    "#Create a set from a string.\n",
    "s='123456'\n",
    "d=set(s)\n",
    "d1=list(map(int,d))\n",
    "print(set(d1))"
   ]
  },
  {
   "cell_type": "code",
   "execution_count": 32,
   "id": "cb98343b-7b2c-408b-96fd-f944cbdbd250",
   "metadata": {},
   "outputs": [
    {
     "name": "stdout",
     "output_type": "stream",
     "text": [
      "{1, 2, 5, 6, 9, 10}\n"
     ]
    }
   ],
   "source": [
    "#Convert a set of strings to a set of integers.\n",
    "ss={'9', '2', '6', '5', '1', '10'}\n",
    "si=list(map(int,ss))\n",
    "print(set(si))"
   ]
  },
  {
   "cell_type": "code",
   "execution_count": 31,
   "id": "d5ac64c9-4927-4c22-8a59-510a3e7e61d2",
   "metadata": {},
   "outputs": [
    {
     "name": "stdout",
     "output_type": "stream",
     "text": [
      "{'9', '2', '6', '5', '1', '10'}\n"
     ]
    }
   ],
   "source": [
    "#Convert a set of integers to a set of strings.\n",
    "si={1,2,5,6,9,10}\n",
    "ss= list(map(str,si))\n",
    "print(set(ss))\n"
   ]
  },
  {
   "cell_type": "code",
   "execution_count": 6,
   "id": "7405d558-36a8-422d-89ba-4bae27b5c496",
   "metadata": {},
   "outputs": [
    {
     "name": "stdout",
     "output_type": "stream",
     "text": [
      "{1, 2, 3, 4, 5}\n"
     ]
    }
   ],
   "source": [
    "#Create a set from a tuple.\n",
    "t=(1, 2, 3, 4, 5)\n",
    "s=set(t)\n",
    "print(s)"
   ]
  },
  {
   "cell_type": "code",
   "execution_count": 5,
   "id": "ed1d6d4f-46fa-409e-812f-0411cddcbfb9",
   "metadata": {},
   "outputs": [
    {
     "name": "stdout",
     "output_type": "stream",
     "text": [
      "(1, 2, 3, 4, 5)\n"
     ]
    }
   ],
   "source": [
    "#Convert a set to a tuple.\n",
    "s1= {1, 2, 3, 4, 5}\n",
    "t=tuple(s1)\n",
    "print(t)"
   ]
  },
  {
   "cell_type": "code",
   "execution_count": 4,
   "id": "262a3b63-63e2-4bb3-94fe-be2f80ea5486",
   "metadata": {},
   "outputs": [
    {
     "name": "stdout",
     "output_type": "stream",
     "text": [
      "5\n"
     ]
    }
   ],
   "source": [
    "#Find the maximum value in a set.\n",
    "s1= {1, 2, 3, 4, 5}\n",
    "M= max(s1)\n",
    "print(M)"
   ]
  },
  {
   "cell_type": "code",
   "execution_count": 3,
   "id": "a35b8298-b529-422d-97dd-1f4179dcc0eb",
   "metadata": {},
   "outputs": [
    {
     "name": "stdout",
     "output_type": "stream",
     "text": [
      "1\n"
     ]
    }
   ],
   "source": [
    "#Find the minimum value in a set.\n",
    "s1= {1, 2, 3, 4, 5}\n",
    "m= min(s1)\n",
    "print(m)\n"
   ]
  },
  {
   "cell_type": "code",
   "execution_count": 2,
   "id": "ad828cd8-24ac-43b1-8e37-b3eb662548de",
   "metadata": {},
   "outputs": [
    {
     "name": "stdin",
     "output_type": "stream",
     "text": [
      "enter the lower range for creating a set: 1\n",
      "enter the upper range for creating a set: 6\n"
     ]
    },
    {
     "name": "stdout",
     "output_type": "stream",
     "text": [
      "set is {1, 2, 3, 4, 5}\n"
     ]
    }
   ],
   "source": [
    "#Create a set from user input.\n",
    "a=int(input(\"enter the lower range for creating a set:\"))\n",
    "b=int(input(\"enter the upper range for creating a set:\"))\n",
    "c=list(range(a,b))\n",
    "print(\"set is\", set(c))\n"
   ]
  },
  {
   "cell_type": "code",
   "execution_count": 8,
   "id": "4c6accfb-a0dd-46ba-a6f2-69717137efc8",
   "metadata": {},
   "outputs": [
    {
     "name": "stdout",
     "output_type": "stream",
     "text": [
      "the intersection of two sets is empty\n"
     ]
    }
   ],
   "source": [
    "#Check if the intersection of two sets is empty.\n",
    "s1={1,2,3}\n",
    "s2={4,5,6}\n",
    "intersec = s1.intersection(s2)\n",
    "if len(intersec) == 0:\n",
    "    print(\"the intersection of two sets is empty\")\n",
    "else:\n",
    "    print(\"the intersection of two sets is not empty\")"
   ]
  },
  {
   "cell_type": "code",
   "execution_count": 28,
   "id": "22d2e137-3315-40b8-bb08-5bd9f8182c2a",
   "metadata": {},
   "outputs": [
    {
     "name": "stdout",
     "output_type": "stream",
     "text": [
      "{1, 2, 3, 5}\n"
     ]
    }
   ],
   "source": [
    "#Create a set of the first 5 Fibonacci numbers.\n",
    "def febi(n):\n",
    "    if n<=1:\n",
    "        return n\n",
    "    else:\n",
    "        return febi(n-1)+febi(n-2)\n",
    "febil=[]        \n",
    "for i in range(1,6):\n",
    "    febil.append(febi(i))\n",
    "print(set(febil))    "
   ]
  },
  {
   "cell_type": "code",
   "execution_count": 9,
   "id": "cc52b255-6ce7-48a4-858b-a20add793cc6",
   "metadata": {},
   "outputs": [
    {
     "name": "stdout",
     "output_type": "stream",
     "text": [
      "{1, 2, 3, 4, 5}\n"
     ]
    }
   ],
   "source": [
    "#Remove duplicates from a list using sets.\n",
    "l=[1,2,2,3,3,4,5,5]\n",
    "print(set(l))"
   ]
  },
  {
   "cell_type": "code",
   "execution_count": 22,
   "id": "ab7e9b10-39da-41ac-b26b-0fffe621d85b",
   "metadata": {},
   "outputs": [
    {
     "name": "stdout",
     "output_type": "stream",
     "text": [
      "The sets have the same elements\n"
     ]
    }
   ],
   "source": [
    "#Check if two sets have the same elements, regardless of their count.\n",
    "set1 = {1,2,3}\n",
    "set2 = {2,3,1}\n",
    "\n",
    "if  set1 == set2:\n",
    "    print(\"The sets have the same elements\")\n",
    "else:\n",
    "    print(\"The sets do not have the same elements\")"
   ]
  },
  {
   "cell_type": "code",
   "execution_count": 17,
   "id": "81138c36-a654-49e9-a8c0-0a80b4fe2247",
   "metadata": {},
   "outputs": [
    {
     "name": "stdout",
     "output_type": "stream",
     "text": [
      "{32, 2, 4, 8, 16}\n"
     ]
    }
   ],
   "source": [
    "#Create a set of the first `n` powers of 2.\n",
    "powers_of_2=[2**x for x in range(1,6)]\n",
    "sort=powers_of_2.sort()\n",
    "print(set(powers_of_2))"
   ]
  },
  {
   "cell_type": "code",
   "execution_count": 11,
   "id": "836125f7-2795-4cf8-b80f-f6c59436696b",
   "metadata": {},
   "outputs": [
    {
     "name": "stdout",
     "output_type": "stream",
     "text": [
      "{1, 2, 3, 5}\n"
     ]
    }
   ],
   "source": [
    "#Find the common elements between a set and a list.\n",
    "s={1,6,5,2,3}\n",
    "l=[1,2,3,4,5]\n",
    "s1=set(l)\n",
    "common=s.intersection(s1)\n",
    "print(common)"
   ]
  },
  {
   "cell_type": "code",
   "execution_count": 20,
   "id": "d18b4f21-8af6-43f4-ac48-0de15e930946",
   "metadata": {},
   "outputs": [
    {
     "name": "stdout",
     "output_type": "stream",
     "text": [
      "{1, 3, 6, 10, 15}\n"
     ]
    }
   ],
   "source": [
    "#Create a set of the first `n` triangular numbers.\n",
    "t= [n*(n+1)//2 for n in range(1,6)]\n",
    "print(set(t))"
   ]
  },
  {
   "cell_type": "code",
   "execution_count": 48,
   "id": "586a78b1-17d1-49fb-beed-21ccce3fe4a8",
   "metadata": {},
   "outputs": [
    {
     "name": "stdout",
     "output_type": "stream",
     "text": [
      "s1 contains s2 has subset\n"
     ]
    }
   ],
   "source": [
    "#Check if a set contains another set as a subset.\n",
    "s1={1,2,3,4,6,8,9}\n",
    "s2={1,2,3}\n",
    "if s2.issubset(s1):\n",
    "    print(\"s1 contains s2 has subset\")\n",
    "else:\n",
    "    print(\"s1 has no subset\")"
   ]
  },
  {
   "cell_type": "code",
   "execution_count": 47,
   "id": "031719fa-d7e2-42fa-94cc-23bf38fc93b7",
   "metadata": {},
   "outputs": [
    {
     "name": "stdout",
     "output_type": "stream",
     "text": [
      "set_a is a subset of set_b\n"
     ]
    }
   ],
   "source": [
    "set_a = {1, 2, 3}\n",
    "set_b = {1, 2, 3, 4, 5}\n",
    "if set_a.issubset(set_b):\n",
    "    print(\"set_a is a subset of set_b\")\n",
    "else:\n",
    "    print(\"set_a is not a subset of set_b\")"
   ]
  },
  {
   "cell_type": "code",
   "execution_count": 24,
   "id": "24e2b77f-9f35-4075-ba34-99544e85b451",
   "metadata": {},
   "outputs": [
    {
     "name": "stdout",
     "output_type": "stream",
     "text": [
      "{0, 1}\n"
     ]
    }
   ],
   "source": [
    "#Create a set of alternating 1s and 0s of length `n`.\n",
    "n = 10\n",
    "alternating_set = set()\n",
    "for i in range(n):\n",
    "    alternating_set.add(i % 2)\n",
    "print(alternating_set)    "
   ]
  },
  {
   "cell_type": "code",
   "execution_count": 12,
   "id": "841bf0ce-11a9-4d02-87ff-9ca61bdbf7d4",
   "metadata": {},
   "outputs": [
    {
     "name": "stdout",
     "output_type": "stream",
     "text": [
      "{1, 2, 3, 4, 5, 6, 7, 8, 9}\n"
     ]
    }
   ],
   "source": [
    "#Merge multiple sets into one.\n",
    "s1={1,2,3}\n",
    "s2={4,5,6}\n",
    "s3={7,8,9}\n",
    "merge= s1.union(s2).union(s3)\n",
    "print(merge)"
   ]
  },
  {
   "cell_type": "code",
   "execution_count": null,
   "id": "1f879f7b-d9a5-4d46-83c1-7967acaa3e78",
   "metadata": {},
   "outputs": [],
   "source": []
  }
 ],
 "metadata": {
  "kernelspec": {
   "display_name": "Python 3 (ipykernel)",
   "language": "python",
   "name": "python3"
  },
  "language_info": {
   "codemirror_mode": {
    "name": "ipython",
    "version": 3
   },
   "file_extension": ".py",
   "mimetype": "text/x-python",
   "name": "python",
   "nbconvert_exporter": "python",
   "pygments_lexer": "ipython3",
   "version": "3.11.3"
  }
 },
 "nbformat": 4,
 "nbformat_minor": 5
}
