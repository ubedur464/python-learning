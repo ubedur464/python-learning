{
 "cells": [
  {
   "cell_type": "code",
   "execution_count": 1,
   "id": "7f8f98a7-bb8f-4882-afa4-d05e303fc00e",
   "metadata": {},
   "outputs": [
    {
     "name": "stdin",
     "output_type": "stream",
     "text": [
      "enter the amount to witdraw 5000\n"
     ]
    },
    {
     "name": "stdout",
     "output_type": "stream",
     "text": [
      "the balance is : 15000\n"
     ]
    }
   ],
   "source": [
    "'''Bank Account Create a class representing a bank account with attributes like account number, account holder name, and balance.\n",
    "Implement methods to deposit and withdraw money from the account.'''\n",
    "class bankaccount:\n",
    "    def __init__(self,account_number,accountholder_name,balance):\n",
    "        self.account_number = account_number\n",
    "        self.accountholder_name= accountholder_name\n",
    "        self.balance= balance\n",
    "    def deposit(self):\n",
    "        a=int(input(\"enter the amount to deposit\"))\n",
    "        self.balance=+a\n",
    "        print(\"the current balance is :\", self.balance)\n",
    "    def withdraw(self):\n",
    "        b=int(input(\"enter the amount to witdraw\"))\n",
    "        if b<=self.balance:\n",
    "            self.balance-=b    \n",
    "            print(\"the balance is :\",self.balance)\n",
    "        else:\n",
    "           print(\"insufficeint Balance\")\n",
    "ubedur=bankaccount(62065,'ubed',20000)\n",
    "ubedur.withdraw()\n"
   ]
  },
  {
   "cell_type": "code",
   "execution_count": 67,
   "id": "b2a24e0b-a415-474b-96ed-8e955ddd1922",
   "metadata": {},
   "outputs": [
    {
     "name": "stdout",
     "output_type": "stream",
     "text": [
      "employee ID is  12345\n",
      "employee name is  ubed\n",
      "employee salary is  45000\n",
      "bonus is 9000.0\n"
     ]
    }
   ],
   "source": [
    "#Problem 2: Employee Management Create a class representing an employee with attributes like employee ID, name, and salary. Implement methods to calculate the yearly bonus and display employee details.\n",
    "class employee:\n",
    "    def __init__(self,employee_id,name,salary):\n",
    "        self.employee_id=employee_id\n",
    "        self.name = name\n",
    "        self.salary =salary      \n",
    "    def employee_details(self):\n",
    "        print(\"employee ID is \" ,self.employee_id)\n",
    "        print(\"employee name is \", self.name)\n",
    "        print(\"employee salary is \", self.salary)\n",
    "    def bonus(self):\n",
    "        bonus=(bonus_percentage/100)*self.salary\n",
    "        return bonus\n",
    "    \n",
    "ubed=employee(12345,'ubed',45000) \n",
    "ubed.employee_details()\n",
    "\n",
    "\n",
    "bonus_percentage=20\n",
    "ubed.bonus()\n",
    "print(\"bonus is\",ubed.bonus())"
   ]
  },
  {
   "cell_type": "code",
   "execution_count": 33,
   "id": "c7c835a6-45e0-4bae-9ff8-5533a3fae93f",
   "metadata": {},
   "outputs": [
    {
     "name": "stdout",
     "output_type": "stream",
     "text": [
      "number of vehicles : 50\n",
      "number of rented vehicles : 25\n",
      "number of returned vehicles : 10\n",
      "number of available vehciles : 35\n"
     ]
    }
   ],
   "source": [
    "#Problem 3: Vehicle Rental Create a class representing a vehicle rental system. Implement methods to rent a vehicle, return a vehicle, and display available vehicles.\n",
    "class rentalvehicles:\n",
    "    def __init__(self,numberof_vehicles,rented_vehicles,returned_vehicles):\n",
    "        self.numberof_vehicles = numberof_vehicles\n",
    "        self.rented_vehicles = rented_vehicles\n",
    "        self.returned_vehicles = returned_vehicles\n",
    "    def number_of_vehicles(self):\n",
    "        print(\"number of vehicles :\",self.numberof_vehicles)\n",
    "    def rented__vehicles(self):\n",
    "        print(\"number of rented vehicles :\", self.rented_vehicles)\n",
    "    def return_vehicles(self):\n",
    "        print(\"number of returned vehicles :\", self.returned_vehicles)\n",
    "    def available_vehicles(self):\n",
    "        a= self.numberof_vehicles - self.rented_vehicles\n",
    "        available_vehicles = a+self.returned_vehicles\n",
    "        print(\"number of available vehciles :\", available_vehicles)\n",
    "\n",
    "\n",
    "bike = rentalvehicles(50,25,10)\n",
    "bike.number_of_vehicles()\n",
    "bike.rented__vehicles()\n",
    "bike.return_vehicles()\n",
    "bike.available_vehicles()\n",
    "\n",
    "\n",
    "    "
   ]
  },
  {
   "cell_type": "markdown",
   "id": "a62571bd-06bf-41cf-a82c-2da99f9b70f4",
   "metadata": {},
   "source": []
  },
  {
   "cell_type": "code",
   "execution_count": 47,
   "id": "64cae662-b9d8-455a-b4ba-77fcb35ec510",
   "metadata": {},
   "outputs": [
    {
     "name": "stdout",
     "output_type": "stream",
     "text": [
      "Available books:\n",
      "The Catcher in the Rye by J.D. Salinger\n",
      "To Kill a Mockingbird by Harper Lee\n",
      "The Catcher in the Rye by J.D. Salinger has been borrowed.\n",
      "Available books:\n",
      "To Kill a Mockingbird by Harper Lee\n"
     ]
    }
   ],
   "source": [
    "#Library Catalog Create classes representing a library and a book. \n",
    "#Implement methods to add books to the library, borrow books, and display available books.\n",
    "class Book:\n",
    "    def __init__(self, title, author):\n",
    "        self.title = title\n",
    "        self.author = author\n",
    "        self.is_borrowed = False\n",
    "\n",
    "    def __str__(self):\n",
    "        return f\"{self.title} by {self.author}\"\n",
    "\n",
    "class Library:\n",
    "    def __init__(self):\n",
    "        self.books = []\n",
    "\n",
    "    def add_book(self, book):\n",
    "        self.books.append(book)\n",
    "\n",
    "    def borrow_book(self, book_title):\n",
    "        for book in self.books:\n",
    "            if book.title == book_title and not book.is_borrowed:\n",
    "                book.is_borrowed = True\n",
    "                return f\"{book} has been borrowed.\"\n",
    "        return \"Sorry, the book is either not available or already borrowed.\"\n",
    "\n",
    "    def display_available_books(self):\n",
    "        available_books = [book for book in self.books if not book.is_borrowed]\n",
    "        if available_books:\n",
    "            return \"Available books:\\n\" + \"\\n\".join([str(book) for book in available_books])\n",
    "        else:\n",
    "            return \"No books are currently available.\"\n",
    "\n",
    "\n",
    "library = Library()\n",
    "book1 = Book(\"The Catcher in the Rye\", \"J.D. Salinger\")\n",
    "book2 = Book(\"To Kill a Mockingbird\", \"Harper Lee\")\n",
    "library.add_book(book1)\n",
    "library.add_book(book2)\n",
    "print(library.display_available_books())\n",
    "print(library.borrow_book(\"The Catcher in the Rye\"))\n",
    "print(library.display_available_books())\n",
    "\n",
    "        "
   ]
  },
  {
   "cell_type": "code",
   "execution_count": 26,
   "id": "e26b6dd5-aaac-4f28-be8b-2a05cf583802",
   "metadata": {},
   "outputs": [
    {
     "ename": "NameError",
     "evalue": "name 'product' is not defined",
     "output_type": "error",
     "traceback": [
      "\u001b[1;31m---------------------------------------------------------------------------\u001b[0m",
      "\u001b[1;31mNameError\u001b[0m                                 Traceback (most recent call last)",
      "Cell \u001b[1;32mIn[26], line 33\u001b[0m\n\u001b[0;32m     30\u001b[0m inventory \u001b[38;5;241m=\u001b[39m Inventory()\n\u001b[0;32m     32\u001b[0m \u001b[38;5;66;03m# Create some product objects\u001b[39;00m\n\u001b[1;32m---> 33\u001b[0m product1 \u001b[38;5;241m=\u001b[39m \u001b[43mproduct\u001b[49m(\u001b[38;5;124m\"\u001b[39m\u001b[38;5;124mApple\u001b[39m\u001b[38;5;124m\"\u001b[39m, \u001b[38;5;241m1.0\u001b[39m, \u001b[38;5;241m10\u001b[39m)\n\u001b[0;32m     34\u001b[0m product2 \u001b[38;5;241m=\u001b[39m product(\u001b[38;5;124m\"\u001b[39m\u001b[38;5;124mBanana\u001b[39m\u001b[38;5;124m\"\u001b[39m, \u001b[38;5;241m1.5\u001b[39m, \u001b[38;5;241m20\u001b[39m)\n\u001b[0;32m     35\u001b[0m product3 \u001b[38;5;241m=\u001b[39m product(\u001b[38;5;124m\"\u001b[39m\u001b[38;5;124mOrange\u001b[39m\u001b[38;5;124m\"\u001b[39m, \u001b[38;5;241m2.0\u001b[39m, \u001b[38;5;241m15\u001b[39m)\n",
      "\u001b[1;31mNameError\u001b[0m: name 'product' is not defined"
     ]
    }
   ],
   "source": [
    "#Product Inventory Create classes representing a product and an inventory system. \n",
    "#Implement methods to add products to the inventory, update product quantity, and display available products.\n",
    "\n",
    "class Product:\n",
    "    def __init__(self, name, price, quantity):\n",
    "        self.name = name\n",
    "        self.price = price\n",
    "        self.quantity = quantity\n",
    "\n",
    "class Inventory:\n",
    "    def __init__(self):\n",
    "        self.products = []\n",
    "\n",
    "    def add_product(self, product):\n",
    "        self.products.append(product)\n",
    "\n",
    "    def update_quantity(self, name, quantity):\n",
    "        for product in self.products:\n",
    "            if product.name == name:\n",
    "                product.quantity = quantity\n",
    "                break\n",
    "\n",
    "    def display_products(self):\n",
    "        for product in self.products:\n",
    "            print(f\"Name: {product.name}, Price: {product.price}, Quantity: {product.quantity}\")\n",
    "\n",
    "\n",
    "\n",
    "# Create a new inventory object\n",
    "inventory = Inventory()\n",
    "\n",
    "# Create some product objects\n",
    "product1 = product(\"Apple\", 1.0, 10)\n",
    "product2 = product(\"Banana\", 1.5, 20)\n",
    "product3 = product(\"Orange\", 2.0, 15)\n",
    "\n",
    "# Add the products to the inventory\n",
    "inventory.add_product(product1)\n",
    "inventory.add_product(product2)\n",
    "inventory.add_product(product3)\n",
    "\n",
    "# Display all the products in the inventory\n",
    "inventory.display_products()\n",
    "\n",
    "# Update the quantity of a product\n",
    "inventory.update_quantity(\"Apple\", 5)\n",
    "\n",
    "# Display all the products in the inventory again\n",
    "inventory.display_products()\n",
    "\n",
    "    \n",
    "\n"
   ]
  },
  {
   "cell_type": "code",
   "execution_count": 15,
   "id": "67a65b23-3b13-47be-b4b8-0ef416410875",
   "metadata": {},
   "outputs": [
    {
     "data": {
      "text/plain": [
       "4000"
      ]
     },
     "execution_count": 15,
     "metadata": {},
     "output_type": "execute_result"
    }
   ],
   "source": [
    "#Shape Calculation Create a class representing a shape with attributes like length, width, and height. \n",
    "#Implement methods to calculate the area and perimeter of the shape.\n",
    "class shape:\n",
    "    \n",
    "    def __init__(self, length,width,height):\n",
    "        self.length =length\n",
    "        self.width =width\n",
    "        self.height = height\n",
    "   \n",
    "    def area_of_shape(self):\n",
    "       area = self.length*self.width*self.height\n",
    "       self.area = area\n",
    "       return area\n",
    "   \n",
    "    def perimeter(self):   \n",
    "        area = self.area_of_shape()\n",
    "        perimeter = 4*area\n",
    "        return perimeter\n",
    "      \n",
    "area = shape(10,10,10)\n",
    "area.area_of_shape()\n",
    "area.perimeter()"
   ]
  },
  {
   "cell_type": "code",
   "execution_count": 29,
   "id": "8b49705b-c870-4e78-b3b3-94bad0b8be37",
   "metadata": {},
   "outputs": [
    {
     "name": "stdout",
     "output_type": "stream",
     "text": [
      "student name is :  umaiza\n",
      "student_id is :  102\n",
      "grades are  :  900\n",
      "None\n",
      "average grads of student is 9.0\n"
     ]
    }
   ],
   "source": [
    "#Student Management Create a class representing a student with attributes like student ID, name, and grades. \n",
    "#Implement methods to calculate the average grade and display student details.\n",
    "class student:\n",
    "    \n",
    "    def __init__(self, student_id,name,grades):\n",
    "        self.student_id = student_id \n",
    "        self.name= name\n",
    "        self.grades = grades\n",
    "    \n",
    "    def avg_grade(self):\n",
    "        grades = self.grades\n",
    "        avg_grade = grades/100\n",
    "        return f\"average grads of student is {avg_grade}\"\n",
    "    \n",
    "    def show_student_details(self):\n",
    "        print(\"student name is : \" ,self.name)\n",
    "        print(\"student_id is : \" ,  self.student_id)\n",
    "        print(\"grades are  : \" ,    self.grades)\n",
    "\n",
    "umu = student(102,'umaiza',900) \n",
    "print(umu.show_student_details())\n",
    "print(umu.avg_grade())\n"
   ]
  },
  {
   "cell_type": "code",
   "execution_count": 36,
   "id": "1e9e6d51-a41d-4241-a44c-9ae13128f0f2",
   "metadata": {},
   "outputs": [
    {
     "name": "stdout",
     "output_type": "stream",
     "text": [
      "sender email id is :  rahman@gmail.com\n",
      "recipient email is:  raju@yahoo.com\n",
      "subject is :  amount recieved\n"
     ]
    },
    {
     "data": {
      "text/plain": [
       "'email is sent from rahman@gmail.com to raju@yahoo.com successfully'"
      ]
     },
     "execution_count": 36,
     "metadata": {},
     "output_type": "execute_result"
    }
   ],
   "source": [
    "#Email Management Create a class representing an email with attributes like sender, recipient, and subject. \n",
    "#Implement methods to send an email and display email details.\n",
    "\n",
    "class email:\n",
    "    def __init__(self,sender,recipient,subject):\n",
    "        self.sender = sender\n",
    "        self. recipient = recipient\n",
    "        self.subject = subject\n",
    "    def send_email(self):\n",
    "        return f\"email is sent from {self.sender} to { self. recipient} successfully\"\n",
    "    def display_email(self):\n",
    "        print(\"sender email id is : \", self.sender)\n",
    "        print(\"recipient email is: \",  self. recipient)\n",
    "        print(\"subject is : \", self.subject )\n",
    "email = email('rahman@gmail.com','raju@yahoo.com','amount recieved')\n",
    "email.display_email()\n",
    "email.send_email()"
   ]
  },
  {
   "cell_type": "code",
   "execution_count": 27,
   "id": "7de4745b-ca38-493b-a3ee-90c84a1fd352",
   "metadata": {},
   "outputs": [
    {
     "name": "stdout",
     "output_type": "stream",
     "text": [
      "hi bros how are you guys\n",
      "Hi friends good morning\n",
      "hi friends nice weather\n",
      "hi bros how are you guys\n"
     ]
    }
   ],
   "source": [
    "#Social Media Profile Create a class representing a social media profile with attributes like username and posts. \n",
    "#Implement methods to add posts, display posts, and search for posts by keyword.\n",
    "\n",
    "class social_media:\n",
    "    def __init__(self,username):\n",
    "        self.username = username\n",
    "        self.posts = []\n",
    "\n",
    "    def add_post(self,post):\n",
    "      self.posts.append(post)\n",
    "\n",
    "    def display_post(self):\n",
    "        for post in self.posts:\n",
    "            print(post)\n",
    "\n",
    "    def search_post(self,keyword):\n",
    "        for post in self.posts:\n",
    "            if keyword in post:\n",
    "                print(post)\n",
    "        \n",
    "\n",
    "u1 = social_media('urksrk123')\n",
    "u1.add_post('Hi friends good morning')\n",
    "u1.add_post('hi friends nice weather')\n",
    "u1.add_post('hi bros how are you guys')\n",
    "u1.search_post('guys')\n",
    "u1.display_post()\n",
    "\n"
   ]
  },
  {
   "cell_type": "code",
   "execution_count": 32,
   "id": "79a7490d-4dc4-4272-a2cc-327a15997151",
   "metadata": {},
   "outputs": [
    {
     "name": "stdout",
     "output_type": "stream",
     "text": [
      "watch movie\n",
      "sleep well\n"
     ]
    }
   ],
   "source": [
    "#ToDo List Create a class representing a ToDo list with attributes like tasks and due dates. Implement methods to add tasks, mark tasks as completed, \n",
    "#and display pending tasks.\n",
    "class ToDoList:\n",
    "    def __init__(self):\n",
    "        self.tasks = []\n",
    "\n",
    "    def add_task(self, task):\n",
    "        self.tasks.append({'task': task, 'completed': False})\n",
    "\n",
    "    def mark_task_completed(self, task):\n",
    "        for t in self.tasks:\n",
    "            if t['task'] == task:\n",
    "                t['completed'] = True\n",
    "\n",
    "    def display_pending_tasks(self):\n",
    "        for t in self.tasks:\n",
    "            if not t['completed']:\n",
    "                print(t['task'])\n",
    "\n",
    "        \n",
    "    \n",
    "r = ToDoList()\n",
    "r.add_task(\"buy mutton\")\n",
    "r.add_task(\"watch movie\")\n",
    "r.add_task(\"sleep well\")\n",
    "\n",
    "r.mark_task_completed(\"buy mutton\")\n",
    "\n",
    "r.display_pending_tasks()"
   ]
  },
  {
   "cell_type": "code",
   "execution_count": null,
   "id": "3e17865e-7cbd-4404-9267-6cd059e283e9",
   "metadata": {},
   "outputs": [],
   "source": []
  }
 ],
 "metadata": {
  "kernelspec": {
   "display_name": "Python 3 (ipykernel)",
   "language": "python",
   "name": "python3"
  },
  "language_info": {
   "codemirror_mode": {
    "name": "ipython",
    "version": 3
   },
   "file_extension": ".py",
   "mimetype": "text/x-python",
   "name": "python",
   "nbconvert_exporter": "python",
   "pygments_lexer": "ipython3",
   "version": "3.11.3"
  }
 },
 "nbformat": 4,
 "nbformat_minor": 5
}
