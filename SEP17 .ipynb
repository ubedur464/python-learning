{
 "cells": [
  {
   "cell_type": "code",
   "execution_count": 84,
   "id": "abac2e69-9839-4f3d-aecd-23186b35fe6b",
   "metadata": {},
   "outputs": [
    {
     "name": "stdout",
     "output_type": "stream",
     "text": [
      "1 2 3 4 5 6 7 8 9 10 "
     ]
    }
   ],
   "source": [
    "                                                  '''For Loop :-'''\n",
    "\n",
    "#Write a Python program to print numbers from 1 to 10 using a for loop.\n",
    "for i in range(1 ,11):\n",
    "    print(i,end=' ')\n"
   ]
  },
  {
   "cell_type": "code",
   "execution_count": null,
   "id": "04179c02-a988-4da8-8dbd-fae21c2e157b",
   "metadata": {},
   "outputs": [],
   "source": [
    "#Explain the difference between a for loop and a while loop in Python.\n",
    "'''For Loop: \n",
    "For loops are generally used when you know beforehand how many times you want to execute a block of code. \n",
    "They are ideal for iterating over sequences like lists, strings, or ranges.'''\n",
    "\n",
    "'''While Loop: \n",
    "While loops are used when you want to continue executing a block of code as long as a certain condition remains true. \n",
    "They are more flexible for situations where the number of iterations is not known in advance.'''\n"
   ]
  },
  {
   "cell_type": "code",
   "execution_count": 3,
   "id": "3349e30b-1399-4114-a3be-93e220d89612",
   "metadata": {},
   "outputs": [
    {
     "name": "stdout",
     "output_type": "stream",
     "text": [
      "5050\n"
     ]
    }
   ],
   "source": [
    "#Write a Python program to calculate the sum of all numbers from 1 to 100 using a for loop.\n",
    "sum=0\n",
    "for i in range(1,101):\n",
    "    sum+=i\n",
    "print(sum)    \n"
   ]
  },
  {
   "cell_type": "code",
   "execution_count": 82,
   "id": "0a98da0d-2318-4a8f-9227-b538670b68a9",
   "metadata": {},
   "outputs": [
    {
     "name": "stdout",
     "output_type": "stream",
     "text": [
      "1 2 3 4 5 6 7 8 9 10 "
     ]
    }
   ],
   "source": [
    "#How do you iterate through a list using a for loop in Python?\n",
    "'''Here's a step-by-step explanation:\n",
    "\n",
    "Create a list called my_list containing the items you want to iterate through.\n",
    "\n",
    "Use a for loop to define a variable (item in this case) that will take on the value of each element in the list one by one as the loop iterates.\n",
    "\n",
    "Indent the code block below the for loop to specify what you want to do with each item in the list. \n",
    "The indented code block will execute once for each item in the list, and you can use the item variable to access the current item in each iteration.\n",
    "\n",
    "Here's an example of iterating through a list of numbers:'''\n",
    "lst=list(range(1,11))\n",
    "for i in lst:\n",
    "    print(i,end=' ')\n"
   ]
  },
  {
   "cell_type": "code",
   "execution_count": 4,
   "id": "f9673638-4403-4970-a73d-3188f4579944",
   "metadata": {},
   "outputs": [
    {
     "name": "stdout",
     "output_type": "stream",
     "text": [
      "1344\n"
     ]
    }
   ],
   "source": [
    "#Write a Python program to find the product of all elements in a list using a for loop.\n",
    "lst=[1,2,3,4,7,8]\n",
    "Product_of_elements=1\n",
    "for i in lst:\n",
    "    Product_of_elements*=i\n",
    "print(Product_of_elements)    "
   ]
  },
  {
   "cell_type": "code",
   "execution_count": 83,
   "id": "c07797c4-6ea1-4a3a-9bc0-da3a2833ee10",
   "metadata": {},
   "outputs": [
    {
     "name": "stdout",
     "output_type": "stream",
     "text": [
      "2 4 6 8 10 12 14 16 18 20 "
     ]
    }
   ],
   "source": [
    "#Create a Python program that prints all even numbers from 1 to 20 using a for loop.\n",
    "for i in range(1,21):\n",
    "    if i%2==0:\n",
    "        print(i,end=' ')\n"
   ]
  },
  {
   "cell_type": "code",
   "execution_count": 25,
   "id": "41fb019d-bbe1-4970-9b6f-0972b6cc31d4",
   "metadata": {},
   "outputs": [
    {
     "name": "stdin",
     "output_type": "stream",
     "text": [
      "enter the number: 3\n"
     ]
    },
    {
     "name": "stdout",
     "output_type": "stream",
     "text": [
      "the factorial of entered number : 6\n"
     ]
    }
   ],
   "source": [
    "#Write a Python program that calculates the factorial of a number using a for loop\n",
    "def factorial(n):\n",
    "    a=1\n",
    "    for i in range(1,n+1):\n",
    "        a=a*i\n",
    "    return a    \n",
    "n=int(input(\"enter the number:\"))        \n",
    "print(\"the factorial of entered number :\",factorial(n))       "
   ]
  },
  {
   "cell_type": "code",
   "execution_count": 86,
   "id": "8432d3b8-12d5-4f91-9910-64ebe21df3fb",
   "metadata": {},
   "outputs": [
    {
     "name": "stdout",
     "output_type": "stream",
     "text": [
      "H e l l o ,   W o r l d ! "
     ]
    }
   ],
   "source": [
    "#How can you iterate through the characters of a string using a for loop in Python?\n",
    "'''In this code:\n",
    "\n",
    "You define a string named my_string that contains the text you want to iterate through.\n",
    "\n",
    "You use a for loop to specify a variable (char in this case) that will take on the value of each character in the string one by one as the loop iterates.\n",
    "\n",
    "The indented code block below the for loop contains the code you want to execute for each character in the string. \n",
    "In this example, we simply print each character to the console, but you can replace the print(char) line with any other code you want to apply to each character.\n",
    "\n",
    "When you run this code, it will iterate through the characters in the string and print each character to the console, producing the following output:'''\n",
    "\n",
    "my_string = \"Hello, World!\"\n",
    "\n",
    "for char in my_string:\n",
    "    # Code to be executed for each character in the string\n",
    "    print(char,end=' ')"
   ]
  },
  {
   "cell_type": "code",
   "execution_count": 28,
   "id": "452c0afc-1fe2-45d9-8654-b56881779dd3",
   "metadata": {},
   "outputs": [
    {
     "name": "stdout",
     "output_type": "stream",
     "text": [
      "the max : 10\n"
     ]
    }
   ],
   "source": [
    "#Write a Python program to find the largest number in a list using a for loop.\n",
    "list=[1,10,2,5,6]\n",
    "for i in list:\n",
    "    if i==max(list):\n",
    "        print(\"the max :\", i)"
   ]
  },
  {
   "cell_type": "code",
   "execution_count": 36,
   "id": "8f97063c-7cc0-4ec1-86ea-924aa99e6fc6",
   "metadata": {},
   "outputs": [
    {
     "name": "stdout",
     "output_type": "stream",
     "text": [
      "[1, 2, 3, 4, 5, 6, 7, 8, 9, 10]\n"
     ]
    }
   ],
   "source": [
    "#Create a Python program that prints the Fibonacci sequence up to a specified limit using a for loop.\n",
    "def fibinacci(n):\n",
    "    if n<=1:\n",
    "        return n\n",
    "    else:\n",
    "        return fibinacci(n-1)+fibinacci(n-2)\n",
    "sequence0ffibinacci=[]        \n",
    "for n in range(1,11):\n",
    "    sequence0ffibinacci.append(n)\n",
    "print(sequence0ffibinacci)"
   ]
  },
  {
   "cell_type": "code",
   "execution_count": 33,
   "id": "aff98b47-fd3b-46a6-a038-b9f7fbb4ba5e",
   "metadata": {},
   "outputs": [
    {
     "name": "stdin",
     "output_type": "stream",
     "text": [
      "enter the string: ubed\n"
     ]
    },
    {
     "name": "stdout",
     "output_type": "stream",
     "text": [
      "the number of voewls in a string: 2\n"
     ]
    }
   ],
   "source": [
    "#Write a Python program to count the number of vowels in a given string using a for loop.\n",
    "s=str(input(\"enter the string:\"))\n",
    "vowels=['a','e','i','o','u']\n",
    "count=0\n",
    "for i in s:\n",
    "    if i in vowels:\n",
    "        count+=1\n",
    "print(\"the number of voewls in a string:\",count)        "
   ]
  },
  {
   "cell_type": "code",
   "execution_count": 37,
   "id": "262161c8-c071-4bfe-a325-ff0966f9fed6",
   "metadata": {},
   "outputs": [
    {
     "name": "stdin",
     "output_type": "stream",
     "text": [
      "enter the number: 2\n"
     ]
    },
    {
     "name": "stdout",
     "output_type": "stream",
     "text": [
      "the Multiplication Table is : [2, 4, 6, 8, 10, 12, 14, 16, 18, 20]\n"
     ]
    }
   ],
   "source": [
    "#Create a Python program that generates a multiplication table for a given number using a for loop\n",
    "n=int(input(\"enter the number:\"))\n",
    "lst=[1,2,3,4,5,6,7,8,9,10]\n",
    "Mul_table=[]\n",
    "for i in lst:\n",
    "    i=n*i\n",
    "    Mul_table.append(i)\n",
    "print(\"the Multiplication Table is :\",Mul_table)     "
   ]
  },
  {
   "cell_type": "code",
   "execution_count": 13,
   "id": "7e685b60-9d7e-49c1-b441-69ca0759c150",
   "metadata": {},
   "outputs": [
    {
     "name": "stdout",
     "output_type": "stream",
     "text": [
      "the reversed list: [10, 9, 8, 7, 6, 5, 4, 3, 2, 1]\n"
     ]
    }
   ],
   "source": [
    "#Write a Python program to reverse a list using a for loop.\n",
    "lst=[1,2,3,4,5,6,7,8,9,10]\n",
    "newlist=[]\n",
    "for i in reversed(lst):\n",
    "    newlist.append(i)\n",
    "print(\"the reversed list:\", newlist)    \n",
    "    "
   ]
  },
  {
   "cell_type": "code",
   "execution_count": 5,
   "id": "f88e4b68-1284-4be8-87fa-f8dbeb1cf28e",
   "metadata": {},
   "outputs": [
    {
     "name": "stdout",
     "output_type": "stream",
     "text": [
      "the list of common elements: [1, 3, 9]\n"
     ]
    }
   ],
   "source": [
    "#Write a Python program to find the common elements between two lists using a for loop.\n",
    "l1=[0,1,3,6,9,7]\n",
    "l2=[1,9,88,99,2,3]\n",
    "common_list=[]\n",
    "for i in l1:\n",
    "    for j in l2:\n",
    "        if i==j:\n",
    "           common_list.append(i)\n",
    "print(\"the list of common elements:\",common_list )            "
   ]
  },
  {
   "cell_type": "code",
   "execution_count": 15,
   "id": "46c2a1d8-0b23-4d30-8e99-ccf5033b8662",
   "metadata": {},
   "outputs": [
    {
     "name": "stdout",
     "output_type": "stream",
     "text": [
      "key: name,value: ubed\n",
      "key: age,value: 32\n",
      "key: place,value: vijayawada\n"
     ]
    }
   ],
   "source": [
    "#Explain how to use a for loop to iterate through the keys and values of a dictionary in Python.\n",
    "Dict={'name':'ubed','age':32,'place':'vijayawada'}\n",
    "\n",
    "for key,value in Dict.items():\n",
    "    print(f\"key: {key},value: {value}\")"
   ]
  },
  {
   "cell_type": "code",
   "execution_count": 27,
   "id": "f15daa8a-3a4a-4cd1-b344-9b308ca4f63b",
   "metadata": {},
   "outputs": [
    {
     "name": "stdin",
     "output_type": "stream",
     "text": [
      "enter the first number 2\n",
      "enter the second number 4\n"
     ]
    },
    {
     "name": "stdout",
     "output_type": "stream",
     "text": [
      "the GCD of entered numbers: 2\n"
     ]
    }
   ],
   "source": [
    "#Write a Python program to find the GCD (Greatest Common Divisor) of two numbers using a for loop.\n",
    "def GCD(a,b):\n",
    "    if a>b:\n",
    "        smaller=b\n",
    "    else:\n",
    "        smaller=a\n",
    "    for i in range(1,smaller+1):\n",
    "        if (a%i==0) and (b%i==0):\n",
    "            gcd=i\n",
    "    return gcd\n",
    "        \n",
    "a=int(input(\"enter the first number\"))        \n",
    "b=int(input(\"enter the second number\"))  \n",
    "print(\"the GCD of entered numbers:\",GCD(a,b))"
   ]
  },
  {
   "cell_type": "code",
   "execution_count": 20,
   "id": "3ac532fa-8549-44b0-ace2-bb962c52ce5e",
   "metadata": {},
   "outputs": [
    {
     "name": "stdin",
     "output_type": "stream",
     "text": [
      "enter the string : mm\n"
     ]
    },
    {
     "name": "stdout",
     "output_type": "stream",
     "text": [
      "the entered string is a palindrome\n"
     ]
    }
   ],
   "source": [
    "#Create a Python program that checks if a string is a palindrome using a for loop.\n",
    "s=str(input(\"enter the string :\"))\n",
    "if s==s[::-1]:\n",
    "   print(\"the entered string is a palindrome\")\n",
    "else:\n",
    "   print(\"the given string is not a plaindrome\")"
   ]
  },
  {
   "cell_type": "code",
   "execution_count": 16,
   "id": "161dce1a-f6f5-497a-a0d5-913d76f6a37d",
   "metadata": {},
   "outputs": [
    {
     "name": "stdout",
     "output_type": "stream",
     "text": [
      "The duplicates in the list: [1, 6]\n"
     ]
    }
   ],
   "source": [
    "#Write a Python program to remove duplicates from a list using a for loop.\n",
    "l = [1, 1, 2, 3, 4, 5, 6, 6]\n",
    "duplicates = []\n",
    "\n",
    "for i in l:\n",
    "    if l.count(i) > 1 and i not in duplicates:\n",
    "        duplicates.append(i)\n",
    "\n",
    "print(\"The duplicates in the list:\", duplicates)\n"
   ]
  },
  {
   "cell_type": "code",
   "execution_count": 30,
   "id": "828f0850-abfc-40a1-9d76-dd6fb3fc1e69",
   "metadata": {},
   "outputs": [
    {
     "name": "stdin",
     "output_type": "stream",
     "text": [
      "enter the sentence: ubed is a don\n"
     ]
    },
    {
     "name": "stdout",
     "output_type": "stream",
     "text": [
      "the number of words in a sentence: 4\n"
     ]
    }
   ],
   "source": [
    "#Create a Python program that counts the number of words in a sentence using a for loop.\n",
    "s=str(input(\"enter the sentence:\"))\n",
    "s1=s.split()\n",
    "count=0\n",
    "for i in s1:\n",
    "    count+=1\n",
    "print(\"the number of words in a sentence:\",count)"
   ]
  },
  {
   "cell_type": "code",
   "execution_count": 32,
   "id": "fd44c3d1-a92c-4e9c-91db-37d7ae99d5bd",
   "metadata": {},
   "outputs": [
    {
     "name": "stdout",
     "output_type": "stream",
     "text": [
      "the sum of all odd numbers from 1 to 50: 625\n"
     ]
    }
   ],
   "source": [
    "#Write a Python program to find the sum of all odd numbers from 1 to 50 using a for loop.\n",
    "numbers=[x for x in range(1,51) if x%2!=0]\n",
    "sum=0\n",
    "for i in numbers:\n",
    "    sum+=i\n",
    "print(\"the sum of all odd numbers from 1 to 50:\",sum)    "
   ]
  },
  {
   "cell_type": "code",
   "execution_count": 37,
   "id": "c71e930b-50b9-4ad4-a6f8-99b585be7224",
   "metadata": {},
   "outputs": [
    {
     "name": "stdin",
     "output_type": "stream",
     "text": [
      "enter the year : 2020\n"
     ]
    },
    {
     "name": "stdout",
     "output_type": "stream",
     "text": [
      "the entered year is a leap year\n"
     ]
    }
   ],
   "source": [
    "#Write a Python program that checks if a given year is a leap year using a for loop.\n",
    "a=int(input(\"enter the year :\"))\n",
    "is_leap=False\n",
    "for i in range(1,a+1):\n",
    "    if i%4==0:\n",
    "        is_leap=True\n",
    "        break\n",
    "if is_leap:\n",
    "    print(\"the entered year is a leap year\")\n",
    "else:\n",
    "    print(\"the entered year is not a leap year\")"
   ]
  },
  {
   "cell_type": "code",
   "execution_count": 42,
   "id": "fe37a52d-1119-46f9-a94d-512bd1733088",
   "metadata": {},
   "outputs": [
    {
     "name": "stdin",
     "output_type": "stream",
     "text": [
      "enter the number : 33\n"
     ]
    },
    {
     "name": "stdout",
     "output_type": "stream",
     "text": [
      "the Square root of entered number is : 5\n"
     ]
    }
   ],
   "source": [
    "#Create a Python program that calculates the square root of a number using a for loop.\n",
    "def sqrt(n):\n",
    "    if n<0:\n",
    "        return \"sqrt of number is not defined\"\n",
    "        if n==0:\n",
    "            return \"sqrt of number is 0\"\n",
    "    for i in range(1,n+1):\n",
    "        if i*i==n:\n",
    "              return i\n",
    "        if i*i>n:\n",
    "            return i-1\n",
    "            \n",
    "    return \"sqrt of number no found\" \n",
    "    \n",
    "n=int(input(\"enter the number :\"))\n",
    "print(\"the Square root of entered number is :\",sqrt(n))\n"
   ]
  },
  {
   "cell_type": "code",
   "execution_count": 36,
   "id": "59a1f88e-3dbd-4fe5-a95c-e6d2b49b3f0b",
   "metadata": {},
   "outputs": [
    {
     "name": "stdin",
     "output_type": "stream",
     "text": [
      "enter the first Number: 2\n",
      "enter the second Number: 4\n"
     ]
    },
    {
     "name": "stdout",
     "output_type": "stream",
     "text": [
      "LCM of entered numbers is 4.0\n"
     ]
    }
   ],
   "source": [
    "#Write a Python program to find the LCM (Least Common Multiple) of two numbers using a for loop.\n",
    "def GCD(a,b):\n",
    "    if a>b:\n",
    "        smaller=b\n",
    "    else:\n",
    "        smaller=a\n",
    "    for i in range(1,smaller+1):\n",
    "        if (a%i==0) and (b%i==0):\n",
    "            gcd=i\n",
    "    return gcd    \n",
    "        \n",
    "def LCM(a,b):\n",
    "    LCM=a*b/GCD(a,b)\n",
    "    return LCM\n",
    "a=int(input(\"enter the first Number:\"))  \n",
    "b=int(input(\"enter the second Number:\"))  \n",
    "print(\"LCM of entered numbers is\",LCM(a,b))"
   ]
  },
  {
   "cell_type": "code",
   "execution_count": 43,
   "id": "152e683c-a7f8-4f6f-b97b-e7626e0a6ff2",
   "metadata": {},
   "outputs": [
    {
     "name": "stdin",
     "output_type": "stream",
     "text": [
      "enter the number: 20\n"
     ]
    },
    {
     "name": "stdout",
     "output_type": "stream",
     "text": [
      "the number is positive\n",
      "the number is not zero\n"
     ]
    }
   ],
   "source": [
    "                                                    '''If else :'''\n",
    "\n",
    "\n",
    "#Write a Python program to check if a number is positive, negative, or zero using an if-else statement.\n",
    "a=int(input(\"enter the number:\"))\n",
    "if a>0:\n",
    "    print(\"the number is positive\")\n",
    "    if a==0:\n",
    "        print(\"the number is zero\")\n",
    "    else:\n",
    "        print(\"the number is not zero\")\n",
    "else:\n",
    "    print(\"the number is negative\")"
   ]
  },
  {
   "cell_type": "code",
   "execution_count": 49,
   "id": "e6788339-9941-4c0f-bc9a-144aea2ddf14",
   "metadata": {},
   "outputs": [
    {
     "name": "stdin",
     "output_type": "stream",
     "text": [
      "enter the number : 1\n"
     ]
    },
    {
     "name": "stdout",
     "output_type": "stream",
     "text": [
      "the given number is odd\n"
     ]
    }
   ],
   "source": [
    "#Create a Python program that checks if a given number is even or odd using an if-else statement.\n",
    "a=int(input(\"enter the number :\"))\n",
    "if a%2==0:\n",
    "    print(\"the given number is even\")\n",
    "else:\n",
    "    print(\"the given number is odd\")"
   ]
  },
  {
   "cell_type": "code",
   "execution_count": 5,
   "id": "ba11de8d-cb00-4508-a8e2-61f058b497e8",
   "metadata": {},
   "outputs": [
    {
     "name": "stdin",
     "output_type": "stream",
     "text": [
      "enter the amount: 200\n",
      "enter your size: s\n",
      "enter your color: pink\n"
     ]
    },
    {
     "name": "stdout",
     "output_type": "stream",
     "text": [
      "i cannot buy shirt i will go to another mall\n"
     ]
    }
   ],
   "source": [
    "#How can you use nested if-else statements in Python, and provide an example?\n",
    "'''nested if means condition in condition can be explained by below code:'''\n",
    "a1=int(input(\"enter the amount:\"))\n",
    "b=str(input(\"enter your size:\"))\n",
    "c=str(input(\"enter your color:\"))\n",
    "color=['white','black','red','orange']\n",
    "a=500\n",
    "s=['m','l','xl','xxl']\n",
    "if a1>300:\n",
    "    print(\"i can buy shirt\")\n",
    "    if c in color:\n",
    "        print(\"my desired color exists\")\n",
    "    else:\n",
    "        print(\"desired color doesnt exists\")\n",
    "elif b in s:\n",
    "    print(\"my size exists\")\n",
    "else:\n",
    "    print(\"i cannot buy shirt i will go to another mall\")\n",
    "    "
   ]
  },
  {
   "cell_type": "code",
   "execution_count": 56,
   "id": "c28f6d3a-07f2-4d06-9872-bfc394024f4e",
   "metadata": {},
   "outputs": [
    {
     "name": "stdin",
     "output_type": "stream",
     "text": [
      "enter the first number : 300\n",
      "enter the second number : 300\n",
      "enter the third number : 600\n"
     ]
    },
    {
     "name": "stdout",
     "output_type": "stream",
     "text": [
      "the largest number is : 600\n"
     ]
    }
   ],
   "source": [
    "#Write a Python program to determine the largest of three numbers using if-else.\n",
    "a=int(input(\"enter the first number :\"))\n",
    "b=int(input(\"enter the second number :\"))\n",
    "c=int(input(\"enter the third number :\"))\n",
    "if a>b and a>c:\n",
    "    print(\"the largest number is :\", a)\n",
    "elif b>a and b>c:\n",
    "    print(\"the largest number is\",b)\n",
    "else: \n",
    "   print(\"the largest number is :\", c)     "
   ]
  },
  {
   "cell_type": "code",
   "execution_count": 11,
   "id": "8aca1203-3b2a-4848-927f-c66b6acd04b7",
   "metadata": {},
   "outputs": [
    {
     "name": "stdin",
     "output_type": "stream",
     "text": [
      "enter the number -10\n"
     ]
    },
    {
     "name": "stdout",
     "output_type": "stream",
     "text": [
      "the absolute value of number is : 10\n"
     ]
    }
   ],
   "source": [
    "#Write a Python program that calculates the absolute value of a number using if-else.\n",
    "a=int(input(\"enter the number\"))\n",
    "if a>=0:\n",
    "    print(\"the absolute value of number is :\",a)\n",
    "else:\n",
    "    print(\"the absolute value of number is :\",-a)\n",
    "    "
   ]
  },
  {
   "cell_type": "code",
   "execution_count": 18,
   "id": "9d0f8027-c847-4ad8-8a5e-e6fa3c49c8a3",
   "metadata": {},
   "outputs": [
    {
     "name": "stdin",
     "output_type": "stream",
     "text": [
      "enter the chracter: f\n"
     ]
    },
    {
     "name": "stdout",
     "output_type": "stream",
     "text": [
      "the entered charcter is a consonant\n"
     ]
    }
   ],
   "source": [
    "#Create a Python program that checks if a given character is a vowel or consonant using if-else.\n",
    "a=str(input(\"enter the chracter:\"))\n",
    "vowels=['a','e','i','o','u']\n",
    "if a in vowels:\n",
    "    print(\"the entered charcter is a vowel\")\n",
    "else:\n",
    "    print(\"the entered charcter is a consonant\")"
   ]
  },
  {
   "cell_type": "code",
   "execution_count": 22,
   "id": "c2917454-211f-4002-af05-88c4f04e3a98",
   "metadata": {},
   "outputs": [
    {
     "name": "stdin",
     "output_type": "stream",
     "text": [
      "enter your age: 17\n"
     ]
    },
    {
     "name": "stdout",
     "output_type": "stream",
     "text": [
      "you are not eligible for voting\n"
     ]
    }
   ],
   "source": [
    "#Write a Python program to determine if a user is eligible to vote based on their age using if-else.\n",
    "a=int(input(\"enter your age:\"))\n",
    "if a>=18:\n",
    "    print(\"you are eligible for voting\")\n",
    "else:\n",
    "    print(\"you are not eligible for voting\")\n"
   ]
  },
  {
   "cell_type": "code",
   "execution_count": 38,
   "id": "42655f37-a6b7-4431-b211-fbf78a47aadb",
   "metadata": {},
   "outputs": [
    {
     "name": "stdin",
     "output_type": "stream",
     "text": [
      "enter the purchase amount : 400\n"
     ]
    },
    {
     "name": "stdout",
     "output_type": "stream",
     "text": [
      "the discount is not applicable\n"
     ]
    }
   ],
   "source": [
    "#Create a Python program that calculates the discount amount based on the purchase amount using if-else.\n",
    "a=float(input(\"enter the purchase amount :\"))\n",
    "if a in range(500,1001):\n",
    "    discount1 =0.05*a\n",
    "    print(\"the discount amount is :\",discount1)\n",
    "elif a in range(1001,5000):\n",
    "       discount2 =0.1*a\n",
    "       print(\"the discount amount is :\",discount2)\n",
    "elif a>=5000:\n",
    "    discount3 =1000\n",
    "    print(\"the discount amount is :\",discount3)\n",
    "else:\n",
    "    print(\"the discount is not applicable\")"
   ]
  },
  {
   "cell_type": "code",
   "execution_count": 40,
   "id": "4fdf1e71-ede3-425a-8d7f-322ef3d9cb72",
   "metadata": {},
   "outputs": [
    {
     "name": "stdin",
     "output_type": "stream",
     "text": [
      "enter the number 60\n"
     ]
    },
    {
     "name": "stdout",
     "output_type": "stream",
     "text": [
      "the entered number is in desired range\n"
     ]
    }
   ],
   "source": [
    "#Write a Python program to check if a number is within a specified range using if-else.\n",
    "a=int(input(\"enter the number\"))\n",
    "if a in range(1,100):\n",
    "    print(\"the entered number is in desired range\")\n",
    "else:\n",
    "    print(\"the entered number is not in the desired range\")"
   ]
  },
  {
   "cell_type": "code",
   "execution_count": 55,
   "id": "53b6ea24-d8ad-433e-b768-50adf0a9beaf",
   "metadata": {},
   "outputs": [
    {
     "name": "stdin",
     "output_type": "stream",
     "text": [
      "enter student score: 85\n"
     ]
    },
    {
     "name": "stdout",
     "output_type": "stream",
     "text": [
      "excellent performance the grade is B+\n"
     ]
    }
   ],
   "source": [
    "#Create a Python program that determines the grade of a student based on their score using if-else.\n",
    "a=float(input(\"enter student score:\"))\n",
    "if a>=95:\n",
    "    print(\"excellent performance the grade is A+\")\n",
    "elif a in range(90,95):\n",
    "    print(\"excellent performance the grade is A\")\n",
    "elif a in range(80,90):\n",
    "    print(\"excellent performance the grade is B+\")\n",
    "elif a in range(70,80):\n",
    "    print(\"excellent performance the grade is B\")\n",
    "else:\n",
    "    print(\"excellent performance the grade is c\")"
   ]
  },
  {
   "cell_type": "code",
   "execution_count": 62,
   "id": "bc4c29aa-ac78-4ccd-a98e-d46385c21c4b",
   "metadata": {},
   "outputs": [
    {
     "name": "stdin",
     "output_type": "stream",
     "text": [
      "enter the string: ubed\n"
     ]
    },
    {
     "name": "stdout",
     "output_type": "stream",
     "text": [
      "the string is not empty\n"
     ]
    }
   ],
   "source": [
    "#Write a Python program to check if a string is empty or not using if-else.\n",
    "a=str(input(\"enter the string:\"))\n",
    "count=0\n",
    "for i in a:\n",
    "    count+=1\n",
    "if count == 0:\n",
    "    print(\"the string is empty\")\n",
    "else:\n",
    "    print(\"the string is not empty\")\n",
    "    "
   ]
  },
  {
   "cell_type": "code",
   "execution_count": 3,
   "id": "406740be-eb77-4ae4-9bb0-71b41d429279",
   "metadata": {},
   "outputs": [
    {
     "name": "stdin",
     "output_type": "stream",
     "text": [
      "enter the first side: 10\n",
      "enter the second side: 20\n",
      "enter the third side: 30\n"
     ]
    },
    {
     "name": "stdout",
     "output_type": "stream",
     "text": [
      "the triangle is a scalene triangle\n"
     ]
    }
   ],
   "source": [
    "#Create a Python program that identifies the type of a triangle (e.g., equilateral, isosceles, or scalene) based on input values using if-else.\n",
    "a=float(input(\"enter the first side:\"))\n",
    "b=float(input(\"enter the second side:\"))\n",
    "c=float(input(\"enter the third side:\"))\n",
    "if a==b==c:\n",
    "    print(\"the triangle is a equilateral triangle\")\n",
    "elif a==b or b==c or a==c:\n",
    "    print(\"the triangle is a isosceles triangle\")\n",
    "else:\n",
    "     print(\"the triangle is a scalene triangle\")\n"
   ]
  },
  {
   "cell_type": "code",
   "execution_count": 8,
   "id": "12b427f8-6c01-4a38-8f4f-29e950438713",
   "metadata": {},
   "outputs": [
    {
     "name": "stdin",
     "output_type": "stream",
     "text": [
      "enter the number: 4\n"
     ]
    },
    {
     "name": "stdout",
     "output_type": "stream",
     "text": [
      "it is thursday\n"
     ]
    }
   ],
   "source": [
    "#Write a Python program to determine the day of the week based on a user-provided number using if-else.\n",
    "a= int(input(\"enter the number:\"))\n",
    "if a==1:\n",
    "    print(\"it is monday\")\n",
    "elif a==2:\n",
    "     print(\"it is tuesday\")\n",
    "elif a==3:\n",
    "     print(\"it is wednesday\")\n",
    "elif a==4:\n",
    "     print(\"it is thursday\")\n",
    "elif a==5:\n",
    "     print(\"it is friday\")\n",
    "elif a==6:\n",
    "     print(\"it is saturday\")\n",
    "elif a==7:\n",
    "     print(\"it is sunday\")  \n",
    "else:\n",
    "    print(\"invalid input\")\n"
   ]
  },
  {
   "cell_type": "code",
   "execution_count": 53,
   "id": "cab51a4f-26a4-46fb-9023-369106591587",
   "metadata": {},
   "outputs": [
    {
     "name": "stdin",
     "output_type": "stream",
     "text": [
      "enter the year : 2020\n"
     ]
    },
    {
     "name": "stdout",
     "output_type": "stream",
     "text": [
      "it is a leap year\n"
     ]
    }
   ],
   "source": [
    "#Create a Python program that checks if a given year is a leap year using both if-else and a function.\n",
    "def leap_year(n):\n",
    "    if n%4==0:\n",
    "        return 'it is a leap year'\n",
    "    else: \n",
    "         return 'it is not a leap year'\n",
    "n=int(input(\"enter the year :\"))\n",
    "print(leap_year(n))"
   ]
  },
  {
   "cell_type": "code",
   "execution_count": null,
   "id": "3d20f237-80bf-4728-9cfe-0c71e4a09d28",
   "metadata": {},
   "outputs": [],
   "source": [
    "#How do you use the assert statement in Python to add debugging checks within if-else blocks?\n",
    "\n",
    "'''In Python, the assert statement is used to add debugging checks within if-else blocks, functions, \n",
    "or any part of your code to ensure that certain conditions or assumptions are met. \n",
    "If the condition provided to assert evaluates to False, \n",
    "it raises an AssertionError exception, indicating that something unexpected has occurred. \n",
    "This is particularly useful during development and debugging to catch errors early.'''\n",
    "\n",
    "#assert condition, message\n"
   ]
  },
  {
   "cell_type": "code",
   "execution_count": 44,
   "id": "0cd00c05-0567-40d9-9cf3-5a7fd62ebe68",
   "metadata": {},
   "outputs": [
    {
     "name": "stdin",
     "output_type": "stream",
     "text": [
      "enter the your age: 63\n"
     ]
    },
    {
     "name": "stdout",
     "output_type": "stream",
     "text": [
      "you are a senior citizen and you are eligible for senior Citizen based discount\n"
     ]
    }
   ],
   "source": [
    "#Create a Python program that determines the eligibility of a person for a senior citizen discount based on age using if-else.\n",
    "a=int(input(\"enter the your age:\"))\n",
    "if a>60:\n",
    "    print(\"you are a senior citizen and you are eligible for senior Citizen based discount\")\n",
    "else:\n",
    "    print(\"you are not eligible for senior citizen based dicount as you are not a senior citizen as per your age\")\n"
   ]
  },
  {
   "cell_type": "code",
   "execution_count": 46,
   "id": "cc92d01c-b3e1-4dcf-8f88-ca7f4208cafa",
   "metadata": {},
   "outputs": [
    {
     "name": "stdin",
     "output_type": "stream",
     "text": [
      "enter the charcter: u\n"
     ]
    },
    {
     "name": "stdout",
     "output_type": "stream",
     "text": [
      "the entered char is of lowercase\n"
     ]
    }
   ],
   "source": [
    "#Write a Python program to categorize a given character as uppercase, lowercase, or neither using if-else.\n",
    "a=str(input(\"enter the charcter:\"))\n",
    "if a==a.lower():\n",
    "    print(\"the entered char is of lowercase\")\n",
    "elif a==a.upper():\n",
    "    print(\"the entered char is of uppercase\")\n",
    "else:\n",
    "    (\"entered char type is not defined\")\n"
   ]
  },
  {
   "cell_type": "code",
   "execution_count": 23,
   "id": "f1a14108-e5d8-40ac-a7fb-ca6e5192ffb7",
   "metadata": {},
   "outputs": [
    {
     "name": "stdin",
     "output_type": "stream",
     "text": [
      "Enter the coefficient 'a':  2\n",
      "Enter the coefficient 'b':  4.6\n",
      "Enter the coefficient 'c':  5\n"
     ]
    },
    {
     "name": "stdout",
     "output_type": "stream",
     "text": [
      "The roots are complex: -1.15 + 1.0851267207105353i and -1.15 - 1.0851267207105353i\n"
     ]
    }
   ],
   "source": [
    "#Write a Python program to determine the roots of a quadratic equation using if-else.\n",
    "import math\n",
    "\n",
    "# Input coefficients\n",
    "a = float(input(\"Enter the coefficient 'a': \"))\n",
    "b = float(input(\"Enter the coefficient 'b': \"))\n",
    "c = float(input(\"Enter the coefficient 'c': \"))\n",
    "\n",
    "# Calculate the discriminant\n",
    "discriminant = b**2 - 4*a*c\n",
    "\n",
    "# Check if the discriminant is positive, zero, or negative\n",
    "if discriminant > 0:\n",
    "    # Two real and distinct roots\n",
    "    root1 = (-b + math.sqrt(discriminant)) / (2*a)\n",
    "    root2 = (-b - math.sqrt(discriminant)) / (2*a)\n",
    "    print(f\"The roots are real and distinct: {root1} and {root2}\")\n",
    "elif discriminant == 0:\n",
    "    # One real root (double root)\n",
    "    root = -b / (2*a)\n",
    "    print(f\"The root is real and equal: {root}\")\n",
    "else:\n",
    "    # Complex roots\n",
    "    real_part = -b / (2*a)\n",
    "    imaginary_part = math.sqrt(-discriminant) / (2*a)\n",
    "    print(f\"The roots are complex: {real_part} + {imaginary_part}i and {real_part} - {imaginary_part}i\")\n",
    "\n"
   ]
  },
  {
   "cell_type": "code",
   "execution_count": 48,
   "id": "cd571180-c4b3-4ebc-802d-d1ce49c63cf6",
   "metadata": {},
   "outputs": [
    {
     "name": "stdin",
     "output_type": "stream",
     "text": [
      "enter the year: 2020\n"
     ]
    },
    {
     "name": "stdout",
     "output_type": "stream",
     "text": [
      "entered year is not a century year\n"
     ]
    }
   ],
   "source": [
    "#Create a Python program that checks if a given year is a century year or not using if-else.\n",
    "a=int(input(\"enter the year:\"))\n",
    "if a%100==0:\n",
    "    print(\"entered year is a century year\")\n",
    "else:\n",
    "    print(\"entered year is not a century year\")\n"
   ]
  },
  {
   "cell_type": "code",
   "execution_count": 18,
   "id": "93f8e4c1-6202-498d-b03e-2edf364f25ab",
   "metadata": {},
   "outputs": [
    {
     "name": "stdin",
     "output_type": "stream",
     "text": [
      "enter the number: 15\n"
     ]
    },
    {
     "name": "stdout",
     "output_type": "stream",
     "text": [
      "the number is not a perfect square\n"
     ]
    }
   ],
   "source": [
    "#Write a Python program to determine if a given number is a perfect square using if-else.\n",
    "a=int(input(\"enter the number:\"))\n",
    "import math\n",
    "sqrt=math.sqrt(a)\n",
    "if sqrt*sqrt==a:\n",
    "    print(\"the number is a pefect square\")\n",
    "else:\n",
    "    print(\"the number is not a perfect square\")\n"
   ]
  },
  {
   "cell_type": "code",
   "execution_count": null,
   "id": "b590d866-75f3-49df-9441-8e2e7915fe9e",
   "metadata": {},
   "outputs": [],
   "source": [
    "#Explain the purpose of the continue\" and \"break\" statements within if-else loops.\n",
    "''' The `continue` and `break` statements are control flow statements in Python used within loops, including `for` and `while` loops, \n",
    "to alter the normal flow of program execution. They serve different purposes:\n",
    "\n",
    "1. **`break` Statement:**\n",
    "\n",
    "   - Purpose: The `break` statement is used to exit the current loop prematurely when a certain condition is met. \n",
    "   When encountered, `break` immediately terminates the loop and continues with the code after the loop.\n",
    "\n",
    "   - Typical Use Cases:\n",
    "     - To stop the execution of a loop when a specific condition is satisfied.\n",
    "     - To avoid unnecessary iterations once a desired condition is met.\n",
    "\n",
    "   Example:\n",
    "   ```python\n",
    "   for i in range(1, 11):\n",
    "       if i == 5:\n",
    "           break  # Exit the loop when i is equal to 5\n",
    "       print(i)\n",
    "   ```\n",
    "\n",
    "   Output:\n",
    "   ```\n",
    "   1\n",
    "   2\n",
    "   3\n",
    "   4\n",
    "   ```\n",
    "\n",
    "2. **`continue` Statement:**\n",
    "\n",
    "   - Purpose: The `continue` statement is used to skip the current iteration of a loop when a certain condition is met. \n",
    "   It allows you to continue with the next iteration of the loop without executing the remaining code within the current iteration.\n",
    "\n",
    "   - Typical Use Cases:\n",
    "     - To skip specific iterations based on a condition, often used in conjunction with an `if` statement.\n",
    "     - To filter out elements in a loop that don't meet certain criteria.\n",
    "\n",
    "   Example:\n",
    "   ```python\n",
    "   for i in range(1, 11):\n",
    "       if i % 2 == 0:\n",
    "           continue  # Skip even numbers\n",
    "       print(i)\n",
    "   ```\n",
    "\n",
    "   Output:\n",
    "   ```\n",
    "   1\n",
    "   3\n",
    "   5\n",
    "   7\n",
    "   9\n",
    "   ```\n",
    "\n",
    "In summary:\n",
    "\n",
    "- `break` is used to completely exit a loop prematurely when a condition is met.\n",
    "- `continue` is used to skip the current iteration of a loop when a condition is met and proceed to the next iteration.\n",
    "\n",
    "Both statements are valuable tools for controlling the flow of your loops and \n",
    "can help you make your code more efficient and responsive to specific conditions or requirements.  '''\n"
   ]
  },
  {
   "cell_type": "code",
   "execution_count": 29,
   "id": "3f4cc42d-aebb-4a6a-a5b9-371b859bc71c",
   "metadata": {},
   "outputs": [
    {
     "name": "stdin",
     "output_type": "stream",
     "text": [
      "enter your weight in kgs: 63\n",
      "enter your height in meteres: 1.6\n"
     ]
    },
    {
     "name": "stdout",
     "output_type": "stream",
     "text": [
      "your weight is normal\n"
     ]
    }
   ],
   "source": [
    "#Create a Python program that calculates the BMI (Body Mass Index) of a person based on their weight and height using if-else.\n",
    "a=float(input(\"enter your weight in kgs:\"))\n",
    "b=float(input(\"enter your height in meteres:\"))\n",
    "BMI=a/(b*b)\n",
    "if BMI<18.5:\n",
    "    print(\"you are underweight\")\n",
    "elif 18.5<=BMI<24.9:\n",
    "     print(\"your weight is normal\")\n",
    "elif 25.0>=BMI<29.9:\n",
    "    print(\"your are over wight please start workout buddy\")\n",
    "\n",
    "else:\n",
    "    print(\"you are obese , please work out\")\n"
   ]
  },
  {
   "cell_type": "code",
   "execution_count": 25,
   "id": "c521e455-f401-4422-a9c3-8c3ce38a8620",
   "metadata": {},
   "outputs": [
    {
     "name": "stdout",
     "output_type": "stream",
     "text": [
      "[2, 4, 6, 8, 10]\n"
     ]
    }
   ],
   "source": [
    "#How can you use the filter() function with if-else statements to filter elements from a list?\n",
    "lst=[1,2,3,4,5,6,7,8,9,10]\n",
    "even=list(filter(lambda a:a if a%2==0 else 0,lst))\n",
    "print(even)"
   ]
  },
  {
   "cell_type": "code",
   "execution_count": 28,
   "id": "535e26f2-3610-4b56-b83c-efca2c8803b7",
   "metadata": {},
   "outputs": [
    {
     "name": "stdout",
     "output_type": "stream",
     "text": [
      "True\n"
     ]
    }
   ],
   "source": [
    "#Write a Python program to determine if a given number is prime or not using if-else.\n",
    "def check_prime(n):\n",
    "    if n <= 1 : \n",
    "        return False \n",
    "    elif n <=3 :\n",
    "        return  True \n",
    "    elif n%2 == 0 or n%3 == 0 :\n",
    "        return False \n",
    "    i = 5 \n",
    "    while i*i <=n:\n",
    "        if n %i == 0 or n %(i+2) == 0 :\n",
    "            return False \n",
    "        i+=6 \n",
    "    return True\n",
    "n=2    \n",
    "\n",
    "print(check_prime(n))\n"
   ]
  },
  {
   "cell_type": "code",
   "execution_count": 29,
   "id": "bdf5b12d-9105-4ed7-83c5-50f15f799150",
   "metadata": {},
   "outputs": [
    {
     "name": "stdout",
     "output_type": "stream",
     "text": [
      "[2, 4, 6, 8, 10]\n"
     ]
    }
   ],
   "source": [
    "                                           '''Map :-'''\n",
    "\n",
    "\n",
    "#Explain the purpose of `map()` function in Python and provide an example of how it can be used to apply a function to each element of an iterable.\n",
    "'''The map() function in Python is used to apply a specified function to each item in an iterable \n",
    " (e.g., a list, tuple, or any other iterable) and returns an iterator. \n",
    " It allows you to transform or manipulate the elements of the iterable without the need for explicit loops. \n",
    " The map() function takes two arguments: the function to apply and the iterable to apply it to'''\n",
    "lst=[1,2,3,4,5,6,7,8,9,10]\n",
    "even_number=list(map(lambda a:a ,[x for x in lst if x%2==0]))\n",
    "print(even_number)"
   ]
  },
  {
   "cell_type": "code",
   "execution_count": 68,
   "id": "2385611a-5601-4edd-a2d2-ba12fd86e9b0",
   "metadata": {},
   "outputs": [
    {
     "name": "stdout",
     "output_type": "stream",
     "text": [
      "[1, 9, 25, 49, 81]\n"
     ]
    }
   ],
   "source": [
    "#Write a Python program that uses the `map()` function to square each element of a list of numbers.\n",
    "lst=[1,3,5,7,9]\n",
    "squares=list(map(lambda a:a**2 ,lst))\n",
    "print(squares)"
   ]
  },
  {
   "cell_type": "code",
   "execution_count": null,
   "id": "d6af4ef9-f2f0-4188-9e3a-329baa9b0803",
   "metadata": {},
   "outputs": [],
   "source": [
    "#How does the `map()` function differ from a list comprehension in Python, and when would you choose one over the other?\n",
    "'''  The `map()` function and list comprehensions in Python are both used to apply a function or expression to each element of an iterable \n",
    "(e.g., a list) but they have some differences in terms of syntax and use cases.\n",
    "Here's how they differ and when you might choose one over the other:\n",
    "\n",
    "**1. Syntax:**\n",
    "\n",
    "   - `map()`: The `map()` function takes a function and an iterable as arguments. \n",
    "   It applies the function to each element of the iterable and returns a map object (an iterator) that you need to convert to a list or \n",
    "   another iterable to see the results.\n",
    "\n",
    "   - List Comprehension: List comprehensions are concise expressions enclosed in square brackets \n",
    "   that allow you to create new lists by specifying how to transform or filter existing iterable elements.\n",
    "\n",
    "**2. Output:**\n",
    "\n",
    "   - `map()`: It always returns a map object, which is an iterator. You need to convert it to a list or another iterable to see the results.\n",
    "\n",
    "   - List Comprehension: It directly returns a new list containing the transformed or filtered elements.\n",
    "\n",
    "**3. Function vs. Expression:**\n",
    "\n",
    "   - `map()`: You typically use a function with `map()`. This means you can apply any function to each element of the iterable.\n",
    "\n",
    "   - List Comprehension: It is more flexible as it allows you to use expressions, \n",
    "   including conditionals, directly to create new elements for the resulting list.\n",
    "\n",
    "**4. Use Cases:**\n",
    "\n",
    "   - `map()`: Use `map()` when you have an existing function that you want to apply to every element of an iterable. \n",
    "   It's especially useful when you need to apply the same function to multiple iterables.\n",
    "\n",
    "   - List Comprehension: \n",
    "   Use list comprehensions when you want to create a new list based on the elements of an existing iterable with a straightforward \n",
    "   transformation or filtering operation. List comprehensions are often more readable and Pythonic for such cases.\n",
    "\n",
    "**5. Performance:**\n",
    "\n",
    "   - `map()`: In some cases, `map()` can be slightly faster than list comprehensions, especially when applied to very large iterables. \n",
    "   However, the difference is usually negligible for most common use cases.\n",
    "\n",
    "**Examples:**\n",
    "\n",
    "Using `map()`:\n",
    "```python\n",
    "# Using map() to double each element in a list\n",
    "numbers = [1, 2, 3, 4, 5]\n",
    "doubled_numbers = list(map(lambda x: x * 2, numbers))\n",
    "```\n",
    "\n",
    "Using list comprehension:\n",
    "```python\n",
    "# Using list comprehension to double each element in a list\n",
    "numbers = [1, 2, 3, 4, 5]\n",
    "doubled_numbers = [x * 2 for x in numbers]\n",
    "```\n",
    "\n",
    "In summary, choose `map()` when you have an existing function to apply to every element of an iterable or\n",
    "when you need to apply the same function to multiple iterables. \n",
    "Use list comprehensions when you want to create a new list with a straightforward transformation or filtering operation, \n",
    "as they are more concise and Pythonic for such cases. \n",
    "Ultimately, the choice between `map()` and \n",
    "list comprehensions depends on the specific use case and readability considerations.  '''"
   ]
  },
  {
   "cell_type": "code",
   "execution_count": 69,
   "id": "24fb299e-08d7-49b3-96e8-d76c0be618f8",
   "metadata": {},
   "outputs": [
    {
     "name": "stdout",
     "output_type": "stream",
     "text": [
      "['UBED', 'AFIYA', 'UMAIZA', 'UMAIRA']\n"
     ]
    }
   ],
   "source": [
    "#Create a Python program that uses the `map()` function to convert a list of names to uppercase.\n",
    "lst=['ubed','afiya','umaiza','umaira']\n",
    "upper=list(map(lambda a:a.upper(),lst))\n",
    "print(upper)"
   ]
  },
  {
   "cell_type": "code",
   "execution_count": 72,
   "id": "b5b55335-f988-42ef-865b-a7db08d8bfd4",
   "metadata": {},
   "outputs": [
    {
     "name": "stdout",
     "output_type": "stream",
     "text": [
      "[6, 3, 6, 3, 10]\n"
     ]
    }
   ],
   "source": [
    "#Write a Python program that uses the `map()` function to calculate the length of each word in a list of strings.\n",
    "s='umaiza and umaira are superstars'\n",
    "s1=s.split()\n",
    "length=list(map(lambda a:len(a),s1))\n",
    "print(length)"
   ]
  },
  {
   "cell_type": "code",
   "execution_count": 56,
   "id": "28cd469f-2864-4a5a-a5f2-4268eab24535",
   "metadata": {},
   "outputs": [
    {
     "name": "stdout",
     "output_type": "stream",
     "text": [
      "[1, 9, 25, 49, 81]\n",
      "[4, 9, 36, 64, 100]\n"
     ]
    }
   ],
   "source": [
    "#How can you use the `map()` function to apply a custom function to elements of multiple lists simultaneously in Python?\n",
    "lst=[1,3,5,7,9]\n",
    "lst1=[2,3,6,8,10]\n",
    "squares1=list(map(lambda a:a**2 ,lst))\n",
    "squares2=list(map(lambda a:a**2 ,lst1))\n",
    "print(squares1)\n",
    "print(squares2)"
   ]
  },
  {
   "cell_type": "code",
   "execution_count": 74,
   "id": "18f03498-4e5e-48bf-8ffc-c026c2da4b2c",
   "metadata": {},
   "outputs": [
    {
     "name": "stdout",
     "output_type": "stream",
     "text": [
      "temperatures in fahrenheit : [86.0, 95.0, 109.4, 113.0, 122.0]\n"
     ]
    }
   ],
   "source": [
    "#Create a Python program that uses `map()` to convert a list of temperatures from Celsius to Fahrenheit.\n",
    "a=[30,35,43,45,50]\n",
    "fahrenheit=list(map(lambda a:9/5*a+32,a))\n",
    "print(\"temperatures in fahrenheit :\",fahrenheit )"
   ]
  },
  {
   "cell_type": "code",
   "execution_count": 75,
   "id": "c3a9f766-1fc5-4939-9e27-67c660a15329",
   "metadata": {},
   "outputs": [
    {
     "name": "stdout",
     "output_type": "stream",
     "text": [
      "[10, 12, 13, 9, 1]\n"
     ]
    }
   ],
   "source": [
    "#Write a Python program that uses the `map()` function to round each element of a list of floating-point numbers to the nearest integer.\n",
    "a=[10.5,12.3,13.5,9.5,1.3]\n",
    "integers=list(map(lambda a:int(a),a))\n",
    "print(integers)"
   ]
  },
  {
   "cell_type": "code",
   "execution_count": 28,
   "id": "5d159576-27a5-4ed2-beef-d58cfe61dd1e",
   "metadata": {},
   "outputs": [
    {
     "name": "stdout",
     "output_type": "stream",
     "text": [
      "product of all elements in a list: 120\n"
     ]
    }
   ],
   "source": [
    "                                                                '''Reduce :-'''\n",
    "\n",
    "#What is the `reduce()` function in Python, and what module should you import to use it? Provide an example of its basic usage.\n",
    "'''Reduce is a function used to do compact calculations basically many to one ex:product , conactionation, sum of numbers ...\n",
    "from functools we need to import reduce'''\n",
    "lst=[1,2,3,4,5]\n",
    "from functools import reduce\n",
    "product=reduce (lambda a,b : a*b,lst)\n",
    "print(\"product of all elements in a list:\",product)"
   ]
  },
  {
   "cell_type": "code",
   "execution_count": 4,
   "id": "d80cb8c5-41f1-47f9-bdad-cbc261ec03c2",
   "metadata": {},
   "outputs": [
    {
     "name": "stdout",
     "output_type": "stream",
     "text": [
      "product of all elements in a list: 120\n"
     ]
    }
   ],
   "source": [
    "#Write a Python program that uses the `reduce()` function to find the product of all elements in a list.\n",
    "lst=[1,2,3,4,5]\n",
    "from functools import reduce\n",
    "product=reduce (lambda a,b : a*b,lst)\n",
    "print(\"product of all elements in a list:\",product)"
   ]
  },
  {
   "cell_type": "code",
   "execution_count": 10,
   "id": "f96518c9-4e33-41c1-8445-1ff3b2bd49dc",
   "metadata": {},
   "outputs": [
    {
     "name": "stdout",
     "output_type": "stream",
     "text": [
      "maximum element in a list: 5\n"
     ]
    }
   ],
   "source": [
    "#Create a Python program that uses `reduce()` to find the maximum element in a list of numbers.\n",
    "lst=[1,2,3,4,5]\n",
    "from functools import reduce\n",
    "max=reduce (lambda a,b :a if a>b else b,lst)\n",
    "print(\"maximum element in a list:\",max)"
   ]
  },
  {
   "cell_type": "code",
   "execution_count": 26,
   "id": "b5c8ba1c-76d8-40cd-9f7e-c0a2c9ffc45b",
   "metadata": {},
   "outputs": [
    {
     "name": "stdout",
     "output_type": "stream",
     "text": [
      "umaiza and umaira are superstars\n"
     ]
    }
   ],
   "source": [
    "#How can you use the `reduce()` function to concatenate a list of strings into a single string?\n",
    "string=['umaiza','and','umaira','are','superstars']\n",
    "single_string=reduce(lambda a,b:a+' '+b, string)\n",
    "print(single_string)"
   ]
  },
  {
   "cell_type": "code",
   "execution_count": 35,
   "id": "082aca1a-d9cd-4f93-8daf-1e72a7150406",
   "metadata": {},
   "outputs": [
    {
     "name": "stdin",
     "output_type": "stream",
     "text": [
      "enter the number:  5\n"
     ]
    },
    {
     "name": "stdout",
     "output_type": "stream",
     "text": [
      "the factorial of entered number : 120\n"
     ]
    }
   ],
   "source": [
    "#Write a Python program that calculates the factorial of a number using the `reduce()` function.\n",
    "n=int(input(\"enter the number: \"))\n",
    "n1=range(1,n+1)\n",
    "factorial=reduce(lambda a,b :a*b ,n1)\n",
    "print(\"the factorial of entered number :\",factorial)"
   ]
  },
  {
   "cell_type": "code",
   "execution_count": 42,
   "id": "b1bc8991-d8d6-4ade-95dc-9c0b4c490bc9",
   "metadata": {},
   "outputs": [
    {
     "name": "stdout",
     "output_type": "stream",
     "text": [
      "The GCD of the numbers is: 6\n"
     ]
    }
   ],
   "source": [
    "#Create a Python program that uses `reduce()` to find the GCD (Greatest Common Divisor) of a list of numbers.\n",
    "from functools import reduce\n",
    "import math\n",
    "def gcd(a, b):\n",
    "    while b:\n",
    "        a, b = b, a % b\n",
    "    return a\n",
    "\n",
    "numbers = [12, 18, 24, 36, 48]\n",
    "result = reduce(gcd, numbers)\n",
    "print(f\"The GCD of the numbers is: {result}\")\n"
   ]
  },
  {
   "cell_type": "code",
   "execution_count": 68,
   "id": "3262b958-63c6-4bda-ae55-f17b7606cec4",
   "metadata": {},
   "outputs": [
    {
     "name": "stdin",
     "output_type": "stream",
     "text": [
      "enter the number:  66\n"
     ]
    },
    {
     "name": "stdout",
     "output_type": "stream",
     "text": [
      "sum of digits of entered number : 12\n"
     ]
    }
   ],
   "source": [
    "#Write a Python program that uses the `reduce()` function to find the sum of the digits of a given number.\n",
    "n=int(input(\"enter the number: \"))\n",
    "n1=str(n)\n",
    "n2=(list(n1))\n",
    "n3=[]\n",
    "for i in n2:\n",
    "    i=int(i)\n",
    "    n3.append(i)\n",
    "sumofdigits=reduce(lambda a,b:a+b,n3)\n",
    "print(\"sum of digits of entered number :\",sumofdigits)"
   ]
  },
  {
   "cell_type": "code",
   "execution_count": 71,
   "id": "e04ae801-f566-45a1-a697-a933d70900d0",
   "metadata": {},
   "outputs": [
    {
     "name": "stdout",
     "output_type": "stream",
     "text": [
      "[2, 4, 6, 8, 10]\n"
     ]
    }
   ],
   "source": [
    "                                                '''Filter :-'''\n",
    "#Explain the purpose of the `filter()` function in Python and provide an example of how it can be used to filter elements from an iterable.\n",
    "'''filter function is similar to map() and is used filter data from list or any group of data based on condition'''\n",
    "lst=[1,2,3,4,5,6,7,8,9,10]\n",
    "even_numbers= list(filter(lambda a : a%2==0,lst))\n",
    "print(even_numbers)"
   ]
  },
  {
   "cell_type": "code",
   "execution_count": 72,
   "id": "2fd9d13b-f954-4aa0-8f3b-ee2556c51434",
   "metadata": {},
   "outputs": [
    {
     "name": "stdout",
     "output_type": "stream",
     "text": [
      "[2, 4, 6, 8, 10]\n"
     ]
    }
   ],
   "source": [
    "#Write a Python program that uses the `filter()` function to select even numbers from a list of integers.\n",
    "lst=[1,2,3,4,5,6,7,8,9,10]\n",
    "even_numbers= list(filter(lambda a : a%2==0,lst))\n",
    "print(even_numbers)"
   ]
  },
  {
   "cell_type": "code",
   "execution_count": 79,
   "id": "0b614a3c-ad15-4a31-bb8a-77f1c7c7abc4",
   "metadata": {},
   "outputs": [
    {
     "name": "stdout",
     "output_type": "stream",
     "text": [
      "['Umaiza', 'Umaira']\n"
     ]
    }
   ],
   "source": [
    "#Create a Python program that uses the `filter()` function to select names that start with a specific letter from a list of strings.\n",
    "lst1=['Umaiza','Umaira','haniya','nadiya']\n",
    "names_startswithu =list(filter(lambda a:a[0]=='U',lst1))\n",
    "print(names_startswithu)"
   ]
  },
  {
   "cell_type": "code",
   "execution_count": 32,
   "id": "e36f7660-571f-4a77-bb21-f5ce53bb90ac",
   "metadata": {},
   "outputs": [
    {
     "name": "stdout",
     "output_type": "stream",
     "text": [
      "[2, 3, 4, 6, 8, 9, 10]\n"
     ]
    }
   ],
   "source": [
    "#Write a Python program that uses the `filter()` function to select prime numbers from a list of integers.\n",
    "lst=[1,2,3,4,5,6,7,8,9,10]\n",
    "prime_numbers= list(filter(lambda a :a if  a%2==0 or a%3==0 else 0,lst))\n",
    "print(prime_numbers)"
   ]
  },
  {
   "cell_type": "code",
   "execution_count": 36,
   "id": "6cebfc0d-15d6-4bc7-8354-6d06597e3ba3",
   "metadata": {},
   "outputs": [
    {
     "name": "stdout",
     "output_type": "stream",
     "text": [
      "[1, 2, 4]\n"
     ]
    }
   ],
   "source": [
    "#How can you use the `filter()` function to remove None values from a list in Python?\n",
    "lst=[1,None,2,4,None]\n",
    "new_lst=list(filter(lambda a:a is not None,lst))\n",
    "print(new_lst)"
   ]
  },
  {
   "cell_type": "code",
   "execution_count": 89,
   "id": "2ee650f2-1a5a-45fd-b4b3-681b9fddec50",
   "metadata": {},
   "outputs": [
    {
     "name": "stdout",
     "output_type": "stream",
     "text": [
      "the words longer than length of 4 : ['afiya', 'umaiza', 'umaira']\n"
     ]
    }
   ],
   "source": [
    "#Create a Python program that uses `filter()` to select words longer than a certain length from a list of strings.\n",
    "s=['ubed','afiya','umaiza','umaira']\n",
    "words=list(filter(lambda a :len(a)>4,s))\n",
    "print(\"the words longer than length of 4 :\",words)"
   ]
  },
  {
   "cell_type": "code",
   "execution_count": 94,
   "id": "9f00a977-27b2-408f-a247-3e6e8024bba1",
   "metadata": {},
   "outputs": [
    {
     "name": "stdout",
     "output_type": "stream",
     "text": [
      "the values greater than 10000 : [202301, 1020301]\n"
     ]
    }
   ],
   "source": [
    "#Write a Python program that uses the `filter()` function to select elements greater than a specified threshold from a list of values.\n",
    "values=[123,1123,202301,1020301]\n",
    "required_values=list(filter(lambda a :a>10000,values))\n",
    "print(\"the values greater than 10000 :\",required_values)"
   ]
  },
  {
   "cell_type": "code",
   "execution_count": null,
   "id": "6182bcb9-f7be-4a63-b2f0-cf8d02b6e97a",
   "metadata": {},
   "outputs": [],
   "source": [
    "                                                     '''Recursion:-'''\n",
    "\n",
    "#Explain the concept of recursion in Python. How does it differ from iteration?\n",
    "'''Recursion and iteration are two fundamental concepts in programming used for solving repetitive tasks. \n",
    "They both involve repetition, but they approach it differently. \n",
    "Let's explore the concept of recursion in Python and how it differs from iteration:\n",
    "\n",
    "**Recursion:**\n",
    "Recursion is a programming technique where a function calls itself in order to solve a problem. \n",
    "In a recursive function, the problem is divided into smaller, similar subproblems,\n",
    "and the function is called recursively on those subproblems until a base case is reached, \n",
    "which defines the stopping condition. Recursion relies on breaking a problem down into smaller instances of the same problem and \n",
    "gradually solving them.\n",
    "\n",
    "Key characteristics of recursion:\n",
    "1. Recursive functions call themselves.\n",
    "2. Recursion uses a base case to terminate the recursive calls.\n",
    "3. Each recursive call works on a smaller or simpler part of the problem.\n",
    "4. Recursion can make code more elegant and concise for certain problems.\n",
    "\n",
    "**Iteration:**\n",
    "Iteration, on the other hand, is a control flow structure that repeatedly executes a block of code until a certain condition is met. \n",
    "It is typically achieved using loops such as `for` loops and `while` loops. \n",
    "In iteration, you explicitly control the flow of execution with loops and iterate over data structures like lists, arrays, or ranges.\n",
    "\n",
    "Key characteristics of iteration:\n",
    "1. Iteration uses loop constructs like `for` and `while` to repeat a block of code.\n",
    "2. Iteration is often used when you have a known number of repetitions or when you need to process elements in a collection.\n",
    "3. It may involve maintaining loop counters and controlling loop exit conditions explicitly.\n",
    "\n",
    "**Differences between Recursion and Iteration:**\n",
    "\n",
    "1. **Control Flow:**\n",
    "   - Recursion uses a function's own call stack to manage the control flow, and it relies on function calls to repeat the process.\n",
    "   - Iteration uses loop constructs (e.g., `for`, `while`) to explicitly control the flow of execution.\n",
    "\n",
    "2. **Termination:**\n",
    "   - Recursion relies on a base case to terminate the recursive calls.\n",
    "   - Iteration relies on loop exit conditions.\n",
    "\n",
    "3. **State Management:**\n",
    "   - In recursion, each recursive call can have its own set of local variables and state.\n",
    "   - In iteration, you typically manage state using loop variables explicitly.\n",
    "\n",
    "4. **Memory Usage:**\n",
    "   - Recursion can lead to a larger memory overhead due to the call stack.\n",
    "   - Iteration usually has a smaller memory footprint because it doesn't involve function call overhead.\n",
    "\n",
    "5. **Readability and Use Cases:**\n",
    "   - Recursion can be more elegant and concise for certain problems, \n",
    "       especially those that naturally have a recursive structure (e.g., tree traversal, recursive algorithms).\n",
    "   - Iteration is often more suitable for problems with a known, \n",
    "    fixed number of repetitions or when working with data structures that lend themselves to iteration (e.g., lists, arrays).\n",
    "\n",
    "In summary, recursion and iteration are both techniques for repetition in programming,\n",
    "but they differ in terms of control flow, termination conditions, state management, memory usage,\n",
    "and suitability for different types of problems. \n",
    "The choice between recursion and iteration depends on the specific problem and coding style preferences.'''\n"
   ]
  },
  {
   "cell_type": "code",
   "execution_count": 7,
   "id": "f502a35a-eb4c-4fe6-897d-d5de23b25f77",
   "metadata": {},
   "outputs": [
    {
     "name": "stdout",
     "output_type": "stream",
     "text": [
      "factorial of given number: 720\n"
     ]
    }
   ],
   "source": [
    "#Write a Python program to calculate the factorial of a number using recursion.\n",
    "def factorial(n):\n",
    "    if n<=1:\n",
    "        return 1\n",
    "    else:\n",
    "        return n*factorial(n-1)\n",
    "n=6\n",
    "print(\"factorial of given number:\",factorial(n))"
   ]
  },
  {
   "cell_type": "code",
   "execution_count": 7,
   "id": "c6e05491-2a9f-437a-beb6-00e97cc0933e",
   "metadata": {},
   "outputs": [
    {
     "name": "stdout",
     "output_type": "stream",
     "text": [
      "21\n"
     ]
    }
   ],
   "source": [
    "#Create a recursive Python function to find the nth Fibonacci number.\n",
    "def febi(n):\n",
    "    if n<=1:\n",
    "        return n\n",
    "    else:\n",
    "        return febi(n-1)+febi(n-2)\n",
    "n=8\n",
    "print(febi(n))"
   ]
  },
  {
   "cell_type": "code",
   "execution_count": 11,
   "id": "3c71af46-baf7-4371-9314-3a4bfddc0b03",
   "metadata": {},
   "outputs": [
    {
     "name": "stdout",
     "output_type": "stream",
     "text": [
      "21\n"
     ]
    }
   ],
   "source": [
    "#Write a recursive Python function to calculate the sum of all elements in a list.\n",
    "l8=[1,2,3,4,5,6]\n",
    "def sumofelements(l8):\n",
    "    if l8==[]:\n",
    "        return 0\n",
    "    else:\n",
    "        return l8[0]+sumofelements(l8[1:])\n",
    "print(sumofelements(l8))        "
   ]
  },
  {
   "cell_type": "code",
   "execution_count": null,
   "id": "299ca879-8d80-4c65-9799-f13bacd99da9",
   "metadata": {},
   "outputs": [],
   "source": [
    "#How can you prevent a recursive function from running indefinitely, causing a stack overflow error?\n",
    "'''Preventing a recursive function from running indefinitely and causing a stack overflow error is essential to ensure the stability \n",
    "and reliability of your code. To avoid this situation, \n",
    "you can take several precautions and implement measures to control the recursion depth. \n",
    "Here are some ways to prevent infinite recursion:\n",
    "\n",
    "1. **Define a Base Case:** A base case is a condition that, when met, stops the recursive calls. \n",
    "Ensure that your recursive function has a well-defined and reachable base case. \n",
    "The base case should be the condition under which the function returns a result without making any more recursive calls.\n",
    "\n",
    "   Example:\n",
    "   ```python\n",
    "   def factorial(n):\n",
    "       if n == 0:  # Base case\n",
    "           return 1\n",
    "       else:\n",
    "           return n * factorial(n - 1)\n",
    "   ```\n",
    "\n",
    "2. **Ensure Progress Toward the Base Case:** In each recursive call, make sure that you are moving closer to the base case. \n",
    "For example, if you're working with integers, ensure that the argument passed in each recursive call is smaller than the previous one.\n",
    "\n",
    "   Example:\n",
    "   ```python\n",
    "   def countdown(n):\n",
    "       if n <= 0:  # Base case\n",
    "           return\n",
    "       else:\n",
    "           print(n)\n",
    "           countdown(n - 1)  # Progress toward the base case\n",
    "   ```\n",
    "\n",
    "3. **Limit Recursion Depth:** You can set a maximum recursion depth to prevent the function from going too deep into recursion. \n",
    "You can use Python's `sys.setrecursionlimit()` function to set a limit, \n",
    "but this should be used with caution, as it can lead to unpredictable behavior if exceeded.\n",
    "\n",
    "   Example (use with caution):\n",
    "   ```python\n",
    "   import sys\n",
    "   sys.setrecursionlimit(1000)  # Set a limit (use a reasonable value)\n",
    "   ```\n",
    "\n",
    "4. **Use Iteration for Large Inputs:** If you anticipate large input values that may exceed the recursion limit, \n",
    "consider using iteration instead of recursion for those cases.\n",
    "\n",
    "5. **Test Your Code:** Before using a recursive function in production or with large inputs, \n",
    "thoroughly test it with various input values to ensure it terminates correctly and within a reasonable time frame.\n",
    "\n",
    "6. **Code Reviews and Peer Feedback:** \n",
    "Have your code reviewed by peers who can provide insights into potential issues, including infinite recursion.\n",
    "\n",
    "7. **Profiling and Monitoring:**\n",
    "Use profiling tools and monitoring to detect and address performance bottlenecks and potential infinite recursion during development and testing.\n",
    "\n",
    "Remember that recursion is a powerful and elegant technique, \n",
    "but it should be used judiciously, and you should always \n",
    "ensure that your recursive functions have well-defined termination conditions to avoid stack overflow errors and infinite recursion.'''\n"
   ]
  },
  {
   "cell_type": "code",
   "execution_count": 41,
   "id": "9b0a3f6a-5e94-4e4d-810b-8bf7c8481b54",
   "metadata": {},
   "outputs": [
    {
     "name": "stdout",
     "output_type": "stream",
     "text": [
      "The GCD of 48 and 18 is 6\n"
     ]
    }
   ],
   "source": [
    "#Create a recursive Python function to find the greatest common divisor (GCD) of two numbers using the Euclidean algorithm.\n",
    "def euclidean_gcd(a, b):\n",
    "    if b == 0:\n",
    "        return a\n",
    "    else:\n",
    "        return euclidean_gcd(b, a % b)\n",
    "\n",
    "# Example usage:\n",
    "num1 = 48\n",
    "num2 = 18\n",
    "gcd = euclidean_gcd(num1, num2)\n",
    "print(f\"The GCD of {num1} and {num2} is {gcd}\")\n"
   ]
  },
  {
   "cell_type": "code",
   "execution_count": 2,
   "id": "8543dfe0-3652-41fc-8ee4-ed1665f831c5",
   "metadata": {},
   "outputs": [
    {
     "name": "stdout",
     "output_type": "stream",
     "text": [
      "debu\n"
     ]
    }
   ],
   "source": [
    "#Write a recursive Python function to reverse a string.\n",
    "s='ubed'\n",
    "def reverse_string(s):\n",
    "    if s=='':\n",
    "        return ''\n",
    "    else:\n",
    "        return reverse_string(s[1:])+s[0]\n",
    "print(reverse_string(s))"
   ]
  },
  {
   "cell_type": "code",
   "execution_count": 33,
   "id": "2f4f3088-eb92-4ade-86bd-b4acd51dbab6",
   "metadata": {},
   "outputs": [
    {
     "data": {
      "text/plain": [
       "25"
      ]
     },
     "execution_count": 33,
     "metadata": {},
     "output_type": "execute_result"
    }
   ],
   "source": [
    "#Create a recursive Python function to calculate the power of a number (x^n).\n",
    "def power(n,k):\n",
    "    if k==0:\n",
    "        return 1\n",
    "    else:\n",
    "        return n*power(n,k-1)\n",
    "power(5,2)        \n",
    "      "
   ]
  },
  {
   "cell_type": "code",
   "execution_count": 40,
   "id": "4e3acdde-e575-4d91-9fe3-ba5c7f522947",
   "metadata": {},
   "outputs": [
    {
     "name": "stdout",
     "output_type": "stream",
     "text": [
      "luv\n",
      "lvu\n",
      "ulv\n",
      "uvl\n",
      "vlu\n",
      "vul\n"
     ]
    }
   ],
   "source": [
    "#Write a recursive Python function to find all permutations of a given string.\n",
    "def generate_permutations(input_str, current_permutation=\"\"):\n",
    " \n",
    "    if len(input_str) == 0:\n",
    "        print(current_permutation)\n",
    "        return\n",
    "\n",
    "    for i in range(len(input_str)):\n",
    "        next_char = input_str[i]\n",
    "        remaining_chars = input_str[:i] + input_str[i+1:]\n",
    "        generate_permutations(remaining_chars, current_permutation + next_char)\n",
    "\n",
    "# Example usage:\n",
    "input_string = \"luv\"\n",
    "generate_permutations(input_string)\n"
   ]
  },
  {
   "cell_type": "code",
   "execution_count": 38,
   "id": "196e6266-5d1b-444a-92e5-e4e92cc5cdb1",
   "metadata": {},
   "outputs": [
    {
     "data": {
      "text/plain": [
       "'it is palinfrome'"
      ]
     },
     "execution_count": 38,
     "metadata": {},
     "output_type": "execute_result"
    }
   ],
   "source": [
    "#Write a recursive Python function to check if a string is a palindrome.\n",
    "def palindrome_check(s):\n",
    "    if s==s[::-1]:\n",
    "        return \"it is palinfrome\"\n",
    "    else:\n",
    "        return \"not palindrome\"\n",
    "        \n",
    "palindrome_check('mom')"
   ]
  },
  {
   "cell_type": "code",
   "execution_count": null,
   "id": "c8517987-0fc9-4f8f-bb44-1f3a06babd1a",
   "metadata": {},
   "outputs": [],
   "source": [
    "def palindrome_check(s):\n",
    "    if s == []:\n",
    "        return 'empty string'\n",
    "    elif len(s)==1:\n",
    "        return s\n",
    "    else:\n",
    "        return "
   ]
  },
  {
   "cell_type": "code",
   "execution_count": 37,
   "id": "085b6429-d564-4a28-ba8d-fe3fac72996b",
   "metadata": {},
   "outputs": [
    {
     "name": "stdout",
     "output_type": "stream",
     "text": [
      "['u', 'b', 'e', 'd']\n",
      "['u', 'b', 'e']\n",
      "['u', 'b', 'd']\n",
      "['u', 'b']\n",
      "['u', 'e', 'd']\n",
      "['u', 'e']\n",
      "['u', 'd']\n",
      "['u']\n",
      "['b', 'e', 'd']\n",
      "['b', 'e']\n",
      "['b', 'd']\n",
      "['b']\n",
      "['e', 'd']\n",
      "['e']\n",
      "['d']\n",
      "[]\n"
     ]
    }
   ],
   "source": [
    "#Create a recursive Python function to generate all possible combinations of a list of elements.\n",
    "\n",
    "def generate_combinations(elements, combo=[], index=0):\n",
    "    if index == len(elements):\n",
    "        print(combo)\n",
    "        return\n",
    "\n",
    "    combo.append(elements[index])\n",
    "    generate_combinations(elements, combo, index + 1)\n",
    "\n",
    "    combo.pop() \n",
    "    generate_combinations(elements, combo, index + 1)\n",
    "\n",
    "elements = ['u','b','e','d']\n",
    "generate_combinations(elements)\n",
    "\n"
   ]
  },
  {
   "cell_type": "code",
   "execution_count": null,
   "id": "2ae7275e-b47c-48f6-a3a2-0a652ddb44d0",
   "metadata": {},
   "outputs": [],
   "source": [
    "                                              '''Basics of Functions:'''\n",
    "\n",
    "#What is a function in Python, and why is it used?\n",
    "'''In Python, a function is a reusable block of code that performs a specific task or set of tasks. \n",
    "Functions are a fundamental concept in programming and serve several purposes:\n",
    "\n",
    "Modularity: Functions allow you to break down a program into smaller, more manageable pieces. \n",
    "Each function can perform a specific task, making your code easier to understand and maintain. \n",
    "This modularity also promotes code reusability.\n",
    "\n",
    "Abstraction: Functions can encapsulate complex logic or algorithms behind a simple interface. \n",
    "This abstraction allows you to use functions without needing to know the details of how they work internally. \n",
    "This separation of concerns makes code more maintainable and readable.\n",
    "\n",
    "Code Reusability: \n",
    "Once you define a function, you can call it multiple times from different parts of your program. \n",
    "This saves you from duplicating code and reduces the chance of introducing errors when making changes.\n",
    "\n",
    "Parameterization: Functions can accept input parameters (arguments) that allow you to customize their behavior. \n",
    "This parameterization makes functions versatile and adaptable to different scenarios.\n",
    "\n",
    "Return Values: Functions can return values, allowing them to produce results or data that can be used elsewhere in your program.'''\n"
   ]
  },
  {
   "cell_type": "code",
   "execution_count": 20,
   "id": "b912a00e-66c7-4266-8c6d-5e98bb9aadd2",
   "metadata": {},
   "outputs": [
    {
     "data": {
      "text/plain": [
       "'ubed'"
      ]
     },
     "execution_count": 20,
     "metadata": {},
     "output_type": "execute_result"
    }
   ],
   "source": [
    "#How do you define a function in Python? Provide an example.\n",
    "def function():\n",
    "    return 'ubed'\n",
    "function()"
   ]
  },
  {
   "cell_type": "code",
   "execution_count": null,
   "id": "4df49a9b-57e2-4f16-8c2f-6e87f8d0d251",
   "metadata": {},
   "outputs": [],
   "source": [
    "#Explain the difference between a function definition and a function call.\n",
    "'''function defination:\n",
    "we are defining function to perform certain task.\n",
    "function call:\n",
    "we need to call the function to get o/p'''"
   ]
  },
  {
   "cell_type": "code",
   "execution_count": 23,
   "id": "6b83a9d5-c0e1-4c94-803a-781883c5d690",
   "metadata": {},
   "outputs": [
    {
     "data": {
      "text/plain": [
       "30"
      ]
     },
     "execution_count": 23,
     "metadata": {},
     "output_type": "execute_result"
    }
   ],
   "source": [
    "#Write a Python program that defines a function to calculate the sum of two numbers and then calls the function.\n",
    "def sum(a,b):\n",
    "   sum= a+b   \n",
    "   return sum\n",
    "sum(10,20)   "
   ]
  },
  {
   "cell_type": "code",
   "execution_count": null,
   "id": "54b32212-0835-4f99-98f3-c1693f696c68",
   "metadata": {},
   "outputs": [],
   "source": [
    "#What is a function signature, and what information does it typically include?\n",
    "''' \n",
    "A function signature is a part of a function's declaration or definition that provides essential information about the function's interface, \n",
    "such as its name, parameters, and return type. \n",
    "It serves as a concise summary of how to use the function and what to expect from it. \n",
    "The function signature typically includes the following information:\n",
    "\n",
    "Function Name: \n",
    "The name of the function, which is used to call the function later in the code. \n",
    "It should be meaningful and follow naming conventions (e.g., lowercase with underscores or CamelCase).\n",
    "\n",
    "Parameters: \n",
    "The list of input parameters or arguments that the function accepts. For each parameter, \n",
    "the signature specifies its name and data type. It may also include information about whether the parameter is required or has default values.\n",
    "\n",
    "Return Type: \n",
    "The data type of the value that the function returns. \n",
    "If a function does not return a value (i.e., it has a \"void\" return type), this is typically indicated in the signature.\n",
    "\n",
    "Function Documentation/Description:\n",
    "Optionally, the function signature may include a brief description or documentation \n",
    "comment that explains the purpose of the function, its behavior, and usage instructions. \n",
    "This helps developers understand how to use the function correctly. '''"
   ]
  },
  {
   "cell_type": "code",
   "execution_count": 22,
   "id": "31fc5ebd-d50c-4c1b-a4c3-74a233ece3e1",
   "metadata": {},
   "outputs": [
    {
     "data": {
      "text/plain": [
       "200"
      ]
     },
     "execution_count": 22,
     "metadata": {},
     "output_type": "execute_result"
    }
   ],
   "source": [
    "#Create a Python function that takes two arguments and returns their product.\n",
    "def product(a,b):\n",
    "    prod=a*b\n",
    "    return prod\n",
    "product(10,20)    "
   ]
  },
  {
   "cell_type": "code",
   "execution_count": null,
   "id": "30eca31c-7173-417f-b8f5-a0e44a175c82",
   "metadata": {},
   "outputs": [],
   "source": [
    "'''Function Parameters and Arguments:'''\n",
    "\n",
    "#Explain the concepts of formal parameters and actual arguments in Python functions.\n",
    "''' In Python, **formal parameters** and **actual arguments** are two important concepts related to function definitions and function calls.\n",
    "\n",
    "- **Formal parameters** are the parameters specified during the definition of a function.\n",
    "They act as placeholders for the values that will be passed to the function when it is called. For example, consider the following function definition:\n",
    "\n",
    "```python\n",
    "def sum(a, b):\n",
    "    return a + b\n",
    "```\n",
    "\n",
    "In this code snippet, `a` and `b` are formal parameters.\n",
    "\n",
    "- **Actual arguments** are the values or data that are passed to a function during its invocation or call²⁴. \n",
    "They correspond to the formal parameters defined in the function. For instance, consider the following function call:\n",
    "\n",
    "```python\n",
    "sum(3, 5)\n",
    "```\n",
    "\n",
    "Here, `3` and `5` are actual arguments.\n",
    "\n",
    "To summarize, formal parameters are placeholders defined in a function's definition, \n",
    "while actual arguments are the values passed to a function during its invocation.'''\n",
    "\n"
   ]
  },
  {
   "cell_type": "code",
   "execution_count": 47,
   "id": "91bc76f0-5147-4f38-b1f3-b41e0295ff71",
   "metadata": {},
   "outputs": [
    {
     "data": {
      "text/plain": [
       "30"
      ]
     },
     "execution_count": 47,
     "metadata": {},
     "output_type": "execute_result"
    }
   ],
   "source": [
    "#Write a Python program that defines a function with default argument values.\n",
    "def sum(a=10,b=20):\n",
    "     return a+b\n",
    "sum(a=10,b=20)"
   ]
  },
  {
   "cell_type": "code",
   "execution_count": 29,
   "id": "d8e039ae-9f0b-4ea0-8b64-a95add0a7ca2",
   "metadata": {},
   "outputs": [
    {
     "data": {
      "text/plain": [
       "{'a': 1, 'b': 2, 'c': 3}"
      ]
     },
     "execution_count": 29,
     "metadata": {},
     "output_type": "execute_result"
    }
   ],
   "source": [
    "#How do you use keyword arguments in Python function calls? Provide an example.\n",
    "def test(**keys):\n",
    "    return keys\n",
    "test(a=1,b=2,c=3)"
   ]
  },
  {
   "cell_type": "code",
   "execution_count": 26,
   "id": "ae53e280-f426-4a6f-87fb-45146164b5ce",
   "metadata": {},
   "outputs": [
    {
     "name": "stdout",
     "output_type": "stream",
     "text": [
      "the sum of numbers 54\n"
     ]
    }
   ],
   "source": [
    "#Create a Python function that accepts a variable number of arguments and calculates their sum.\n",
    "def sum(*ubed):\n",
    "    a=0\n",
    "    for i in ubed:\n",
    "        a+=i\n",
    "    return a  \n",
    "sum(2,3,4,5,6,7,8,9,10)\n",
    "print(\"the sum of numbers\",sum(2,3,4,5,6,7,8,9,10))"
   ]
  },
  {
   "cell_type": "code",
   "execution_count": null,
   "id": "84e0ad94-9397-4ce0-bc4c-fd0c1d4f060d",
   "metadata": {},
   "outputs": [],
   "source": [
    "#What is the purpose of the `*args` and `**kwargs` syntax in function parameter lists?\n",
    "'''*args is used pass any number of arguments for a function and **kwargs is used to prs ass any number of arguments in a key-value pairs'''\n",
    "\n"
   ]
  },
  {
   "cell_type": "code",
   "execution_count": 3,
   "id": "9fdb062a-274e-40a7-a847-aabdae1d1c25",
   "metadata": {},
   "outputs": [
    {
     "data": {
      "text/plain": [
       "11"
      ]
     },
     "execution_count": 3,
     "metadata": {},
     "output_type": "execute_result"
    }
   ],
   "source": [
    "'''Return Values and Scoping:'''\n",
    "\n",
    "#Describe the role of the `return` statement in Python functions and provide examples.\n",
    "'''return will return the data as it is where as print will return the data of nulltype, with help of return we can reuse or recall the function'''\n",
    "def add():\n",
    "    return 2+3\n",
    "    \n",
    "add()+6"
   ]
  },
  {
   "cell_type": "code",
   "execution_count": null,
   "id": "3f878de3-9953-4495-942d-896f875ffcd9",
   "metadata": {},
   "outputs": [],
   "source": [
    "#Explain the concept of variable scope in Python, including local and global variables.\n",
    "''' In Python, **variable scope** refers to the region of a program where a variable can be accessed. \n",
    "There are three types of variable scopes: **local**, **global**, and **nonlocal**².\n",
    "\n",
    "- **Local scope**: \n",
    "A variable created inside a function belongs to the local scope of that function and can only be used within that function¹. \n",
    "For example, consider the following code snippet:\n",
    "```python\n",
    "def myfunc():\n",
    "    x = 300\n",
    "    print(x)\n",
    "\n",
    "myfunc()\n",
    "```\n",
    "Here, `x` is a local variable and is only accessible within the `myfunc()` function.\n",
    "\n",
    "- **Global scope**: A variable created outside of any function is considered a global variable and can be accessed from anywhere in the code¹. \n",
    "For instance:\n",
    "```python\n",
    "x = 300\n",
    "\n",
    "def myfunc():\n",
    "    print(x)\n",
    "\n",
    "myfunc()\n",
    "print(x)\n",
    "```\n",
    "In this example, `x` is a global variable that can be accessed both inside and outside the `myfunc()` function.\n",
    "\n",
    "- **Nonlocal scope**: \n",
    "A nonlocal variable is used in nested functions to access variables from the nearest enclosing scope that is not global². \n",
    "It allows you to modify variables in an outer (but non-global) scope. However, it does not create a new variable².\n",
    "\n",
    "To summarize, local variables are confined to their respective functions, global variables are accessible throughout the code, \n",
    "and nonlocal variables are used to access variables from an outer (but non-global) scope².\n",
    "\n"
   ]
  },
  {
   "cell_type": "code",
   "execution_count": 9,
   "id": "b7e2c527-ebbb-4b54-8c21-35391dcd55f7",
   "metadata": {},
   "outputs": [
    {
     "name": "stdout",
     "output_type": "stream",
     "text": [
      "300\n",
      "300\n"
     ]
    }
   ],
   "source": [
    "#Write a Python program that demonstrates the use of global variables within functions.\n",
    "x = 300\n",
    "\n",
    "def myfunc():\n",
    "    print(x)\n",
    "myfunc()   \n",
    "print(x)"
   ]
  },
  {
   "cell_type": "code",
   "execution_count": 1,
   "id": "f2dee1fb-6d7e-48a3-b790-9d3f2056edf0",
   "metadata": {},
   "outputs": [
    {
     "name": "stdout",
     "output_type": "stream",
     "text": [
      "120\n"
     ]
    }
   ],
   "source": [
    "#Create a Python function that calculates the factorial of a number and returns it.\n",
    "def factorial(n):\n",
    "    if n<=1:\n",
    "        return n\n",
    "    else:\n",
    "        return n*factorial(n-1)\n",
    "n=5\n",
    "print(factorial(n))"
   ]
  },
  {
   "cell_type": "code",
   "execution_count": 11,
   "id": "45de6970-2859-4166-b046-8c522163150c",
   "metadata": {},
   "outputs": [
    {
     "name": "stdout",
     "output_type": "stream",
     "text": [
      "300\n"
     ]
    }
   ],
   "source": [
    "#How can you access variables defined outside a function from within the function?\n",
    "\n",
    "x = 300\n",
    "\n",
    "def myfunc():\n",
    "    global x\n",
    "    print(x)\n",
    "\n",
    "myfunc()\n"
   ]
  },
  {
   "cell_type": "code",
   "execution_count": 31,
   "id": "cc4233bb-e994-4758-8b9b-aedcf63dfdbc",
   "metadata": {},
   "outputs": [
    {
     "data": {
      "text/plain": [
       "9"
      ]
     },
     "execution_count": 31,
     "metadata": {},
     "output_type": "execute_result"
    }
   ],
   "source": [
    "'''Lambda Functions and Higher-Order Functions:'''\n",
    "\n",
    "#What are lambda functions in Python, and when are they typically used?\n",
    "'''Lamda functions are also known as ananomous functions or noname functions are typically used for wrtting code with few lines'''\n",
    "sum=lambda a,b:a+b\n",
    "sum(4,5)"
   ]
  },
  {
   "cell_type": "code",
   "execution_count": 12,
   "id": "a16d6211-0d0c-49ec-ad6c-cd35d7992381",
   "metadata": {},
   "outputs": [
    {
     "name": "stdout",
     "output_type": "stream",
     "text": [
      "[(1, 2), (3, 4), (4, 5), (10, 100), (20, 200)]\n"
     ]
    }
   ],
   "source": [
    "#Write a Python program that uses lambda functions to sort a list of tuples based on the second element.\n",
    "l=[(20,200),(1,2),(3,4),(4,5),(10,100)]\n",
    "sorted_data = sorted(l, key=lambda x: x[1])\n",
    "print(sorted_data)\n"
   ]
  },
  {
   "cell_type": "code",
   "execution_count": 41,
   "id": "60482db1-1de4-44b8-97f1-699d4bd9eb87",
   "metadata": {},
   "outputs": [
    {
     "name": "stdout",
     "output_type": "stream",
     "text": [
      "9\n",
      "-1\n",
      "20\n"
     ]
    }
   ],
   "source": [
    "#Explain the concept of higher-order functions in Python, and provide an example.\n",
    "'''In Python, a higher-order function is a function that can take one or more functions as arguments, \n",
    "return a function as a result, or both. Essentially, it treats functions as first-class citizens, \n",
    "allowing you to work with functions just like any other data type such as integers, strings, or lists. \n",
    "This concept is a fundamental part of functional programming and is supported in Python.\n",
    "\n",
    "Here's a brief explanation of higher-order functions and an example:\n",
    "\n",
    "Passing Functions as Arguments:\n",
    "Higher-order functions can accept other functions as arguments. \n",
    "This is often used to customize the behavior of a function. F\n",
    "or example, you can pass a function that defines a specific operation to be applied to elements in a list.\n",
    "\n",
    "Returning Functions:\n",
    "Higher-order functions can also return functions as results. This can be useful for creating more specialized or customized functions.'''\n",
    "\n",
    "def perform_operations(operation,x,y):\n",
    "    result=operation(x,y)\n",
    "    return result\n",
    "def add(x,y):\n",
    "    return x+y \n",
    "def subtraction(x,y):\n",
    "    return x-y\n",
    "def multiplication(x,y):\n",
    "    return x*y\n",
    "\n",
    "result1=perform_operations(add,4,5)\n",
    "result2=perform_operations(subtraction,4,5)\n",
    "result3=perform_operations(multiplication,4,5)\n",
    "\n",
    "print(result1)\n",
    "print(result2)\n",
    "print(result3)\n"
   ]
  },
  {
   "cell_type": "code",
   "execution_count": 71,
   "id": "76f08e6c-381e-4fbe-87f2-206177468e9e",
   "metadata": {},
   "outputs": [
    {
     "name": "stdout",
     "output_type": "stream",
     "text": [
      "[1, 9, 25, 49, 81]\n"
     ]
    }
   ],
   "source": [
    "#Create a Python function that takes a list of numbers and a function as arguments, applying the function to each element in the list.\n",
    "\n",
    "def apply_function_to_list(numbers,square):\n",
    "    result=[]\n",
    "    for x in numbers:\n",
    "        result.append(square(x))\n",
    "    return result    \n",
    "\n",
    "def square(x):\n",
    "    return x**2\n",
    "\n",
    "numbers=[1,3,5,7,9]\n",
    "result=apply_function_to_list(numbers,square)\n",
    "print(result)"
   ]
  },
  {
   "cell_type": "code",
   "execution_count": 31,
   "id": "49e89510-4aed-40aa-8089-ac20a5808657",
   "metadata": {},
   "outputs": [
    {
     "name": "stdout",
     "output_type": "stream",
     "text": [
      "the length of list is: 6\n",
      "the max of list is: 100\n",
      "the min of list is: 1\n"
     ]
    }
   ],
   "source": [
    "'''Built-in Functions:'''\n",
    "\n",
    "#Describe the role of built-in functions like `len()`, `max()`, and `min()` in Python.\n",
    "'''len()  used to find length of string,list ,tuple,set,dictnary   \n",
    "max() used to find max of string,list ,tuple,set,dictnary, \n",
    "Min() used to find min of string,list ,tuple,set,dictnary'''\n",
    "\n",
    "l=[1,3,5,7,8,100]\n",
    "len(l)\n",
    "max(l)\n",
    "min(l)\n",
    "print(\"the length of list is:\", len(l))\n",
    "print(\"the max of list is:\", max(l))\n",
    "print(\"the min of list is:\", min(l))"
   ]
  },
  {
   "cell_type": "code",
   "execution_count": 34,
   "id": "3fd62b80-ddee-4c91-a59f-d2f68bfec0c2",
   "metadata": {},
   "outputs": [
    {
     "name": "stdout",
     "output_type": "stream",
     "text": [
      "[1, 9, 25, 49, 81, 121]\n"
     ]
    }
   ],
   "source": [
    "#Write a Python program that uses the `map()` function to apply a function to each element of a list.\n",
    "l=[1,3,5,7,9,11]\n",
    "squares=list(map(lambda a:a**2,l))\n",
    "print(squares)"
   ]
  },
  {
   "cell_type": "code",
   "execution_count": 41,
   "id": "b752deeb-710e-40ca-be07-ab2d9d4edceb",
   "metadata": {},
   "outputs": [
    {
     "name": "stdout",
     "output_type": "stream",
     "text": [
      "[2, 4, 6, 8, 10]\n"
     ]
    }
   ],
   "source": [
    "#How does the `filter()` function work in Python, and when would you use it?\n",
    "'''filter function is similar to map() and is used filter data from list or any group of data based on condition'''\n",
    "lst=[1,2,3,4,5,6,7,8,9,10]\n",
    "even_numbers=list(filter(lambda a:a%2==0,lst))\n",
    "print(even_numbers)"
   ]
  },
  {
   "cell_type": "code",
   "execution_count": 38,
   "id": "04d0e607-6892-43de-b927-80b17dfc57d2",
   "metadata": {},
   "outputs": [
    {
     "name": "stdout",
     "output_type": "stream",
     "text": [
      "10395\n"
     ]
    }
   ],
   "source": [
    "#Create a Python program that uses the `reduce()` function to find the product of all elements in a list.\n",
    "l=[1,3,5,7,9,11]\n",
    "from functools import reduce\n",
    "product=reduce(lambda a,b:a*b,l)\n",
    "print(product)"
   ]
  },
  {
   "cell_type": "code",
   "execution_count": 44,
   "id": "e74f2ac7-e2e0-465e-95b0-2bbbbd1fff06",
   "metadata": {},
   "outputs": [
    {
     "data": {
      "text/plain": [
       "30"
      ]
     },
     "execution_count": 44,
     "metadata": {},
     "output_type": "execute_result"
    }
   ],
   "source": [
    "'''Function Documentation and Best Practices:'''\n",
    "\n",
    "#Explain the purpose of docstrings in Python functions and how to write them.\n",
    "'''Docstrings in Python are string literals that appear right after the definition of a function, method, class, or module. \n",
    "They are used to document code and provide information about the purpose, behavior, and usage of the object they are associated with '''\n",
    "def sum(a,b):\n",
    "    '''sum function takes two arguemnts or varialbles and add them and return the result as sum of two numbers or strings or...'''\n",
    "    return a+b\n",
    "sum(10,20)    "
   ]
  },
  {
   "cell_type": "code",
   "execution_count": null,
   "id": "4e563a13-89c8-4fd2-8ae2-63fe96710083",
   "metadata": {},
   "outputs": [],
   "source": [
    "#Describe some best practices for naming functions and variables in Python, including naming conventions and guidelines\n",
    "'''Naming functions and variables in Python following best practices is essential for writing clean, readable, and maintainable code. \n",
    "Python has established naming conventions and guidelines to help you choose meaningful and consistent names. \n",
    "Here are some best practices for naming functions and variables in Python:\n",
    "\n",
    "1. **Use Descriptive Names**:\n",
    "   - Choose names that clearly describe the purpose and functionality of the variable or function.\n",
    "   - Avoid single-letter variable names (e.g., `x`, `y`, `i`) unless they are used in a well-understood context (e.g., loop counters).\n",
    "\n",
    "2. **Follow PEP 8 Guidelines**:\n",
    "   - PEP 8 is the official Python style guide, and it provides recommendations for naming conventions. \n",
    "    Adhering to PEP 8 makes your code more consistent with the Python community's practices.\n",
    "   - Function names should be lowercase, with words separated by underscores (snake_case). For example: `calculate_average`, `find_max_value`.\n",
    "   - Variable names should also be in lowercase with words separated by underscores. For example: `user_age`, `total_count`.\n",
    "\n",
    "3. **Use Verb-Noun Pairing for Function Names**:\n",
    "   - Start function names with a verb that describes the action the function performs, \n",
    "   followed by a noun that represents the object or data it operates on. \n",
    "    For example: `get_data`, `calculate_average`.\n",
    "\n",
    "4. **Be Consistent**:\n",
    "   - Maintain consistency in your naming conventions throughout your codebase. \n",
    "   If you choose a particular style for function and variable names, stick to it.\n",
    "\n",
    "5. **Avoid Reserved Words**:\n",
    "   - Don't use Python reserved words (e.g., `if`, `while`, `for`, `import`) as variable or function names.\n",
    "\n",
    "6. **Use Meaningful Variable Names**:\n",
    "   - Choose variable names that reflect the content and purpose of the variable. For instance, use `total_students` instead of `t_s`.\n",
    "\n",
    "7. **Avoid Abbreviations Unless Widely Recognized**:\n",
    "   - While shortening variable or function names may save keystrokes, it can reduce code clarity. \n",
    "   Use abbreviations only if they are well-known and widely recognized in the domain.\n",
    "\n",
    "8. **Use Constants in UPPERCASE**:\n",
    "   - If you define constants, use uppercase letters with underscores to distinguish them from regular variables. For example: `MAX_VALUE`, `PI`.\n",
    "\n",
    "9. **Avoid Cryptic or Acronymic Names**:\n",
    "   - Choose names that are self-explanatory and avoid overly cryptic or acronymic names that may be unclear to others reading your code.\n",
    "\n",
    "10. **Use Plural Names for Collections**:\n",
    "    - When naming variables that represent collections (e.g., lists, dictionaries), use plural nouns. For example: `students`, `cars`.\n",
    "\n",
    "11. **Consider the Scope**:\n",
    "    - If a variable has a limited scope (e.g., a loop counter), \n",
    "    it can have a shorter name, like `i`, `j`, `k`. However, for variables with larger scopes, use more descriptive names.\n",
    "\n",
    "12. **Document Non-Obvious Names**:\n",
    "    - If a name is not immediately clear in its purpose, add a comment explaining its role and usage.\n",
    "\n",
    "13. **Avoid Leading or Trailing Underscores**:\n",
    "    - While Python allows names with leading and trailing underscores, \n",
    "    they are often used to indicate special or \"magic\" methods in classes (e.g., `__init__`). \n",
    "    Avoid using them for regular variables and functions.\n",
    "\n",
    "By following these best practices, \n",
    "you can make your Python code more readable, maintainable, and accessible to both yourself \n",
    "and other developers who may work with your code in the future.'''"
   ]
  }
 ],
 "metadata": {
  "kernelspec": {
   "display_name": "Python 3 (ipykernel)",
   "language": "python",
   "name": "python3"
  },
  "language_info": {
   "codemirror_mode": {
    "name": "ipython",
    "version": 3
   },
   "file_extension": ".py",
   "mimetype": "text/x-python",
   "name": "python",
   "nbconvert_exporter": "python",
   "pygments_lexer": "ipython3",
   "version": "3.11.3"
  }
 },
 "nbformat": 4,
 "nbformat_minor": 5
}
