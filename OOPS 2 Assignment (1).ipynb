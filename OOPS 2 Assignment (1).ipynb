{
 "cells": [
  {
   "cell_type": "code",
   "execution_count": null,
   "id": "e9e32197-3a5e-43a5-8b32-5aba8a95cc38",
   "metadata": {},
   "outputs": [],
   "source": [
    "                                             '''Constructor:'''\n",
    "#What is a constructor in Python? Explain its purpose and usage.\n",
    "\n",
    "A constructor is a special method in Python that is called when an object is created. \n",
    "The purpose of a constructor is to initialize the object’s attributes or properties. \n",
    "In Python, the __init__() method is used as a constructor and is called automatically when an object of a class is created.\n",
    "\n",
    "The syntax of a constructor declaration in Python is as follows:\n",
    "\n",
    "class MyClass:\n",
    "    def __init__(self):\n"
   ]
  },
  {
   "cell_type": "code",
   "execution_count": null,
   "id": "614f4a4f-f40a-4d01-b9eb-f96507d6d281",
   "metadata": {},
   "outputs": [],
   "source": [
    "#Differentiate between a parameterless constructor and a parameterized constructor in Python.\n",
    "There are two types of constructors in Python: default constructors and parameterized constructors.\n",
    "\n",
    "A default constructor is a simple constructor that does not accept any arguments. \n",
    "Its definition has only one argument, which is a reference to the instance being constructed . \n",
    "class MyClass:\n",
    "    def __init__(self):\n",
    "        self.my_attribute = 0\n",
    "A parameterized constructor takes one or more arguments and initializes the instance variables with the values passed as arguments.\n",
    "\n",
    "The first argument of the parameterized constructor is always self, which refers to the instance being constructed\n",
    "Here’s an example of a parameterized constructor in Python:\n",
    "\n",
    "class MyClass:\n",
    "    def __init__(self, arg1, arg2):\n",
    "        self.my_attribute1 = arg1\n",
    "        self.my_attribute2 = arg2"
   ]
  },
  {
   "cell_type": "code",
   "execution_count": null,
   "id": "e90173b1-c61c-4536-851f-c370715a50e2",
   "metadata": {},
   "outputs": [],
   "source": [
    "#How do you define a constructor in a Python class? Provide an example.\n",
    "'''we can define constructor by using method __init__. \n",
    "    it id called when obj of  class is created \n",
    "class student:\n",
    "    def __init__(self,arg1,arg2):\n",
    "        self.arg1 = arg1\n",
    "        self.arg2 = arg2\n",
    "        self.section = section '''\n"
   ]
  },
  {
   "cell_type": "code",
   "execution_count": null,
   "id": "759ef606-416c-4656-b357-7ea1036de577",
   "metadata": {},
   "outputs": [],
   "source": [
    "#Explain the `__init__` method in Python and its role in constructors.\n",
    "\n",
    "The __init__ method is a special method in Python classes that is called when an object of the class is created. \n",
    "It is used to initialize the object’s attributes and perform any other setup that is required. In other words, \n",
    "it is used to define the constructor of a class.\n",
    "\n",
    "The __init__ method takes one mandatory parameter, which is self. \n",
    "This parameter refers to the instance of the class that is being created.\n",
    "It can also take additional parameters, which can be used to initialize the instance variables of the object.\n",
    "\n",
    "It’s important to note that __init__ is not the constructor of a class, \n",
    "but rather a method that is called after the object has been constructed. \n",
    "The constructor of a class is actually the __new__ method, which is responsible for creating the object.\n",
    "\n",
    "class student:\n",
    "    def __init__(self,arg1,arg2):\n",
    "        self.arg1 = arg1\n",
    "        self.arg2 = arg2\n",
    "        self.section = section \n"
   ]
  },
  {
   "cell_type": "code",
   "execution_count": 11,
   "id": "21fd961c-1409-44d1-9ad1-f620226ff65c",
   "metadata": {},
   "outputs": [
    {
     "name": "stdout",
     "output_type": "stream",
     "text": [
      "entered name is rahman and age is 32\n"
     ]
    }
   ],
   "source": [
    "#In a class named `Person`, create a constructor that initializes the `name` and `age` attributes. \n",
    "#Provide an example of creating an object of this class.\n",
    "class person:\n",
    "    def __init__(self, name, age):\n",
    "        self.name = name\n",
    "        self.age = age\n",
    "  \n",
    "ubed = person('rahman',32)    \n",
    "print(f\"entered name is {ubed.name} and age is {ubed.age}\")    "
   ]
  },
  {
   "cell_type": "code",
   "execution_count": null,
   "id": "a573ec89-c542-4473-bc09-6ccc72ea3501",
   "metadata": {},
   "outputs": [],
   "source": [
    "#How can you call a constructor explicitly in Python? Give an example.\n",
    "In Python, you can call a constructor explicitly by using the class name and the __init__ method.\n",
    "class my_class:\n",
    "    def __init__(self,arg1,arg2):\n",
    "        self.arg1 = arg1\n",
    "        self.arg2 = arg2\n",
    "        self.section = section \n"
   ]
  },
  {
   "cell_type": "code",
   "execution_count": null,
   "id": "b2cb69a0-2cda-4339-95ed-5563b30a6627",
   "metadata": {},
   "outputs": [],
   "source": [
    "#What is the significance of the `self` parameter in Python constructors? Explain with an example.\n",
    "The self parameter in Python constructors is used to refer to the instance of the class that is being created. \n",
    "It is a reference to the object that is being created, and it allows you to access and modify the object’s attributes. \n",
    "When you create an instance of a class, Python automatically passes the instance as the first argument to the constructor, \n",
    "which is why you need to include self as the first parameter in the constructor definition.\n",
    "class person:\n",
    "    def __init__(self, name, age):\n",
    "        self.name = name\n",
    "        self.age = age\n",
    "  \n",
    "ubed = person('rahman',32)    \n",
    "print(f\"entered name is {ubed.name} and age is {ubed.age}\")   \n"
   ]
  },
  {
   "cell_type": "code",
   "execution_count": 18,
   "id": "ccf2b742-bbed-48d0-be00-cf3c185d857e",
   "metadata": {},
   "outputs": [
    {
     "data": {
      "text/plain": [
       "96"
      ]
     },
     "execution_count": 18,
     "metadata": {},
     "output_type": "execute_result"
    }
   ],
   "source": [
    "#Discuss the concept of default constructors in Python. When are they used?\n",
    "'''In Python, a default constructor is a constructor that doesn’t accept any arguments. \n",
    "It is defined with the __init__ method and is called when an object of the class is created without any arguments. \n",
    "The default constructor is used to initialize the object’s attributes to their default values.\n",
    "Here’s an example of how to define a default constructor in Python:'''\n",
    "\n",
    "class student:\n",
    "    def __init__(self):\n",
    "        self.name ='ubed'\n",
    "        self.roll_no =96\n",
    "umaira= student()   \n",
    "umaira.roll_no"
   ]
  },
  {
   "cell_type": "code",
   "execution_count": 28,
   "id": "f5c9ef9a-9f86-4e37-8050-869fdbbd2a26",
   "metadata": {},
   "outputs": [
    {
     "data": {
      "text/plain": [
       "200"
      ]
     },
     "execution_count": 28,
     "metadata": {},
     "output_type": "execute_result"
    }
   ],
   "source": [
    "#Create a Python class called `Rectangle` with a constructor that initializes the `width` and `height`attributes. \n",
    "#Provide a method to calculate the area of the rectangle.\n",
    "class rectangle:\n",
    "    def __init__(self, width,height):\n",
    "        self.width = width\n",
    "        self.height = height\n",
    "        self.area= width*height\n",
    "rec = rectangle(10,20)    \n",
    "rec.area"
   ]
  },
  {
   "cell_type": "code",
   "execution_count": null,
   "id": "815c312c-b808-42e6-b8dc-475d479cdb34",
   "metadata": {},
   "outputs": [],
   "source": [
    "#How can you have multiple constructors in a Python class? Explain with an example.\n",
    "In Python, you can simulate multiple constructors in a class by using optional arguments in the __init__ method. \n",
    "You can define default values for these optional arguments to create different constructors with different sets of arguments.\n",
    "Here’s an example:\n",
    "class MyClass:\n",
    "    def __init__(self, arg1=None, arg2=None):\n",
    "        if arg1 is not None and arg2 is not None:\n",
    "            self.arg1 = arg1\n",
    "            self.arg2 = arg2\n",
    "        elif arg1 is not None:\n",
    "            self.arg1 = arg1\n",
    "            self.arg2 = \"default_value\"\n",
    "        else:\n",
    "            self.arg1 = \"default_value\"\n",
    "            self.arg2 = \"default_value\"\n"
   ]
  },
  {
   "cell_type": "code",
   "execution_count": null,
   "id": "1028a2c9-4b0c-4bc2-9828-cfdb438c983e",
   "metadata": {},
   "outputs": [],
   "source": [
    "#What is method overloading, and how is it related to constructors in Python?\n",
    "Method overloading is a feature in some programming languages that allows you to define multiple methods with the same name but different parameters. \n",
    "In Python, method overloading is not supported by default, \n",
    "but you can simulate it using optional arguments in the __init__ method of a class.\n",
    "\n",
    "In Python, constructors are special methods that are used to initialize the attributes of an object when it is created. \n",
    "You can define multiple constructors in a class by using optional arguments in the __init__ method. \n",
    "By providing default values for these optional arguments, you can create different constructors with different sets of arguments.\n",
    "\n",
    "Here’s an example of how to define multiple constructors in Python:\n",
    "class MyClass:\n",
    "    def __init__(self, arg1=None, arg2=None):\n",
    "        if arg1 is not None and arg2 is not None:\n",
    "            self.arg1 = arg1\n",
    "            self.arg2 = arg2\n",
    "        elif arg1 is not None:\n",
    "            self.arg1 = arg1\n",
    "            self.arg2 = \"default_value\"\n",
    "        else:\n",
    "            self.arg1 = \"default_value\"\n",
    "            self.arg2 = \"default_value\""
   ]
  },
  {
   "cell_type": "code",
   "execution_count": 5,
   "id": "89020290-39fc-4a56-a71b-6f37d1dddccc",
   "metadata": {},
   "outputs": [
    {
     "name": "stdout",
     "output_type": "stream",
     "text": [
      "This is the child method\n",
      "This is the parent method\n",
      "I am the parent\n"
     ]
    }
   ],
   "source": [
    "#Explain the use of the `super()` function in Python constructors. Provide an example.\n",
    "'''The super() function in Python is used to refer to the parent class or superclass. \n",
    "It allows you to call methods defined in the superclass from the subclass, enabling you to extend and customize the functionality inherited from the parent class.\n",
    "\n",
    "In Python, when a subclass is created, it inherits all the attributes and methods of its parent class. If the subclass has an __init__() method,\n",
    "it overrides the parent class’s __init__() method. \n",
    "However, if you want to use the parent class’s __init__() method in addition to the subclass’s __init__() method, you can use the super() function.'''\n",
    "\n",
    "class Parent:\n",
    "    def __init__(self):\n",
    "        self.parent_attribute = \"I am the parent\"\n",
    "    \n",
    "    def parent_method(self):\n",
    "        print(\"This is the parent method\")\n",
    "\n",
    "class Child(Parent):\n",
    "    def __init__(self):\n",
    "        super().__init__()\n",
    "        self.child_attribute = \"I am the child\"\n",
    "    \n",
    "    def child_method(self):\n",
    "        print(\"This is the child method\")\n",
    "        super().parent_method()\n",
    "        print(self.parent_attribute)\n",
    "\n",
    "child = Child()\n",
    "child.child_method() # Output: This is the child method\\nThis is the parent method\\nI am the parent\n",
    "\n"
   ]
  },
  {
   "cell_type": "code",
   "execution_count": 47,
   "id": "f1078bb9-c735-45f6-b328-6b6be5a945ff",
   "metadata": {},
   "outputs": [
    {
     "name": "stdout",
     "output_type": "stream",
     "text": [
      "title of book is lord of rings , author name is ravibabu and published year is 2010\n"
     ]
    }
   ],
   "source": [
    "'''Create a class called `Book` with a constructor that initializes the `title`, `author`, and `published_year`attributes. \n",
    "Provide a method to display book details.'''\n",
    "\n",
    "class book:\n",
    "    def __init__(self, title, author, published_year):\n",
    "        self.title = title\n",
    "        self.author = author\n",
    "        self.published_year = published_year        \n",
    "    def book_details(self):\n",
    "       print(f\"title of book is {self.title} , author name is {self.author} and published year is {self.published_year}\")\n",
    "kitab = book('lord of rings', 'ravibabu',2010)\n",
    "kitab.book_details()\n"
   ]
  },
  {
   "cell_type": "code",
   "execution_count": null,
   "id": "08eeea02-249d-435a-b75d-fe31a5c8136b",
   "metadata": {},
   "outputs": [],
   "source": [
    "#Discuss the differences between constructors and regular methods in Python classes.\n",
    "In Python, a constructor is a special method that is called when an object is created.\n",
    "It is used to initialize the object’s attributes and set their initial values. \n",
    "The constructor method has a special name __init__ and takes the self parameter, which refers to the object being created, as its first argument.\n",
    "\n",
    "On the other hand, regular methods are used to perform operations on objects that already exist. \n",
    "They take the self parameter as their first argument, which refers to the object on which the method is called.\n",
    "\n",
    "class MyClass:\n",
    "    def __init__(self, x):\n",
    "        self.x = x\n",
    "\n",
    "    def my_method(self, y):\n",
    "        return self.x + y\n",
    "\n",
    "# Create an object of MyClass\n",
    "obj = MyClass(10)\n",
    "\n",
    "# Call my_method on obj\n",
    "result = obj.my_method(5)\n",
    "\n",
    "print(result) # Output: 15\n",
    "\n"
   ]
  },
  {
   "cell_type": "code",
   "execution_count": null,
   "id": "1708c903-4ee2-4e94-a43e-ecfb88e5cca7",
   "metadata": {},
   "outputs": [],
   "source": [
    "#Explain the role of the `self` parameter in instance variable initialization within a constructor.\n",
    "In Python, the self parameter is used to refer to the instance being created and allows you to access and set its attributes \n",
    "1. When a new instance of a class is created, the __init__ method is called. This method is used to initialize the attributes of the object \n",
    "2. The self parameter is passed as the first argument to the __init__ method and refers to the instance being created \n",
    "1. By using self, you can set instance variables that are unique to each instance of the class 1\n",
    "class Car:\n",
    "    def __init__(self, make, model):\n",
    "        self.make = make\n",
    "        self.model = model\n"
   ]
  },
  {
   "cell_type": "code",
   "execution_count": null,
   "id": "ea7a6f33-d216-435c-a3db-59e477a4a4df",
   "metadata": {},
   "outputs": [],
   "source": [
    "#How do you prevent a class from having multiple instances by using constructors in Python? Provide an  example.\n",
    "'''To prevent a class from having multiple instances, you can use the Singleton pattern. \n",
    "The Singleton pattern is a design pattern that restricts the instantiation of a class to one object. \n",
    "This is useful when exactly one object is needed to coordinate actions across the system '''\n",
    "\n",
    "class Singleton:\n",
    "    __instance = None\n",
    "\n",
    "    def __new__(cls):\n",
    "        if cls.__instance is None:\n",
    "            cls.__instance = super().__new__(cls)\n",
    "        return cls.__instance"
   ]
  },
  {
   "cell_type": "code",
   "execution_count": 14,
   "id": "2ec2e205-5dce-495c-b33d-de0449610a05",
   "metadata": {},
   "outputs": [
    {
     "data": {
      "text/plain": [
       "['maths', 'science', 'social']"
      ]
     },
     "execution_count": 14,
     "metadata": {},
     "output_type": "execute_result"
    }
   ],
   "source": [
    "#Create a Python class called `Student` with a constructor that takes a list of subjects as a parameter andinitializes the `subjects` attribute.\n",
    "class student:\n",
    "    def __init__(self,subjects):\n",
    "        self.subjects = subjects\n",
    "        \n",
    "ubed = student(['maths','science','social'])\n",
    "ubed.subjects"
   ]
  },
  {
   "cell_type": "code",
   "execution_count": null,
   "id": "44f2f9d7-6d10-47e7-af07-598b456d001f",
   "metadata": {},
   "outputs": [],
   "source": [
    "#What is the purpose of the `__del__` method in Python classes, and how does it relate to constructors?\n",
    "In Python, the `__del__` method is a special method that is called when an object is about to be destroyed by the garbage collector .\n",
    "The garbage collector manages memory automatically in Python and destroys objects that are no longer being used . \n",
    "If an object implements the `__del__` method, Python calls it right before the object is destroyed ¹. \n",
    "The `__del__` method is sometimes referred to as a **finalizer** because it is called when an object is being finalized .\n",
    "However, it is important to note that the `__del__` method is not a destructor because it doesn't actually destroy the object; \n",
    "it is just called before the object is destroyed by the garbage collector .\n",
    "The `__del__` method can be used to perform cleanup tasks before an object is destroyed.\n",
    "For example, you might use it to close a file or release a network connection . \n",
    "However, it is generally recommended to use a context manager instead of the `__del__` method for cleanup tasks .\n",
    "\n",
    "In terms of constructors, the `__init__` method is called when an object is created and initialized with default values . \n",
    "The `__del__` method, on the other hand, is called when an object is being destroyed and can be used to perform cleanup tasks before the object is destroyed .\n",
    "\n"
   ]
  },
  {
   "cell_type": "code",
   "execution_count": null,
   "id": "ec041758-da02-46d8-9053-aa50e1a72993",
   "metadata": {},
   "outputs": [],
   "source": [
    "#Explain the use of constructor chaining in Python. Provide a practical example.\n",
    "''' In Python, constructor chaining is a technique that allows a subclass to call the constructor of its parent class. \n",
    "This is useful when you want to reuse the code of the parent class in the child class.\n",
    "\n",
    "To implement constructor chaining in Python, you can use the super() function. \n",
    "The super() function returns a temporary object of the superclass, which allows you to call its methods. \n",
    "You can then call the constructor of the superclass using the super() function and pass any arguments that the constructor requires. '''\n",
    "\n",
    "class parent:\n",
    "    def __init__(self, name):\n",
    "        self.name = name\n",
    "\n",
    "class child(parent):\n",
    "    def __init__(self, name, age):\n",
    "        super().__init__(name)\n",
    "        self.age = age"
   ]
  },
  {
   "cell_type": "code",
   "execution_count": 5,
   "id": "c93a19b1-7a67-4422-bef8-eb51408f2282",
   "metadata": {},
   "outputs": [
    {
     "name": "stdout",
     "output_type": "stream",
     "text": [
      " The make of the car is Mercedes and its model is EQS\n"
     ]
    }
   ],
   "source": [
    "#Create a Python class called `Car` with a default constructor that initializes the `make` and `model`attributes. Provide a method to display car information.\n",
    "class car:\n",
    "    def __init__(self):\n",
    "        self.make = 'Mercedes'\n",
    "        self.model = 'EQS'\n",
    "    def display_car_info(self):\n",
    "        print(f\" The make of the car is {self.make} and its model is {self.model}\")\n",
    "        \n",
    "newcar=car() \n",
    "newcar.display_car_info()"
   ]
  },
  {
   "cell_type": "code",
   "execution_count": 47,
   "id": "b87b2950-9dbc-4935-8172-1c167f5a1f10",
   "metadata": {},
   "outputs": [
    {
     "data": {
      "text/plain": [
       "'meow meow'"
      ]
     },
     "execution_count": 47,
     "metadata": {},
     "output_type": "execute_result"
    }
   ],
   "source": [
    "'''Inheritance:'''\n",
    "#What is inheritance in Python? Explain its significance in object-oriented programming.\n",
    "'''In Python, inheritance is a mechanism that allows you to create a hierarchy of classes that share a set of properties and methods by deriving a class from another class \n",
    "1. The derived class is called the child class or subclass, and the class it inherits from is called the parent class or superclass 1.\n",
    "\n",
    "Inheritance is a fundamental concept in object-oriented programming (OOP) and is used to represent real-world relationships between objects 1. \n",
    "It allows you to create new classes that are built upon existing classes, inheriting their attributes and methods \n",
    "1. This makes it easier to reuse code and avoid duplicating functionality 1.\n",
    "\n",
    "The benefits of inheritance in Python are as follows:\n",
    "\n",
    "It represents real-world relationships well.\n",
    "It provides the reusability of code. We don’t have to write the same code again and again.\n",
    "It allows us to add more features to a class without modifying it.\n",
    "It is transitive in nature, which means that if class B inherits from another class A, then all the subclasses of B would automatically inherit from class A 1.\n",
    "Here’s an example of how to use inheritance in Python:'''\n",
    "\n",
    "class animal:\n",
    "    def speak(self):\n",
    "        raise NotImplementedError(\"Subclass must implement abstract method\")\n",
    "class dog(animal):\n",
    "    def speak(self):\n",
    "        return 'bow bow'\n",
    "class cat(animal):\n",
    "    def speak(self):\n",
    "        return 'meow meow'\n",
    "dog=dog()\n",
    "dog.speak()\n",
    "cat=cat()\n",
    "cat.speak()"
   ]
  },
  {
   "cell_type": "code",
   "execution_count": null,
   "id": "29f4ee23-70f0-4da4-b86c-cfe8d7fd2599",
   "metadata": {},
   "outputs": [],
   "source": [
    "#Differentiate between single inheritance and multiple inheritance in Python. Provide examples for each.\n",
    "\n",
    "class animals:\n",
    "    pass\n",
    "class birds(animals):  #single inheritance \n",
    "    pass\n",
    "class mamals(birds,animals): # multi inheritance\n",
    "    pass"
   ]
  },
  {
   "cell_type": "code",
   "execution_count": 2,
   "id": "e21b5b1f-beb8-411b-a6ce-e9ba66454195",
   "metadata": {},
   "outputs": [
    {
     "data": {
      "text/plain": [
       "'black'"
      ]
     },
     "execution_count": 2,
     "metadata": {},
     "output_type": "execute_result"
    }
   ],
   "source": [
    "#Create a Python class called `Vehicle` with attributes `color` and `speed`. Then, create a child class called\n",
    "#Car` that inherits from `Vehicle` and adds a `brand` attribute. Provide an example of creating a `Car` object.\n",
    "class vehicle:\n",
    "    def __init__ (self,color,speed):\n",
    "        self.color=color\n",
    "        self.speed =speed\n",
    "class car(vehicle):\n",
    "    def __init__(self,brand,color,speed):\n",
    "        super().__init__(color,speed)\n",
    "        self.brand = brand\n",
    "        \n",
    "vehicle =vehicle('black','80kmph')        \n",
    "car=car('bmw','black','80kmph')\n",
    "car.color"
   ]
  },
  {
   "cell_type": "code",
   "execution_count": 3,
   "id": "3db8b92e-952c-41ce-9bb8-b1b8faed372b",
   "metadata": {},
   "outputs": [
    {
     "name": "stdout",
     "output_type": "stream",
     "text": [
      "Meow\n"
     ]
    }
   ],
   "source": [
    " #Explain the concept of method overriding in inheritance. Provide a practical example.\n",
    "'''Method overriding in Python is a feature of object-oriented programming that allows a subclass to provide a different implementation of a method that is already defined in its superclass. \n",
    "The method in the subclass must have the same name, same number of parameters, and the same return type (or sub-type) as the method in the superclass.\n",
    "When a method is called on an object of the subclass, it will execute the overridden method in the subclass instead of the method in the superclass.'''\n",
    "\n",
    "class Animal:\n",
    "    def make_sound(self):\n",
    "        print(\"The animal makes a sound\")\n",
    "\n",
    "class Cat(Animal):\n",
    "    def make_sound(self):\n",
    "        print(\"Meow\")\n",
    "\n",
    "cat = Cat()\n",
    "cat.make_sound() "
   ]
  },
  {
   "cell_type": "code",
   "execution_count": 4,
   "id": "3c0f3123-d099-4ea4-b547-1dc26eb1aa75",
   "metadata": {},
   "outputs": [
    {
     "name": "stdout",
     "output_type": "stream",
     "text": [
      "This is the child method\n",
      "This is the parent method\n",
      "I am the parent\n"
     ]
    }
   ],
   "source": [
    "#How can you access the methods and attributes of a parent class from a child class in Python? Give an example.\n",
    "'''To access the methods and attributes of a parent class from a child class in Python, you can use the super() function. \n",
    "The super() function returns a temporary object of the superclass, which allows you to call its methods. '''\n",
    "\n",
    "class Parent:\n",
    "    def __init__(self):\n",
    "        self.parent_attribute = \"I am the parent\"\n",
    "    \n",
    "    def parent_method(self):\n",
    "        print(\"This is the parent method\")\n",
    "\n",
    "class Child(Parent):\n",
    "    def __init__(self):\n",
    "        super().__init__()\n",
    "        self.child_attribute = \"I am the child\"\n",
    "    \n",
    "    def child_method(self):\n",
    "        print(\"This is the child method\")\n",
    "        super().parent_method()\n",
    "        print(self.parent_attribute)\n",
    "\n",
    "child = Child()\n",
    "child.child_method() \n"
   ]
  },
  {
   "cell_type": "code",
   "execution_count": 11,
   "id": "5287d982-4fc8-4163-be57-18c2091d7d04",
   "metadata": {},
   "outputs": [
    {
     "name": "stdout",
     "output_type": "stream",
     "text": [
      "this is child method\n",
      "this is parent method\n"
     ]
    }
   ],
   "source": [
    "#Discuss the use of the `super()` function in Python inheritance. When and why is it used? Provide an example.\n",
    "'''To access the methods and attributes of a parent class from a child class in Python, you can use the super() function. \n",
    "The super() function returns a temporary object of the superclass, which allows you to call its methods. '''\n",
    "\n",
    "class parent:\n",
    "    def __init__(self):\n",
    "        self.parent_atribute = 'this is the parent'\n",
    "    def parent_method(self):\n",
    "        print('this is parent method')\n",
    "\n",
    "class child(parent):\n",
    "    def __init__(self):\n",
    "        super().__init__()\n",
    "        self.child_atribute ='this is child'\n",
    "\n",
    "    def child_method(self):\n",
    "        print('this is child method')\n",
    "        super().parent_method()\n",
    "        \n",
    "        \n",
    "child=child()\n",
    "child.child_method()\n"
   ]
  },
  {
   "cell_type": "code",
   "execution_count": 48,
   "id": "ba90cf4b-d6f4-4011-be44-46f83142e068",
   "metadata": {},
   "outputs": [
    {
     "data": {
      "text/plain": [
       "'meow meow'"
      ]
     },
     "execution_count": 48,
     "metadata": {},
     "output_type": "execute_result"
    }
   ],
   "source": [
    "#Create a Python class called `Animal` with a method `speak()`. \n",
    "#Then, create child classes `Dog` and `Cat` that inherit from `Animal` and override the `speak()` method. Provide an example of using these classes.\n",
    "class animal:\n",
    "    def speak(self):\n",
    "        raise NotImplementedError(\"Subclass must implement abstract method\")\n",
    "class dog(animal):\n",
    "    def speak(self):\n",
    "        return 'bow bow'\n",
    "class cat(animal):\n",
    "    def speak(self):\n",
    "        return 'meow meow'\n",
    "dog=dog()\n",
    "dog.speak()\n",
    "cat=cat()\n",
    "cat.speak()"
   ]
  },
  {
   "cell_type": "code",
   "execution_count": 31,
   "id": "72577da0-f4ce-42e3-b2a0-31eb19b0d64f",
   "metadata": {},
   "outputs": [
    {
     "data": {
      "text/plain": [
       "True"
      ]
     },
     "execution_count": 31,
     "metadata": {},
     "output_type": "execute_result"
    }
   ],
   "source": [
    "#Explain the role of the `isinstance()` function in Python and how it relates to inheritance.\n",
    "''' The isinstance() function in Python is used to check if an object is an instance of a particular class or a subclass of that class. \n",
    "It returns True if the object is an instance of the specified class or a subclass of that class, and False otherwise.\n",
    "In the context of inheritance, isinstance() can be used to check if an object is an instance of a parent class or a subclass. \n",
    "When a subclass is created, it inherits all the attributes and methods of its parent class. \n",
    "Therefore, an instance of a subclass is also an instance of its parent class.'''\n",
    "class parent:\n",
    "    pass\n",
    "\n",
    "class child(parent):\n",
    "    pass\n",
    "\n",
    "child=child()\n",
    "isinstance(child,parent)"
   ]
  },
  {
   "cell_type": "code",
   "execution_count": 3,
   "id": "09c206dd-9ebd-4715-9954-c3aacba3bb04",
   "metadata": {},
   "outputs": [
    {
     "name": "stdout",
     "output_type": "stream",
     "text": [
      "True\n"
     ]
    }
   ],
   "source": [
    "# What is the purpose of the `issubclass()` function in Python? Provide an example.\n",
    "'''The issubclass() function in Python is a built-in function that is used to check whether a given class is a subclass of another class or not. \n",
    "It returns True if the given class is a subclass of the specified class, otherwise it returns False '''\n",
    "class sharukh:\n",
    "    pass\n",
    "class abram(sharukh):\n",
    "    pass\n",
    "print(issubclass(abram, sharukh))    "
   ]
  },
  {
   "cell_type": "code",
   "execution_count": 23,
   "id": "49f3fbf3-4ffd-4ced-ab05-807c98235b06",
   "metadata": {},
   "outputs": [
    {
     "name": "stdout",
     "output_type": "stream",
     "text": [
      "parent constructor created\n",
      "this is child constructor\n"
     ]
    },
    {
     "data": {
      "text/plain": [
       "32"
      ]
     },
     "execution_count": 23,
     "metadata": {},
     "output_type": "execute_result"
    }
   ],
   "source": [
    "#Discuss the concept of constructor inheritance in Python. How are constructors inherited in child classes?\n",
    "''' In Python, constructors are inherited in child classes just like any other method. When a child class is created, \n",
    "it automatically inherits all the attributes and methods of its parent class, including the constructor. \n",
    "If the child class does not define its own constructor, it will use the constructor of its parent class.\n",
    "If you want to customize the behavior of the constructor in the child class, \n",
    "you can override it by defining a new constructor in the child class. \n",
    "In this case, you can call the constructor of the parent class using the super() function. '''\n",
    "class parent:\n",
    "    def __init__(self,name):\n",
    "        self.name = name\n",
    "        print(\"parent constructor created\")\n",
    "        \n",
    "class child(parent):\n",
    "    def __init__(self,name,age):\n",
    "        super().__init__(name)\n",
    "        self.age = age\n",
    "        print(\"this is child constructor\")\n",
    "child = child('rahman',32)\n",
    "child.age\n",
    "            "
   ]
  },
  {
   "cell_type": "code",
   "execution_count": 12,
   "id": "577386c8-9887-43f0-a3f1-a7461521a4f0",
   "metadata": {},
   "outputs": [
    {
     "name": "stdout",
     "output_type": "stream",
     "text": [
      "area of circle : 78.5\n",
      "area of rectangle :  25\n"
     ]
    }
   ],
   "source": [
    "#Create a Python class called `Shape` with a method `area()` that calculates the area of a shape. Then, create child classes `Circle` and `Rectangle` that inherit from `Shape` and implement the `area()` method\n",
    "#accordingly. Provide an example.\n",
    "\n",
    "class shape:\n",
    "    def area(self):\n",
    "        pass\n",
    "        \n",
    "class circle(shape):\n",
    "    def __init__(self,raduis):\n",
    "        self.raduis = raduis\n",
    "\n",
    "    def area_of_circle(self):\n",
    "        return 3.14*self.raduis**2\n",
    "        \n",
    "class rectangle(shape):\n",
    "    def __init__(self,width,length):\n",
    "        self.width = width\n",
    "        self.length =length\n",
    "\n",
    "    def area_of_rectangle(self):\n",
    "        return self.width*self.length\n",
    "\n",
    "area = circle(5)\n",
    "print(\"area of circle :\" , area.area_of_circle())\n",
    "area1=rectangle(5,5)\n",
    "print(\"area of rectangle : \", area1.area_of_rectangle())"
   ]
  },
  {
   "cell_type": "code",
   "execution_count": 19,
   "id": "aad4985d-dca0-4526-b9c0-3a4a010204b0",
   "metadata": {},
   "outputs": [
    {
     "data": {
      "text/plain": [
       "'byke started'"
      ]
     },
     "execution_count": 19,
     "metadata": {},
     "output_type": "execute_result"
    }
   ],
   "source": [
    "#Explain the use of abstract base classes (ABCs) in Python and how they relate to inheritance. Provide an example using the `abc` module.\n",
    "''' In Python, **Abstract Base Classes (ABCs)** are classes that cannot be instantiated and are designed to be subclassed by other classes. \n",
    "They define a set of methods and properties that a subclass must implement in order to be considered a concrete class.\n",
    "ABCs are used to enforce a common interface among a group of related classes, and to provide a way to test whether an object adheres to a given specification.\n",
    "\n",
    "ABCs are typically used in conjunction with inheritance. \n",
    "A subclass that inherits from an ABC must implement all of the abstract methods and properties defined by the ABC. \n",
    "This ensures that the subclass conforms to the interface defined by the ABC, and can be used interchangeably with other classes that also conform to the same interface.\n",
    "\n",
    "The `abc` module in Python provides the necessary tools for creating and working with ABCs. \n",
    "To create an ABC, you can define a class that inherits from `abc.ABC`.\n",
    "You can then define abstract methods and properties using the `@abstractmethod` and `@abstractproperty` decorators. \n",
    "Any subclass that inherits from your ABC must implement these abstract methods and properties.'''\n",
    "\n",
    "from abc import ABC , abstractmethod\n",
    "\n",
    "class vehicle(ABC):\n",
    "     @abstractmethod\n",
    "     def start(self):\n",
    "        pass\n",
    "     @abstractmethod\n",
    "     def stop(self):\n",
    "         pass\n",
    "\n",
    "class byke(vehicle):\n",
    "    def start(self):\n",
    "        return 'byke started'\n",
    "\n",
    "    def stop(self):\n",
    "        return 'byke stopped'\n",
    "\n",
    "gadi = byke()\n",
    "gadi.start()"
   ]
  },
  {
   "cell_type": "code",
   "execution_count": null,
   "id": "01529fa9-5d39-471f-bf29-74aeccfa3450",
   "metadata": {},
   "outputs": [],
   "source": [
    "#How can you prevent a child class from modifying certain attributes or methods inherited from a parent class in Python?\n",
    "''' In Python, you can prevent a child class from modifying certain attributes or methods inherited from a parent class by using name mangling.\n",
    "Name mangling is a technique that allows you to prefix an attribute or method name with two underscores (__) to make it private. \n",
    "This makes the attribute or method inaccessible to the child class.\n",
    "\n",
    "Here’s an example of how to use name mangling to prevent a child class from modifying a parent class attribute: '''\n",
    "class Parent:\n",
    "    def __init__(self):\n",
    "        self.__attribute = \"value\"\n",
    "\n",
    "class Child(Parent):\n",
    "    def __init__(self):\n",
    "        super().__init__()\n",
    "        self.__attribute = \"new value\" # This will create a new attribute, not modify the parent's attribute\n",
    "\n",
    "child = Child()\n",
    "print(child._Parent__attribute) # This will print \"value\"\n",
    "\n"
   ]
  },
  {
   "cell_type": "code",
   "execution_count": 20,
   "id": "4cddf54b-a158-4da5-8512-b946212cd615",
   "metadata": {},
   "outputs": [
    {
     "data": {
      "text/plain": [
       "'vaishali'"
      ]
     },
     "execution_count": 20,
     "metadata": {},
     "output_type": "execute_result"
    }
   ],
   "source": [
    "#Create a Python class called `Employee` with attributes `name` and `salary`. Then, create a child class `Manager` that inherits from `Employee` and adds an attribute `department`. Provide an example.\n",
    "\n",
    "class employee:\n",
    "    def __init__(self, name , salary):\n",
    "        self.name=name\n",
    "        self.salary = salary\n",
    "class manager(employee):\n",
    "    def __init__(self,name,salary,department):\n",
    "        super().__init__(name, salary)\n",
    "        self.department = department \n",
    "employee=employee('ubed', 50000)\n",
    "manager = manager('vaishali',750000,'HR')\n",
    "manager.name"
   ]
  },
  {
   "cell_type": "code",
   "execution_count": 17,
   "id": "45c3da9f-0081-44fb-9943-93769a64350e",
   "metadata": {},
   "outputs": [],
   "source": [
    "#Discuss the concept of method overloading in Python inheritance. How does it differ from method  overriding?\n",
    "''' In Python, method overloading is not supported in the traditional sense as it is in other object-oriented programming languages such as Java and C++.\n",
    "In those languages, method overloading allows you to define multiple methods with the same name but different parameters. \n",
    "However, in Python, if you define a method with the same name as an already existing method, Python will replace the old method with the new method 1.\n",
    "\n",
    "On the other hand, method overriding is supported in Python. \n",
    "Method overriding is when a subclass provides its own implementation of a method that is already defined in its superclass. \n",
    "When a method in a subclass has the same name, same parameters, and same return type (or subtype) as a method in its superclass,\n",
    "then the method in the subclass is said to override the method in the superclass 23.\n",
    "\n",
    "The version of the method that is executed will be determined by the object that is used to invoke it. \n",
    "If an object of a parent class is used to invoke the method, then the version in the parent class will be executed.\n",
    "But if an object of the subclass is used to invoke the method, then the version in the child class will be executed. \n",
    "In other words, it is the type of the object being referred to (not the type of the reference variable) \n",
    "that determines which version of an overridden method will be executed .\n",
    "\n",
    "Here’s an example to illustrate the difference between method overloading and method overriding: '''\n",
    "class MyClass:\n",
    "    def my_method(self, arg1):\n",
    "        print(\"Method with one argument\")\n",
    "\n",
    "    def my_method(self, arg1, arg2):\n",
    "        print(\"Method with two arguments\")\n",
    "\n",
    "class MySubclass(MyClass):\n",
    "    def my_method(self, arg1, arg2):\n",
    "        print(\"Overridden method with two arguments\")\n",
    "\n"
   ]
  },
  {
   "cell_type": "code",
   "execution_count": 13,
   "id": "d7afdbfc-3dd2-4c43-b0af-08feffcf4dea",
   "metadata": {},
   "outputs": [
    {
     "data": {
      "text/plain": [
       "32000"
      ]
     },
     "execution_count": 13,
     "metadata": {},
     "output_type": "execute_result"
    }
   ],
   "source": [
    "#Explain the purpose of the `__init__()` method in Python inheritance and how it is utilized in child classes.\n",
    "\n",
    "'''In Python, the __init__() method is a special method that is called when an object of a class is created. \n",
    "It is used to initialize the attributes of the object 12.\n",
    "\n",
    "When a class is inherited by another class, the child class can override the __init__() method of the parent class. \n",
    "This allows the child class to add its own attributes or modify the attributes of the parent class'''\n",
    "\n",
    "class person:\n",
    "    def __init__(self, name, age):\n",
    "        self.name = name\n",
    "        self.age = age\n",
    "class employee(person):\n",
    "    def __init__(self,name, age,salary):\n",
    "        super().__init__(name, age)\n",
    "        self.salary = salary\n",
    "\n",
    "ubed= person('alex',36)\n",
    "ubed.name\n",
    "rahul = employee('ubed',32,32000)\n",
    "rahul.salary"
   ]
  },
  {
   "cell_type": "code",
   "execution_count": 15,
   "id": "a2bbcbcb-d61c-4e9c-9dc9-a6590c8afee7",
   "metadata": {},
   "outputs": [
    {
     "name": "stdout",
     "output_type": "stream",
     "text": [
      "Eagle will fly at high altitudes and long distance\n",
      "sparrows fly at low altitudes and small distance\n"
     ]
    }
   ],
   "source": [
    "#Create a Python class called `Bird` with a method `fly()`. Then, create child classes `Eagle` and `Sparrow` that inherit from `Bird` and implement the `fly()` method differently. Provide an example of using these\n",
    "#classes.\n",
    "\n",
    "class bird:\n",
    "    def fly(self):\n",
    "        pass\n",
    "class Eagle(bird):\n",
    "    def fly(self):\n",
    "        return \"Eagle will fly at high altitudes and long distance\"\n",
    "class Sparrow(bird):\n",
    "    def fly(self):\n",
    "        return \"sparrows fly at low altitudes and small distance\"\n",
    "bird = Eagle()\n",
    "print(bird.fly())\n",
    "Bird = Sparrow()\n",
    "print(Bird.fly())"
   ]
  },
  {
   "cell_type": "code",
   "execution_count": 1,
   "id": "8e0d0f76-5231-4952-9739-5dec51ef8e80",
   "metadata": {},
   "outputs": [
    {
     "name": "stdout",
     "output_type": "stream",
     "text": [
      "B\n"
     ]
    }
   ],
   "source": [
    "#What is the \"diamond problem\" in multiple inheritance, and how does Python address it?\n",
    "''' The “diamond problem” is an ambiguity that arises when two classes inherit from a superclass and a subclass inherits from both of them. \n",
    "This creates a diamond-shaped inheritance hierarchy, hence the name. \n",
    "The problem arises when a method is overridden in one or both of the parent classes, and the subclass calls that method. \n",
    "It is unclear which version of the method to use, leading to ambiguity.\n",
    "\n",
    "Python addresses this problem by using a method resolution order (MRO) algorithm. \n",
    "The MRO defines the order in which Python looks for a method in a hierarchy of classes. \n",
    "In Python, the MRO is calculated using the C3 linearization algorithm. \n",
    "The algorithm creates a linear ordering of the classes in the inheritance hierarchy, ensuring that each class is visited only once. \n",
    "The MRO ensures that the correct version of a method is called, even in the presence of multiple inheritance.\n",
    "\n",
    "Here is an example of the diamond problem in Python: '''\n",
    "class A:\n",
    "    def foo(self):\n",
    "        print(\"A\")\n",
    "\n",
    "class B(A):\n",
    "    def foo(self):\n",
    "        print(\"B\")\n",
    "\n",
    "class C(A):\n",
    "    def foo(self):\n",
    "        print(\"C\")\n",
    "\n",
    "class D(B, C):\n",
    "    pass\n",
    "\n",
    "d = D()\n",
    "d.foo()\n",
    "\n"
   ]
  },
  {
   "cell_type": "code",
   "execution_count": null,
   "id": "7142971c-0832-4277-9191-306f6f42b6da",
   "metadata": {},
   "outputs": [],
   "source": [
    "#Discuss the concept of \"is-a\" and \"has-a\" relationships in inheritance, and provide examples of each.\n",
    "''' In object-oriented programming, inheritance is a mechanism that allows a new class to be based on an existing class. \n",
    "Inheritance creates a parent-child relationship between classes, where the child class inherits the properties and methods of the parent class. \n",
    "There are two types of inheritance relationships: **is-a** and **has-a**.\n",
    "\n",
    "**Is-a relationship** is a relationship between two classes where one class is a subclass of another class. \n",
    "The subclass is a specialized version of the superclass and inherits all the properties and methods of the superclass. \n",
    "For example, a `Car` class can inherit from a `Vehicle` class, because a car is a type of vehicle. \n",
    "Similarly, a `Square` class can inherit from a `Rectangle` class, because a square is a type of rectangle.\n",
    "\n",
    "**Has-a relationship** is a relationship between two classes where one class has a reference to another class. \n",
    "The class with the reference is called the **container** class, and the class being referred to is called the **contained** class. \n",
    "For example, a `Car` class can have a reference to an `Engine` class, because a car has an engine. \n",
    "Similarly, a `Person` class can have a reference to an `Address` class, because a person has an address.\n",
    "\n",
    "Here are some examples of **is-a** and **has-a** relationships:\n",
    "\n",
    "**Is-a relationship**\n",
    "- A `Dog` class is a subclass of an `Animal` class.\n",
    "- A `Cat` class is a subclass of an `Animal` class.\n",
    "- A `Car` class is a subclass of a `Vehicle` class.\n",
    "- A `Square` class is a subclass of a `Rectangle` class.\n",
    "\n",
    "**Has-a relationship**\n",
    "- A `Car` class has an `Engine` class.\n",
    "- A `Person` class has an `Address` class.\n",
    "- A `Book` class has an `Author` class.\n",
    "- A `Computer` class has a `Processor` class.'''\n"
   ]
  },
  {
   "cell_type": "code",
   "execution_count": 1,
   "id": "194321c5-e695-427f-9c0c-c70bcf9a4d75",
   "metadata": {},
   "outputs": [
    {
     "name": "stdout",
     "output_type": "stream",
     "text": [
      "John Doe 12345 Computer Science\n",
      "Jane Smith 67890 Computer Science\n"
     ]
    }
   ],
   "source": [
    "#Create a Python class hierarchy for a university system. Start with a base class `Person` and create child classes `Student` and `Professor`, \n",
    "#each with their own attributes and methods. Provide an example of using these classes in a university context.\n",
    "class Person:\n",
    "    def __init__(self, name, age, gender):\n",
    "        self.name = name\n",
    "        self.age = age\n",
    "        self.gender = gender\n",
    "\n",
    "class Student(Person):\n",
    "    def __init__(self, name, age, gender, student_id, major):\n",
    "        super().__init__(name, age, gender)\n",
    "        self.student_id = student_id\n",
    "        self.major = major\n",
    "\n",
    "class Professor(Person):\n",
    "    def __init__(self, name, age, gender, employee_id, department):\n",
    "        super().__init__(name, age, gender)\n",
    "        self.employee_id = employee_id\n",
    "        self.department = department\n",
    "\n",
    "# Example usage\n",
    "student1 = Student(\"John Doe\", 20, \"Male\", \"12345\", \"Computer Science\")\n",
    "professor1 = Professor(\"Jane Smith\", 35, \"Female\", \"67890\", \"Computer Science\")\n",
    "\n",
    "print(student1.name, student1.student_id, student1.major)\n",
    "print(professor1.name, professor1.employee_id, professor1.department)\n"
   ]
  },
  {
   "cell_type": "code",
   "execution_count": 2,
   "id": "19c2bb93-e69f-49b2-95db-d5b0eb0a509e",
   "metadata": {},
   "outputs": [
    {
     "data": {
      "text/plain": [
       "('ubed', 32)"
      ]
     },
     "execution_count": 2,
     "metadata": {},
     "output_type": "execute_result"
    }
   ],
   "source": [
    "'''Encapsulation:'''\n",
    "#Explain the concept of encapsulation in Python. What is its role in object-oriented programming?\n",
    "''' Encapsulation is a fundamental concept in object-oriented programming (OOP) that describes the idea of wrapping data \n",
    "and the methods that work on data within one unit. \n",
    "This puts restrictions on accessing variables and methods directly and can prevent the accidental modification of data. \n",
    "In Python, encapsulation is implemented by using private variables. A private variable can only be changed by an object’s method, \n",
    "and not directly accessed from outside the object.\n",
    "This helps to ensure that an object’s state is always valid by controlling access to attributes that are hidden from the outside world 12.\n",
    "\n",
    "In Python, encapsulation is achieved by using the convention of prefixing the name of the member by a single underscore “_”. \n",
    "This makes the variable private and can only be accessed within the class. \n",
    "Protected members (in C++ and JAVA) are those members of the class that cannot be accessed outside the class but can be accessed from within the class and its subclasses.\n",
    "To accomplish this in Python, just follow the convention by prefixing the name of the member by a double underscore “__” 1.\n",
    "\n",
    "A class is an example of encapsulation as it encapsulates all the data that is member functions, variables, etc. \n",
    "The goal of information hiding is to ensure that an object’s state is always valid by controlling access to attributes that are hidden from the outside world 1.'''\n",
    "\n",
    "class info:\n",
    "    def __init__(self, name , age ):\n",
    "        self.__name = name\n",
    "        self.__age = age\n",
    "    def display(self):\n",
    "        return (self.__name, self.__age)\n",
    "ob =info('ubed', 32)\n",
    "ob.display()"
   ]
  },
  {
   "cell_type": "code",
   "execution_count": null,
   "id": "39541b65-5f77-4f89-b075-bac44335b9c5",
   "metadata": {},
   "outputs": [],
   "source": [
    "#Describe the key principles of encapsulation, including access control and data hiding.\n",
    "''' Encapsulation is a fundamental concept in object-oriented programming (OOP) that describes the idea of wrapping data and the methods that work on data within one unit. \n",
    "This puts restrictions on accessing variables and methods directly and can prevent the accidental modification of data ¹²³. \n",
    "\n",
    "The key principles of encapsulation are **access control** and **data hiding**.\n",
    "Access control refers to the ability to restrict access to certain parts of an object, such as variables or methods.\n",
    "This is achieved by using access modifiers such as **public**, **private**, and **protected**. \n",
    "Public members are accessible from anywhere, private members are only accessible within the class, \n",
    "and protected members are accessible within the class and its subclasses .\n",
    "\n",
    "Data hiding refers to the ability to hide the implementation details of an object from the outside world. \n",
    "This is achieved by making the variables or data members of a class private, which means they can only be accessed within the class.\n",
    "To allow outside access to the instance variables, public methods called getters and setters are defined, \n",
    "which are used to retrieve and modify the values of the instance variables, respectively. By using getters and setters, \n",
    "the class can enforce its own data validation rules and ensure that its internal state remains consistent.\n",
    "\n",
    "In summary, encapsulation is a powerful tool in OOP that allows us to bundle data and methods together into a single unit. \n",
    "Access control and data hiding are two key principles of encapsulation that help us to control access to the data and methods of an object, \n",
    "and ensure that the object's internal state remains consistent and valid.'''\n",
    "\n"
   ]
  },
  {
   "cell_type": "code",
   "execution_count": null,
   "id": "24f54277-24ef-4fa6-8126-e912ffbcd3bb",
   "metadata": {},
   "outputs": [],
   "source": [
    "# How can you achieve encapsulation in Python classes? Provide an example.\n",
    "''' Encapsulation is a fundamental concept in object-oriented programming (OOP) that describes the idea of wrapping data \n",
    "and the methods that work on data within one unit. \n",
    "This puts restrictions on accessing variables and methods directly and can prevent the accidental modification of data. \n",
    "In Python, encapsulation is implemented by using private variables. A private variable can only be changed by an object’s method, \n",
    "and not directly accessed from outside the object.\n",
    "This helps to ensure that an object’s state is always valid by controlling access to attributes that are hidden from the outside world 12.\n",
    "\n",
    "In Python, encapsulation is achieved by using the convention of prefixing the name of the member by a single underscore “_”. \n",
    "This makes the variable private and can only be accessed within the class. \n",
    "Protected members (in C++ and JAVA) are those members of the class that cannot be accessed outside the class but can be accessed from within the class and its subclasses.\n",
    "To accomplish this in Python, just follow the convention by prefixing the name of the member by a double underscore “__” 1.\n",
    "\n",
    "A class is an example of encapsulation as it encapsulates all the data that is member functions, variables, etc. \n",
    "The goal of information hiding is to ensure that an object’s state is always valid by controlling access to attributes that are hidden from the outside world 1.'''\n",
    "\n",
    "class info:\n",
    "    def __init__(self, name , age ):\n",
    "        self.__name = name\n",
    "        self.__age = age\n",
    "    def display(self):\n",
    "        return (self.__name, self.__age)\n",
    "ob =info('ubed', 32)\n",
    "ob.display()"
   ]
  },
  {
   "cell_type": "code",
   "execution_count": 4,
   "id": "2d88c2de-a853-410b-97a5-704fc9a3086e",
   "metadata": {},
   "outputs": [
    {
     "name": "stdout",
     "output_type": "stream",
     "text": [
      "John\n"
     ]
    },
    {
     "ename": "AttributeError",
     "evalue": "'Person' object has no attribute '__name'",
     "output_type": "error",
     "traceback": [
      "\u001b[1;31m---------------------------------------------------------------------------\u001b[0m",
      "\u001b[1;31mAttributeError\u001b[0m                            Traceback (most recent call last)",
      "Cell \u001b[1;32mIn[4], line 26\u001b[0m\n\u001b[0;32m     23\u001b[0m        \u001b[38;5;28mself\u001b[39m\u001b[38;5;241m.\u001b[39m__age \u001b[38;5;241m=\u001b[39m age\n\u001b[0;32m     25\u001b[0m p \u001b[38;5;241m=\u001b[39m Person(\u001b[38;5;124m\"\u001b[39m\u001b[38;5;124mJohn\u001b[39m\u001b[38;5;124m\"\u001b[39m, \u001b[38;5;241m36\u001b[39m)\n\u001b[1;32m---> 26\u001b[0m \u001b[38;5;28mprint\u001b[39m(\u001b[43mp\u001b[49m\u001b[38;5;241;43m.\u001b[39;49m\u001b[43m__name\u001b[49m) \u001b[38;5;66;03m# Output: AttributeError: 'Person' object has no attribute '__name'\u001b[39;00m\n\u001b[0;32m     28\u001b[0m \u001b[38;5;124;03m'''Protected Access Modifier: The members of a class that are declared protected are only accessible to a class derived from it. \u001b[39;00m\n\u001b[0;32m     29\u001b[0m \u001b[38;5;124;03mData members of a class are declared protected by adding a single underscore ‘_’ symbol before the data member of that class. \u001b[39;00m\n\u001b[0;32m     30\u001b[0m \u001b[38;5;124;03mFor example:'''\u001b[39;00m\n\u001b[0;32m     31\u001b[0m \u001b[38;5;28;01mclass\u001b[39;00m \u001b[38;5;21;01mPerson\u001b[39;00m:\n",
      "\u001b[1;31mAttributeError\u001b[0m: 'Person' object has no attribute '__name'"
     ]
    }
   ],
   "source": [
    " #Discuss the difference between public, private, and protected access modifiers in Python.\n",
    "'''In Python, access modifiers are used to restrict access to the variables and methods of a class. \n",
    "There are three types of access modifiers in Python: public, private, and protected.\n",
    "\n",
    "Public Access Modifier: The members of a class that are declared public are easily accessible from any part of the program. \n",
    "All data members and member functions of a class are public by default. \n",
    "For example:'''\n",
    "\n",
    "class Person:\n",
    "    def __init__(self, name, age):\n",
    "        self.name = name\n",
    "        self.age = age\n",
    "\n",
    "p = Person(\"John\", 36)\n",
    "print(p.name) # Output: John\n",
    "\n",
    "'''Private Access Modifier: The members of a class that are declared private are accessible within the class only. \n",
    "Data members of a class are declared private by adding a double underscore ‘__’ symbol before the data member of that class. \n",
    "For example:'''\n",
    "class Person:\n",
    "    def __init__(self, name, age):\n",
    "        self.__name = name\n",
    "        self.__age = age\n",
    "\n",
    "p = Person(\"John\", 36)\n",
    "print(p.__name) # Output: AttributeError: 'Person' object has no attribute '__name'\n",
    "\n",
    "'''Protected Access Modifier: The members of a class that are declared protected are only accessible to a class derived from it. \n",
    "Data members of a class are declared protected by adding a single underscore ‘_’ symbol before the data member of that class. \n",
    "For example:'''\n",
    "class Person:\n",
    "    def __init__(self, name, age):\n",
    "        self._name = name\n",
    "        self._age = age\n",
    "\n",
    "class Student(Person):\n",
    "    def __init__(self, name, age, grade):\n",
    "        Person.__init__(self, name, age)\n",
    "        self.grade = grade\n",
    "\n",
    "s = Student(\"John\", 36, \"A\")\n",
    "print(s._name) # Output: John\n"
   ]
  },
  {
   "cell_type": "code",
   "execution_count": 17,
   "id": "940be9ee-29fb-4812-9447-b7a84a29fb81",
   "metadata": {},
   "outputs": [
    {
     "data": {
      "text/plain": [
       "'ulfat'"
      ]
     },
     "execution_count": 17,
     "metadata": {},
     "output_type": "execute_result"
    }
   ],
   "source": [
    "#Create a Python class called `Person` with a private attribute `__name`. Provide methods to get and set the name attribute.\n",
    "class person:\n",
    "    def __init__(self,name):\n",
    "        self.__name = name \n",
    "        \n",
    "    @property\n",
    "    def name(self):\n",
    "        return self.__name\n",
    "       \n",
    "    @name.setter\n",
    "    def name(self, name):\n",
    "       self.__name = name\n",
    "\n",
    "    @name.getter\n",
    "    def name(self):\n",
    "       return self.__name \n",
    "ullu = person('ulfat')\n",
    "ullu.name"
   ]
  },
  {
   "cell_type": "code",
   "execution_count": 19,
   "id": "af302110-ed3f-46e8-aa1d-77cddcf2182c",
   "metadata": {},
   "outputs": [
    {
     "data": {
      "text/plain": [
       "'data science'"
      ]
     },
     "execution_count": 19,
     "metadata": {},
     "output_type": "execute_result"
    }
   ],
   "source": [
    "#Explain the purpose of getter and setter methods in encapsulation. Provide examples.\n",
    "'''Encapsulation is a fundamental concept in object-oriented programming (OOP) that describes the idea of wrapping data and the methods that work on data within one unit. \n",
    "This puts restrictions on accessing variables and methods directly and can prevent the accidental modification of data.\n",
    "\n",
    "In Python, getters and setters are used to ensure data encapsulation. \n",
    "Private variables in Python are not actually hidden fields like in other object-oriented languages. \n",
    "Getters and setters in Python are often used when we want to add validation logic around getting and setting a value, or to avoid direct access of a class field, \n",
    "i.e., private variables cannot be accessed directly or modified by external users 14.\n",
    "\n",
    "To make a variable private in Python, we use the convention of prefixing the name of the member by a single underscore “_” . \n",
    "This makes the variable private and can only be accessed within the class. \n",
    "To allow outside access to the instance variables, public methods called getters and setters are defined, \n",
    "which are used to retrieve and modify the values of the instance variables, respectively. By using getters and setters, \n",
    "the class can enforce its own data validation rules and ensure that its internal state remains consistent'''\n",
    "\n",
    "class ubed:\n",
    "    def __init__(self, subject):\n",
    "        self.__subject = subject\n",
    "    @property \n",
    "    def subject(self):\n",
    "        return self.__subject\n",
    "\n",
    "    @subject.setter\n",
    "    def subject(self, subject):\n",
    "         self.__subject = subject\n",
    "\n",
    "    @subject.getter\n",
    "    def subject(self):\n",
    "        return self.__subject\n",
    "uma = ubed('data science') \n",
    "uma.subject"
   ]
  },
  {
   "cell_type": "code",
   "execution_count": 25,
   "id": "3de9d14c-8b67-486b-ad61-13a098929fb8",
   "metadata": {},
   "outputs": [
    {
     "data": {
      "text/plain": [
       "'guru'"
      ]
     },
     "execution_count": 25,
     "metadata": {},
     "output_type": "execute_result"
    }
   ],
   "source": [
    "#What is name mangling in Python, and how does it affect encapsulation?\n",
    "'''In Python, name mangling is a process that is used to make private attributes of a class more difficult to access from outside the class. \n",
    "In this process, any identifier with two leading underscores and one trailing underscore is textually replaced with _classname__identifier, \n",
    "where classname is the name of the current class. This means that any identifier of the form __geek (at least two leading underscores or at most one trailing underscore)\n",
    "is replaced with _classname__geek, where classname is the current class name with leading underscore(s) stripped 1.\n",
    "\n",
    "Name mangling is used to avoid naming conflicts between different classes and to make it harder to access private attributes from outside the class. \n",
    "However, it does not provide true data hiding or security, as the mangled name can still be accessed from outside the class if the correct name is known \n",
    "\n",
    "In terms of encapsulation, name mangling can be used to implement private attributes in Python classes. \n",
    "By using name mangling, we can make it more difficult to access private attributes from outside the class, \n",
    "which helps to ensure that an object’s state is always valid by controlling access to attributes that are hidden from the outside world .'''\n",
    "class person:\n",
    "    def __init__(self,name, age):\n",
    "        self.__name = name\n",
    "        self.__age = age\n",
    "surya = person('guru', 32)\n",
    "surya._person__name"
   ]
  },
  {
   "cell_type": "code",
   "execution_count": 21,
   "id": "e1169899-443f-4cd9-9bb6-bb84d4987598",
   "metadata": {},
   "outputs": [
    {
     "name": "stdin",
     "output_type": "stream",
     "text": [
      "enter the amount to withdraw 5000\n"
     ]
    },
    {
     "data": {
      "text/plain": [
       "'entered amount of 5000.0 is withdrawn and current balance is 20000.0'"
      ]
     },
     "execution_count": 21,
     "metadata": {},
     "output_type": "execute_result"
    }
   ],
   "source": [
    "#Create a Python class called `BankAccount` with private attributes for the account balance (`__balance`) and account number (`__account_number`). \n",
    "#Provide methods for depositing and withdrawing money.\n",
    "class bankaccount:\n",
    "    def __init__(self,account_number,balance):\n",
    "        self.__account_number = account_number\n",
    "        self.__balance = balance\n",
    "        \n",
    "    def deposit(self):\n",
    "        n= float(input(\"enter the amount to deposit\"))\n",
    "        updated_amount=self.__balance+n\n",
    "        self.__balance = updated_amount\n",
    "        return f\"entered amount {n} is deposited and updated balance is {updated_amount}\"\n",
    "    \n",
    "    def withdraw(self):\n",
    "        m = float(input(\"enter the amount to withdraw\"))\n",
    "        updated_balance = self.__balance - m\n",
    "        self.__balance = updated_balance\n",
    "        return f\"entered amount of {m} is withdrawn and current balance is {updated_balance}\"\n",
    "umaira = bankaccount(62063354933,25000)\n",
    "umaira.withdraw()"
   ]
  },
  {
   "cell_type": "code",
   "execution_count": null,
   "id": "56b9ec64-d0a9-4e60-b971-096de630ad3d",
   "metadata": {},
   "outputs": [],
   "source": [
    "#Discuss the advantages of encapsulation in terms of code maintainability and security.\n",
    "'''Encapsulation is a fundamental concept in object-oriented programming (OOP) that describes the idea of wrapping data and the methods that work on data within one unit.\n",
    "This puts restrictions on accessing variables and methods directly and can prevent the accidental modification of data. \n",
    "\n",
    "In terms of code maintainability, encapsulation provides several benefits. \n",
    "First, it improves code organization by grouping related data and methods together into a single unit. \n",
    "This makes the code easier to read, understand, and modify.\n",
    "Second, encapsulation enhances security and protection for object data by making it more difficult to access private attributes from outside the class. \n",
    "This helps to ensure that an objects state is always valid by controlling access to attributes that are hidden from the outside world.\n",
    "Finally, encapsulation makes it easier to debug code if needed, as the code is more modular and flexible.\n",
    "\n",
    "In terms of security, encapsulation provides several benefits as well. \n",
    "By hiding the implementation details of an object from the outside world, encapsulation helps to prevent unauthorized access to sensitive data. \n",
    "This is achieved by making the variables or data members of a class private, which means they can only be accessed within the class. \n",
    "To allow outside access to the instance variables, public methods called getters and setters are defined, which are used to retrieve and \n",
    "modify the values of the instance variables, respectively.\n",
    "By using getters and setters, the class can enforce its own data validation rules and ensure that its internal state remains consistent .\n",
    "\n",
    "In summary, encapsulation is a powerful tool in OOP that allows us to bundle data and methods together into a single unit. \n",
    "Encapsulation provides several advantages in terms of code maintainability and security, \n",
    "including improved code organization, enhanced security and protection for object data, better code maintainability, easier debugging, \n",
    "and a higher degree of modularity.'''\n"
   ]
  },
  {
   "cell_type": "code",
   "execution_count": null,
   "id": "f84a3368-edd5-47c2-ad0a-0842201a0614",
   "metadata": {},
   "outputs": [],
   "source": [
    "#How can you access private attributes in Python? Provide an example demonstrating the use of name mangling.\n",
    "'''In Python, name mangling is a process that is used to make private attributes of a class more difficult to access from outside the class. \n",
    "In this process, any identifier with two leading underscores and one trailing underscore is textually replaced with _classname__identifier, \n",
    "where classname is the name of the current class. This means that any identifier of the form __geek (at least two leading underscores or at most one trailing underscore)\n",
    "is replaced with _classname__geek, where classname is the current class name with leading underscore(s) stripped 1.\n",
    "\n",
    "Name mangling is used to avoid naming conflicts between different classes and to make it harder to access private attributes from outside the class. \n",
    "However, it does not provide true data hiding or security, as the mangled name can still be accessed from outside the class if the correct name is known \n",
    "\n",
    "In terms of encapsulation, name mangling can be used to implement private attributes in Python classes. \n",
    "By using name mangling, we can make it more difficult to access private attributes from outside the class, \n",
    "which helps to ensure that an object’s state is always valid by controlling access to attributes that are hidden from the outside world .'''\n",
    "class person:\n",
    "    def __init__(self,name, age):\n",
    "        self.__name = name\n",
    "        self.__age = age\n",
    "surya = person('guru', 32)\n",
    "surya._person__name\n"
   ]
  },
  {
   "cell_type": "code",
   "execution_count": 10,
   "id": "d650215e-ffd8-4b78-86f2-dab0e880e451",
   "metadata": {},
   "outputs": [
    {
     "name": "stdout",
     "output_type": "stream",
     "text": [
      "full stack data science\n"
     ]
    },
    {
     "data": {
      "text/plain": [
       "'student name is ramesh and roll number is 496'"
      ]
     },
     "execution_count": 10,
     "metadata": {},
     "output_type": "execute_result"
    }
   ],
   "source": [
    "#Create a Python class hierarchy for a school system, including classes for students, teachers, and courses,\n",
    "#and implement encapsulation principles to protect sensitive information.\n",
    "class School:\n",
    "    def __init__(self,Students,Teachers,Courses):\n",
    "        self.Students= Students\n",
    "        self.Teachers = Teachers\n",
    "        self.Courses = Courses\n",
    "\n",
    "class Students:\n",
    "    def __init__(self,roll_no,name):\n",
    "        self.__roll_no =roll_no\n",
    "        self.name =name\n",
    "        \n",
    "    def student_info(self):\n",
    "        return f\"student name is {self.name} and roll number is {self.__roll_no}\"\n",
    "\n",
    "class Teachers:\n",
    "    def __init__(self,name,subject,id):\n",
    "        self.__name =name\n",
    "        self.subject =subject\n",
    "        self.__id =id\n",
    "        \n",
    "    def Teacher_info(self):\n",
    "        return f\"Teacher name is {self.__name} and ID is {self.__id }\"     \n",
    "\n",
    "class Courses:\n",
    "    def __init__(self,name_of_the_course,duration):\n",
    "        self.name_of_the_course = name_of_the_course\n",
    "        self.duration =duration\n",
    "        \n",
    "        \n",
    "s = Students (496,'ramesh')\n",
    "t = Teachers ('sunitha','python',566)\n",
    "c = Courses ('full stack data science','12 months')\n",
    "s = School(s,t,c)\n",
    "print(s.Courses.name_of_the_course)\n",
    "s.Students.student_info()\n",
    "        "
   ]
  },
  {
   "cell_type": "code",
   "execution_count": null,
   "id": "4517ed3f-c993-47b4-84f2-e6d131025ad5",
   "metadata": {},
   "outputs": [],
   "source": [
    "#Explain the concept of property decorators in Python and how they relate to encapsulation.\n",
    "''' In Python, **property decorators** are used to encapsulate class attributes and provide a way to access them. \n",
    "Encapsulation is a way of restricting access to the internal state of an object, and it is an important concept in object-oriented programming. \n",
    "\n",
    "In Python, we can use the `@property` decorator to define a method that can be accessed like an attribute. \n",
    "This method is called a **getter** method, and it is used to retrieve the value of an attribute. \n",
    "We can also define a **setter** method using the `@<attribute>.setter` decorator, which is used to set the value of an attribute. \n",
    "\n",
    "By using property decorators, we can ensure that the internal state of an object is not modified directly,\n",
    "but only through the getter and setter methods. This helps to maintain the integrity of the object's internal state and makes it easier to debug and maintain the code.\n",
    "\n",
    "In terms of encapsulation, property decorators help to hide the implementation details of a class from the outside world. \n",
    "By using getters and setters, we can control how the attributes of a class are accessed and modified. \n",
    "This allows us to change the implementation of a class without affecting the code that uses it. \n",
    "\n",
    "In summary, property decorators in Python are a powerful tool for encapsulating class attributes and providing a way to access them.\n",
    "They help to maintain the integrity of an object's internal state and make it easier to debug and maintain the code. \n",
    "They also help to hide the implementation details of a class from the outside world, which is an important aspect of encapsulation.'''"
   ]
  },
  {
   "cell_type": "code",
   "execution_count": 9,
   "id": "50f452ca-d04c-4505-9cd9-608b2afe9320",
   "metadata": {},
   "outputs": [
    {
     "data": {
      "text/plain": [
       "'umaiza'"
      ]
     },
     "execution_count": 9,
     "metadata": {},
     "output_type": "execute_result"
    }
   ],
   "source": [
    "#What is data hiding, and why is it important in encapsulation? Provide examples.\n",
    "'''Data hiding is a fundamental concept in object-oriented programming that refers to the practice of hiding the implementation details of an object from outside world.\n",
    "In Python, data hiding is achieved by using the double underscore prefix before the name of the variable or method.\n",
    "\n",
    "Encapsulation is a technique that bundles data and methods that operate on that data within a single unit, which is called a class in Python. \n",
    "Encapsulation is important in object-oriented programming because it helps to protect the data from being accessed by unauthorized users. \n",
    "It also enhances code reusability and modularity in Python programs .'''\n",
    "\n",
    "\n",
    "class person:\n",
    "    def __init__(self, name, age):\n",
    "        self.__name = name\n",
    "        self.__age = age\n",
    "\n",
    "    def get_name(self):\n",
    "        return self.__name\n",
    "\n",
    "    def get_age(self):\n",
    "        return self.__age\n",
    "\n",
    "    def set_name(self, name):\n",
    "        self.__name = name\n",
    "\n",
    "    def set_age(self, age):\n",
    "        self.__age = age\n",
    "\n",
    "\n",
    "ubed = person('umaira', 2)\n",
    "ubed.get_name()\n",
    "ubed.get_age()\n",
    "ubed.set_name('umaiza')\n",
    "ubed.get_name()"
   ]
  },
  {
   "cell_type": "code",
   "execution_count": 6,
   "id": "3a5fa4b4-230f-4be4-9221-c4fa9e095c21",
   "metadata": {},
   "outputs": [
    {
     "data": {
      "text/plain": [
       "16200.0"
      ]
     },
     "execution_count": 6,
     "metadata": {},
     "output_type": "execute_result"
    }
   ],
   "source": [
    "#Create a Python class called `Employee` with private attributes for salary (`__salary`) and employee ID (`__employee_id`). \n",
    "#Provide a method to calculate yearly bonuses.\n",
    "class employee:\n",
    "    def __init__(self,salary,employee_ID):\n",
    "        self.__salary = salary\n",
    "        self.__employee_ID = employee_ID\n",
    "\n",
    "    def yearly_bonus(self):\n",
    "        yearly_bonus = 0.3*self.__salary\n",
    "        return  yearly_bonus\n",
    "employee= employee(54000,231245)  \n",
    "employee.yearly_bonus()"
   ]
  },
  {
   "cell_type": "code",
   "execution_count": null,
   "id": "60f53ab2-3578-4ccd-9775-ec3c95487102",
   "metadata": {},
   "outputs": [],
   "source": [
    "#Discuss the use of accessors and mutators in encapsulation. How do they help maintain control over attribute access?\n",
    "''' In object-oriented programming, encapsulation is the practice of hiding the implementation details of an object and providing an interface to access its properties \n",
    "and behaviors. Accessor and mutator methods are two important concepts related to encapsulation.\n",
    "\n",
    "Accessor methods, also known as getter methods, are methods that allow you to retrieve the value of an object’s private instance variables. \n",
    "These methods provide read-only access to the object’s state. By using accessor methods, you can ensure that the object’s state is not modified \n",
    "accidentally or maliciously by external code.\n",
    "\n",
    "Mutator methods, also known as setter methods, are methods that allow you to modify the value of an object’s private instance variables. \n",
    "These methods provide write-only access to the object’s state. By using mutator methods, \n",
    "you can ensure that the object’s state is modified only through a controlled interface.\n",
    "\n",
    "For example, suppose we have a class called Person that has three private instance variables: name, age, and email. \n",
    "We want to provide access to these variables using accessor and mutator methods. '''\n",
    "\n",
    "class Person:\n",
    "    def __init__(self, name, age, email):\n",
    "        self.__name = name\n",
    "        self.__age = age\n",
    "        self.__email = email\n",
    "\n",
    "    def get_name(self):\n",
    "        return self.__name\n",
    "\n",
    "    def set_name(self, name):\n",
    "        self.__name = name\n",
    "\n",
    "    def get_age(self):\n",
    "        return self.__age\n",
    "\n",
    "    def set_age(self, age):\n",
    "        self.__age = age\n",
    "\n",
    "    def get_email(self):\n",
    "        return self.__email\n",
    "\n",
    "    def set_email(self, email):\n",
    "        self.__email = email\n"
   ]
  },
  {
   "cell_type": "code",
   "execution_count": null,
   "id": "9ce888d9-2dfc-4a1b-a759-72ca5d6ba93d",
   "metadata": {},
   "outputs": [],
   "source": [
    "#What are the potential drawbacks or disadvantages of using encapsulation in Python?\n",
    "''' Encapsulation is a fundamental concept in object-oriented programming that helps to protect the data from being accessed by unauthorized users.\n",
    "However, there are some potential drawbacks or disadvantages of using encapsulation in Python. \n",
    "According to my search results, some of the disadvantages of using encapsulation in Python are:\n",
    "\n",
    "Code Size: \n",
    "\n",
    "The length of the code increases drastically in the case of encapsulation as we need to provide all the methods with the specifiers .\n",
    "\n",
    "More Instructions:\n",
    "\n",
    "As the size of the code increases, therefore, you need to provide additional instructions for every method .\n",
    "\n",
    "Increased Code Execution: \n",
    "\n",
    "Encapsulation results in an increase in the duration of the program execution. \n",
    "It is because more instructions are added to the code, therefore they require more time to execute '''"
   ]
  },
  {
   "cell_type": "code",
   "execution_count": null,
   "id": "ed771ea2-af65-4d0c-997f-66d1b88a4678",
   "metadata": {},
   "outputs": [],
   "source": [
    "#Create a Python class for a library system that encapsulates book information, including titles, authors, and availability status.\n",
    "\n",
    "class library:\n",
    "    def __init__(self,title,author,availability):\n",
    "        self.__title = title\n",
    "        self.__author =author\n",
    "        self.__availability =availability\n",
    "\n",
    "    def tittle(self):\n",
    "        \n",
    "        "
   ]
  },
  {
   "cell_type": "code",
   "execution_count": null,
   "id": "0989a426-59a8-4b05-a257-7f534c249579",
   "metadata": {},
   "outputs": [],
   "source": [
    "#Explain how encapsulation enhances code reusability and modularity in Python programs.\n",
    "'''  Encapsulation is a fundamental concept in object-oriented programming that helps to protect the data from being accessed by unauthorized users. \n",
    "It also enhances code reusability and modularity in Python programs.\n",
    "\n",
    "Encapsulation enables the developer to create a black box where the internal details of the object are hidden from the outside world. \n",
    "This means that the object can be used without knowing how it works internally. This makes the code more modular and easier to maintain .\n",
    "\n",
    "Encapsulation also helps to reduce the complexity of the code by hiding the implementation details of the object. \n",
    "This makes the code more reusable as the object can be used in different parts of the program without worrying about the implementation details .\n",
    "\n",
    "In summary, encapsulation enhances code reusability and modularity in Python programs by making the code more modular, easier to maintain, and more reusable.'''"
   ]
  },
  {
   "cell_type": "code",
   "execution_count": null,
   "id": "65073e3d-6ea9-4aca-bcd6-28a9b35923bb",
   "metadata": {},
   "outputs": [],
   "source": [
    "#Describe the concept of information hiding in encapsulation. Why is it essential in software development?\n",
    "'''Information hiding is a fundamental concept in object-oriented programming that refers to the practice of hiding the implementation details of an object \n",
    "from outside world. \n",
    "It is achieved by encapsulating the information into a module or other construct that presents an interface .\n",
    "\n",
    "In Python, data hiding is achieved by using the double underscore prefix before the name of the variable or method .\n",
    "Encapsulation is a technique that bundles data and methods that operate on that data within a single unit, which is called a class in Python.\n",
    "Encapsulation is important in software development because it helps to protect the data from being accessed by unauthorized users.\n",
    "It also enhances code reusability and modularity in Python programs ''' "
   ]
  },
  {
   "cell_type": "code",
   "execution_count": 19,
   "id": "2618513f-f092-478f-8d8c-875e6ed5d9ac",
   "metadata": {},
   "outputs": [
    {
     "data": {
      "text/plain": [
       "'rahul'"
      ]
     },
     "execution_count": 19,
     "metadata": {},
     "output_type": "execute_result"
    }
   ],
   "source": [
    "#Create a Python class called `Customer` with private attributes for customer details like name, address, and contact information. \n",
    "#Implement encapsulation to ensure data integrity and security.`\n",
    "\n",
    "class customer:\n",
    "     \n",
    "   def __init__(self,name,address,phn_number):\n",
    "        self.__name = name\n",
    "        self.__address = address\n",
    "        self.__phn_number = phn_number\n",
    "\n",
    "   def get_name(self):\n",
    "       return self.__name\n",
    "   def set_name(self, name):\n",
    "       self.__name = name\n",
    "   def get_address(self):\n",
    "       return self.__address\n",
    "   def set_address(self,address):\n",
    "       self.__address = address\n",
    "   def get_number(self):\n",
    "       return  self.__phn_number\n",
    "   def set_number(self,phn_number):    \n",
    "       self.__phn_number = phn_number\n",
    "\n",
    "    \n",
    "ub = customer('ubed','A506',7982731258)   \n",
    "ub.get_name()\n",
    "ub.set_name('rahul')\n",
    "ub.get_name()"
   ]
  },
  {
   "cell_type": "code",
   "execution_count": 25,
   "id": "fc43f7bc-45f2-4e56-8d6f-8be8b6c66709",
   "metadata": {},
   "outputs": [],
   "source": [
    "'''polymorphism'''\n",
    "\n",
    "#What is polymorphism in Python? Explain how it is related to object-oriented programming.\n",
    "\n",
    "'''Polymorphism is a fundamental concept in object-oriented programming that allows objects of different classes to be treated as if they were of the same class. \n",
    "In Python, polymorphism is achieved through method overloading and method overriding. \n",
    "Method overloading is when a class has multiple methods with the same name but different parameters,\n",
    "while method overriding is when a subclass provides a different implementation of a method that is already defined in its parent class.\n",
    "\n",
    "For example, let's say we have a `Shape` class with a method called `area()`.\n",
    "We can create subclasses such as `Circle`, `Rectangle`, and `Triangle` that inherit from the `Shape` class and provide their own implementation of the `area()` method. \n",
    "When we call the `area()` method on an object of any of these subclasses, Python will automatically call the appropriate implementation based on the object's class.\n",
    "\n",
    "Polymorphism is a powerful tool in object-oriented programming because it allows us to write more flexible and reusable code.\n",
    "By treating objects of different classes as if they were of the same class, we can write code that is more generic and can work with a wider range of objects.'''"
   ]
  },
  {
   "cell_type": "code",
   "execution_count": null,
   "id": "e3d2c878-3848-4aca-8e80-f6f2d006f929",
   "metadata": {},
   "outputs": [],
   "source": [
    "#Describe the difference between compile-time polymorphism and runtime polymorphism in Python.\n",
    "''' In Python, **compile-time polymorphism** is not supported. Method overloading, which is an example of compile-time polymorphism, \n",
    "is when a class has multiple methods with the same name but different parameters. However, in Python, \n",
    "if we define multiple methods with the same name, the method defined last will override the earlier ones .\n",
    "\n",
    "On the other hand, **runtime polymorphism** is supported in Python through method overriding. \n",
    "Method overriding is when a subclass provides a different implementation of a method that is already defined in its parent class. \n",
    "When we call the method on an object of the subclass, Python will automatically call the appropriate implementation based on the object's class.\n",
    "\n",
    "The key difference between compile-time polymorphism and runtime polymorphism is that in compile-time polymorphism, \n",
    "the method to be called is determined at compile-time based on the number and types of arguments passed to the method, \n",
    "while in runtime polymorphism, the method to be called is determined at runtime based on the actual object's class.'''\n"
   ]
  },
  {
   "cell_type": "code",
   "execution_count": 15,
   "id": "6ef1718b-8b0b-46d4-b542-5dd244e82f50",
   "metadata": {},
   "outputs": [
    {
     "name": "stdout",
     "output_type": "stream",
     "text": [
      "Area of circle is : 314.0\n",
      "Area of Square is :  100\n",
      "Area of Triangle is :  100.0\n"
     ]
    }
   ],
   "source": [
    "#Create a Python class hierarchy for shapes (e.g., circle, square, triangle) and demonstrate polymorphism through a common method, such as `calculate_area()`.\n",
    "class shape:\n",
    "    def calculate_area(self):\n",
    "        pass\n",
    "        \n",
    "class circle(shape):\n",
    "    def __init__(self, r):\n",
    "        self.r = r\n",
    "    def calculate_area(self):\n",
    "        area = 3.14*self.r**2\n",
    "        return area\n",
    "\n",
    "class square(shape):\n",
    "    def __init__(self,s):\n",
    "        self.s = s\n",
    "    def calculate_area(self):\n",
    "        area = self.s* self.s\n",
    "        return area\n",
    "\n",
    "class triangle(shape):\n",
    "     def __init__(self,b,h):\n",
    "        self.b = b\n",
    "        self.h = h \n",
    "     def calculate_area(self):\n",
    "        area = 0.5*self.h* self.b\n",
    "        return area\n",
    "    \n",
    "area = circle(10)   \n",
    "print(\"Area of circle is :\" , area.calculate_area())\n",
    "\n",
    "area = square(10)\n",
    "print(\"Area of Square is : \" ,area.calculate_area())\n",
    "\n",
    "area = triangle(10,20)\n",
    "print(\"Area of Triangle is : \" ,area.calculate_area())"
   ]
  },
  {
   "cell_type": "code",
   "execution_count": null,
   "id": "6068e7cd-4557-4aa3-b9f5-1e8da41caeba",
   "metadata": {},
   "outputs": [],
   "source": [
    "#Explain the concept of method overriding in polymorphism. Provide an example.\n",
    "'''In object-oriented programming, method overriding is the process of defining a method in a subclass that has the same name, parameters, \n",
    "and return type as a method in its superclass. When the method is called on an object of the subclass, \n",
    "the implementation in the subclass is used instead of the implementation in the superclass. \n",
    "Method overriding is a key feature of polymorphism because it allows objects of different classes to be treated as if they were of the same class'''\n",
    "\n",
    "class shape:\n",
    "    def calculate_area(self):\n",
    "        pass\n",
    "        \n",
    "class circle(shape):\n",
    "    def __init__(self, r):\n",
    "        self.r = r\n",
    "    def calculate_area(self):\n",
    "        area = 3.14*self.r**2\n",
    "        return area\n",
    "\n",
    "class square(shape):\n",
    "    def __init__(self,s):\n",
    "        self.s = s\n",
    "    def calculate_area(self):\n",
    "        area = self.s* self.s\n",
    "        return area\n",
    "\n",
    "class triangle(shape):\n",
    "     def __init__(self,b,h):\n",
    "        self.b = b\n",
    "        self.h = h \n",
    "     def calculate_area(self):\n",
    "        area = 0.5*self.h* self.b\n",
    "        return area\n",
    "    \n",
    "area = circle(10)   \n",
    "print(\"Area of circle is :\" , area.calculate_area())\n",
    "\n",
    "area = square(10)\n",
    "print(\"Area of Square is : \" ,area.calculate_area())\n",
    "\n",
    "area = triangle(10,20)\n",
    "print(\"Area of Triangle is : \" ,area.calculate_area())"
   ]
  },
  {
   "cell_type": "code",
   "execution_count": null,
   "id": "401f2701-6f3b-48bc-879a-588327b98084",
   "metadata": {},
   "outputs": [],
   "source": [
    "#How is polymorphism different from method overloading in Python? Provide examples for both.\n",
    "'''In Python, method overloading is not supported. \n",
    "Method overloading is when a class has multiple methods with the same name but different parameters.\n",
    "However, in Python, if we define multiple methods with the same name, the method defined last will override the earlier ones.\n",
    "\n",
    "On the other hand, \n",
    "polymorphism is a fundamental concept in object-oriented programming that allows objects of different classes to be treated as if they were of the same class. \n",
    "olymorphism is achieved through method overriding and method overloading in other programming languages. \n",
    "Method overriding is when a subclass provides a different implementation of a method that is already defined in its parent class. \n",
    "When we call the method on an object of the subclass, Python will automatically call the appropriate implementation based on the object’s class'''\n",
    "\n",
    "class shape:\n",
    "    def calculate_area(self):\n",
    "        pass\n",
    "        \n",
    "class circle(shape):\n",
    "    def __init__(self, r):\n",
    "        self.r = r\n",
    "    def calculate_area(self):\n",
    "        area = 3.14*self.r**2\n",
    "        return area\n",
    "\n",
    "class square(shape):\n",
    "    def __init__(self,s):\n",
    "        self.s = s\n",
    "    def calculate_area(self):\n",
    "        area = self.s* self.s\n",
    "        return area\n",
    "\n",
    "class triangle(shape):\n",
    "     def __init__(self,b,h):\n",
    "        self.b = b\n",
    "        self.h = h \n",
    "     def calculate_area(self):\n",
    "        area = 0.5*self.h* self.b\n",
    "        return area\n",
    "    \n",
    "area = circle(10)   \n",
    "print(\"Area of circle is :\" , area.calculate_area())\n",
    "\n",
    "area = square(10)\n",
    "print(\"Area of Square is : \" ,area.calculate_area())\n",
    "\n",
    "area = triangle(10,20)\n",
    "print(\"Area of Triangle is : \" ,area.calculate_area())"
   ]
  },
  {
   "cell_type": "code",
   "execution_count": 18,
   "id": "30bc9d69-3664-4e79-9852-214f919e6952",
   "metadata": {},
   "outputs": [
    {
     "name": "stdout",
     "output_type": "stream",
     "text": [
      "dog speak is barking Baw-Baw\n",
      "cat speak is whispering meaow meaow\n",
      "bird speak is chrimping chu-chu\n"
     ]
    }
   ],
   "source": [
    "#Create a Python class called `Animal` with a method `speak()`. Then, create child classes like `Dog`, `Cat`, and `Bird`, each with their own `speak()` method. \n",
    "#Demonstrate polymorphism by calling the `speak()` method on objects of different subclasses.\n",
    "class animal:\n",
    "    def speak():\n",
    "        pass\n",
    "\n",
    "class dog(animal):\n",
    "    def speak(self):\n",
    "        return \"dog speak is barking Baw-Baw\"\n",
    "\n",
    "class cat(animal):\n",
    "    def speak(self):\n",
    "        return \"cat speak is whispering meaow meaow\"\n",
    "\n",
    "class bird(animal):\n",
    "    def speak(self):\n",
    "        return \"bird speak is chrimping chu-chu\"\n",
    "\n",
    "sound = dog()\n",
    "print(sound.speak())\n",
    "sound = cat()\n",
    "print(sound.speak())\n",
    "sound = bird()\n",
    "print(sound.speak())"
   ]
  },
  {
   "cell_type": "code",
   "execution_count": 22,
   "id": "197f1cf3-1e78-4164-b0c6-1c9dabbf6629",
   "metadata": {},
   "outputs": [
    {
     "name": "stdout",
     "output_type": "stream",
     "text": [
      "dog speak is barking Baw-Baw\n",
      "cat speak is whispering meaow meaow\n",
      "bird speak is chrimping chu-chu\n"
     ]
    }
   ],
   "source": [
    "#Discuss the use of abstract methods and classes in achieving polymorphism in Python. Provide an example using the `abc` module.\n",
    "'''In Python, abstract classes are classes that cannot be instantiated and are meant to be used as a base for other classes. \n",
    "Abstract classes can define abstract methods, which are methods that have no implementation in the abstract class but must be implemented in any concrete subclass. \n",
    "Abstract classes and methods are useful for achieving polymorphism in Python because they allow objects of different classes to be treated as if they were ofthe sameclass.\n",
    "\n",
    "The abc module in Python provides the infrastructure for defining abstract base classes (ABCs) and abstract methods. \n",
    "To define an abstract class, we can use the ABC class from the abc module as a base class and decorate any abstract methods with the @abstractmethod decorator.\n",
    "Here’s an example: '''\n",
    "\n",
    "from abc import ABC, abstractmethod\n",
    "\n",
    "class animal(ABC):\n",
    "    @abstractmethod\n",
    "    def speak():\n",
    "        pass\n",
    "\n",
    "class dog(animal):\n",
    "    def speak(self):\n",
    "        return \"dog speak is barking Baw-Baw\"\n",
    "\n",
    "class cat(animal):\n",
    "    def speak(self):\n",
    "        return \"cat speak is whispering meaow meaow\"\n",
    "\n",
    "class bird(animal):\n",
    "    def speak(self):\n",
    "        return \"bird speak is chrimping chu-chu\"\n",
    "\n",
    "sound = dog()\n",
    "print(sound.speak())\n",
    "sound = cat()\n",
    "print(sound.speak())\n",
    "sound = bird()\n",
    "print(sound.speak())\n"
   ]
  },
  {
   "cell_type": "code",
   "execution_count": 21,
   "id": "a27a8cb1-5e7b-40f6-89df-063a86ffeb10",
   "metadata": {},
   "outputs": [
    {
     "name": "stdout",
     "output_type": "stream",
     "text": [
      "car will be started with help of start button and driven using steering\n",
      "bicycle is started by appyling pressure on padles with foot\n",
      "boat is started by motor or using see saw\n"
     ]
    }
   ],
   "source": [
    "#Create a Python class hierarchy for a vehicle system (e.g., car, bicycle, boat) and implement a polymorphic `start()` method that prints a message specific to each vehicle type.\n",
    "class vehicle_system:\n",
    "    def start(self):\n",
    "        pass\n",
    "class car(vehicle_system):\n",
    "    def start(self):\n",
    "        return \"car will be started with help of start button and driven using steering\"\n",
    "class bicycle(vehicle_system):\n",
    "    def start(self):\n",
    "        return \"bicycle is started by appyling pressure on padles with foot\"\n",
    "\n",
    "class boat(vehicle_system):\n",
    "    def start(self):\n",
    "        return \"boat is started by motor or using see saw\"\n",
    "key = car()\n",
    "print(key.start())\n",
    "key = bicycle()\n",
    "print(key.start())\n",
    "key = boat()\n",
    "print(key.start())"
   ]
  },
  {
   "cell_type": "code",
   "execution_count": null,
   "id": "a7bac27d-5269-4de8-8527-ac53cc5b54e6",
   "metadata": {},
   "outputs": [],
   "source": [
    "#Explain the significance of the `isinstance()` and `issubclass()` functions in Python polymorphism.\n",
    "In Python, isinstance() and issubclass() are built-in functions that are used to check the type of an object and its class hierarchy, respectively.\n",
    "These functions are significant in Python polymorphism because they allow us to write more flexible and reusable code that can work with a wider range of objects.\n",
    "The isinstance() function takes two arguments: an object and a class or a tuple of classes. \n",
    "It returns True if the object is an instance of the class or any of the classes in the tuple, and False otherwise. Here’s an example:\n",
    "class Shape:\n",
    "    pass\n",
    "\n",
    "class Circle(Shape):\n",
    "    pass\n",
    "\n",
    "circle = Circle()\n",
    "\n",
    "print(isinstance(circle, Circle))  # True\n",
    "print(isinstance(circle, Shape))   # True\n",
    "print(isinstance(circle, object))  # True\n",
    "print(isinstance(circle, int))     # False\n",
    "\n",
    "The issubclass() function takes two arguments: a class and a class or a tuple of classes. \n",
    "It returns True if the first class is a subclass of the second class or any of the classes in the tuple, and False otherwise. Here’s an example:\n",
    "\n",
    "class Shape:\n",
    "    pass\n",
    "\n",
    "class Circle(Shape):\n",
    "    pass\n",
    "\n",
    "print(issubclass(Circle, Shape))  # True\n",
    "print(issubclass(Shape, Circle))  # False\n",
    "print(issubclass(Circle, object)) # True\n"
   ]
  },
  {
   "cell_type": "code",
   "execution_count": null,
   "id": "f9aef12d-220e-408f-8d13-e832d3636a6a",
   "metadata": {},
   "outputs": [],
   "source": [
    "#What is the role of the `@abstractmethod` decorator in achieving polymorphism in Python? Provide an example.\n",
    "''' In Python, the @abstractmethod decorator is used to declare abstract methods in abstract classes. \n",
    "An abstract method is a method that has no implementation in the abstract class but must be implemented in any concrete subclass. \n",
    "Abstract classes and methods are useful for achieving polymorphism in Python because they allow objects of different classes tobe treated as if they were of same class'''\n",
    "\n",
    "from abc import ABC, abstractmethod\n",
    "\n",
    "class animal(ABC):\n",
    "    @abstractmethod\n",
    "    def speak():\n",
    "        pass\n",
    "\n",
    "class dog(animal):\n",
    "    def speak(self):\n",
    "        return \"dog speak is barking Baw-Baw\"\n",
    "\n",
    "class cat(animal):\n",
    "    def speak(self):\n",
    "        return \"cat speak is whispering meaow meaow\"\n",
    "\n",
    "class bird(animal):\n",
    "    def speak(self):\n",
    "        return \"bird speak is chrimping chu-chu\"\n",
    "\n",
    "sound = dog()\n",
    "print(sound.speak())\n",
    "sound = cat()\n",
    "print(sound.speak())\n",
    "sound = bird()\n",
    "print(sound.speak())"
   ]
  },
  {
   "cell_type": "code",
   "execution_count": 25,
   "id": "5da2a2c4-9da8-408f-9d16-c8bf80eb638f",
   "metadata": {},
   "outputs": [
    {
     "name": "stdout",
     "output_type": "stream",
     "text": [
      "Area of circle is : 314.0\n",
      "Area of rectangle is :  100\n",
      "Area of Triangle is :  100.0\n"
     ]
    }
   ],
   "source": [
    "#Create a Python class called `Shape` with a polymorphic method `area()` that calculates the area of different shapes (e.g., circle, rectangle, triangle).\n",
    "class shape:\n",
    "    def area(self):\n",
    "        pass\n",
    "        \n",
    "class circle(shape):\n",
    "    def __init__(self, r):\n",
    "        self.r = r\n",
    "    def area(self):\n",
    "        return  3.14*self.r**2\n",
    "       \n",
    "class rectangle(shape):\n",
    "    def __init__(self,l,b):\n",
    "        self.l = l\n",
    "        self.b = b\n",
    "    def area(self):\n",
    "        return self.l* self.b\n",
    "    \n",
    "class triangle(shape):\n",
    "     def __init__(self,b,h):\n",
    "        self.b = b\n",
    "        self.h = h \n",
    "     def area(self):\n",
    "         return  0.5*self.h* self.b\n",
    "         \n",
    "area = circle(10)   \n",
    "print(\"Area of circle is :\" , area.area())\n",
    "\n",
    "area = rectangle(10,10)\n",
    "print(\"Area of rectangle is : \" ,area.area())\n",
    "\n",
    "area = triangle(10,20)\n",
    "print(\"Area of Triangle is : \" ,area.area())"
   ]
  },
  {
   "cell_type": "code",
   "execution_count": null,
   "id": "45633e1d-766c-48cf-84bc-341354be83fc",
   "metadata": {},
   "outputs": [],
   "source": [
    "#Discuss the benefits of polymorphism in terms of code reusability and flexibility in Python programs.\n",
    "''' Polymorphism is a powerful feature of object-oriented programming that allows objects of different classes to be treated as if they were of the same class.\n",
    "This can lead to increased code reusability and flexibility in Python programs.\n",
    "\n",
    "Here are some benefits of polymorphism in Python programs:\n",
    "\n",
    "**Code reusability**: Polymorphism allows you to reuse code by creating a single interface that can be implemented by multiple classes. \n",
    "This means that you can write code that works with a variety of different objects without having to write separate code for each object type.\n",
    "\n",
    "**Flexibility**: Polymorphism makes it easy to add new functionality to your Python programs without having to modify existing code.\n",
    "This is because you can create new classes that implement the same interface as existing classes, and then use these new classes interchangeably with the old ones.\n",
    "\n",
    "**Simplicity**: Polymorphism can make your code simpler and easier to read by reducing the amount of conditional logic required.\n",
    "Instead of writing complex if/else statements to handle different object types, \n",
    "you can simply call the appropriate method on the object and let polymorphism take care of the rest.\n",
    "\n",
    "**Extensibility**: Polymorphism makes it easy to extend your Python programs by adding new classes that implement the same interface as existing classes. \n",
    "This means that you can add new functionality to your programs without having to modify existing code.\n",
    "\n",
    "polymorphism is a powerful feature of OOPS that can lead to increased code reusability, flexibility, simplicity, and extensibility in Python programs'''\n",
    "\n",
    "\n"
   ]
  },
  {
   "cell_type": "code",
   "execution_count": 29,
   "id": "cf1e580a-a085-43a3-8c51-9284967c8f9f",
   "metadata": {},
   "outputs": [
    {
     "data": {
      "text/plain": [
       "'name is ubed and sex is male and age is 22'"
      ]
     },
     "execution_count": 29,
     "metadata": {},
     "output_type": "execute_result"
    }
   ],
   "source": [
    "#Explain the use of the `super()` function in Python polymorphism. How does it help call methods of parent classes?\n",
    "''' In Python, super() is a built-in function that allows a subclass to call methods of its parent class. \n",
    "It is used in the context of polymorphism, which refers to the ability of an object to take on many forms.\n",
    "\n",
    "When a subclass inherits from a parent class, it can override the parent’s methods with its own implementation. \n",
    "However, sometimes we want to use the parent’s implementation as well. This is where super() comes in handy.\n",
    "\n",
    "By calling super(), we can access the parent’s methods and attributes. \n",
    "We can then use them in the subclass’s implementation. This allows us to reuse code and avoid duplicating functionality.'''\n",
    "\n",
    "class person:\n",
    "    def __init__(self,name,sex):\n",
    "        self.name = name\n",
    "        self.sex = sex\n",
    "    def show_details(self):\n",
    "        return f\"name is {self.name} and sex is {self.sex}\"\n",
    "\n",
    "class data_of_person(person):\n",
    "    def __init__(self,age,name,sex):\n",
    "        super().__init__(name,sex)\n",
    "        self.age = age\n",
    "\n",
    "    def show_details(self):\n",
    "        details = super().show_details()\n",
    "        return f\"{details} and age is {self.age}\"\n",
    "     \n",
    "ur = data_of_person(22,'ubed','male')\n",
    "ur.show_details()\n"
   ]
  },
  {
   "cell_type": "code",
   "execution_count": 58,
   "id": "f3f4e1c7-7058-4b26-a3b8-7f739faf4c1a",
   "metadata": {},
   "outputs": [
    {
     "name": "stdout",
     "output_type": "stream",
     "text": [
      "50000 is withdrawn from your ICICI savings account and remaining balance is 150000\n",
      "50000 is withdrawn from your ICICI checking account and remaining balance is 19950000\n",
      "50000 is withdrawn from your ICICI credit card and remaining balance is 1950000\n"
     ]
    }
   ],
   "source": [
    "#Create a Python class hierarchy for a banking system with various account types (e.g., savings, checking, credit card) and demonstrate \n",
    "#polymorphism by implementing a common `withdraw()` method.\n",
    "\n",
    "class bank:\n",
    "    def withdraw(self):\n",
    "        pass\n",
    "        \n",
    "class savings(bank):\n",
    "    def __init__(self):\n",
    "        self.cash = 200000\n",
    "        \n",
    "    def withdraw(self,withdraw_amount):\n",
    "        self.withdraw_amount = withdraw_amount\n",
    "        remaining_amount =  self.cash - self.withdraw_amount\n",
    "        return f\"{self.withdraw_amount} is withdrawn from your ICICI savings account and remaining balance is {remaining_amount}\"\n",
    "\n",
    "class checking(bank):\n",
    "    def __init__(self):\n",
    "        self.cash = 20000000\n",
    "        \n",
    "    def withdraw(self,withdraw_amount):\n",
    "        self.withdraw_amount = withdraw_amount\n",
    "        remaining_amount =  self.cash - self.withdraw_amount\n",
    "        return f\"{self.withdraw_amount} is withdrawn from your ICICI checking account and remaining balance is {remaining_amount}\"\n",
    "\n",
    "class credit_card(bank):\n",
    "    def __init__(self):\n",
    "        self.cash = 2000000\n",
    "        \n",
    "    def withdraw(self,withdraw_amount):\n",
    "        self.withdraw_amount = withdraw_amount\n",
    "        remaining_amount =  self.cash - self.withdraw_amount\n",
    "        return f\"{self.withdraw_amount} is withdrawn from your ICICI credit card and remaining balance is {remaining_amount}\"\n",
    "\n",
    "mn = savings()\n",
    "print(mn.withdraw(50000))\n",
    "mn = checking()\n",
    "print(mn.withdraw(50000))\n",
    "mn = credit_card()\n",
    "print(mn.withdraw(50000))"
   ]
  },
  {
   "cell_type": "code",
   "execution_count": 70,
   "id": "e47cb8ba-36cc-41d1-a3de-5b100e42b246",
   "metadata": {},
   "outputs": [
    {
     "ename": "TypeError",
     "evalue": "multiplication.mul() missing 2 required positional arguments: 'y' and 'z'",
     "output_type": "error",
     "traceback": [
      "\u001b[1;31m---------------------------------------------------------------------------\u001b[0m",
      "\u001b[1;31mTypeError\u001b[0m                                 Traceback (most recent call last)",
      "Cell \u001b[1;32mIn[70], line 9\u001b[0m\n\u001b[0;32m      7\u001b[0m         \u001b[38;5;28;01mreturn\u001b[39;00m x \u001b[38;5;241m*\u001b[39m y \u001b[38;5;241m*\u001b[39m z\n\u001b[0;32m      8\u001b[0m ubed \u001b[38;5;241m=\u001b[39m multiplication  \n\u001b[1;32m----> 9\u001b[0m \u001b[43mubed\u001b[49m\u001b[38;5;241;43m.\u001b[39;49m\u001b[43mmul\u001b[49m\u001b[43m(\u001b[49m\u001b[38;5;241;43m10\u001b[39;49m\u001b[43m,\u001b[49m\u001b[38;5;241;43m2\u001b[39;49m\u001b[43m)\u001b[49m\n",
      "\u001b[1;31mTypeError\u001b[0m: multiplication.mul() missing 2 required positional arguments: 'y' and 'z'"
     ]
    }
   ],
   "source": [
    "#Describe the concept of operator overloading in Python and how it relates to polymorphism. Provide examples using operators like `+` and `*`.\n",
    "\n",
    "class multiplication:\n",
    "    def mul(self,x,y):\n",
    "        return  x * y\n",
    "    def mul(self,x,y,z):\n",
    "        return x * y * z\n",
    "ubed = multiplication  \n",
    "ubed.mul(10,2)"
   ]
  },
  {
   "cell_type": "code",
   "execution_count": null,
   "id": "2cd8bb10-79c8-42e0-aafc-4d331e12f7a2",
   "metadata": {},
   "outputs": [],
   "source": [
    "#What is dynamic polymorphism, and how is it achieved in Python?\n",
    "'''Dynamic polymorphism is a type of polymorphism that allows objects to take on different forms at runtime. \n",
    "In Python, dynamic polymorphism is achieved through method overriding and method overloading.\n",
    "\n",
    "Method overriding is when a subclass provides a different implementation of a method that is already defined in its parent class. \n",
    "When the method is called on an instance of the subclass, the subclass’s implementation is used instead of the parent’s implementation. \n",
    "This allows us to customize the behavior of a method for a specific subclass.\n",
    "\n",
    "Method overloading is when a class defines multiple methods with the same name but different parameters. \n",
    "When the method is called, Python determines which version of the method to use based on the number and types of arguments passed to it. \n",
    "This allows us to create more flexible and reusable code.'''\n",
    "\n",
    "#overriding\n",
    "class Animal:\n",
    "    def speak(self):\n",
    "        print(\"Animal speaks\")\n",
    "\n",
    "class Dog(Animal):\n",
    "    def speak(self):\n",
    "        print(\"Dog barks\")\n",
    "\n",
    "a = Animal()\n",
    "a.speak() # prints \"Animal speaks\"\n",
    "\n",
    "d = Dog()\n",
    "d.speak() # prints \"Dog barks\"\n",
    "\n",
    "#overloading \n",
    "class Calculator:\n",
    "    def add(self, x, y):\n",
    "        return x + y\n",
    "\n",
    "    def add(self, x, y, z):\n",
    "        return x + y + z\n",
    "\n",
    "c = Calculator()\n",
    "print(c.add(1, 2)) # prints 3\n",
    "print(c.add(1, 2, 3)) # prints 6\n"
   ]
  },
  {
   "cell_type": "code",
   "execution_count": 38,
   "id": "417dfd7d-29de-4b4a-9980-b94302d13ee9",
   "metadata": {},
   "outputs": [
    {
     "name": "stdout",
     "output_type": "stream",
     "text": [
      "salary of manager is 10000000.0\n",
      "salary of developer is 6000000.0\n",
      "salary of designer is 4000000.0\n"
     ]
    }
   ],
   "source": [
    "#Create a Python class hierarchy for employees in a company (e.g., manager, developer, designer) and implement polymorphism through a common `calculate_salary()` method.\n",
    "class employees:\n",
    "    def calculate_salary(self):\n",
    "        pass\n",
    "\n",
    "class manager(employees):\n",
    "    def __init__(self,budget):\n",
    "        self.budget = budget\n",
    "        \n",
    "    def calculate_salary(self):\n",
    "        salary = 0.5* self.budget\n",
    "        return f\"salary of manager is {salary}\"\n",
    "\n",
    "class developer(employees):\n",
    "    def __init__(self,budget):\n",
    "        self.budget = budget\n",
    "        \n",
    "    def calculate_salary(self):\n",
    "        salary = 0.3* self.budget\n",
    "        return f\"salary of developer is {salary}\"\n",
    "\n",
    "class designer(employees):\n",
    "    def __init__(self,budget):\n",
    "        self.budget = budget\n",
    "        \n",
    "    def calculate_salary(self):\n",
    "        salary = 0.2*self.budget\n",
    "        return f\"salary of designer is {salary}\"\n",
    "\n",
    "sal = manager(20000000)\n",
    "print(sal.calculate_salary())\n",
    "sal = developer(20000000)\n",
    "print(sal.calculate_salary())\n",
    "sal = designer(20000000)\n",
    "print(sal.calculate_salary())\n"
   ]
  },
  {
   "cell_type": "code",
   "execution_count": 72,
   "id": "d72571b8-ed80-4753-a92c-2d541b0a72dc",
   "metadata": {},
   "outputs": [
    {
     "data": {
      "text/plain": [
       "25"
      ]
     },
     "execution_count": 72,
     "metadata": {},
     "output_type": "execute_result"
    }
   ],
   "source": [
    "#Discuss the concept of function pointers and how they can be used to achieve polymorphism in Python.\n",
    "'''In Python, first-class functions are functions that can be treated like any other object. \n",
    "This means that they can be assigned to variables, passed as arguments to other functions, and returned as values from functions.\n",
    "\n",
    "Here’s an example of a first-class function in Python:'''\n",
    "\n",
    "def square(x):\n",
    "    return x*x\n",
    "\n",
    "f= square\n",
    "f(5)\n"
   ]
  },
  {
   "cell_type": "code",
   "execution_count": null,
   "id": "d48356a3-4fa1-45ff-87b1-9db712e8e77b",
   "metadata": {},
   "outputs": [],
   "source": [
    "#Explain the role of interfaces and abstract classes in polymorphism, drawing comparisons between them.\n",
    "''' Polymorphism is a fundamental concept in object-oriented programming that allows objects of different classes to be treated as if they were of the same class.\n",
    "Interfaces and abstract classes are two mechanisms in Python that enable polymorphism.\n",
    "\n",
    "An interface is a collection of abstract methods that define a set of behaviors that a class must implement. \n",
    "It provides a way to specify a contract between a class and the outside world.\n",
    "A class that implements an interface must provide an implementation for all the methods defined in the interface. \n",
    "Interfaces are useful when you want to define a common behavior that can be implemented by multiple classes that are not necessarily related by inheritance.\n",
    "\n",
    "An abstract class is a class that cannot be instantiated and is used to define a set of common properties and behaviors that can be shared by multiple subclasses. \n",
    "Abstract classes can have both abstract and concrete methods. Abstract methods are methods that are declared but not implemented in the abstract class. \n",
    "They must be implemented by any concrete subclass that inherits from the abstract class. \n",
    "Concrete methods are methods that are implemented in the abstract class and can be inherited by the concrete subclasses. \n",
    "Abstract classes are useful when you want to define a common behavior that can be shared by multiple subclasses that are related by inheritance.\n",
    "\n",
    "The main difference between interfaces and abstract classes is that interfaces only define a set of behaviors that a class must implement, \n",
    "while abstract classes can provide a default implementation for some of the methods. Another difference is that a class can implement multiple interfaces,\n",
    "but it can only inherit from one abstract class.\n",
    "\n",
    "In summary, interfaces and abstract classes are both mechanisms for enabling polymorphism in Python.\n",
    "Interfaces define a set of behaviors that a class must implement, while abstract classes define a set of common properties and behaviors that can be \n",
    "shared by multiple subclasses. Both mechanisms are useful in different situations and can be used together to achieve more complex polymorphic behavior.'''\n",
    "\n",
    "\n",
    "\n"
   ]
  },
  {
   "cell_type": "code",
   "execution_count": 12,
   "id": "bbe30c58-aa16-453a-b186-1b4e33b66f12",
   "metadata": {},
   "outputs": [
    {
     "name": "stdout",
     "output_type": "stream",
     "text": [
      "Buddy (Canis lupus familiaris): Woof!\n",
      "Whiskers (Felis catus): Meow!\n",
      "Simba (Panthera leo): Roar!\n"
     ]
    }
   ],
   "source": [
    "#Create a Python class for a zoo simulation, demonstrating polymorphism with different\n",
    "class Animal:\n",
    "    def __init__(self, name, species):\n",
    "        self.name = name\n",
    "        self.species = species\n",
    "\n",
    "    def make_sound(self):\n",
    "        pass\n",
    "\n",
    "class Dog(Animal):\n",
    "    def make_sound(self):\n",
    "        return \"Woof!\"\n",
    "\n",
    "class Cat(Animal):\n",
    "    def make_sound(self):\n",
    "        return \"Meow!\"\n",
    "\n",
    "class Lion(Animal):\n",
    "    def make_sound(self):\n",
    "        return \"Roar!\"\n",
    "\n",
    "class Zoo:\n",
    "    def __init__(self):\n",
    "        self.animals = []\n",
    "\n",
    "    def add_animal(self, animal):\n",
    "        self.animals.append(animal)\n",
    "\n",
    "    def show_animals(self):\n",
    "        for animal in self.animals:\n",
    "            print(f\"{animal.name} ({animal.species}): {animal.make_sound()}\")\n",
    "\n",
    "zoo = Zoo()\n",
    "zoo.add_animal(Dog(\"Buddy\", \"Canis lupus familiaris\"))\n",
    "zoo.add_animal(Cat(\"Whiskers\", \"Felis catus\"))\n",
    "zoo.add_animal(Lion(\"Simba\", \"Panthera leo\"))\n",
    "zoo.show_animals()\n"
   ]
  },
  {
   "cell_type": "code",
   "execution_count": 29,
   "id": "9777bba2-fe1b-4922-942c-8ebe12b499d9",
   "metadata": {},
   "outputs": [
    {
     "data": {
      "text/plain": [
       "'car started bro'"
      ]
     },
     "execution_count": 29,
     "metadata": {},
     "output_type": "execute_result"
    }
   ],
   "source": [
    "'''Abstraction:'''\n",
    "#What is abstraction in Python, and how does it relate to object-oriented programming?\n",
    "''' Abstraction is a fundamental concept in object-oriented programming (OOP) that allows us to focus on the behavior of an object and ignore the \n",
    "underlying implementation details . \n",
    "It is the process of hiding the implementation details of an object and exposing only the essential features to the outside world .\n",
    "\n",
    "In Python, abstraction is achieved by creating classes and hiding the implementation details of the methods . \n",
    "Abstraction involves hiding the implementation details of a class and only exposing the essential features . \n",
    "It simplifies complex reality by modeling classes based on the essential properties and behaviors an object should possess .\n",
    "\n",
    "Abstract classes are used to define a blueprint for other classes. \n",
    "They cannot be instantiated and are designed to be subclassed by other classes 1. \n",
    "Abstract methods are methods that are declared in the abstract class but do not have an implementation 1. They must be implemented by the subclass 1.\n",
    "\n",
    "Here is an example of an abstract class in Python: '''\n",
    "\n",
    "from abc import ABC,abstractmethod\n",
    "class vehicle(ABC):\n",
    "\n",
    "    @abstractmethod\n",
    "    def start(self):\n",
    "        pass\n",
    "        \n",
    "    @abstractmethod\n",
    "    def stop(self):\n",
    "        pass\n",
    "\n",
    "class car(vehicle):\n",
    "    def start(self):\n",
    "        return\"car started bro\"\n",
    "\n",
    "\n",
    "    def stop(self):\n",
    "        return \"car stoped bro\"\n",
    "        \n",
    "ubed=car()\n",
    "ubed.start()\n"
   ]
  },
  {
   "cell_type": "code",
   "execution_count": 18,
   "id": "f29448e9-897f-4e4e-95e8-b04125dfd49f",
   "metadata": {},
   "outputs": [],
   "source": [
    "#Describe the benefits of abstraction in terms of code organization and complexity reduction.\n",
    "'''Abstraction is a powerful tool in software development that can help reduce complexity and improve code organization. \n",
    "By abstracting away implementation details, developers can focus on the essential features of an object and ignore the underlying complexity . \n",
    "This simplifies the code and makes it easier to read, understand, and maintain .\n",
    "\n",
    "Abstraction also helps in code organization by separating the essential features of an object from its implementation details .\n",
    "This separation allows developers to create a clear mental model of the system and design better abstractions . \n",
    "Abstraction layers can be used to centralize the essential features of an object and hide the implementation details . \n",
    "This decoupling between policy and detail allows developers to switch and easily refactor implementation .\n",
    "\n",
    "In addition to these benefits, abstraction also helps in reducing code duplication and improving code reusability. \n",
    "By creating abstract classes and methods, developers can define a blueprint for other classes and reuse the code across multiple projects.\n",
    "\n",
    "Overall, abstraction is a powerful technique that can help reduce complexity, improve code organization, and increase code reusability'''\n",
    "    \n"
   ]
  },
  {
   "cell_type": "code",
   "execution_count": 44,
   "id": "8a5ff64b-ba26-4dd2-a37f-c110569785fc",
   "metadata": {},
   "outputs": [
    {
     "data": {
      "text/plain": [
       "100"
      ]
     },
     "execution_count": 44,
     "metadata": {},
     "output_type": "execute_result"
    }
   ],
   "source": [
    "#Create a Python class called `Shape` with an abstract method `calculate_area()`.\n",
    "#Then, create child classes (e.g., `Circle`, `Rectangle`) that implement the `calculate_area()` method. Provide an example ofusing these classes.\n",
    "\n",
    "from abc import ABC , abstractmethod\n",
    "class shape(ABC):\n",
    "    @abstractmethod \n",
    "    def calculate_area(self):\n",
    "        pass\n",
    "        \n",
    "    @abstractmethod \n",
    "    def sucess_message(self):\n",
    "        pass\n",
    "    \n",
    "\n",
    "class circle(shape):\n",
    "    def __init__(self,r):\n",
    "        self.r =r \n",
    "        \n",
    "    def calculate_area(self):\n",
    "        return 3.14 * self.r * self.r \n",
    "\n",
    "    def sucess_message(self):\n",
    "        return \"area calculated successfully\"\n",
    "\n",
    "class rectangle(shape):\n",
    "    def __init__(self,l,b):\n",
    "        self.l = l\n",
    "        self.b = b\n",
    "        \n",
    "    def calculate_area(self):\n",
    "        return self.l * self.b\n",
    "\n",
    "    def sucess_message(self):\n",
    "        return \"area calculated successfully\"\n",
    "\n",
    "ubed= rectangle(10,10)\n",
    "ubed.calculate_area()\n"
   ]
  },
  {
   "cell_type": "code",
   "execution_count": null,
   "id": "b5a5bec6-632f-4ffd-8e5a-87faa334baf4",
   "metadata": {},
   "outputs": [],
   "source": [
    "#Explain the concept of abstract classes in Python and how they are defined using the `abc` module. Provide an example.\n",
    "''' Abstract classes are classes that cannot be instantiated and are designed to be subclassed by other classes . \n",
    "They are used to define a blueprint for other classes and provide a common interface for a set of related classes .\n",
    "\n",
    "In Python, abstract classes can be defined using the abc module . \n",
    "This module provides the infrastructure for defining abstract base classes (ABCs) in Python, as outlined in PEP 3119 1. \n",
    "The abc module provides the ABC class, which is a helper class that has ABCMeta as its metaclass.\n",
    "With this class, an abstract base class can be created by simply deriving from ABC 1. Here’s an example: '''\n",
    "\n",
    "from abc import ABC,abstractmethod\n",
    "class vehicle(ABC):\n",
    "\n",
    "    @abstractmethod\n",
    "    def start(self):\n",
    "        pass\n",
    "        \n",
    "    @abstractmethod\n",
    "    def stop(self):\n",
    "        pass\n",
    "\n",
    "class car(vehicle):\n",
    "    def start(self):\n",
    "        return\"car started bro\"\n",
    "\n",
    "\n",
    "    def stop(self):\n",
    "        return \"car stoped bro\"\n",
    "        \n",
    "ubed=car()\n",
    "ubed.start()\n"
   ]
  },
  {
   "cell_type": "code",
   "execution_count": null,
   "id": "e3b13dbb-0b83-4d2b-900d-71f6e3ca94bf",
   "metadata": {},
   "outputs": [],
   "source": [
    "#How do abstract classes differ from regular classes in Python? Discuss their use cases.\n",
    "'''Abstract classes are classes that cannot be instantiated and are designed to be subclassed by other classes . \n",
    "They are used to define a blueprint for other classes and provide a common interface for a set of related classes .\n",
    "In Python, abstract classes can be defined using the `abc` module . \n",
    "This module provides the infrastructure for defining abstract base classes (ABCs) in Python, as outlined in PEP 3119 . \n",
    "The `abc` module provides the `ABC` class, which is a helper class that has `ABCMeta` as its metaclass . \n",
    "With this class, an abstract base class can be created by simply deriving from `ABC` . \n",
    "\n",
    "The main difference between abstract classes and regular classes is that abstract classes cannot be instantiated directly. \n",
    "Instead, they are designed to be subclassed by other classes, which must implement the abstract methods defined in the abstract class . \n",
    "Abstract classes can also contain abstract properties, which are properties that do not have an implementation. \n",
    "\n",
    "Abstract classes are useful when you want to define a common interface for a set of related classes. \n",
    "They provide a way to enforce a set of methods that must be implemented by the subclass . \n",
    "This helps to ensure that all subclasses have the same set of methods or attributes, making them interchangeable in our code. \n",
    "\n",
    "Regular classes, on the other hand, can be instantiated directly and do not have any abstract methods or properties. \n",
    "They are used to define objects that have a specific set of attributes and methods. \n",
    "\n",
    "In summary, abstract classes are used to define a common interface for a set of related classes, \n",
    "while regular classes are used to define objects that have a specific set of attributes and methods'''\n"
   ]
  },
  {
   "cell_type": "code",
   "execution_count": 28,
   "id": "7f16190f-fdc1-414c-87ab-ddb550a8340f",
   "metadata": {},
   "outputs": [
    {
     "name": "stdout",
     "output_type": "stream",
     "text": [
      " 20000 deposited and current available balance is 220000\n",
      " 50000 withdrawn and current available balance is 170000\n"
     ]
    }
   ],
   "source": [
    "#Create a Python class for a bank account and demonstrate abstraction by hiding the account balance and providing methods to deposit and withdraw funds.\n",
    "\n",
    "class bank_account:\n",
    "\n",
    "    def __init__(self,account_number, balance):\n",
    "        self.account_number = account_number\n",
    "        self.__balance = balance\n",
    "       \n",
    "    def deposit(self,amount):\n",
    "        self.__balance+= amount\n",
    "        return f\" {amount} deposited and current available balance is {self.__balance}\"\n",
    "\n",
    "    def withdraw (self,amount):\n",
    "        if amount> self.__balance:\n",
    "            raise ValueError(\"insufficient balance\")\n",
    "        self.__balance -= amount\n",
    "        return f\" {amount} withdrawn and current available balance is {self.__balance}\"\n",
    "        \n",
    "\n",
    "        \n",
    "ug = bank_account(123456,200000)\n",
    "print(ug.deposit(20000))\n",
    "print(ug.withdraw(50000))"
   ]
  },
  {
   "cell_type": "code",
   "execution_count": null,
   "id": "04f7df2b-7d86-4db4-a360-6eaa41798acd",
   "metadata": {},
   "outputs": [],
   "source": [
    "#Discuss the concept of interface classes in Python and their role in achieving abstraction.\n",
    "''' In Python, abstraction can be achieved using abstract classes or interfaces provided by the abc module. \n",
    "Abstract classes define a common interface for their subclasses, while interfaces define a set of methods that must be implemented by classes \n",
    "that implement the interface 1. The use of abstract classes and interfaces allows you to create a high-level contract that all classes must adhere to .\n",
    "\n",
    "In Python, there is no strict distinction between abstract classes and interfaces as seen in other programming languages like Java .\n",
    "Instead, in Python, abstract base classes (ABCs) are used to define a common interface that subclasses are expected to implement . '''\n",
    "\n",
    "from abc import ABC,abstractmethod\n",
    "class animals(ABC):\n",
    "    \n",
    "    @abstractmethod\n",
    "    def eat(self):\n",
    "        pass\n",
    "    @abstractmethod\n",
    "    def sleep(self):\n",
    "        pass\n",
    "\n",
    "class dog (animals):\n",
    "    def eat(self):\n",
    "        return \"dogs eat meat with great interest\"\n",
    "\n",
    "    def sleep(self):\n",
    "        return \"dogs sleep mostly in day time\"\n",
    "\n",
    "dog = dog()\n",
    "dog.eat()"
   ]
  },
  {
   "cell_type": "code",
   "execution_count": 12,
   "id": "0c5c928e-2e8b-4210-8368-b50428f5e237",
   "metadata": {},
   "outputs": [
    {
     "data": {
      "text/plain": [
       "'dogs eat meat with great interest'"
      ]
     },
     "execution_count": 12,
     "metadata": {},
     "output_type": "execute_result"
    }
   ],
   "source": [
    "#Create a Python class hierarchy for animals and implement abstraction by defining common methods (e.g., `eat()`, `sleep()`) in an abstract base class.\n",
    "\n",
    "from abc import ABC,abstractmethod\n",
    "class animals(ABC):\n",
    "    \n",
    "    @abstractmethod\n",
    "    def eat(self):\n",
    "        pass\n",
    "    @abstractmethod\n",
    "    def sleep(self):\n",
    "        pass\n",
    "\n",
    "class dog (animals):\n",
    "    def eat(self):\n",
    "        return \"dogs eat meat with great interest\"\n",
    "\n",
    "    def sleep(self):\n",
    "        return \"dogs sleep mostly in day time\"\n",
    "\n",
    "dog = dog()\n",
    "dog.eat()"
   ]
  },
  {
   "cell_type": "code",
   "execution_count": 26,
   "id": "298c969e-3ebc-4b83-b8f5-1dfb6d1c98d9",
   "metadata": {},
   "outputs": [
    {
     "name": "stdout",
     "output_type": "stream",
     "text": [
      " 20000 deposited and current available balance is 220000\n",
      " 50000 withdrawn and current available balance is 170000\n",
      " current available balance is 170000\n"
     ]
    }
   ],
   "source": [
    "#Explain the significance of encapsulation in achieving abstraction. Provide examples.\n",
    "\n",
    "'''Encapsulation is a fundamental concept in object-oriented programming that helps to achieve abstraction.\n",
    "Encapsulation refers to the practice of hiding the internal details of an object from the outside world and exposing only the necessary information or \n",
    "functionality through well-defined interfaces.\n",
    "\n",
    "Encapsulation is achieved by defining the access modifiers for the class members, such as public, private, and protected . \n",
    "The public members are accessible from anywhere, while the private members are only accessible within the class . \n",
    "The protected members are accessible within the class and its subclasses . \n",
    "By using access modifiers, we can control the visibility of the class members and prevent unauthorized access to the internal details of the object '''\n",
    "\n",
    "class bank_account:\n",
    "\n",
    "    def __init__(self,account_number, balance):\n",
    "        self.account_number = account_number\n",
    "        self.__balance = balance\n",
    "       \n",
    "    def deposit(self,amount):\n",
    "        self.__balance+= amount\n",
    "        return f\" {amount} deposited and current available balance is {self.__balance}\"\n",
    "\n",
    "    def withdraw (self,amount):\n",
    "        if amount> self.__balance:\n",
    "            raise ValueError(\"insufficient balance\")\n",
    "        self.__balance -= amount\n",
    "        return f\" {amount} withdrawn and current available balance is {self.__balance}\"\n",
    "        \n",
    "    def get_balance(self):\n",
    "        return f\" current available balance is {self.__balance}\"\n",
    "        \n",
    "ug = bank_account(123456,200000)\n",
    "print(ug.deposit(20000))\n",
    "print(ug.withdraw(50000))\n",
    "print(ug.get_balance())"
   ]
  },
  {
   "cell_type": "code",
   "execution_count": null,
   "id": "7f2c1f6a-6694-46b4-949f-69d24af0c4d1",
   "metadata": {},
   "outputs": [],
   "source": [
    "#What is the purpose of abstract methods, and how do they enforce abstraction in Python classes?\n",
    "'''Abstract methods are methods that have a declaration but no implementation . \n",
    "They are used to define a common interface for a group of related classes, without specifying how the methods should be implemented. \n",
    "Abstract methods are declared using the @abstractmethod decorator in Python .\n",
    "\n",
    "The purpose of abstract methods is to provide a blueprint for the methods that must be implemented by the subclasses. \n",
    "By defining abstract methods in a base class, we can ensure that all the subclasses implement the same methods, which helps to achieve abstraction.\n",
    "\n",
    "Here’s an example of how abstract methods enforce abstraction in Python:'''\n",
    "\n",
    "from abc import ABC,abstractmethod\n",
    "class animals(ABC):\n",
    "    \n",
    "    @abstractmethod\n",
    "    def eat(self):\n",
    "        pass\n",
    "    @abstractmethod\n",
    "    def sleep(self):\n",
    "        pass\n",
    "\n",
    "class dog (animals):\n",
    "    def eat(self):\n",
    "        return \"dogs eat meat with great interest\"\n",
    "\n",
    "    def sleep(self):\n",
    "        return \"dogs sleep mostly in day time\"\n",
    "\n",
    "dog = dog()\n",
    "dog.eat()"
   ]
  },
  {
   "cell_type": "code",
   "execution_count": 10,
   "id": "ffce5438-fab2-478f-947b-bfe546056e62",
   "metadata": {},
   "outputs": [
    {
     "data": {
      "text/plain": [
       "'car started lets go bro'"
      ]
     },
     "execution_count": 10,
     "metadata": {},
     "output_type": "execute_result"
    }
   ],
   "source": [
    "#Create a Python class for a vehicle system and demonstrate abstraction by defining common methods (e.g., `start()`, `stop()`) in an abstract base class.\n",
    "\n",
    "from abc import ABC , abstractmethod\n",
    "class vehicle_system(ABC):\n",
    "\n",
    "    @abstractmethod\n",
    "    def start(self):\n",
    "        pass\n",
    "    @abstractmethod\n",
    "    def stop(self):\n",
    "        pass\n",
    "\n",
    "class car(vehicle_system):\n",
    "    def start(self):\n",
    "        return \"car started lets go bro\"\n",
    "\n",
    "\n",
    "    def stop(self):\n",
    "        return \"car stopped get out bro\"\n",
    "\n",
    "ub1= car()\n",
    "ub1.start()"
   ]
  },
  {
   "cell_type": "code",
   "execution_count": 31,
   "id": "d3279596-1d58-47ba-8b41-b1f10c756013",
   "metadata": {},
   "outputs": [
    {
     "name": "stdout",
     "output_type": "stream",
     "text": [
      "50.26544\n",
      "35\n"
     ]
    }
   ],
   "source": [
    "#Describe the use of abstract properties in Python and how they can be employed in abstract classes.\n",
    "''' Abstract properties are properties that have a declaration but no implementation. \n",
    "They are used to define a common interface for a group of related classes, without specifying how the properties should be implemented. \n",
    "Abstract properties are declared using the @abstractproperty decorator in Python.\n",
    "\n",
    "The purpose of abstract properties is to provide a blueprint for the properties that must be implemented by the subclasses. \n",
    "By defining abstract properties in a base class, we can ensure that all the subclasses implement the same properties, which helps to achieve abstraction .\n",
    "\n",
    "Here’s an example of how abstract properties can be employed in abstract classes in Python'''\n",
    "\n",
    "from abc import ABC, abstractproperty\n",
    "\n",
    "class Shape(ABC):\n",
    "    @abstractproperty\n",
    "    def area(self):\n",
    "        pass\n",
    "\n",
    "class Circle(Shape):\n",
    "    def __init__(self, radius):\n",
    "        self.radius = radius\n",
    "    @property\n",
    "    def area(self):\n",
    "        return 3.14159 * self.radius ** 2\n",
    "\n",
    "\n",
    "class Rectangle(Shape):\n",
    "    def __init__(self, width, length):\n",
    "        self.width = width\n",
    "        self.length = length\n",
    "    @property\n",
    "    def area(self):\n",
    "        return self.width * self.length\n",
    "\n",
    "\n",
    "circle = Circle(4)\n",
    "rectangle = Rectangle(5, 7)\n",
    "\n",
    "print(circle.area) \n",
    "print(rectangle.area)  \n"
   ]
  },
  {
   "cell_type": "code",
   "execution_count": 30,
   "id": "e7758aee-ee9b-4de5-acbc-f36a2939c310",
   "metadata": {},
   "outputs": [
    {
     "name": "stdout",
     "output_type": "stream",
     "text": [
      "salary of manager is 10000000.0\n",
      "salary of developer is 6000000.0\n",
      "salary of designer is 4000000.0\n"
     ]
    }
   ],
   "source": [
    "#Create a Python class hierarchy for employees in a company (e.g., manager, developer, designer) and implement abstraction by defining a common `get_salary()` method.\n",
    "\n",
    "from abc import ABC , abstractmethod\n",
    "\n",
    "class employees(ABC):\n",
    "    @abstractmethod\n",
    "    def get_salary(self):\n",
    "        pass\n",
    "\n",
    "class manager(employees):\n",
    "    def __init__(self,budget):\n",
    "        self.budget = budget\n",
    "        \n",
    "    def get_salary(self):\n",
    "        salary = 0.5* self.budget\n",
    "        return f\"salary of manager is {salary}\"\n",
    "\n",
    "class developer(employees):\n",
    "    def __init__(self,budget):\n",
    "        self.budget = budget\n",
    "        \n",
    "    def get_salary(self):\n",
    "        salary = 0.3* self.budget\n",
    "        return f\"salary of developer is {salary}\"\n",
    "\n",
    "class designer(employees):\n",
    "    def __init__(self,budget):\n",
    "        self.budget = budget\n",
    "        \n",
    "    def get_salary(self):\n",
    "        salary = 0.2*self.budget\n",
    "        return f\"salary of designer is {salary}\"\n",
    "\n",
    "sal = manager(20000000)\n",
    "print(sal.get_salary())\n",
    "sal = developer(20000000)\n",
    "print(sal.get_salary())\n",
    "sal = designer(20000000)\n",
    "print(sal.get_salary())\n",
    "\n",
    "    \n"
   ]
  },
  {
   "cell_type": "code",
   "execution_count": 32,
   "id": "7c60932d-eef1-4ad1-81c9-310c89af352d",
   "metadata": {},
   "outputs": [
    {
     "name": "stdout",
     "output_type": "stream",
     "text": [
      "I walk on four legs\n"
     ]
    }
   ],
   "source": [
    "#Discuss the differences between abstract classes and concrete classes in Python, including their instantiation.\n",
    "\n",
    "'''In Python, abstract classes are classes that cannot be instantiated and are used as a blueprint for other classes. \n",
    "Abstract classes can contain both abstract and concrete methods 1. Abstract methods are methods that have a declaration but no implementation . \n",
    "They are used to define a common interface for a group of related classes, without specifying how the methods should be implemented . \n",
    "Abstract methods are declared using the @abstractmethod decorator in Python 1.\n",
    "\n",
    "Concrete classes, on the other hand, are regular classes that can be instantiated and contain only concrete (normal) methods . \n",
    "Concrete classes provide an implementation of abstract methods, while abstract base classes can also provide an implementation by invoking the methods via super() \n",
    "\n",
    "Here’s an example of how abstract and concrete classes differ in Python:'''\n",
    "\n",
    "from abc import ABC, abstractmethod\n",
    "\n",
    "# Define an abstract base class 'Animal'\n",
    "class Animal(ABC):\n",
    "    @abstractmethod\n",
    "    def move(self):\n",
    "        pass\n",
    "\n",
    "# Define a concrete class 'Dog' that inherits from 'Animal'\n",
    "class Dog(Animal):\n",
    "    def move(self):\n",
    "        print(\"I walk on four legs\")\n",
    "\n",
    "# Create an instance of 'Dog'\n",
    "dog = Dog()\n",
    "\n",
    "# Call the 'move()' method on the instance\n",
    "dog.move()  \n"
   ]
  },
  {
   "cell_type": "code",
   "execution_count": null,
   "id": "f1b6ded9-8ee7-4881-b3e7-08d1851eeec0",
   "metadata": {},
   "outputs": [],
   "source": [
    "#Explain the concept of abstract data types (ADTs) and their role in achieving abstraction in Python.\n",
    "\n",
    "'''An **Abstract Data Type (ADT)** is a high-level description of a data structure and its associated operations. \n",
    "It defines what the data structure can do, but not how it does it ¹²³. ADTs are a way of encapsulating data and operations on that data into a single unit. \n",
    "Some of the key features of ADTs include:\n",
    "\n",
    "- **Abstraction**: The user does not need to know the implementation of the data structure, only essentials are provided ¹.\n",
    "- **Encapsulation**: The data and operations are bundled together into a single unit, which can be used as a black box ¹.\n",
    "- **Modularity**: ADTs can be used as building blocks for more complex data structures ¹.\n",
    "\n",
    "In Python, we can achieve data abstraction by using abstract classes and abstract classes can be created using the `abc` \n",
    "(abstract base class) module and `abstractmethod` of `abc` module ⁴. By using ADTs, we can achieve abstraction in Python by hiding the \n",
    "implementation details of the data structure and only exposing the essential information and functionalities to users'''\n"
   ]
  },
  {
   "cell_type": "code",
   "execution_count": 39,
   "id": "61417ef6-286b-4736-b549-75c3d9da28c2",
   "metadata": {},
   "outputs": [
    {
     "name": "stdout",
     "output_type": "stream",
     "text": [
      "laptop is starting on\n",
      "laptop is shuting down\n"
     ]
    }
   ],
   "source": [
    "#Create a Python class for a computer system, demonstrating abstraction by defining common methods (e.g., `power_on()`, `shutdown()`) in an abstract base class.\n",
    "\n",
    "from abc import ABC , abstractmethod\n",
    "\n",
    "class computer_system(ABC):\n",
    "    @abstractmethod\n",
    "    def power_on(self):\n",
    "        pass\n",
    "    @abstractmethod\n",
    "    def shutdown(self):\n",
    "        pass\n",
    "        \n",
    "class laptop(computer_system):\n",
    "\n",
    "    def power_on(self):\n",
    "        return \"laptop is starting on\"\n",
    "\n",
    "    def shutdown(self):\n",
    "        return \"laptop is shuting down\"\n",
    "gu = laptop()\n",
    "print(gu.power_on())\n",
    "print(gu.shutdown())"
   ]
  },
  {
   "cell_type": "code",
   "execution_count": null,
   "id": "2b4464dc-14f8-4af8-b409-433681c60106",
   "metadata": {},
   "outputs": [],
   "source": [
    "#Discuss the benefits of using abstraction in large-scale software development projects.\n",
    "'''Abstraction is a fundamental concept in software engineering that helps to manage the complexity of large-scale software development projects . \n",
    "Abstraction allows developers to focus on the essential features of a system while hiding the implementation details . \n",
    "This helps to reduce the complexity of the system and makes it easier to understand, maintain, and modify.\n",
    "\n",
    "Here are some benefits of using abstraction in large-scale software development projects:\n",
    "\n",
    "- **Simplicity**: Abstraction helps to simplify the design of complex systems by breaking them down into smaller, more manageable components.\n",
    "    This makes it easier to understand the system and reduces the likelihood of errors and bugs.\n",
    "- **Flexibility**: Abstraction allows developers to change the implementation of a system without affecting its external behavior. \n",
    "    This makes it easier to modify the system and adapt it to changing requirements ⁴.\n",
    "- **Reusability**: Abstraction promotes code reuse by providing a common interface that can be implemented by multiple classes. \n",
    "    This reduces the amount of code that needs to be written and makes it easier to maintain the system ⁵.\n",
    "- **Modularity**: Abstraction promotes modularity by breaking down a system into smaller, more manageable components . \n",
    "    This makes it easier to develop, test, and maintain the system .\n",
    "- **Scalability**: Abstraction helps to make a system more scalable by allowing it to be broken down into smaller, more manageable components . \n",
    "    This makes it easier to add new features and functionality to the system as it grows .\n",
    "\n",
    "In summary, abstraction is a powerful tool that can help to manage the complexity of large-scale software development projects. \n",
    "By breaking down a system into smaller, more manageable components, abstraction can help to simplify the design, increase flexibility, \n",
    "promote code reuse, improve modularity, and enhance scalability.'''\n",
    "\n",
    "\n"
   ]
  },
  {
   "cell_type": "code",
   "execution_count": null,
   "id": "94c144aa-9a32-40ed-977a-a3716060b2c9",
   "metadata": {},
   "outputs": [],
   "source": [
    "#Explain how abstraction enhances code reusability and modularity in Python programs.\n",
    "''' Abstraction is a fundamental concept in object-oriented programming that enables creating complex types by hiding implementation details \n",
    "and exposing only the essential features of the object. It means that a class can provide a simple interface to the user while hiding its internal complexity. \n",
    "This type of relationship is known as an **is-a relationship**.\n",
    "\n",
    "In Python, abstraction enhances code reusability and modularity by allowing developers to create abstract classes that define a template for other classes to follow. \n",
    "Abstract classes cannot be instantiated and are meant to be subclassed. \n",
    "They provide a way to define a common interface for a group of related classes. \n",
    "This way, we can reuse the same code across different parts of a program or even in different projects. \n",
    "Instead of rewriting the same code, we can simply inherit from the abstract class and override its methods to provide our own implementation.\n",
    "\n",
    "Abstraction also promotes modularity by enabling developers to break down their code into smaller, reusable modules that perform specific tasks. \n",
    "This enhances code organization, readability, and maintainability by isolating functionality into separate blocks. \n",
    "By using abstraction, we can create a hierarchy of classes that share common features and behaviors. \n",
    "This way, we can reuse the same code across different parts of a program or even in different projects.\n",
    "\n",
    "In summary, abstraction enhances code reusability and modularity in Python programs by allowing developers to create abstract classes \n",
    "that define a template for other classes to follow. \n",
    "Abstract classes provide a way to define a common interface for a group of related classes, which promotes code reuse and simplifies code by reducing duplication. \n",
    "Abstraction also promotes modularity by enabling developers to break down their code into smaller, reusable modules that perform specific tasks.'''\n"
   ]
  },
  {
   "cell_type": "code",
   "execution_count": 11,
   "id": "994d69db-3017-4ec4-9cdd-9b4517e1e90b",
   "metadata": {},
   "outputs": [
    {
     "name": "stdin",
     "output_type": "stream",
     "text": [
      "enter the book to be borrowed bro\n"
     ]
    },
    {
     "data": {
      "text/plain": [
       "'book bro is borrowed'"
      ]
     },
     "execution_count": 11,
     "metadata": {},
     "output_type": "execute_result"
    }
   ],
   "source": [
    "#Create a Python class for a library system, implementing abstraction by defining common methods (e.g., `add_book()`, `borrow_book()`) in an abstract base class.\n",
    "\n",
    "from abc import ABC, abstractmethod\n",
    "\n",
    "class library_system(ABC):\n",
    "    @abstractmethod\n",
    "    def add_book(self):\n",
    "        pass\n",
    "    @abstractmethod    \n",
    "    def borrow_book(self):\n",
    "        pass\n",
    "        \n",
    "class library(library_system):\n",
    "  \n",
    "    def add_book(self):\n",
    "        name =str(input(\"enter the book to be added\"))\n",
    "        return f\"book {name}  is added\"\n",
    "\n",
    "    def borrow_book(self):\n",
    "        name1 = str(input(\"enter the book to be borrowed\"))\n",
    "        return f\"book {name1} is borrowed\"\n",
    "        \n",
    "ab =library()\n",
    "ab.borrow_book()\n"
   ]
  },
  {
   "cell_type": "code",
   "execution_count": 12,
   "id": "2755c8b7-00fc-4678-be91-9ddaabdb0725",
   "metadata": {},
   "outputs": [
    {
     "name": "stdout",
     "output_type": "stream",
     "text": [
      "100\n"
     ]
    },
    {
     "data": {
      "text/plain": [
       "314.0"
      ]
     },
     "execution_count": 12,
     "metadata": {},
     "output_type": "execute_result"
    }
   ],
   "source": [
    "#Describe the concept of method abstraction in Python and how it relates to polymorphism.\n",
    "'''Method abstraction in Python refers to the concept of hiding the implementation details of a method or function and providing only \n",
    "the necessary information or interface for its usage. This is typically achieved using abstract classes or interfaces, \n",
    "where the specific implementation details are not defined in the abstract class but are left to be implemented in the subclasses.\n",
    "\n",
    "Python doesn't have a built-in implementation of abstract classes like some other languages (e.g., Java), but it does have the abc module, \n",
    "which allows you to create abstract base classes. Abstract methods declared in such classes must be implemented by any concrete subclasses.\n",
    "\n",
    "Polymorphism, on the other hand, refers to the ability of different classes to be treated as instances of the same class through a common interface. \n",
    "This allows objects of different classes to be used interchangeably if they support the same set of methods or operations.\n",
    "\n",
    "Method abstraction and polymorphism are related concepts in object-oriented programming:\n",
    "\n",
    "Abstraction: Abstract classes or interfaces define methods without implementing them. \n",
    "They provide a blueprint or contract for what methods must be implemented in subclasses. \n",
    "This abstraction allows you to focus on the necessary methods without worrying about their specific implementations.\n",
    "\n",
    "Polymorphism: Through method abstraction, different classes can implement the same method names but with different functionalities. \n",
    "When these methods are invoked on objects of different classes that inherit from the same abstract class or interface, the specific \n",
    "implementation corresponding to each object is executed. This behavior showcases polymorphism, \n",
    "where different objects can exhibit different behaviors while being treated through a common interface.\n",
    "\n",
    "For instance, consider an abstract class Shape with an abstract method calculate_area(). \n",
    "Subclasses like Circle and Rectangle would implement calculate_area() differently based on their shapes. When you call calculate_area() on \n",
    "instances of Circle and Rectangle, polymorphism allows the specific calculate_area() method associated with each object to be executed.\n",
    "\n",
    "Here's a simple example:'''\n",
    "\n",
    "from abc import ABC , abstractmethod\n",
    "class shape(ABC):\n",
    "    @abstractmethod \n",
    "    def calculate_area(self):\n",
    "        pass\n",
    "        \n",
    "    @abstractmethod \n",
    "    def sucess_message(self):\n",
    "        pass\n",
    "    \n",
    "\n",
    "class circle(shape):\n",
    "    def __init__(self,r):\n",
    "        self.r =r \n",
    "        \n",
    "    def calculate_area(self):\n",
    "        return 3.14 * self.r * self.r \n",
    "\n",
    "    def sucess_message(self):\n",
    "        return \"area calculated successfully\"\n",
    "\n",
    "class rectangle(shape):\n",
    "    def __init__(self,l,b):\n",
    "        self.l = l\n",
    "        self.b = b\n",
    "        \n",
    "    def calculate_area(self):\n",
    "        return self.l * self.b\n",
    "\n",
    "    def sucess_message(self):\n",
    "        return \"area calculated successfully\"\n",
    "\n",
    "ubed= rectangle(10,10)\n",
    "print(ubed.calculate_area())\n",
    "ube = circle(10)\n",
    "ube.calculate_area()"
   ]
  },
  {
   "cell_type": "code",
   "execution_count": null,
   "id": "aab83ca0-466b-4b3e-b859-231f7d3e6f99",
   "metadata": {},
   "outputs": [],
   "source": [
    "'''Composition:'''\n",
    "#Explain the concept of composition in Python and how it is used to build complex objects from simpler ones.\n",
    "''' Composition is a fundamental concept of object-oriented programming that enables creating complex types by combining objects of different classes. \n",
    "It means that a class can contain an object of another class as an instance variable. This type of relationship is known as Has-A Relation .\n",
    "\n",
    "In Python, composition is used to build complex objects from simpler ones.\n",
    "It allows us to create objects that are made up of other objects, which can be reused in different contexts. \n",
    "For example, we can create a Book class that contains an instance of Author as a composition. \n",
    "This way, we can reuse the Author object in different books without having to redefine it every time .\n",
    "\n",
    "Here’s an example of how you can create a Book object that contains an instance of Author as a composition: '''\n",
    "\n",
    "class Author:\n",
    "    def __init__(self,name,birthdate):\n",
    "        self.name = name\n",
    "        self.birthdate = birthdate\n",
    "\n",
    "class book:\n",
    "    def __init__(self,cost, author : Author, titile ):\n",
    "        self.cost = cost\n",
    "        self.author = author\n",
    "        self.title = titile\n",
    "\n",
    "    \n",
    "uh = Author(\"rahman\",\"20 Aug 1985\")\n",
    "og = book(120,uh,'lord of rings')\n",
    "og.author.name\n",
    "uh.name"
   ]
  },
  {
   "cell_type": "code",
   "execution_count": null,
   "id": "4d549dce-74a2-4994-8942-6a506dbacbd0",
   "metadata": {},
   "outputs": [],
   "source": [
    "#Describe the difference between composition and inheritance in object-oriented programming.\n",
    "''' In object-oriented programming, **inheritance** and **composition** are two design techniques that enable code reuse. \n",
    "\n",
    "**Inheritance** is a mechanism in which one class acquires the properties and behaviors of another class. \n",
    "It establishes a **parent-child relationship** between classes, where the child class inherits the properties and methods of the parent class.\n",
    "Inheritance is useful when we want to create a new class that is a modified version of an existing class. \n",
    "It promotes code reuse and simplifies code by reducing duplication.\n",
    "However, it can also lead to tight coupling between classes, making the code harder to maintain and modify.\n",
    "\n",
    "**Composition**, on the other hand, is a design technique in which a class contains an instance of another class as a member variable. \n",
    "It establishes a **has-a relationship** between classes, where the containing class has a reference to the contained class. \n",
    "Composition is more flexible than inheritance and allows objects to be reused in different contexts. \n",
    "It is useful when we want to create complex objects from simpler ones. However, it can also lead to more code and complexity.\n",
    "\n",
    "In summary, inheritance is a **is-a relationship** between classes, while composition is a **has-a relationship** between classes. \n",
    "Inheritance promotes code reuse and simplifies code, while composition is more flexible and allows objects to be reused in different contexts."
   ]
  },
  {
   "cell_type": "code",
   "execution_count": 18,
   "id": "a52df57c-53e7-431a-b478-aa678d75df89",
   "metadata": {},
   "outputs": [
    {
     "data": {
      "text/plain": [
       "'rahman'"
      ]
     },
     "execution_count": 18,
     "metadata": {},
     "output_type": "execute_result"
    }
   ],
   "source": [
    "#Create a Python class called `Author` with attributes for name and birthdate. Then, create a `Book` class that contains an instance of `Author` as a composition. \n",
    "#Provide an example of creating a `Book` object.\n",
    "\n",
    "class Author:\n",
    "    def __init__(self,name,birthdate):\n",
    "        self.name = name\n",
    "        self.birthdate = birthdate\n",
    "\n",
    "class book:\n",
    "    def __init__(self,cost, author : Author, titile ):\n",
    "        self.cost = cost\n",
    "        self.author = author\n",
    "        self.title = titile\n",
    "\n",
    "    \n",
    "uh = Author(\"rahman\",\"20 Aug 1985\")\n",
    "og = book(120,uh,'lord of rings')\n",
    "og.author.name\n",
    "uh.name"
   ]
  },
  {
   "cell_type": "code",
   "execution_count": null,
   "id": "fc48db42-dcfe-45bb-9344-85e81331bbcf",
   "metadata": {},
   "outputs": [],
   "source": [
    "#Discuss the benefits of using composition over inheritance in Python, especially in terms of code flexibility and reusability.\n",
    "\n",
    "'''**Inheritance** is a mechanism in which one class acquires the properties and behaviors of another class. \n",
    "It establishes a **parent-child relationship** between classes, where the child class inherits the properties and methods of the parent class.\n",
    "Inheritance is useful when we want to create a new class that is a modified version of an existing class. \n",
    "It promotes code reuse and simplifies code by reducing duplication.\n",
    "However, it can also lead to tight coupling between classes, making the code harder to maintain and modify.\n",
    "\n",
    "**Composition**, on the other hand, is a design technique in which a class contains an instance of another class as a member variable. \n",
    "It establishes a **has-a relationship** between classes, where the containing class has a reference to the contained class. \n",
    "Composition is more flexible than inheritance and allows objects to be reused in different contexts. \n",
    "It is useful when we want to create complex objects from simpler ones. However, it can also lead to more code and complexity.'''"
   ]
  },
  {
   "cell_type": "code",
   "execution_count": null,
   "id": "ccf2622c-ddb5-49ac-be15-62dd03a20370",
   "metadata": {},
   "outputs": [],
   "source": [
    "#How can you implement composition in Python classes? Provide examples of using composition to create complex objects.\n",
    "''' In Python, composition is implemented by creating a class that contains an instance of another class as a member variable. \n",
    "This way, the containing class has a reference to the contained class, and can use its methods and attributes. \n",
    "Here’s an example of how you can use composition to create a Book object that contains an instance of Author as a composition: '''\n",
    "\n",
    "class Author:\n",
    "    def __init__(self,name,birthdate):\n",
    "        self.name = name\n",
    "        self.birthdate = birthdate\n",
    "\n",
    "class book:\n",
    "    def __init__(self,cost, author : Author, titile ):\n",
    "        self.cost = cost\n",
    "        self.author = author\n",
    "        self.title = titile\n",
    "\n",
    "    \n",
    "uh = Author(\"rahman\",\"20 Aug 1985\")\n",
    "og = book(120,uh,'lord of rings')\n",
    "og.author.name\n",
    "uh.name"
   ]
  },
  {
   "cell_type": "code",
   "execution_count": 33,
   "id": "b701c054-1d2e-46c6-9963-ae91b0b320f6",
   "metadata": {},
   "outputs": [
    {
     "data": {
      "text/plain": [
       "'arjith singh'"
      ]
     },
     "execution_count": 33,
     "metadata": {},
     "output_type": "execute_result"
    }
   ],
   "source": [
    "#Create a Python class hierarchy for a music player system, using composition to represent playlists and songs.\n",
    "class playlists:\n",
    "    def __init__(self, number_of_songs, language,singer):\n",
    "        self.number_of_songs = number_of_songs\n",
    "        self.language = language\n",
    "        self.singer = singer\n",
    "\n",
    "class songs :\n",
    "    def __init__(self,name_of_song,singer):\n",
    "        self.name_of_song = name_of_song\n",
    "        self.singer = singer\n",
    "\n",
    "gana = playlists(100,'hindi','arjith singh')\n",
    "pata = songs ('lut put gaya', gana)\n",
    "pata.singer.singer"
   ]
  },
  {
   "cell_type": "code",
   "execution_count": null,
   "id": "f5a906b8-8aab-4c34-86af-b720cf1c8497",
   "metadata": {},
   "outputs": [],
   "source": [
    "#Explain the concept of \"has-a\" relationships in composition and how it helps design software systems.\n",
    "'''  In object-oriented programming, **composition** is a design technique in which a class contains an instance of another class as a member variable. \n",
    "This way, the containing class has a reference to the contained class, and can use its methods and attributes. \n",
    "The relationship between the two classes is known as a **has-a relationship**.\n",
    "\n",
    "The **has-a relationship** is used to create complex objects from simpler ones. \n",
    "It enables creating complex types by combining objects of different classes. For example, we can create a `Car` class \n",
    "that contains instances of `Engine`, `Transmission`, and `Wheels` as compositions. \n",
    "This way, we can reuse the same components across different cars without having to redefine them every time.\n",
    "\n",
    "The **has-a relationship** helps design software systems by promoting code reuse and modularity. \n",
    "It allows developers to break down their code into smaller, reusable modules that perform specific tasks.\n",
    "By using composition, we can create a hierarchy of classes that share common features and behaviors. \n",
    "This way, we can reuse the same code across different parts of a program or even in different projects. \n",
    "Instead of rewriting the same code, we can simply create an instance of the class and use its methods and attributes.\n",
    "\n",
    "In summary, the **has-a relationship** is a fundamental concept of object-oriented programming that enables\n",
    "creating complex types by combining objects of different classes. \n",
    "It promotes code reuse and modularity by allowing developers to break down their code into smaller, reusable modules that perform specific tasks. \n",
    "By using composition, we can create a hierarchy of classes that share common features and behaviors, which enhances code organization, readability, and maintainability.'''\n"
   ]
  },
  {
   "cell_type": "code",
   "execution_count": 12,
   "id": "49c26187-981a-4fc1-aada-85147022f185",
   "metadata": {},
   "outputs": [
    {
     "data": {
      "text/plain": [
       "'16gb'"
      ]
     },
     "execution_count": 12,
     "metadata": {},
     "output_type": "execute_result"
    }
   ],
   "source": [
    "\n",
    "#Create a Python class for a computer system, using composition to represent components like CPU, RAM, and storage devices.\n",
    "class computer_system:\n",
    "    def __init__(self,CPU, RAM, Storage):\n",
    "        self.CPU = CPU\n",
    "        self.RAM = RAM\n",
    "        self.storage = storage\n",
    "\n",
    "class CPU :\n",
    "    def __init__(self,model,clock_speed):\n",
    "        self.model = model\n",
    "        self.clock_speed = clock_speed\n",
    "\n",
    "class RAM :\n",
    "    def __init__ (self, capacity,speed):\n",
    "        self.capacity = capacity\n",
    "        self.speed = speed\n",
    "\n",
    "class storage:\n",
    "    def __init__(self,type,capacity):\n",
    "        self.type =type\n",
    "        self.capacity = capacity\n",
    "\n",
    "c = CPU('I7',5400)\n",
    "r = RAM('16gb', 2400)\n",
    "s= storage('ssd','512gb')\n",
    "system = computer_system(c,r,s)  \n",
    "system.RAM.capacity"
   ]
  },
  {
   "cell_type": "code",
   "execution_count": 5,
   "id": "310d0e62-1871-47cb-84a5-7a90c2718e65",
   "metadata": {},
   "outputs": [
    {
     "ename": "SyntaxError",
     "evalue": "invalid syntax (3361187652.py, line 1)",
     "output_type": "error",
     "traceback": [
      "\u001b[1;36m  Cell \u001b[1;32mIn[5], line 1\u001b[1;36m\u001b[0m\n\u001b[1;33m    9. Describe the concept of \"delegation\" in composition and how it simplifies the design of complex systems.\u001b[0m\n\u001b[1;37m       ^\u001b[0m\n\u001b[1;31mSyntaxError\u001b[0m\u001b[1;31m:\u001b[0m invalid syntax\n"
     ]
    }
   ],
   "source": [
    "#Describe the concept of \"delegation\" in composition and how it simplifies the design of complex systems.\n",
    "''' In object-oriented programming, **delegation** is a technique that allows an object to pass on a responsibility for a task to another object. \n",
    "In the context of composition, delegation is used to simplify the design of complex systems by breaking them down into smaller, more manageable parts.\n",
    "\n",
    "When using delegation in composition, a complex object is composed of smaller objects that are responsible for specific tasks. \n",
    "The complex object delegates these tasks to the smaller objects, which perform them and return the results to the complex object. \n",
    "This allows the complex object to focus on its own responsibilities and reduces the complexity of the overall system.\n",
    "\n",
    "For example, consider a computer system that is composed of a CPU, RAM, and storage devices. \n",
    "Each of these components has its own set of responsibilities. The CPU is responsible for processing data, \n",
    "the RAM is responsible for storing data temporarily, and the storage devices are responsible for storing data permanently. \n",
    "By using delegation in composition, the computer system can delegate these responsibilities to the appropriate components, \n",
    "which simplifies the design of the system and makes it easier to manage.\n",
    "\n",
    "I hope this helps! Let me know if you have any other questions. '''\n"
   ]
  },
  {
   "cell_type": "code",
   "execution_count": 5,
   "id": "228f34ac-1aa7-43d5-af66-76b333cf1dd2",
   "metadata": {},
   "outputs": [
    {
     "data": {
      "text/plain": [
       "560"
      ]
     },
     "execution_count": 5,
     "metadata": {},
     "output_type": "execute_result"
    }
   ],
   "source": [
    "#Create a Python class for a car, using composition to represent components like the engine, wheels, and transmission.\n",
    "class Car:\n",
    "    def __init__(self, engine, wheels, transmission):\n",
    "        self.engine = engine\n",
    "        self.wheels = wheels\n",
    "        self.transmission = transmission\n",
    "\n",
    "class Engine:\n",
    "    def __init__(self, model, horsepower):\n",
    "        self.model = model\n",
    "        self.horsepower = horsepower\n",
    "\n",
    "class Wheels:\n",
    "    def __init__(self, size, material):\n",
    "        self.size = size\n",
    "        self.material = material\n",
    "\n",
    "class Transmission:\n",
    "    def __init__(self, type, gears):\n",
    "        self.type = type\n",
    "        self.gears = gears\n",
    "        \n",
    "e = Engine('rt78', 560)\n",
    "w = Wheels('large','alloy')\n",
    "t = Transmission('automatic','self')\n",
    "c = Car(e,w,t)\n",
    "c.engine.horsepower"
   ]
  },
  {
   "cell_type": "code",
   "execution_count": 14,
   "id": "e86fdfcf-d584-4e12-bc0c-a497dc20398a",
   "metadata": {},
   "outputs": [
    {
     "data": {
      "text/plain": [
       "\"In this example, we define a class `MyClass` with a private variable `_private_variable`. The variable is initialized to `42` in the constructor. \\nWe also define two methods `get_private_variable` and `set_private_variable` to get and set the value of the private variable, respectively. \\nNote that the variable name is prefixed with a single underscore `_`, which is a convention in Python to indicate that the variable is private.\\n\\nBy using private variables, we can encapsulate and hide the details of composed objects in Python classes to maintain abstraction. \\nPrivate variables can only be accessed and modified by an object's method, which puts restrictions on accessing variables and methods \\ndirectly and can prevent accidental modification of data. This helps to ensure that the implementation details of a class are hidden from the user, \\nwhich is a key aspect of abstraction .\""
      ]
     },
     "execution_count": 14,
     "metadata": {},
     "output_type": "execute_result"
    }
   ],
   "source": [
    "#How can you encapsulate and hide the details of composed objects in Python classes to maintain abstraction?\n",
    "''' Encapsulation and abstraction are two fundamental concepts in object-oriented programming (OOP). \n",
    "Encapsulation is the practice of wrapping data and methods that work on data within one unit, which puts restrictions on accessing variables and methods directly \n",
    "and can prevent accidental modification of data. Abstraction involves hiding the implementation details of a class and only exposing the essential features. \n",
    "In Python, encapsulation is achieved by creating classes and hiding the implementation details of the methods. \n",
    "To encapsulate and hide the details of composed objects in Python classes to maintain abstraction, you can use private variables. \n",
    "Private variables are those variables that can only be changed by an object's method. \n",
    "To make a variable private in Python, prefix the name of the variable with a single underscore \"_\". \n",
    "This puts restrictions on accessing variables and methods directly and can prevent accidental modification of data. \n",
    "You can also use double underscores \"__\" to make a variable private, which uses name mangling. \n",
    "Protected members (in C++ and JAVA) are those members of the class that cannot be accessed outside the class but can be accessed from within the class and its subclasses.\n",
    "To accomplish this in Python, just follow the convention by prefixing the name of the member by a single underscore \"_\". \n",
    "Although the protected variable can be accessed out of the class as well as in the derived class (modified too in derived class), \n",
    "it is customary (convention not a rule) to not access the protected out the class body ¹²³⁴.\n",
    "\n",
    "Here's an example of using private variables in Python:'''\n",
    "\n",
    "class MyClass:\n",
    "    def __init__(self):\n",
    "        self._private_variable = 42\n",
    "\n",
    "    def get_private_variable(self):\n",
    "        return self._private_variable\n",
    "\n",
    "    def set_private_variable(self, value):\n",
    "        self._private_variable = value\n",
    "\n",
    "'''In this example, we define a class `MyClass` with a private variable `_private_variable`. The variable is initialized to `42` in the constructor. \n",
    "We also define two methods `get_private_variable` and `set_private_variable` to get and set the value of the private variable, respectively. \n",
    "Note that the variable name is prefixed with a single underscore `_`, which is a convention in Python to indicate that the variable is private.\n",
    "\n",
    "By using private variables, we can encapsulate and hide the details of composed objects in Python classes to maintain abstraction. \n",
    "Private variables can only be accessed and modified by an object's method, which puts restrictions on accessing variables and methods \n",
    "directly and can prevent accidental modification of data. This helps to ensure that the implementation details of a class are hidden from the user, \n",
    "which is a key aspect of abstraction .'''\n",
    "\n"
   ]
  },
  {
   "cell_type": "code",
   "execution_count": 12,
   "id": "8adef8ca-5908-4474-ba89-abc2f08e8e63",
   "metadata": {},
   "outputs": [
    {
     "data": {
      "text/plain": [
       "'ravi'"
      ]
     },
     "execution_count": 12,
     "metadata": {},
     "output_type": "execute_result"
    }
   ],
   "source": [
    "#Create a Python class for a university course, using composition to represent students, instructors, and course materials.\n",
    "class university_course:\n",
    "    def __init__(self,students,instructors,course_materials):\n",
    "        self.students =students\n",
    "        self.instructors =instructors\n",
    "        self.course_materials = course_materials\n",
    "\n",
    "class students:\n",
    "    def __init__(self,roll_no,name,branch):\n",
    "        self.roll_no =roll_no\n",
    "        self.name =name\n",
    "        self.branch =branch\n",
    "\n",
    "class instructors:\n",
    "    def __init__(self,name,subject):\n",
    "        self.name =name\n",
    "        self.subject = subject\n",
    "\n",
    "class course_materials:\n",
    "    def __init__(self,type,subject):\n",
    "        self.type = type\n",
    "        self.subject = subject\n",
    "        \n",
    "s = students(496,'ubed','ECE')\n",
    "i = instructors('ravi','science')\n",
    "c = course_materials('online','electronics')\n",
    "u = university_course(s,i,c)\n",
    "u.instructors.name"
   ]
  },
  {
   "cell_type": "code",
   "execution_count": null,
   "id": "16a4a2c4-18bf-4464-b011-92d8b38fc36c",
   "metadata": {},
   "outputs": [],
   "source": [
    "#Discuss the challenges and drawbacks of composition, such as increased complexity and potential for tight coupling between objects.\n",
    "'''Composition, while powerful, can introduce several challenges and drawbacks:\n",
    "\n",
    "1. **Increased Complexity**: As you compose more objects together, the complexity of managing interactions between these objects grows. \n",
    "Understanding the relationships and interactions among multiple composed objects can become intricate, especially in large systems.\n",
    "\n",
    "2. **Tight Coupling**: Composition can lead to tight coupling between objects, where changes in one object's implementation may require corresponding changes \n",
    "in multiple other objects it interacts with. This dependency can make the codebase less flexible and harder to maintain.\n",
    "\n",
    "3. **Dependencies and Hierarchies**: Objects often depend on one another in a composed structure. As the dependency hierarchy grows deeper, \n",
    "managing and debugging these dependencies becomes more challenging.\n",
    "\n",
    "4. **Code Readability and Abstraction Levels**: With deeply nested compositions, understanding the flow of data and behavior across different objects \n",
    "might become difficult, impacting code readability. Maintaining a high level of abstraction becomes challenging when dealing with numerous interconnected objects.\n",
    "\n",
    "5. **Testing and Isolation**: Testing becomes more complex as it's necessary to test the interactions between composed objects. \n",
    "Isolating individual components for testing purposes can become difficult due to their interdependence.\n",
    "\n",
    "6. **Performance Overhead**: Depending on the implementation, there might be a performance overhead due to the increased number of method calls and interactions\n",
    "between composed objects.\n",
    "\n",
    "7. **Inheritance and Polymorphism Challenges**: If classes are tightly composed, it might be harder to inherit and override behavior, leading to limitations in \n",
    "leveraging inheritance and polymorphism.\n",
    "\n",
    "To mitigate these challenges, it's essential to follow good design principles:\n",
    "\n",
    "- **Abstraction and Encapsulation**: Hide unnecessary details and expose only the essential interfaces to interact with the composed objects.\n",
    "  \n",
    "- **Interface Segregation**: Split interfaces into smaller and more specific ones to prevent unnecessary dependencies.\n",
    "\n",
    "- **Dependency Injection**: Decouple dependencies by injecting required objects rather than creating them within the class, allowing for easier testing and flexibility.\n",
    "\n",
    "- **Design Patterns**: Utilize design patterns like the Factory pattern, Strategy pattern, or Dependency Injection pattern to manage and decouple object relationships \n",
    "more effectively.\n",
    "\n",
    "- **Design for Change**: Aim for flexibility in the design to accommodate future changes without affecting the entire system.\n",
    "\n",
    "Balancing composition with other principles like abstraction, encapsulation, and loose coupling is crucial in managing the complexity \n",
    "that arises from composed objects in a system.'''\n"
   ]
  },
  {
   "cell_type": "code",
   "execution_count": 16,
   "id": "a48262c0-f2e2-4fb3-a5b0-7109250fdceb",
   "metadata": {},
   "outputs": [
    {
     "data": {
      "text/plain": [
       "'mutton biryani'"
      ]
     },
     "execution_count": 16,
     "metadata": {},
     "output_type": "execute_result"
    }
   ],
   "source": [
    "#Create a Python class hierarchy for a restaurant system, using composition to represent menus, dishes, and ingredients.\n",
    "class Resturant:\n",
    "    def __init__(self, menus,dishes,ingredeients):\n",
    "        self.menus =menus\n",
    "        self.dishes = dishes\n",
    "        self.ingredeients = ingredeients\n",
    "        \n",
    "class Menu:\n",
    "    def __init__(self,item1,item2,item3):\n",
    "        self.item1 = item1\n",
    "        self.item2 =item2\n",
    "        self.item3 = item3\n",
    "    def menu_display(self):\n",
    "        return f\"available items are {self.item1},{self.item2},{self.item3}\"\n",
    "\n",
    "class Dishes(Menu):\n",
    "    def __init__(self,item1,item2,item3):\n",
    "        super().__init__(item1,item2,item3)\n",
    "      \n",
    "        \n",
    "class Ingredients:\n",
    "    def __init__(self,ingredient1, ingredient2 , ingredient3):\n",
    "        self.ingredient1 =ingredient1\n",
    "        self.ingredient2 = ingredient2\n",
    "        self.ingredient3= ingredient3\n",
    "\n",
    "m = Menu('mutton biryani','chicken biryani', 'tandoori chicken')\n",
    "d = Dishes('mutton biryani','chicken biryani', 'tandoori chicken')\n",
    "i = Ingredients ('rice', 'mutton','chicken')\n",
    "m = Resturant(m,d,i)  \n",
    "m.dishes.item1"
   ]
  },
  {
   "cell_type": "code",
   "execution_count": null,
   "id": "01562a0d-fd31-4d5c-b80a-6eae0e45aeb5",
   "metadata": {},
   "outputs": [],
   "source": [
    "#Explain how composition enhances code maintainability and modularity in Python programs.\n",
    "'''Modularity refers to the concept of making multiple modules first and then linking and combining them to form a complete system. \n",
    "It enables reusability and minimizes duplication 1. Composition is a technique in object-oriented programming that allows objects to be composed of other objects, \n",
    "thereby promoting code reuse and modularity .\n",
    "\n",
    "In Python, composition enhances code maintainability and modularity by isolating functionality into separate blocks, which can be managed, tested, and \n",
    "updated independently 23. By breaking down complex problems into smaller, more manageable pieces, functions and modules enable developers \n",
    "to write more readable and maintainable code .\n",
    "\n",
    "For example, in the code you provided, the Restaurant class is composed of Menu, Dishes, and Ingredients objects. \n",
    "This allows for greater flexibility and reusability, as each object can be modified or replaced without affecting the others .\n",
    "\n",
    "In summary, composition enhances code maintainability and modularity in Python programs by promoting code reuse, minimizing duplication, \n",
    "and enabling developers to write more readable and maintainable code.'''\n"
   ]
  },
  {
   "cell_type": "code",
   "execution_count": 8,
   "id": "0a9916d1-198e-4b14-9cfa-008ab1ae0ce2",
   "metadata": {},
   "outputs": [
    {
     "data": {
      "text/plain": [
       "'Sword'"
      ]
     },
     "execution_count": 8,
     "metadata": {},
     "output_type": "execute_result"
    }
   ],
   "source": [
    "#Create a Python class for a computer game character, using composition to represent attributes like weapons, armor, and inventory.\n",
    "class Character:\n",
    "    def __init__(self, weapon, armor, inventory):\n",
    "        self.weapon = weapon\n",
    "        self.armor = armor\n",
    "        self.inventory = inventory\n",
    "\n",
    "class Weapon:\n",
    "    def __init__(self, name, damage):\n",
    "        self.name = name\n",
    "        self.damage = damage\n",
    "\n",
    "class Armor:\n",
    "    def __init__(self, name, defense):\n",
    "        self.name = name\n",
    "        self.defense = defense\n",
    "\n",
    "class Inventory:\n",
    "    def __init__(self, items):\n",
    "        self.items = items\n",
    "        \n",
    "sword = Weapon(\"Sword\", 10)\n",
    "shield = Armor(\"Shield\", 5)\n",
    "items = [\"Potion\", \"Key\", \"Gold\"]\n",
    "inventory = Inventory(items)\n",
    "\n",
    "player = Character(sword, shield, inventory)\n",
    "player.weapon.name\n"
   ]
  },
  {
   "cell_type": "code",
   "execution_count": null,
   "id": "338f0e33-0e69-4a6d-a57f-047de0b30ba8",
   "metadata": {},
   "outputs": [],
   "source": [
    "#Describe the concept of \"aggregation\" in composition and how it differs from simple composition.\n",
    "\n",
    "'''Both aggregation and simple composition are concepts used in object-oriented programming to represent relationships between classes. \n",
    "They both involve combining objects together, but they differ in the strength and lifetime of their relationships.\n",
    "\n",
    "### Composition:\n",
    "\n",
    "Composition is a design principle where a class is composed of one or more objects of other classes. \n",
    "The composed objects do not have an independent existence without the class that contains them. \n",
    "When an object is destroyed, all the objects it contains are also destroyed.\n",
    "\n",
    "For example, consider a `Car` class that contains objects of `Engine`, `Wheel`, and `Seat` classes. \n",
    "If the `Car` object is destroyed, its engine, wheels, and seats will also be destroyed.\n",
    "\n",
    "### Aggregation:\n",
    "\n",
    "Aggregation is a specialized form of association where one class is composed of one or more objects of other classes, \n",
    "but these objects can exist independently of the class that contains them. \n",
    "The objects can belong to multiple classes or exist beyond the lifetime of the containing class.\n",
    "\n",
    "For instance, a `University` class might have a list of `Student` objects. \n",
    "However, students can exist independently of the university, and they might be associated with other entities like courses or programs even if \n",
    "they are not part of the university.\n",
    "\n",
    "### Differences:\n",
    "\n",
    "1. **Lifetime Dependency:** In composition, the lifetime of the contained objects is dependent on the lifetime of the containing object. \n",
    "In aggregation, the contained objects can exist independently of the containing object.\n",
    "\n",
    "2. **Ownership:** In composition, the containing object owns the contained objects. \n",
    "In aggregation, the contained objects might be shared among multiple classes or have their own ownership elsewhere.\n",
    "\n",
    "3. **Strong vs. Weak Relationship:** Composition represents a strong \"whole-part\" relationship where the parts are integral to the whole. \n",
    "Aggregation represents a weaker \"has-a\" relationship, where the objects are associated but can exist separately.\n",
    "\n",
    "In code, both composition and aggregation can be implemented similarly using object references. \n",
    "However, the key difference lies in the nature of the relationship and the ownership of the objects involved.\n",
    "\n",
    "Understanding these concepts helps in designing more flexible and modular systems, choosing the appropriate relationship between \n",
    "classes based on their real-world connections and interactions.'''\n"
   ]
  },
  {
   "cell_type": "code",
   "execution_count": 28,
   "id": "63d3612b-9d87-4d98-90bb-ecd63f0613e9",
   "metadata": {},
   "outputs": [
    {
     "name": "stdout",
     "output_type": "stream",
     "text": [
      "room color is blue paint  and size is 6x6  and Deisgned  with flowers\n",
      "House has  LG Air Conditioner and  LG Refrigirator and also has Havell Fans and Havell Designer Lights\n"
     ]
    },
    {
     "data": {
      "text/plain": [
       "'furniture color is brown and it is Reclinear type'"
      ]
     },
     "execution_count": 28,
     "metadata": {},
     "output_type": "execute_result"
    }
   ],
   "source": [
    "#Create a Python class for a house, using composition to represent rooms, furniture, and appliances.\n",
    "class House:\n",
    "    def __init__(self,Room,Furniture,Appliances):\n",
    "        self.Room =Room\n",
    "        self.Furniture = Furniture\n",
    "        self.Appliances = Appliances\n",
    "        \n",
    "class Room:\n",
    "    def __init__(self,size,color,design):\n",
    "        self.size = size\n",
    "        self.color =color\n",
    "        self.design = design\n",
    "    def room_display(self):\n",
    "        return f\"room color is {self.color}  and size is {self.size}  and Deisgned  with {self.design}\"\n",
    "\n",
    "class Furniture:\n",
    "    def __init__(self,color,type):\n",
    "        self.color =color\n",
    "        self.type = type\n",
    "\n",
    "    def furniture_description(self):\n",
    "        return f\"furniture color is {self.color} and it is {self.type} type\"\n",
    "        \n",
    "class Appliances:\n",
    "    def __init__(self,AC,Refrigirator,fans,lights):\n",
    "        self.AC =AC\n",
    "        self.Refrigirator = Refrigirator\n",
    "        self.fans= fans\n",
    "        self.lights =lights\n",
    "\n",
    "    def Appliances_description(self):\n",
    "        return f\"House has  {self.AC} and  {self.Refrigirator} and also has {self.fans} and {self.lights}\"\n",
    "        \n",
    "r= Room('6x6','blue paint','flowers') \n",
    "f= Furniture('brown','Reclinear')\n",
    "a = Appliances('LG Air Conditioner','LG Refrigirator', 'Havell Fans','Havell Designer Lights')\n",
    "\n",
    "h =House(r,f,a)\n",
    "print(h.Room.room_display())\n",
    "print(h.Appliances.Appliances_description())\n",
    "h.Furniture.furniture_description()"
   ]
  },
  {
   "cell_type": "code",
   "execution_count": null,
   "id": "e7b7cb47-da44-4bad-9666-a54f480e2542",
   "metadata": {},
   "outputs": [],
   "source": [
    "#How can you achieve flexibility in composed objects by allowing them to be replaced or modified dynamically at runtime?\n",
    "''' Composition enables you to reuse code by adding objects to other objects, as opposed to inheriting the interface and implementation of other classes. \n",
    "Because objects can be dynamically composed at runtime and easily replaced or modified without affecting the entire system, \n",
    "composition allows for greater flexibility and modularity ¹. \n",
    "\n",
    "In Python, you can achieve flexibility in composed objects by using dynamic object modification techniques such as **monkey patching** and **duck punching** . \n",
    "\n",
    "**Monkey patching** is a technique that allows you to modify the behavior of an object at runtime by changing its attributes or methods . \n",
    "For example, you can add a new method to an existing class or replace an existing method with a new one ². \n",
    "\n",
    "**Duck punching** is a similar technique that allows you to modify the behavior of an object at runtime by replacing its methods with new ones . \n",
    "This technique is particularly useful when you want to modify the behavior of an object that you don't have control over, such as a third-party library. \n",
    "\n",
    "Both monkey patching and duck punching can be powerful tools for achieving flexibility in composed objects, \n",
    "but they should be used with caution as they can introduce unexpected behavior and make your code harder to maintain . \n",
    "\n",
    "In summary, you can achieve flexibility in composed objects by using composition, which allows for greater modularity and code reuse. \n",
    "You can also use dynamic object modification techniques such as monkey patching and duck punching to modify the behavior of objects at runtime, \n",
    "but these techniques should be used with caution.'''"
   ]
  },
  {
   "cell_type": "code",
   "execution_count": 6,
   "id": "10b14558-28d1-4bfd-b2fc-d1e32538b86a",
   "metadata": {},
   "outputs": [
    {
     "name": "stdout",
     "output_type": "stream",
     "text": [
      "hi good morning\n"
     ]
    },
    {
     "data": {
      "text/plain": [
       "'thanks'"
      ]
     },
     "execution_count": 6,
     "metadata": {},
     "output_type": "execute_result"
    }
   ],
   "source": [
    "#Create a Python class for a social media application, using composition to represent users, posts, and comments.\n",
    "class social_media:\n",
    "     def __init__(self,Users,Posts,Comments):\n",
    "         self.Users =Users\n",
    "         self.Posts =Posts\n",
    "         self.Comments =Comments\n",
    "class Users:\n",
    "    def __init__(self,username,pw):\n",
    "        self.username = username\n",
    "        self.pw =pw\n",
    "\n",
    "class Posts:\n",
    "    def __init__(self,post1,post2,post3):\n",
    "        self.post1 = post1\n",
    "        self.post2 = post2\n",
    "        self.post3 = post3\n",
    "        \n",
    "class Comments:\n",
    "    def __init__(self,comment1,comment2,comment3):\n",
    "        self.comment1 = comment1\n",
    "        self.comment2 = comment2\n",
    "        self.comment3 = comment3  \n",
    "        \n",
    "u = Users('rahman','urksrk123') \n",
    "p =Posts('hi good morning','hey india won the world cup','hey guys happy holidays')\n",
    "c= Comments('hi bro','same to you', 'thanks')\n",
    "s=  social_media(u,p,c)\n",
    "print(s.Posts.post1)\n",
    "s.Comments.comment3"
   ]
  },
  {
   "cell_type": "code",
   "execution_count": null,
   "id": "67056595-0bdc-4417-8006-23ddbb148d7f",
   "metadata": {},
   "outputs": [],
   "source": []
  }
 ],
 "metadata": {
  "kernelspec": {
   "display_name": "Python 3 (ipykernel)",
   "language": "python",
   "name": "python3"
  },
  "language_info": {
   "codemirror_mode": {
    "name": "ipython",
    "version": 3
   },
   "file_extension": ".py",
   "mimetype": "text/x-python",
   "name": "python",
   "nbconvert_exporter": "python",
   "pygments_lexer": "ipython3",
   "version": "3.11.3"
  }
 },
 "nbformat": 4,
 "nbformat_minor": 5
}
